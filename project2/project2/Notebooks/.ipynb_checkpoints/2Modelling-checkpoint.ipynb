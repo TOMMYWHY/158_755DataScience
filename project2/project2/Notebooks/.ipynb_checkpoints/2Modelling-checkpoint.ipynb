{
 "cells": [
  {
   "cell_type": "markdown",
   "metadata": {},
   "source": [
    "# Modelling"
   ]
  },
  {
   "cell_type": "code",
   "execution_count": 180,
   "metadata": {},
   "outputs": [],
   "source": [
    "import matplotlib\n",
    "from matplotlib import pyplot as plt\n",
    "from matplotlib.pyplot import GridSpec\n",
    "import numpy as np\n",
    "import pandas as pd\n",
    "import os, sys\n",
    "import seaborn as sns\n",
    "sns.set(style=\"ticks\")\n",
    "from pylab import rcParams\n",
    "rcParams['figure.figsize'] = (7,5)\n",
    "rcParams['figure.dpi'] = 120\n",
    "rcParams['savefig.dpi'] = 120 \n",
    "\n",
    "rcParams['axes.facecolor'] = 'white'\n",
    "matplotlib.style.use('ggplot')\n",
    "import statsmodels.formula.api as smf\n",
    "import statsmodels.api as sm\n",
    "import missingno as msno\n",
    "import sklearn\n",
    "%matplotlib inline"
   ]
  },
  {
   "cell_type": "code",
   "execution_count": null,
   "metadata": {},
   "outputs": [],
   "source": []
  },
  {
   "cell_type": "markdown",
   "metadata": {},
   "source": [
    "## linear regression"
   ]
  },
  {
   "cell_type": "code",
   "execution_count": 181,
   "metadata": {},
   "outputs": [],
   "source": [
    "ffs_players_salary = pd.read_csv('fmanual_feature_Select_players_salary.csv.gz',index_col=0)"
   ]
  },
  {
   "cell_type": "code",
   "execution_count": 182,
   "metadata": {},
   "outputs": [
    {
     "name": "stdout",
     "output_type": "stream",
     "text": [
      "(385, 12)\n"
     ]
    },
    {
     "data": {
      "text/html": [
       "<div>\n",
       "<style scoped>\n",
       "    .dataframe tbody tr th:only-of-type {\n",
       "        vertical-align: middle;\n",
       "    }\n",
       "\n",
       "    .dataframe tbody tr th {\n",
       "        vertical-align: top;\n",
       "    }\n",
       "\n",
       "    .dataframe thead th {\n",
       "        text-align: right;\n",
       "    }\n",
       "</style>\n",
       "<table border=\"1\" class=\"dataframe\">\n",
       "  <thead>\n",
       "    <tr style=\"text-align: right;\">\n",
       "      <th></th>\n",
       "      <th>Salary</th>\n",
       "      <th>MP</th>\n",
       "      <th>FG</th>\n",
       "      <th>FGA</th>\n",
       "      <th>P2A</th>\n",
       "      <th>P2</th>\n",
       "      <th>FT</th>\n",
       "      <th>FTA</th>\n",
       "      <th>DRB</th>\n",
       "      <th>AST</th>\n",
       "      <th>TOV</th>\n",
       "      <th>PTS</th>\n",
       "    </tr>\n",
       "  </thead>\n",
       "  <tbody>\n",
       "    <tr>\n",
       "      <td>0</td>\n",
       "      <td>19863636.0</td>\n",
       "      <td>1914.0</td>\n",
       "      <td>314.0</td>\n",
       "      <td>726.0</td>\n",
       "      <td>500.0</td>\n",
       "      <td>246.0</td>\n",
       "      <td>137.0</td>\n",
       "      <td>203.0</td>\n",
       "      <td>338.0</td>\n",
       "      <td>215.0</td>\n",
       "      <td>94.0</td>\n",
       "      <td>833.0</td>\n",
       "    </tr>\n",
       "    <tr>\n",
       "      <td>1</td>\n",
       "      <td>2329200.0</td>\n",
       "      <td>1368.0</td>\n",
       "      <td>202.0</td>\n",
       "      <td>496.0</td>\n",
       "      <td>293.0</td>\n",
       "      <td>122.0</td>\n",
       "      <td>62.0</td>\n",
       "      <td>72.0</td>\n",
       "      <td>111.0</td>\n",
       "      <td>193.0</td>\n",
       "      <td>75.0</td>\n",
       "      <td>546.0</td>\n",
       "    </tr>\n",
       "    <tr>\n",
       "      <td>3</td>\n",
       "      <td>1618520.0</td>\n",
       "      <td>756.0</td>\n",
       "      <td>100.0</td>\n",
       "      <td>220.0</td>\n",
       "      <td>115.0</td>\n",
       "      <td>61.0</td>\n",
       "      <td>48.0</td>\n",
       "      <td>62.0</td>\n",
       "      <td>76.0</td>\n",
       "      <td>35.0</td>\n",
       "      <td>36.0</td>\n",
       "      <td>287.0</td>\n",
       "    </tr>\n",
       "    <tr>\n",
       "      <td>5</td>\n",
       "      <td>1000000.0</td>\n",
       "      <td>293.0</td>\n",
       "      <td>30.0</td>\n",
       "      <td>75.0</td>\n",
       "      <td>28.0</td>\n",
       "      <td>16.0</td>\n",
       "      <td>9.0</td>\n",
       "      <td>13.0</td>\n",
       "      <td>28.0</td>\n",
       "      <td>14.0</td>\n",
       "      <td>7.0</td>\n",
       "      <td>83.0</td>\n",
       "    </tr>\n",
       "    <tr>\n",
       "      <td>6</td>\n",
       "      <td>28000000.0</td>\n",
       "      <td>1848.0</td>\n",
       "      <td>289.0</td>\n",
       "      <td>654.0</td>\n",
       "      <td>390.0</td>\n",
       "      <td>200.0</td>\n",
       "      <td>55.0</td>\n",
       "      <td>73.0</td>\n",
       "      <td>320.0</td>\n",
       "      <td>244.0</td>\n",
       "      <td>65.0</td>\n",
       "      <td>722.0</td>\n",
       "    </tr>\n",
       "  </tbody>\n",
       "</table>\n",
       "</div>"
      ],
      "text/plain": [
       "       Salary      MP     FG    FGA    P2A     P2     FT    FTA    DRB    AST  \\\n",
       "0  19863636.0  1914.0  314.0  726.0  500.0  246.0  137.0  203.0  338.0  215.0   \n",
       "1   2329200.0  1368.0  202.0  496.0  293.0  122.0   62.0   72.0  111.0  193.0   \n",
       "3   1618520.0   756.0  100.0  220.0  115.0   61.0   48.0   62.0   76.0   35.0   \n",
       "5   1000000.0   293.0   30.0   75.0   28.0   16.0    9.0   13.0   28.0   14.0   \n",
       "6  28000000.0  1848.0  289.0  654.0  390.0  200.0   55.0   73.0  320.0  244.0   \n",
       "\n",
       "    TOV    PTS  \n",
       "0  94.0  833.0  \n",
       "1  75.0  546.0  \n",
       "3  36.0  287.0  \n",
       "5   7.0   83.0  \n",
       "6  65.0  722.0  "
      ]
     },
     "execution_count": 182,
     "metadata": {},
     "output_type": "execute_result"
    }
   ],
   "source": [
    "print(ffs_players_salary.shape)\n",
    "ffs_players_salary.head()"
   ]
  },
  {
   "cell_type": "code",
   "execution_count": 188,
   "metadata": {},
   "outputs": [
    {
     "data": {
      "text/html": [
       "<div>\n",
       "<style scoped>\n",
       "    .dataframe tbody tr th:only-of-type {\n",
       "        vertical-align: middle;\n",
       "    }\n",
       "\n",
       "    .dataframe tbody tr th {\n",
       "        vertical-align: top;\n",
       "    }\n",
       "\n",
       "    .dataframe thead th {\n",
       "        text-align: right;\n",
       "    }\n",
       "</style>\n",
       "<table border=\"1\" class=\"dataframe\">\n",
       "  <thead>\n",
       "    <tr style=\"text-align: right;\">\n",
       "      <th></th>\n",
       "      <th>Salary</th>\n",
       "      <th>MP</th>\n",
       "      <th>FG</th>\n",
       "      <th>FGA</th>\n",
       "      <th>P2A</th>\n",
       "      <th>P2</th>\n",
       "      <th>FT</th>\n",
       "      <th>FTA</th>\n",
       "      <th>DRB</th>\n",
       "      <th>AST</th>\n",
       "      <th>TOV</th>\n",
       "      <th>PTS</th>\n",
       "      <th>salary_scaled</th>\n",
       "    </tr>\n",
       "  </thead>\n",
       "  <tbody>\n",
       "    <tr>\n",
       "      <td>0</td>\n",
       "      <td>19863636.0</td>\n",
       "      <td>1914.0</td>\n",
       "      <td>314.0</td>\n",
       "      <td>726.0</td>\n",
       "      <td>500.0</td>\n",
       "      <td>246.0</td>\n",
       "      <td>137.0</td>\n",
       "      <td>203.0</td>\n",
       "      <td>338.0</td>\n",
       "      <td>215.0</td>\n",
       "      <td>94.0</td>\n",
       "      <td>833.0</td>\n",
       "      <td>489.284837</td>\n",
       "    </tr>\n",
       "    <tr>\n",
       "      <td>1</td>\n",
       "      <td>2329200.0</td>\n",
       "      <td>1368.0</td>\n",
       "      <td>202.0</td>\n",
       "      <td>496.0</td>\n",
       "      <td>293.0</td>\n",
       "      <td>122.0</td>\n",
       "      <td>62.0</td>\n",
       "      <td>72.0</td>\n",
       "      <td>111.0</td>\n",
       "      <td>193.0</td>\n",
       "      <td>75.0</td>\n",
       "      <td>546.0</td>\n",
       "      <td>49.622195</td>\n",
       "    </tr>\n",
       "    <tr>\n",
       "      <td>3</td>\n",
       "      <td>1618520.0</td>\n",
       "      <td>756.0</td>\n",
       "      <td>100.0</td>\n",
       "      <td>220.0</td>\n",
       "      <td>115.0</td>\n",
       "      <td>61.0</td>\n",
       "      <td>48.0</td>\n",
       "      <td>62.0</td>\n",
       "      <td>76.0</td>\n",
       "      <td>35.0</td>\n",
       "      <td>36.0</td>\n",
       "      <td>287.0</td>\n",
       "      <td>31.802435</td>\n",
       "    </tr>\n",
       "    <tr>\n",
       "      <td>5</td>\n",
       "      <td>1000000.0</td>\n",
       "      <td>293.0</td>\n",
       "      <td>30.0</td>\n",
       "      <td>75.0</td>\n",
       "      <td>28.0</td>\n",
       "      <td>16.0</td>\n",
       "      <td>9.0</td>\n",
       "      <td>13.0</td>\n",
       "      <td>28.0</td>\n",
       "      <td>14.0</td>\n",
       "      <td>7.0</td>\n",
       "      <td>83.0</td>\n",
       "      <td>16.293516</td>\n",
       "    </tr>\n",
       "    <tr>\n",
       "      <td>6</td>\n",
       "      <td>28000000.0</td>\n",
       "      <td>1848.0</td>\n",
       "      <td>289.0</td>\n",
       "      <td>654.0</td>\n",
       "      <td>390.0</td>\n",
       "      <td>200.0</td>\n",
       "      <td>55.0</td>\n",
       "      <td>73.0</td>\n",
       "      <td>320.0</td>\n",
       "      <td>244.0</td>\n",
       "      <td>65.0</td>\n",
       "      <td>722.0</td>\n",
       "      <td>693.297974</td>\n",
       "    </tr>\n",
       "  </tbody>\n",
       "</table>\n",
       "</div>"
      ],
      "text/plain": [
       "       Salary      MP     FG    FGA    P2A     P2     FT    FTA    DRB    AST  \\\n",
       "0  19863636.0  1914.0  314.0  726.0  500.0  246.0  137.0  203.0  338.0  215.0   \n",
       "1   2329200.0  1368.0  202.0  496.0  293.0  122.0   62.0   72.0  111.0  193.0   \n",
       "3   1618520.0   756.0  100.0  220.0  115.0   61.0   48.0   62.0   76.0   35.0   \n",
       "5   1000000.0   293.0   30.0   75.0   28.0   16.0    9.0   13.0   28.0   14.0   \n",
       "6  28000000.0  1848.0  289.0  654.0  390.0  200.0   55.0   73.0  320.0  244.0   \n",
       "\n",
       "    TOV    PTS  salary_scaled  \n",
       "0  94.0  833.0     489.284837  \n",
       "1  75.0  546.0      49.622195  \n",
       "3  36.0  287.0      31.802435  \n",
       "5   7.0   83.0      16.293516  \n",
       "6  65.0  722.0     693.297974  "
      ]
     },
     "execution_count": 188,
     "metadata": {},
     "output_type": "execute_result"
    }
   ],
   "source": [
    "salary_col = ffs_players_salary['Salary']\n",
    "salary_scaled = (salary_col-salary_col.min())/(salary_col.max()-salary_col.min()) *1000\n",
    "ffs_players_salary['salary_scaled']= salary_scaled.copy()\n",
    "ffs_players_salary.head()"
   ]
  },
  {
   "cell_type": "code",
   "execution_count": 223,
   "metadata": {},
   "outputs": [],
   "source": [
    "# # _ = pd.plotting.scatter_matrix(ffs_players_salary, alpha=1, figsize=(20, 15), diagonal='hist')\n",
    "\n",
    "# ffs_players_salary['salary_scaled'].plot(legend=True,label='Salary')\n",
    "# ffs_players_salary['PTS'].plot()\n",
    "# # ffs_players_salary['FG'].plot()\n",
    "\n",
    "\n",
    "# # selected_df.title('Alibaba Inc Panic，Risk and ROE', alpha=1)\n",
    "# # selected_df.xlabel(\"Days\")\n",
    "# # selected_df.ylabel(\"Value\")\n",
    "\n",
    "# # plt.figure(dpi=180, figsize=(10, 6))\n",
    "\n"
   ]
  },
  {
   "cell_type": "markdown",
   "metadata": {},
   "source": [
    "### we all know the point and Minutes Played are very important indeces for player. I assumed the salary has linear relationship with them."
   ]
  },
  {
   "cell_type": "markdown",
   "metadata": {},
   "source": [
    "### regression salary with points (PTS)\n",
    "\n",
    "It is easy to get  that  using  Linear and Polynomial models can not get good R-squared result."
   ]
  },
  {
   "cell_type": "code",
   "execution_count": 204,
   "metadata": {},
   "outputs": [
    {
     "data": {
      "image/png": "[encoded data removed]",
      "text/plain": [
       "<Figure size 1080x720 with 1 Axes>"
      ]
     },
     "metadata": {
      "needs_background": "light"
     },
     "output_type": "display_data"
    },
    {
     "data": {
      "text/plain": [
       "<Figure size 1800x1080 with 0 Axes>"
      ]
     },
     "metadata": {},
     "output_type": "display_data"
    },
    {
     "name": "stdout",
     "output_type": "stream",
     "text": [
      "-------------\n",
      "-------------\n",
      "                            OLS Regression Results                            \n",
      "==============================================================================\n",
      "Dep. Variable:          salary_scaled   R-squared:                       0.310\n",
      "Model:                            OLS   Adj. R-squared:                  0.305\n",
      "Method:                 Least Squares   F-statistic:                     57.07\n",
      "Date:                Sun, 12 Apr 2020   Prob (F-statistic):           1.72e-30\n",
      "Time:                        22:19:52   Log-Likelihood:                -2561.7\n",
      "No. Observations:                 385   AIC:                             5131.\n",
      "Df Residuals:                     381   BIC:                             5147.\n",
      "Df Model:                           3                                         \n",
      "Covariance Type:            nonrobust                                         \n",
      "=================================================================================\n",
      "                    coef    std err          t      P>|t|      [0.025      0.975]\n",
      "---------------------------------------------------------------------------------\n",
      "Intercept        71.0929     26.739      2.659      0.008      18.519     123.667\n",
      "PTS               0.0797      0.149      0.536      0.592      -0.213       0.372\n",
      "I(PTS ** 2.0)     0.0003      0.000      1.255      0.210      -0.000       0.001\n",
      "I(PTS ** 3.0) -7.081e-08   8.35e-08     -0.848      0.397   -2.35e-07    9.35e-08\n",
      "==============================================================================\n",
      "Omnibus:                       96.238   Durbin-Watson:                   1.976\n",
      "Prob(Omnibus):                  0.000   Jarque-Bera (JB):              224.490\n",
      "Skew:                           1.248   Prob(JB):                     1.79e-49\n",
      "Kurtosis:                       5.786   Cond. No.                     2.81e+09\n",
      "==============================================================================\n",
      "\n",
      "Warnings:\n",
      "[1] Standard Errors assume that the covariance matrix of the errors is correctly specified.\n",
      "[2] The condition number is large, 2.81e+09. This might indicate that there are\n",
      "strong multicollinearity or other numerical problems.\n"
     ]
    }
   ],
   "source": [
    "\n",
    "plt.scatter( ffs_players_salary.PTS, ffs_players_salary.salary_scaled, s=10, alpha=0.3)\n",
    "plt.xlabel('PTS')\n",
    "plt.ylabel('salary_scaled')\n",
    "x = pd.DataFrame({'PTS': np.linspace(ffs_players_salary.PTS.min(), ffs_players_salary.PTS.max(), len(ffs_players_salary.PTS)) })\n",
    "\n",
    "x_min = ffs_players_salary.PTS.min()\n",
    "x_max = ffs_players_salary.PTS.max()\n",
    "plt.xlim(x_min,x_max)\n",
    "plt.plot(ffs_players_salary.PTS,ffs_players_salary.salary_scaled, 'o')\n",
    "\n",
    "\n",
    "poly_1 = smf.ols(formula='salary_scaled ~ 1 + PTS', data=ffs_players_salary).fit()\n",
    "plt.plot(x, poly_1.predict(x), 'b-', label='Poly n=1 $R^2$=%.2f' % poly_1.rsquared,  alpha=0.9)\n",
    "\n",
    "poly_2 = smf.ols(formula='salary_scaled ~ 1 + PTS + I(PTS ** 2.0)', data=ffs_players_salary).fit()\n",
    "plt.plot(x, poly_2.predict(x), 'g-', label='Poly n=2 $R^2$=%.2f' % poly_2.rsquared, alpha=0.9)\n",
    "\n",
    "\n",
    "poly_3 = smf.ols(formula='salary_scaled ~ 1 + PTS + I(PTS ** 2.0)+ I(PTS ** 3.0)', data=ffs_players_salary).fit()\n",
    "plt.plot(x, poly_3.predict(x), 'b-', label='Poly n=3 $R^2$=%.2f' % poly_3.rsquared, alpha=0.9)\n",
    "\n",
    "plt.legend()\n",
    "plt.figure(dpi=180, figsize=(10, 6))\n",
    "\n",
    "plt.show()\n",
    "# print(poly_1.summary())\n",
    "print(\"-------------\")\n",
    "# print(poly_2.summary())\n",
    "print(\"-------------\")\n",
    "print(poly_3.summary())"
   ]
  },
  {
   "cell_type": "code",
   "execution_count": null,
   "metadata": {},
   "outputs": [],
   "source": []
  },
  {
   "cell_type": "code",
   "execution_count": 81,
   "metadata": {},
   "outputs": [],
   "source": [
    "# ffs_players_salary.columns"
   ]
  },
  {
   "cell_type": "markdown",
   "metadata": {},
   "source": [
    "## multiple linear model"
   ]
  },
  {
   "cell_type": "markdown",
   "metadata": {},
   "source": [
    "### using all selected features to create a multiple linear model, however the result still not good enough."
   ]
  },
  {
   "cell_type": "code",
   "execution_count": 82,
   "metadata": {},
   "outputs": [
    {
     "name": "stdout",
     "output_type": "stream",
     "text": [
      "                            OLS Regression Results                            \n",
      "==============================================================================\n",
      "Dep. Variable:          salary_scaled   R-squared:                       0.396\n",
      "Model:                            OLS   Adj. R-squared:                  0.380\n",
      "Method:                 Least Squares   F-statistic:                     24.50\n",
      "Date:                Sun, 12 Apr 2020   Prob (F-statistic):           1.64e-35\n",
      "Time:                        21:45:56   Log-Likelihood:                -1649.7\n",
      "No. Observations:                 385   AIC:                             3321.\n",
      "Df Residuals:                     374   BIC:                             3365.\n",
      "Df Model:                          10                                         \n",
      "Covariance Type:            nonrobust                                         \n",
      "==============================================================================\n",
      "                 coef    std err          t      P>|t|      [0.025      0.975]\n",
      "------------------------------------------------------------------------------\n",
      "Intercept      7.2585      1.946      3.730      0.000       3.432      11.085\n",
      "MP            -0.0223      0.005     -4.959      0.000      -0.031      -0.013\n",
      "FG            -0.0396      0.026     -1.530      0.127      -0.091       0.011\n",
      "FGA            0.0520      0.055      0.944      0.346      -0.056       0.160\n",
      "FT             0.1807      0.100      1.799      0.073      -0.017       0.378\n",
      "FTA           -0.1110      0.077     -1.432      0.153      -0.263       0.041\n",
      "DRB            0.1011      0.018      5.578      0.000       0.065       0.137\n",
      "AST            0.0967      0.020      4.919      0.000       0.058       0.135\n",
      "TOV           -0.2081      0.066     -3.158      0.002      -0.338      -0.079\n",
      "PTS            0.0154      0.046      0.335      0.738      -0.075       0.106\n",
      "P2A           -0.0303      0.072     -0.423      0.672      -0.171       0.110\n",
      "P2             0.0464      0.122      0.380      0.704      -0.194       0.286\n",
      "==============================================================================\n",
      "Omnibus:                       82.719   Durbin-Watson:                   1.914\n",
      "Prob(Omnibus):                  0.000   Jarque-Bera (JB):              196.419\n",
      "Skew:                           1.067   Prob(JB):                     2.23e-43\n",
      "Kurtosis:                       5.773   Cond. No.                     1.92e+16\n",
      "==============================================================================\n",
      "\n",
      "Warnings:\n",
      "[1] Standard Errors assume that the covariance matrix of the errors is correctly specified.\n",
      "[2] The smallest eigenvalue is 2.5e-24. This might indicate that there are\n",
      "strong multicollinearity problems or that the design matrix is singular.\n"
     ]
    }
   ],
   "source": [
    "linear_model3 = smf.ols(formula='salary_scaled ~ 1 + MP+ FG+ FGA+ FT+ FTA+ DRB+ AST+TOV+ PTS + P2A+P2', data=ffs_players_salary).fit()\n",
    "print(linear_model3.summary())"
   ]
  },
  {
   "cell_type": "markdown",
   "metadata": {},
   "source": [
    "# using sklearn"
   ]
  },
  {
   "cell_type": "code",
   "execution_count": 83,
   "metadata": {},
   "outputs": [],
   "source": [
    "from sklearn.preprocessing import StandardScaler,RobustScaler,MinMaxScaler\n",
    "\n",
    "from sklearn.metrics import accuracy_score\n",
    "from sklearn.preprocessing import PolynomialFeatures\n",
    "from sklearn.linear_model import LinearRegression\n",
    "from sklearn.model_selection import train_test_split\n",
    "from sklearn.ensemble import RandomForestClassifier\n",
    "from sklearn.svm import SVC\n",
    "from sklearn.model_selection import cross_val_predict\n",
    "from sklearn.metrics import mean_squared_error, r2_score\n",
    "from sklearn.decomposition import PCA\n",
    "from sklearn.pipeline import Pipeline\n",
    "from sklearn.metrics import classification_report\n"
   ]
  },
  {
   "cell_type": "code",
   "execution_count": null,
   "metadata": {},
   "outputs": [],
   "source": []
  },
  {
   "cell_type": "markdown",
   "metadata": {},
   "source": [
    "## Regression"
   ]
  },
  {
   "cell_type": "code",
   "execution_count": 84,
   "metadata": {},
   "outputs": [
    {
     "data": {
      "text/html": [
       "<div>\n",
       "<style scoped>\n",
       "    .dataframe tbody tr th:only-of-type {\n",
       "        vertical-align: middle;\n",
       "    }\n",
       "\n",
       "    .dataframe tbody tr th {\n",
       "        vertical-align: top;\n",
       "    }\n",
       "\n",
       "    .dataframe thead th {\n",
       "        text-align: right;\n",
       "    }\n",
       "</style>\n",
       "<table border=\"1\" class=\"dataframe\">\n",
       "  <thead>\n",
       "    <tr style=\"text-align: right;\">\n",
       "      <th></th>\n",
       "      <th>Salary</th>\n",
       "      <th>MP</th>\n",
       "      <th>FG</th>\n",
       "      <th>FGA</th>\n",
       "      <th>P2A</th>\n",
       "      <th>P2</th>\n",
       "      <th>FT</th>\n",
       "      <th>FTA</th>\n",
       "      <th>DRB</th>\n",
       "      <th>AST</th>\n",
       "      <th>TOV</th>\n",
       "      <th>PTS</th>\n",
       "    </tr>\n",
       "  </thead>\n",
       "  <tbody>\n",
       "    <tr>\n",
       "      <td>0</td>\n",
       "      <td>19863636.0</td>\n",
       "      <td>1914.0</td>\n",
       "      <td>314.0</td>\n",
       "      <td>726.0</td>\n",
       "      <td>500.0</td>\n",
       "      <td>246.0</td>\n",
       "      <td>137.0</td>\n",
       "      <td>203.0</td>\n",
       "      <td>338.0</td>\n",
       "      <td>215.0</td>\n",
       "      <td>94.0</td>\n",
       "      <td>833.0</td>\n",
       "    </tr>\n",
       "    <tr>\n",
       "      <td>1</td>\n",
       "      <td>2329200.0</td>\n",
       "      <td>1368.0</td>\n",
       "      <td>202.0</td>\n",
       "      <td>496.0</td>\n",
       "      <td>293.0</td>\n",
       "      <td>122.0</td>\n",
       "      <td>62.0</td>\n",
       "      <td>72.0</td>\n",
       "      <td>111.0</td>\n",
       "      <td>193.0</td>\n",
       "      <td>75.0</td>\n",
       "      <td>546.0</td>\n",
       "    </tr>\n",
       "    <tr>\n",
       "      <td>3</td>\n",
       "      <td>1618520.0</td>\n",
       "      <td>756.0</td>\n",
       "      <td>100.0</td>\n",
       "      <td>220.0</td>\n",
       "      <td>115.0</td>\n",
       "      <td>61.0</td>\n",
       "      <td>48.0</td>\n",
       "      <td>62.0</td>\n",
       "      <td>76.0</td>\n",
       "      <td>35.0</td>\n",
       "      <td>36.0</td>\n",
       "      <td>287.0</td>\n",
       "    </tr>\n",
       "    <tr>\n",
       "      <td>5</td>\n",
       "      <td>1000000.0</td>\n",
       "      <td>293.0</td>\n",
       "      <td>30.0</td>\n",
       "      <td>75.0</td>\n",
       "      <td>28.0</td>\n",
       "      <td>16.0</td>\n",
       "      <td>9.0</td>\n",
       "      <td>13.0</td>\n",
       "      <td>28.0</td>\n",
       "      <td>14.0</td>\n",
       "      <td>7.0</td>\n",
       "      <td>83.0</td>\n",
       "    </tr>\n",
       "    <tr>\n",
       "      <td>6</td>\n",
       "      <td>28000000.0</td>\n",
       "      <td>1848.0</td>\n",
       "      <td>289.0</td>\n",
       "      <td>654.0</td>\n",
       "      <td>390.0</td>\n",
       "      <td>200.0</td>\n",
       "      <td>55.0</td>\n",
       "      <td>73.0</td>\n",
       "      <td>320.0</td>\n",
       "      <td>244.0</td>\n",
       "      <td>65.0</td>\n",
       "      <td>722.0</td>\n",
       "    </tr>\n",
       "  </tbody>\n",
       "</table>\n",
       "</div>"
      ],
      "text/plain": [
       "       Salary      MP     FG    FGA    P2A     P2     FT    FTA    DRB    AST  \\\n",
       "0  19863636.0  1914.0  314.0  726.0  500.0  246.0  137.0  203.0  338.0  215.0   \n",
       "1   2329200.0  1368.0  202.0  496.0  293.0  122.0   62.0   72.0  111.0  193.0   \n",
       "3   1618520.0   756.0  100.0  220.0  115.0   61.0   48.0   62.0   76.0   35.0   \n",
       "5   1000000.0   293.0   30.0   75.0   28.0   16.0    9.0   13.0   28.0   14.0   \n",
       "6  28000000.0  1848.0  289.0  654.0  390.0  200.0   55.0   73.0  320.0  244.0   \n",
       "\n",
       "    TOV    PTS  \n",
       "0  94.0  833.0  \n",
       "1  75.0  546.0  \n",
       "3  36.0  287.0  \n",
       "5   7.0   83.0  \n",
       "6  65.0  722.0  "
      ]
     },
     "execution_count": 84,
     "metadata": {},
     "output_type": "execute_result"
    }
   ],
   "source": [
    "clear_players_salary = pd.read_csv('fmanual_feature_Select_players_salary.csv.gz',index_col=0)\n",
    "clear_players_salary.head()"
   ]
  },
  {
   "cell_type": "code",
   "execution_count": 85,
   "metadata": {},
   "outputs": [],
   "source": [
    "features_name = [ 'MP', 'FG', 'FGA', 'P2A', 'P2', 'FT', 'FTA', 'DRB', 'AST',\n",
    "       'TOV', 'PTS']\n",
    "X = clear_players_salary[features_name]\n",
    "# y = clear_players_salary['Salary']\n",
    "salary_col = ffs_players_salary['Salary']\n",
    "salary_scaled = (salary_col-salary_col.min())/(salary_col.max()-salary_col.min()) *1000\n"
   ]
  },
  {
   "cell_type": "code",
   "execution_count": 132,
   "metadata": {},
   "outputs": [],
   "source": [
    "X_train, X_test, y_train, y_test = train_test_split(X,y,test_size=0.2, random_state=666)"
   ]
  },
  {
   "cell_type": "code",
   "execution_count": 133,
   "metadata": {},
   "outputs": [
    {
     "name": "stdout",
     "output_type": "stream",
     "text": [
      "(308, 11)\n",
      "(308,)\n",
      "(77, 11)\n",
      "(77,)\n"
     ]
    }
   ],
   "source": [
    "print(X_train.shape)\n",
    "print(y_train.shape)\n",
    "print(X_test.shape)\n",
    "print(y_test.shape)"
   ]
  },
  {
   "cell_type": "code",
   "execution_count": null,
   "metadata": {},
   "outputs": [],
   "source": [
    "transformer = RobustScaler().fit(X)"
   ]
  },
  {
   "cell_type": "code",
   "execution_count": null,
   "metadata": {},
   "outputs": [],
   "source": []
  },
  {
   "cell_type": "markdown",
   "metadata": {},
   "source": [
    "### using sklearn linear regression to fit the dataset"
   ]
  },
  {
   "cell_type": "code",
   "execution_count": 134,
   "metadata": {},
   "outputs": [],
   "source": [
    "poly_reg = Pipeline([\n",
    "    ('poly',PolynomialFeatures(degree=1)),\n",
    "    ('std_scaler',RobustScaler()),\n",
    "    ('lin_reg',LinearRegression())\n",
    "])"
   ]
  },
  {
   "cell_type": "code",
   "execution_count": null,
   "metadata": {},
   "outputs": [],
   "source": []
  },
  {
   "cell_type": "code",
   "execution_count": 135,
   "metadata": {},
   "outputs": [
    {
     "data": {
      "text/plain": [
       "0.40394193106248477"
      ]
     },
     "execution_count": 135,
     "metadata": {},
     "output_type": "execute_result"
    }
   ],
   "source": [
    "poly_reg.fit(X_train,y_train)\n",
    "poly_reg.score(X_train, y_train)"
   ]
  },
  {
   "cell_type": "code",
   "execution_count": 136,
   "metadata": {},
   "outputs": [
    {
     "name": "stdout",
     "output_type": "stream",
     "text": [
      "Mean squared error: 52013728612419.45\n",
      "Coefficient of determination: 0.40\n"
     ]
    }
   ],
   "source": [
    "y_train_predict = poly_reg.predict(X_train)\n",
    "print('Mean squared error: %.2f'% mean_squared_error(y_train, y_train_predict))\n",
    "print('Coefficient of determination: %.2f'% r2_score(y_train, y_train_predict))"
   ]
  },
  {
   "cell_type": "code",
   "execution_count": 137,
   "metadata": {},
   "outputs": [
    {
     "name": "stdout",
     "output_type": "stream",
     "text": [
      "Mean squared error: 38746514492688.38\n",
      "Coefficient of determination: 0.29\n"
     ]
    }
   ],
   "source": [
    "poly_reg.score(X_test, y_test)\n",
    "y_test_predict = poly_reg.predict(X_test)\n",
    "print('Mean squared error: %.2f'  % mean_squared_error(y_test, y_test_predict))\n",
    "print('Coefficient of determination: %.2f'% r2_score(y_test, y_test_predict))"
   ]
  },
  {
   "cell_type": "code",
   "execution_count": 138,
   "metadata": {},
   "outputs": [],
   "source": [
    "# predicted = cross_val_predict(poly_reg, X_train, y_train, cv=10)\n",
    "\n",
    "# fig, ax = plt.subplots()\n",
    "# ax.scatter(y_train, predicted, edgecolors=(0, 0, 0))\n",
    "# ax.plot([y_train.min(), y_train.max()], [y_train.min(), y_train.max()], 'k--', lw=4)\n",
    "# ax.set_xlabel('Measured')\n",
    "# ax.set_ylabel('Predicted')\n",
    "# plt.show()"
   ]
  },
  {
   "cell_type": "markdown",
   "metadata": {},
   "source": [
    "## KNN regression"
   ]
  },
  {
   "cell_type": "code",
   "execution_count": 139,
   "metadata": {},
   "outputs": [],
   "source": [
    "from sklearn.neighbors import KNeighborsRegressor"
   ]
  },
  {
   "cell_type": "code",
   "execution_count": 140,
   "metadata": {},
   "outputs": [],
   "source": [
    "### from the "
   ]
  },
  {
   "cell_type": "code",
   "execution_count": 218,
   "metadata": {},
   "outputs": [
    {
     "name": "stdout",
     "output_type": "stream",
     "text": [
      "best_score: 1.0\n",
      "best_k: 3\n",
      "best_metric: minkowski\n",
      "best_weights: distance\n"
     ]
    }
   ],
   "source": [
    "best_score = 0.0\n",
    "best_k = 0\n",
    "best_weights = ''\n",
    "best_metric =''\n",
    "\n",
    "weights = ['uniform','distance']\n",
    "metric = ['minkowski','euclidean','manhattan','chebyshev']\n",
    "for weight in weights:\n",
    "    \n",
    "    for metr in metric:\n",
    "\n",
    "        for k in range(3, 20):\n",
    "            knn_r = KNeighborsRegressor(algorithm='auto', leaf_size=30, metric= metr,\n",
    "                   metric_params=None, n_jobs=None, n_neighbors=k, p=1,\n",
    "                   weights= weight )\n",
    "\n",
    "            knn_r.fit(X_train,y_train)\n",
    "            y_train_predict = knn_r.predict(X_train)\n",
    "            score = r2_score(y_train,y_train_predict)\n",
    "            if score > best_score :\n",
    "                best_score = score\n",
    "                best_k = k\n",
    "                best_metric = metr\n",
    "                best_weights = weight\n",
    "\n",
    "print('best_score:',best_score)\n",
    "print('best_k:',best_k)\n",
    "print('best_metric:',best_metric)\n",
    "print('best_weights:',best_weights)"
   ]
  },
  {
   "cell_type": "code",
   "execution_count": null,
   "metadata": {},
   "outputs": [],
   "source": []
  },
  {
   "cell_type": "code",
   "execution_count": 219,
   "metadata": {},
   "outputs": [
    {
     "data": {
      "text/plain": [
       "KNeighborsRegressor(algorithm='auto', leaf_size=30, metric='minkowski',\n",
       "                    metric_params=None, n_jobs=None, n_neighbors=10, p=1,\n",
       "                    weights='distance')"
      ]
     },
     "execution_count": 219,
     "metadata": {},
     "output_type": "execute_result"
    }
   ],
   "source": [
    "knn_r = KNeighborsRegressor(algorithm='auto', leaf_size=30, metric='minkowski',\n",
    "           metric_params=None, n_jobs=None, n_neighbors=10, p=1,\n",
    "           weights='distance',\n",
    "                          )\n",
    "knn_r.fit(X_train,y_train)"
   ]
  },
  {
   "cell_type": "code",
   "execution_count": 220,
   "metadata": {},
   "outputs": [
    {
     "name": "stdout",
     "output_type": "stream",
     "text": [
      "Mean squared error: 0.00\n",
      "Coefficient of determination: 1.00\n"
     ]
    },
    {
     "data": {
      "text/plain": [
       "1.0"
      ]
     },
     "execution_count": 220,
     "metadata": {},
     "output_type": "execute_result"
    }
   ],
   "source": [
    "y_train_predict = knn_r.predict(X_train)\n",
    "print('Mean squared error: %.2f'% mean_squared_error(y_train, y_train_predict))\n",
    "print('Coefficient of determination: %.2f'% r2_score(y_train, y_train_predict))\n",
    "knn_r.score(X_train, y_train)\n"
   ]
  },
  {
   "cell_type": "code",
   "execution_count": 221,
   "metadata": {},
   "outputs": [
    {
     "name": "stdout",
     "output_type": "stream",
     "text": [
      "Mean squared error: 0.57\n",
      "Coefficient of determination: -0.14\n"
     ]
    },
    {
     "data": {
      "text/plain": [
       "-0.14342217126686707"
      ]
     },
     "execution_count": 221,
     "metadata": {},
     "output_type": "execute_result"
    }
   ],
   "source": [
    "y_test_predict = knn_r.predict(X_test)\n",
    "print('Mean squared error: %.2f'  % mean_squared_error(y_test, y_test_predict))\n",
    "print('Coefficient of determination: %.2f'% r2_score(y_test, y_test_predict))\n",
    "knn_r.score(X_test, y_test)\n"
   ]
  },
  {
   "cell_type": "code",
   "execution_count": null,
   "metadata": {},
   "outputs": [],
   "source": []
  },
  {
   "cell_type": "code",
   "execution_count": null,
   "metadata": {},
   "outputs": [],
   "source": []
  },
  {
   "cell_type": "code",
   "execution_count": null,
   "metadata": {},
   "outputs": [],
   "source": []
  },
  {
   "cell_type": "code",
   "execution_count": null,
   "metadata": {},
   "outputs": [],
   "source": []
  },
  {
   "cell_type": "markdown",
   "metadata": {},
   "source": [
    "## Classifier"
   ]
  },
  {
   "cell_type": "code",
   "execution_count": 151,
   "metadata": {},
   "outputs": [],
   "source": [
    "from sklearn.preprocessing import StandardScaler\n",
    "from sklearn.metrics import accuracy_score\n",
    "from sklearn.preprocessing import PolynomialFeatures\n",
    "from sklearn.linear_model import LinearRegression\n",
    "from sklearn.model_selection import train_test_split\n",
    "# from sklearn.neighbors import  KNeighborsRegressor\n",
    "from sklearn.neighbors import KNeighborsClassifier\n",
    "from sklearn.metrics import accuracy_score, confusion_matrix, precision_recall_fscore_support\n",
    "\n"
   ]
  },
  {
   "cell_type": "code",
   "execution_count": 152,
   "metadata": {},
   "outputs": [
    {
     "data": {
      "text/html": [
       "<div>\n",
       "<style scoped>\n",
       "    .dataframe tbody tr th:only-of-type {\n",
       "        vertical-align: middle;\n",
       "    }\n",
       "\n",
       "    .dataframe tbody tr th {\n",
       "        vertical-align: top;\n",
       "    }\n",
       "\n",
       "    .dataframe thead th {\n",
       "        text-align: right;\n",
       "    }\n",
       "</style>\n",
       "<table border=\"1\" class=\"dataframe\">\n",
       "  <thead>\n",
       "    <tr style=\"text-align: right;\">\n",
       "      <th></th>\n",
       "      <th>Salary</th>\n",
       "      <th>MP</th>\n",
       "      <th>FG</th>\n",
       "      <th>FGA</th>\n",
       "      <th>P2A</th>\n",
       "      <th>P2</th>\n",
       "      <th>FT</th>\n",
       "      <th>FTA</th>\n",
       "      <th>DRB</th>\n",
       "      <th>AST</th>\n",
       "      <th>TOV</th>\n",
       "      <th>PTS</th>\n",
       "    </tr>\n",
       "  </thead>\n",
       "  <tbody>\n",
       "    <tr>\n",
       "      <td>0</td>\n",
       "      <td>19863636.0</td>\n",
       "      <td>1914.0</td>\n",
       "      <td>314.0</td>\n",
       "      <td>726.0</td>\n",
       "      <td>500.0</td>\n",
       "      <td>246.0</td>\n",
       "      <td>137.0</td>\n",
       "      <td>203.0</td>\n",
       "      <td>338.0</td>\n",
       "      <td>215.0</td>\n",
       "      <td>94.0</td>\n",
       "      <td>833.0</td>\n",
       "    </tr>\n",
       "    <tr>\n",
       "      <td>1</td>\n",
       "      <td>2329200.0</td>\n",
       "      <td>1368.0</td>\n",
       "      <td>202.0</td>\n",
       "      <td>496.0</td>\n",
       "      <td>293.0</td>\n",
       "      <td>122.0</td>\n",
       "      <td>62.0</td>\n",
       "      <td>72.0</td>\n",
       "      <td>111.0</td>\n",
       "      <td>193.0</td>\n",
       "      <td>75.0</td>\n",
       "      <td>546.0</td>\n",
       "    </tr>\n",
       "    <tr>\n",
       "      <td>3</td>\n",
       "      <td>1618520.0</td>\n",
       "      <td>756.0</td>\n",
       "      <td>100.0</td>\n",
       "      <td>220.0</td>\n",
       "      <td>115.0</td>\n",
       "      <td>61.0</td>\n",
       "      <td>48.0</td>\n",
       "      <td>62.0</td>\n",
       "      <td>76.0</td>\n",
       "      <td>35.0</td>\n",
       "      <td>36.0</td>\n",
       "      <td>287.0</td>\n",
       "    </tr>\n",
       "    <tr>\n",
       "      <td>5</td>\n",
       "      <td>1000000.0</td>\n",
       "      <td>293.0</td>\n",
       "      <td>30.0</td>\n",
       "      <td>75.0</td>\n",
       "      <td>28.0</td>\n",
       "      <td>16.0</td>\n",
       "      <td>9.0</td>\n",
       "      <td>13.0</td>\n",
       "      <td>28.0</td>\n",
       "      <td>14.0</td>\n",
       "      <td>7.0</td>\n",
       "      <td>83.0</td>\n",
       "    </tr>\n",
       "    <tr>\n",
       "      <td>6</td>\n",
       "      <td>28000000.0</td>\n",
       "      <td>1848.0</td>\n",
       "      <td>289.0</td>\n",
       "      <td>654.0</td>\n",
       "      <td>390.0</td>\n",
       "      <td>200.0</td>\n",
       "      <td>55.0</td>\n",
       "      <td>73.0</td>\n",
       "      <td>320.0</td>\n",
       "      <td>244.0</td>\n",
       "      <td>65.0</td>\n",
       "      <td>722.0</td>\n",
       "    </tr>\n",
       "  </tbody>\n",
       "</table>\n",
       "</div>"
      ],
      "text/plain": [
       "       Salary      MP     FG    FGA    P2A     P2     FT    FTA    DRB    AST  \\\n",
       "0  19863636.0  1914.0  314.0  726.0  500.0  246.0  137.0  203.0  338.0  215.0   \n",
       "1   2329200.0  1368.0  202.0  496.0  293.0  122.0   62.0   72.0  111.0  193.0   \n",
       "3   1618520.0   756.0  100.0  220.0  115.0   61.0   48.0   62.0   76.0   35.0   \n",
       "5   1000000.0   293.0   30.0   75.0   28.0   16.0    9.0   13.0   28.0   14.0   \n",
       "6  28000000.0  1848.0  289.0  654.0  390.0  200.0   55.0   73.0  320.0  244.0   \n",
       "\n",
       "    TOV    PTS  \n",
       "0  94.0  833.0  \n",
       "1  75.0  546.0  \n",
       "3  36.0  287.0  \n",
       "5   7.0   83.0  \n",
       "6  65.0  722.0  "
      ]
     },
     "execution_count": 152,
     "metadata": {},
     "output_type": "execute_result"
    }
   ],
   "source": [
    "ffs_players_salary = pd.read_csv('fmanual_feature_Select_players_salary.csv.gz',index_col=0)\n",
    "ffs_players_salary.head()"
   ]
  },
  {
   "cell_type": "code",
   "execution_count": 153,
   "metadata": {},
   "outputs": [
    {
     "data": {
      "text/html": [
       "<div>\n",
       "<style scoped>\n",
       "    .dataframe tbody tr th:only-of-type {\n",
       "        vertical-align: middle;\n",
       "    }\n",
       "\n",
       "    .dataframe tbody tr th {\n",
       "        vertical-align: top;\n",
       "    }\n",
       "\n",
       "    .dataframe thead th {\n",
       "        text-align: right;\n",
       "    }\n",
       "</style>\n",
       "<table border=\"1\" class=\"dataframe\">\n",
       "  <thead>\n",
       "    <tr style=\"text-align: right;\">\n",
       "      <th></th>\n",
       "      <th>Salary</th>\n",
       "      <th>MP</th>\n",
       "      <th>FG</th>\n",
       "      <th>FGA</th>\n",
       "      <th>P2A</th>\n",
       "      <th>P2</th>\n",
       "      <th>FT</th>\n",
       "      <th>FTA</th>\n",
       "      <th>DRB</th>\n",
       "      <th>AST</th>\n",
       "      <th>TOV</th>\n",
       "      <th>PTS</th>\n",
       "      <th>salary_scaled</th>\n",
       "    </tr>\n",
       "  </thead>\n",
       "  <tbody>\n",
       "    <tr>\n",
       "      <td>0</td>\n",
       "      <td>19863636.0</td>\n",
       "      <td>1914.0</td>\n",
       "      <td>314.0</td>\n",
       "      <td>726.0</td>\n",
       "      <td>500.0</td>\n",
       "      <td>246.0</td>\n",
       "      <td>137.0</td>\n",
       "      <td>203.0</td>\n",
       "      <td>338.0</td>\n",
       "      <td>215.0</td>\n",
       "      <td>94.0</td>\n",
       "      <td>833.0</td>\n",
       "      <td>0.489285</td>\n",
       "    </tr>\n",
       "    <tr>\n",
       "      <td>1</td>\n",
       "      <td>2329200.0</td>\n",
       "      <td>1368.0</td>\n",
       "      <td>202.0</td>\n",
       "      <td>496.0</td>\n",
       "      <td>293.0</td>\n",
       "      <td>122.0</td>\n",
       "      <td>62.0</td>\n",
       "      <td>72.0</td>\n",
       "      <td>111.0</td>\n",
       "      <td>193.0</td>\n",
       "      <td>75.0</td>\n",
       "      <td>546.0</td>\n",
       "      <td>0.049622</td>\n",
       "    </tr>\n",
       "    <tr>\n",
       "      <td>3</td>\n",
       "      <td>1618520.0</td>\n",
       "      <td>756.0</td>\n",
       "      <td>100.0</td>\n",
       "      <td>220.0</td>\n",
       "      <td>115.0</td>\n",
       "      <td>61.0</td>\n",
       "      <td>48.0</td>\n",
       "      <td>62.0</td>\n",
       "      <td>76.0</td>\n",
       "      <td>35.0</td>\n",
       "      <td>36.0</td>\n",
       "      <td>287.0</td>\n",
       "      <td>0.031802</td>\n",
       "    </tr>\n",
       "    <tr>\n",
       "      <td>5</td>\n",
       "      <td>1000000.0</td>\n",
       "      <td>293.0</td>\n",
       "      <td>30.0</td>\n",
       "      <td>75.0</td>\n",
       "      <td>28.0</td>\n",
       "      <td>16.0</td>\n",
       "      <td>9.0</td>\n",
       "      <td>13.0</td>\n",
       "      <td>28.0</td>\n",
       "      <td>14.0</td>\n",
       "      <td>7.0</td>\n",
       "      <td>83.0</td>\n",
       "      <td>0.016294</td>\n",
       "    </tr>\n",
       "    <tr>\n",
       "      <td>6</td>\n",
       "      <td>28000000.0</td>\n",
       "      <td>1848.0</td>\n",
       "      <td>289.0</td>\n",
       "      <td>654.0</td>\n",
       "      <td>390.0</td>\n",
       "      <td>200.0</td>\n",
       "      <td>55.0</td>\n",
       "      <td>73.0</td>\n",
       "      <td>320.0</td>\n",
       "      <td>244.0</td>\n",
       "      <td>65.0</td>\n",
       "      <td>722.0</td>\n",
       "      <td>0.693298</td>\n",
       "    </tr>\n",
       "  </tbody>\n",
       "</table>\n",
       "</div>"
      ],
      "text/plain": [
       "       Salary      MP     FG    FGA    P2A     P2     FT    FTA    DRB    AST  \\\n",
       "0  19863636.0  1914.0  314.0  726.0  500.0  246.0  137.0  203.0  338.0  215.0   \n",
       "1   2329200.0  1368.0  202.0  496.0  293.0  122.0   62.0   72.0  111.0  193.0   \n",
       "3   1618520.0   756.0  100.0  220.0  115.0   61.0   48.0   62.0   76.0   35.0   \n",
       "5   1000000.0   293.0   30.0   75.0   28.0   16.0    9.0   13.0   28.0   14.0   \n",
       "6  28000000.0  1848.0  289.0  654.0  390.0  200.0   55.0   73.0  320.0  244.0   \n",
       "\n",
       "    TOV    PTS  salary_scaled  \n",
       "0  94.0  833.0       0.489285  \n",
       "1  75.0  546.0       0.049622  \n",
       "3  36.0  287.0       0.031802  \n",
       "5   7.0   83.0       0.016294  \n",
       "6  65.0  722.0       0.693298  "
      ]
     },
     "execution_count": 153,
     "metadata": {},
     "output_type": "execute_result"
    }
   ],
   "source": [
    "salary_col = ffs_players_salary['Salary']\n",
    "salary_scaled = (salary_col-salary_col.min())/(salary_col.max()-salary_col.min())\n",
    "ffs_players_salary['salary_scaled']= salary_scaled.copy()\n",
    "ffs_players_salary.head()"
   ]
  },
  {
   "cell_type": "code",
   "execution_count": 154,
   "metadata": {},
   "outputs": [
    {
     "data": {
      "text/html": [
       "<div>\n",
       "<style scoped>\n",
       "    .dataframe tbody tr th:only-of-type {\n",
       "        vertical-align: middle;\n",
       "    }\n",
       "\n",
       "    .dataframe tbody tr th {\n",
       "        vertical-align: top;\n",
       "    }\n",
       "\n",
       "    .dataframe thead th {\n",
       "        text-align: right;\n",
       "    }\n",
       "</style>\n",
       "<table border=\"1\" class=\"dataframe\">\n",
       "  <thead>\n",
       "    <tr style=\"text-align: right;\">\n",
       "      <th></th>\n",
       "      <th>Salary</th>\n",
       "      <th>MP</th>\n",
       "      <th>FG</th>\n",
       "      <th>FGA</th>\n",
       "      <th>P2A</th>\n",
       "      <th>P2</th>\n",
       "      <th>FT</th>\n",
       "      <th>FTA</th>\n",
       "      <th>DRB</th>\n",
       "      <th>AST</th>\n",
       "      <th>TOV</th>\n",
       "      <th>PTS</th>\n",
       "      <th>salary_scaled</th>\n",
       "      <th>Nominal</th>\n",
       "    </tr>\n",
       "  </thead>\n",
       "  <tbody>\n",
       "    <tr>\n",
       "      <td>0</td>\n",
       "      <td>19863636.0</td>\n",
       "      <td>1914.0</td>\n",
       "      <td>314.0</td>\n",
       "      <td>726.0</td>\n",
       "      <td>500.0</td>\n",
       "      <td>246.0</td>\n",
       "      <td>137.0</td>\n",
       "      <td>203.0</td>\n",
       "      <td>338.0</td>\n",
       "      <td>215.0</td>\n",
       "      <td>94.0</td>\n",
       "      <td>833.0</td>\n",
       "      <td>0.489285</td>\n",
       "      <td>3</td>\n",
       "    </tr>\n",
       "    <tr>\n",
       "      <td>1</td>\n",
       "      <td>2329200.0</td>\n",
       "      <td>1368.0</td>\n",
       "      <td>202.0</td>\n",
       "      <td>496.0</td>\n",
       "      <td>293.0</td>\n",
       "      <td>122.0</td>\n",
       "      <td>62.0</td>\n",
       "      <td>72.0</td>\n",
       "      <td>111.0</td>\n",
       "      <td>193.0</td>\n",
       "      <td>75.0</td>\n",
       "      <td>546.0</td>\n",
       "      <td>0.049622</td>\n",
       "      <td>1</td>\n",
       "    </tr>\n",
       "    <tr>\n",
       "      <td>3</td>\n",
       "      <td>1618520.0</td>\n",
       "      <td>756.0</td>\n",
       "      <td>100.0</td>\n",
       "      <td>220.0</td>\n",
       "      <td>115.0</td>\n",
       "      <td>61.0</td>\n",
       "      <td>48.0</td>\n",
       "      <td>62.0</td>\n",
       "      <td>76.0</td>\n",
       "      <td>35.0</td>\n",
       "      <td>36.0</td>\n",
       "      <td>287.0</td>\n",
       "      <td>0.031802</td>\n",
       "      <td>1</td>\n",
       "    </tr>\n",
       "    <tr>\n",
       "      <td>5</td>\n",
       "      <td>1000000.0</td>\n",
       "      <td>293.0</td>\n",
       "      <td>30.0</td>\n",
       "      <td>75.0</td>\n",
       "      <td>28.0</td>\n",
       "      <td>16.0</td>\n",
       "      <td>9.0</td>\n",
       "      <td>13.0</td>\n",
       "      <td>28.0</td>\n",
       "      <td>14.0</td>\n",
       "      <td>7.0</td>\n",
       "      <td>83.0</td>\n",
       "      <td>0.016294</td>\n",
       "      <td>1</td>\n",
       "    </tr>\n",
       "    <tr>\n",
       "      <td>6</td>\n",
       "      <td>28000000.0</td>\n",
       "      <td>1848.0</td>\n",
       "      <td>289.0</td>\n",
       "      <td>654.0</td>\n",
       "      <td>390.0</td>\n",
       "      <td>200.0</td>\n",
       "      <td>55.0</td>\n",
       "      <td>73.0</td>\n",
       "      <td>320.0</td>\n",
       "      <td>244.0</td>\n",
       "      <td>65.0</td>\n",
       "      <td>722.0</td>\n",
       "      <td>0.693298</td>\n",
       "      <td>3</td>\n",
       "    </tr>\n",
       "  </tbody>\n",
       "</table>\n",
       "</div>"
      ],
      "text/plain": [
       "       Salary      MP     FG    FGA    P2A     P2     FT    FTA    DRB    AST  \\\n",
       "0  19863636.0  1914.0  314.0  726.0  500.0  246.0  137.0  203.0  338.0  215.0   \n",
       "1   2329200.0  1368.0  202.0  496.0  293.0  122.0   62.0   72.0  111.0  193.0   \n",
       "3   1618520.0   756.0  100.0  220.0  115.0   61.0   48.0   62.0   76.0   35.0   \n",
       "5   1000000.0   293.0   30.0   75.0   28.0   16.0    9.0   13.0   28.0   14.0   \n",
       "6  28000000.0  1848.0  289.0  654.0  390.0  200.0   55.0   73.0  320.0  244.0   \n",
       "\n",
       "    TOV    PTS  salary_scaled  Nominal  \n",
       "0  94.0  833.0       0.489285        3  \n",
       "1  75.0  546.0       0.049622        1  \n",
       "3  36.0  287.0       0.031802        1  \n",
       "5   7.0   83.0       0.016294        1  \n",
       "6  65.0  722.0       0.693298        3  "
      ]
     },
     "execution_count": 154,
     "metadata": {},
     "output_type": "execute_result"
    }
   ],
   "source": [
    "conditions = [\n",
    "        (ffs_players_salary['salary_scaled']  <= 0.2),\n",
    "        (ffs_players_salary['salary_scaled']  <= 0.4),\n",
    "        (ffs_players_salary['salary_scaled']  <= 0.6),\n",
    "        (ffs_players_salary['salary_scaled']  > 0.8)\n",
    "]\n",
    "choices = [1, 2,3,4]\n",
    "ffs_players_salary['Nominal'] = np.select(conditions, choices, default=3)\n",
    "ffs_players_salary.head()\n",
    "# edge players（边缘球员）\n",
    "# normal players（轮换球员）\n",
    "# first players（首发球员）\n",
    "# stars（明星球员）"
   ]
  },
  {
   "cell_type": "code",
   "execution_count": 155,
   "metadata": {},
   "outputs": [
    {
     "data": {
      "text/plain": [
       "[Text(0, 0.5, 'Number'), Text(0.5, 0, 'Level'), Text(0.5, 1.0, 'Salary_Level')]"
      ]
     },
     "execution_count": 155,
     "metadata": {},
     "output_type": "execute_result"
    },
    {
     "data": {
      "image/png": "[encoded data removed]",
      "text/plain": [
       "<Figure size 720x504 with 1 Axes>"
      ]
     },
     "metadata": {},
     "output_type": "display_data"
    }
   ],
   "source": [
    "#大部分的NBA球员薪资还是处于较低的水平，而其中间薪资的球员也是比较多，薪水较高的球员较少，这也符合正常规律\n",
    "bar=ffs_players_salary['Nominal'].value_counts()\n",
    "sns.set(font_scale=2)\n",
    "sns.set(style=\"white\", palette=\"muted\",color_codes=True)\n",
    "plt.figure(figsize=(10,7))\n",
    "# sns.barplot(y=data_std_c1['Nominal'], palette=\"deep\")\n",
    "ax = sns.barplot(x=bar.index,y=bar )\n",
    "ax.set(xlabel='Level',ylabel='Number',title=\"Salary_Level\")"
   ]
  },
  {
   "cell_type": "code",
   "execution_count": 156,
   "metadata": {},
   "outputs": [],
   "source": [
    "features_name = [ 'MP', 'FG', 'FGA', 'P2A', 'P2', 'FT', 'FTA', 'DRB', 'AST','TOV', 'PTS']\n",
    "\n",
    "X = ffs_players_salary[features_name]\n",
    "y = ffs_players_salary['Nominal']\n"
   ]
  },
  {
   "cell_type": "markdown",
   "metadata": {},
   "source": [
    "## KNN"
   ]
  },
  {
   "cell_type": "code",
   "execution_count": 157,
   "metadata": {},
   "outputs": [],
   "source": [
    "X_train, X_test, y_train, y_test = train_test_split(X,y,test_size=0.2, random_state=666)"
   ]
  },
  {
   "cell_type": "code",
   "execution_count": 158,
   "metadata": {},
   "outputs": [
    {
     "name": "stdout",
     "output_type": "stream",
     "text": [
      "(308, 11)\n",
      "(308,)\n",
      "(77, 11)\n",
      "(77,)\n"
     ]
    }
   ],
   "source": [
    "print(X_train.shape)\n",
    "print(y_train.shape)\n",
    "print(X_test.shape)\n",
    "print(y_test.shape)"
   ]
  },
  {
   "cell_type": "code",
   "execution_count": 159,
   "metadata": {},
   "outputs": [
    {
     "name": "stdout",
     "output_type": "stream",
     "text": [
      "best_score: 1.0\n",
      "best_k: 3\n",
      "best_metric: minkowski\n",
      "best_weights: distance\n"
     ]
    }
   ],
   "source": [
    "best_score = 0.0\n",
    "best_k = 0\n",
    "best_weights = ''\n",
    "best_metric =''\n",
    "\n",
    "weights = ['uniform','distance']\n",
    "metric = ['minkowski','euclidean','manhattan','chebyshev']\n",
    "for weight in weights:\n",
    "    \n",
    "    for metr in metric:\n",
    "\n",
    "        for k in range(3, 20):\n",
    "            knn = KNeighborsClassifier(algorithm='auto', leaf_size=30, metric= metr,\n",
    "                   metric_params=None, n_jobs=None, n_neighbors=k, p=1,\n",
    "                   weights= weight )\n",
    "\n",
    "            knn.fit(X_train,y_train)\n",
    "            y_train_predict = knn.predict(X_train)\n",
    "            score = accuracy_score(y_train,y_train_predict)\n",
    "            if score > best_score :\n",
    "                best_score = score\n",
    "                best_k = k\n",
    "                best_metric = metr\n",
    "                best_weights = weight\n",
    "\n",
    "print('best_score:',best_score)\n",
    "print('best_k:',best_k)\n",
    "print('best_metric:',best_metric)\n",
    "print('best_weights:',best_weights)"
   ]
  },
  {
   "cell_type": "code",
   "execution_count": 160,
   "metadata": {},
   "outputs": [
    {
     "data": {
      "text/plain": [
       "KNeighborsClassifier(algorithm='auto', leaf_size=30, metric='minkowski',\n",
       "                     metric_params=None, n_jobs=None, n_neighbors=3, p=1,\n",
       "                     weights='distance')"
      ]
     },
     "execution_count": 160,
     "metadata": {},
     "output_type": "execute_result"
    }
   ],
   "source": [
    "knn = KNeighborsClassifier(algorithm='auto', leaf_size=30, metric='minkowski',\n",
    "           metric_params=None, n_jobs=None, n_neighbors=3, p=1,\n",
    "           weights='distance',\n",
    "                          )\n",
    "knn.fit(X_train,y_train)"
   ]
  },
  {
   "cell_type": "code",
   "execution_count": 161,
   "metadata": {},
   "outputs": [
    {
     "name": "stdout",
     "output_type": "stream",
     "text": [
      "KNN Train Accuracy: 1.000\n"
     ]
    }
   ],
   "source": [
    "y_train_predict = knn.predict(X_train)\n",
    "print (\"KNN Train Accuracy: %.3f\" % accuracy_score(y_train,y_train_predict))"
   ]
  },
  {
   "cell_type": "code",
   "execution_count": 162,
   "metadata": {},
   "outputs": [
    {
     "name": "stdout",
     "output_type": "stream",
     "text": [
      "KNN Test Accuracy: 0.649\n"
     ]
    }
   ],
   "source": [
    "y_test_predict = knn.predict(X_test)\n",
    "print (\"KNN Test Accuracy: %.3f\" % accuracy_score(y_test,y_test_predict))"
   ]
  },
  {
   "cell_type": "code",
   "execution_count": 163,
   "metadata": {},
   "outputs": [
    {
     "name": "stdout",
     "output_type": "stream",
     "text": [
      "              precision    recall  f1-score   support\n",
      "\n",
      "           1       0.74      0.86      0.79        56\n",
      "           2       0.25      0.08      0.12        13\n",
      "           3       0.00      0.00      0.00         7\n",
      "           4       0.33      1.00      0.50         1\n",
      "\n",
      "    accuracy                           0.65        77\n",
      "   macro avg       0.33      0.48      0.35        77\n",
      "weighted avg       0.58      0.65      0.60        77\n",
      "\n"
     ]
    },
    {
     "data": {
      "image/png": "[encoded data removed]",
      "text/plain": [
       "<Figure size 396x288 with 2 Axes>"
      ]
     },
     "metadata": {},
     "output_type": "display_data"
    }
   ],
   "source": [
    "print (classification_report(y_test,y_test_predict))\n",
    "cm = confusion_matrix(y_test, y_test_predict) \n",
    "cm_df = pd.DataFrame(cm,\n",
    "                     index = ['edge players','normal players','first player','stars'], \n",
    "                     columns = ['edge players','normal players','first player','stars'])\n",
    "\n",
    "plt.figure(figsize=(5.5,4))\n",
    "sns.heatmap(cm_df, annot=True)\n",
    "plt.title('Naive Bayes \\nAccuracy:{0:.3f}'.format(accuracy_score(y_test, y_test_predict)))\n",
    "plt.ylabel('True label')\n",
    "plt.xlabel('Predicted label')\n",
    "plt.show()\n"
   ]
  },
  {
   "cell_type": "code",
   "execution_count": null,
   "metadata": {},
   "outputs": [],
   "source": []
  },
  {
   "cell_type": "markdown",
   "metadata": {},
   "source": [
    "## SVM"
   ]
  },
  {
   "cell_type": "code",
   "execution_count": 164,
   "metadata": {},
   "outputs": [
    {
     "data": {
      "text/plain": [
       "SVC(C=1, cache_size=200, class_weight=None, coef0=1,\n",
       "    decision_function_shape='ovr', degree=2, gamma=0.005, kernel='rbf',\n",
       "    max_iter=-1, probability=False, random_state=None, shrinking=True, tol=0.5,\n",
       "    verbose=False)"
      ]
     },
     "execution_count": 164,
     "metadata": {},
     "output_type": "execute_result"
    }
   ],
   "source": [
    "svm= SVC(C=1, kernel='rbf', degree=2, gamma=0.005,coef0=1,shrinking=True, tol=0.5,probability=False,\n",
    "        max_iter=-1,)\n",
    "svm.fit(X_train,y_train)"
   ]
  },
  {
   "cell_type": "code",
   "execution_count": 165,
   "metadata": {},
   "outputs": [
    {
     "name": "stdout",
     "output_type": "stream",
     "text": [
      "SVM Train Accuracy: 1.000\n"
     ]
    }
   ],
   "source": [
    "y_train_predict = svm.predict(X_train)\n",
    "print (\"SVM Train Accuracy: %.3f\" % accuracy_score(y_train,y_train_predict))"
   ]
  },
  {
   "cell_type": "code",
   "execution_count": 166,
   "metadata": {},
   "outputs": [
    {
     "name": "stdout",
     "output_type": "stream",
     "text": [
      "Logistic Test Accuracy: 0.727\n"
     ]
    }
   ],
   "source": [
    "y_test_predict = svm.predict(X_test)\n",
    "print(\"Logistic Test Accuracy: %.3f\" % accuracy_score(y_test,y_test_predict))"
   ]
  },
  {
   "cell_type": "code",
   "execution_count": 167,
   "metadata": {},
   "outputs": [
    {
     "name": "stderr",
     "output_type": "stream",
     "text": [
      "/Users/Tommy/opt/anaconda3/lib/python3.7/site-packages/sklearn/metrics/classification.py:1437: UndefinedMetricWarning: Precision and F-score are ill-defined and being set to 0.0 in labels with no predicted samples.\n",
      "  'precision', 'predicted', average, warn_for)\n"
     ]
    },
    {
     "name": "stdout",
     "output_type": "stream",
     "text": [
      "              precision    recall  f1-score   support\n",
      "\n",
      "           1       0.73      1.00      0.84        56\n",
      "           2       0.00      0.00      0.00        13\n",
      "           3       0.00      0.00      0.00         7\n",
      "           4       0.00      0.00      0.00         1\n",
      "\n",
      "    accuracy                           0.73        77\n",
      "   macro avg       0.18      0.25      0.21        77\n",
      "weighted avg       0.53      0.73      0.61        77\n",
      "\n"
     ]
    },
    {
     "data": {
      "image/png": "[encoded data removed]",
      "text/plain": [
       "<Figure size 396x288 with 2 Axes>"
      ]
     },
     "metadata": {},
     "output_type": "display_data"
    }
   ],
   "source": [
    "print (classification_report(y_test,y_test_predict))\n",
    "cm = confusion_matrix(y_test, y_test_predict) \n",
    "cm_df = pd.DataFrame(cm,\n",
    "                     index = ['edge players','normal players','first player','stars'], \n",
    "                     columns = ['edge players','normal players','first player','stars'])\n",
    "\n",
    "plt.figure(figsize=(5.5,4))\n",
    "sns.heatmap(cm_df, annot=True)\n",
    "plt.title('Naive Bayes \\nAccuracy:{0:.3f}'.format(accuracy_score(y_test, y_test_predict)))\n",
    "plt.ylabel('True label')\n",
    "plt.xlabel('Predicted label')\n",
    "plt.show()"
   ]
  },
  {
   "cell_type": "markdown",
   "metadata": {},
   "source": [
    "## Random Forest¶"
   ]
  },
  {
   "cell_type": "code",
   "execution_count": 168,
   "metadata": {},
   "outputs": [
    {
     "name": "stderr",
     "output_type": "stream",
     "text": [
      "[Parallel(n_jobs=-1)]: Using backend ThreadingBackend with 8 concurrent workers.\n",
      "[Parallel(n_jobs=-1)]: Done  34 tasks      | elapsed:    0.1s\n",
      "[Parallel(n_jobs=-1)]: Done 100 out of 100 | elapsed:    0.1s finished\n"
     ]
    },
    {
     "data": {
      "text/plain": [
       "0.6688311688311688"
      ]
     },
     "execution_count": 168,
     "metadata": {},
     "output_type": "execute_result"
    }
   ],
   "source": [
    "forest = RandomForestClassifier(criterion='gini', max_leaf_nodes=None,\n",
    "                                n_estimators = 100, random_state =1,\n",
    "                                n_jobs =-1,verbose=True, oob_score=True)\n",
    "forest.fit(X_train,y_train)\n",
    "forest.oob_score_"
   ]
  },
  {
   "cell_type": "code",
   "execution_count": 169,
   "metadata": {},
   "outputs": [
    {
     "name": "stdout",
     "output_type": "stream",
     "text": [
      "Random Forest Train Accuracy: 1.000\n"
     ]
    },
    {
     "name": "stderr",
     "output_type": "stream",
     "text": [
      "[Parallel(n_jobs=8)]: Using backend ThreadingBackend with 8 concurrent workers.\n",
      "[Parallel(n_jobs=8)]: Done  34 tasks      | elapsed:    0.0s\n",
      "[Parallel(n_jobs=8)]: Done 100 out of 100 | elapsed:    0.0s finished\n"
     ]
    }
   ],
   "source": [
    "y_train_predict = forest.predict(X_train)\n",
    "print (\"Random Forest Train Accuracy: %.3f\" % accuracy_score(y_train,y_train_predict))\n"
   ]
  },
  {
   "cell_type": "code",
   "execution_count": 170,
   "metadata": {},
   "outputs": [
    {
     "name": "stdout",
     "output_type": "stream",
     "text": [
      "Random Forest Test Accuracy: 0.649\n"
     ]
    },
    {
     "name": "stderr",
     "output_type": "stream",
     "text": [
      "[Parallel(n_jobs=8)]: Using backend ThreadingBackend with 8 concurrent workers.\n",
      "[Parallel(n_jobs=8)]: Done  34 tasks      | elapsed:    0.0s\n",
      "[Parallel(n_jobs=8)]: Done 100 out of 100 | elapsed:    0.0s finished\n"
     ]
    }
   ],
   "source": [
    "y_test_predict = forest.predict(X_test)\n",
    "print(\"Random Forest Test Accuracy: %.3f\" % accuracy_score(y_test,y_test_predict))"
   ]
  },
  {
   "cell_type": "code",
   "execution_count": 171,
   "metadata": {},
   "outputs": [
    {
     "data": {
      "text/plain": [
       "Text(0.5, 1.0, 'Feature Importance')"
      ]
     },
     "execution_count": 171,
     "metadata": {},
     "output_type": "execute_result"
    },
    {
     "data": {
      "image/png": "[encoded data removed]",
      "text/plain": [
       "<Figure size 432x288 with 1 Axes>"
      ]
     },
     "metadata": {},
     "output_type": "display_data"
    }
   ],
   "source": [
    "plt.bar(range(len(X_train.columns.values)), forest.feature_importances_)\n",
    "plt.xticks(range(len(X_train.columns.values)),X_train.columns.values, rotation= 45)\n",
    "plt.title('Feature Importance')"
   ]
  },
  {
   "cell_type": "code",
   "execution_count": 172,
   "metadata": {},
   "outputs": [
    {
     "name": "stdout",
     "output_type": "stream",
     "text": [
      "              precision    recall  f1-score   support\n",
      "\n",
      "           1       0.74      0.86      0.79        56\n",
      "           2       0.00      0.00      0.00        13\n",
      "           3       0.20      0.29      0.24         7\n",
      "           4       0.00      0.00      0.00         1\n",
      "\n",
      "    accuracy                           0.65        77\n",
      "   macro avg       0.23      0.29      0.26        77\n",
      "weighted avg       0.56      0.65      0.60        77\n",
      "\n"
     ]
    },
    {
     "data": {
      "image/png": "[encoded data removed]",
      "text/plain": [
       "<Figure size 396x288 with 2 Axes>"
      ]
     },
     "metadata": {},
     "output_type": "display_data"
    }
   ],
   "source": [
    "print (classification_report(y_test,y_test_predict))\n",
    "cm = confusion_matrix(y_test, y_test_predict) \n",
    "cm_df = pd.DataFrame(cm,\n",
    "                     index = ['edge players','normal players','first player','stars'], \n",
    "                     columns = ['edge players','normal players','first player','stars'])\n",
    "\n",
    "plt.figure(figsize=(5.5,4))\n",
    "sns.heatmap(cm_df, annot=True)\n",
    "plt.title('Naive Bayes \\nAccuracy:{0:.3f}'.format(accuracy_score(y_test, y_test_predict)))\n",
    "plt.ylabel('True label')\n",
    "plt.xlabel('Predicted label')\n",
    "plt.show()"
   ]
  },
  {
   "cell_type": "code",
   "execution_count": null,
   "metadata": {},
   "outputs": [],
   "source": []
  },
  {
   "cell_type": "code",
   "execution_count": null,
   "metadata": {},
   "outputs": [],
   "source": []
  },
  {
   "cell_type": "code",
   "execution_count": null,
   "metadata": {},
   "outputs": [],
   "source": []
  },
  {
   "cell_type": "code",
   "execution_count": null,
   "metadata": {},
   "outputs": [],
   "source": []
  },
  {
   "cell_type": "code",
   "execution_count": null,
   "metadata": {},
   "outputs": [],
   "source": []
  },
  {
   "cell_type": "code",
   "execution_count": null,
   "metadata": {},
   "outputs": [],
   "source": []
  },
  {
   "cell_type": "code",
   "execution_count": null,
   "metadata": {},
   "outputs": [],
   "source": []
  },
  {
   "cell_type": "code",
   "execution_count": null,
   "metadata": {},
   "outputs": [],
   "source": []
  },
  {
   "cell_type": "code",
   "execution_count": null,
   "metadata": {},
   "outputs": [],
   "source": []
  },
  {
   "cell_type": "markdown",
   "metadata": {},
   "source": [
    "*****\n"
   ]
  },
  {
   "cell_type": "code",
   "execution_count": null,
   "metadata": {},
   "outputs": [],
   "source": []
  }
 ],
 "metadata": {
  "kernelspec": {
   "display_name": "Python 3",
   "language": "python",
   "name": "python3"
  },
  "language_info": {
   "codemirror_mode": {
    "name": "ipython",
    "version": 3
   },
   "file_extension": ".py",
   "mimetype": "text/x-python",
   "name": "python",
   "nbconvert_exporter": "python",
   "pygments_lexer": "ipython3",
   "version": "3.7.4"
  }
 },
 "nbformat": 4,
 "nbformat_minor": 4
}
