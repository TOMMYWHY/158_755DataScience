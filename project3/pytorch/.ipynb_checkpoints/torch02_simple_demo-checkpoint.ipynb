{
 "cells": [
  {
   "cell_type": "markdown",
   "metadata": {},
   "source": [
    "# FizzBuzz"
   ]
  },
  {
   "cell_type": "code",
   "execution_count": 10,
   "metadata": {},
   "outputs": [],
   "source": [
    "import numpy as np\n",
    "import torch"
   ]
  },
  {
   "cell_type": "code",
   "execution_count": 5,
   "metadata": {},
   "outputs": [],
   "source": [
    "def fizz_buzz_encode(i):\n",
    "    if i%15 == 0:return 3\n",
    "    elif i%5==0:return 2\n",
    "    elif i%3==0:return 1\n",
    "    else:return 0\n",
    "    \n",
    "def fizz_buzz_decode(i,prediction):\n",
    "    return [str(i),'fizz','buzz','fizzbuzz'][prediction]\n",
    "\n",
    "def helper(i):\n",
    "    print(fizz_buzz_decode(i,fizz_buzz_encode(i)))"
   ]
  },
  {
   "cell_type": "code",
   "execution_count": 8,
   "metadata": {},
   "outputs": [
    {
     "name": "stdout",
     "output_type": "stream",
     "text": [
      "1\n",
      "2\n",
      "fizz\n",
      "4\n",
      "buzz\n",
      "fizz\n",
      "7\n",
      "8\n",
      "fizz\n",
      "buzz\n",
      "11\n",
      "fizz\n",
      "13\n",
      "14\n",
      "fizzbuzz\n",
      "16\n",
      "17\n",
      "fizz\n",
      "19\n"
     ]
    }
   ],
   "source": [
    "for i in range(1,20):\n",
    "    helper(i)"
   ]
  },
  {
   "cell_type": "code",
   "execution_count": 30,
   "metadata": {},
   "outputs": [
    {
     "data": {
      "text/plain": [
       "torch.Size([923, 10])"
      ]
     },
     "execution_count": 30,
     "metadata": {},
     "output_type": "execute_result"
    }
   ],
   "source": [
    "NUM_DGITS =10\n",
    "def binary_encode(i,num_digits):\n",
    "    return np.array([i>>d & 1 for d in range(num_digits)][::-1])\n",
    "\n",
    "\n",
    "trX = torch.Tensor([binary_encode(i,NUM_DGITS) for i in range(101,2**NUM_DGITS)])\n",
    "trY = torch.Tensor([fizz_buzz_encode(i) for i in range(101,2**NUM_DGITS)])\n",
    "\n",
    "trX.shape\n",
    "# trY.shape\n",
    "# binary_encode(31,NUM_DGITS)\n"
   ]
  },
  {
   "cell_type": "code",
   "execution_count": null,
   "metadata": {},
   "outputs": [],
   "source": [
    "NUM_HIDDEN = 100\n",
    "#input [923, 10]\n",
    "model = torch.nn.Sequential(\n",
    "    torch.nn.linear(NUM_DGITS,NUM_HIDDEN) #input [923, 10] * [10, 100] = [923, 100]\n",
    ")"
   ]
  }
 ],
 "metadata": {
  "kernelspec": {
   "display_name": "Python 3",
   "language": "python",
   "name": "python3"
  },
  "language_info": {
   "codemirror_mode": {
    "name": "ipython",
    "version": 3
   },
   "file_extension": ".py",
   "mimetype": "text/x-python",
   "name": "python",
   "nbconvert_exporter": "python",
   "pygments_lexer": "ipython3",
   "version": "3.6.10"
  }
 },
 "nbformat": 4,
 "nbformat_minor": 4
}
