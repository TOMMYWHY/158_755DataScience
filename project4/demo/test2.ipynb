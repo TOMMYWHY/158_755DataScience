{
 "cells": [
  {
   "cell_type": "code",
   "execution_count": 2,
   "metadata": {},
   "outputs": [],
   "source": [
    "from surprise import SVD,KNNBasic\n",
    "from surprise import Dataset\n",
    "# from surprise import evaluate, print_perf\n",
    "from surprise.model_selection import cross_validate\n",
    "from surprise import accuracy\n",
    "from surprise.model_selection import train_test_split\n",
    "from surprise import AlgoBase\n",
    "\n",
    "import numpy as np\n",
    "import pandas as pd\n"
   ]
  },
  {
   "cell_type": "code",
   "execution_count": 3,
   "metadata": {},
   "outputs": [],
   "source": [
    "# dt = pd.read_csv(\"./datasets/Reviews.csv\")"
   ]
  },
  {
   "cell_type": "code",
   "execution_count": 7,
   "metadata": {},
   "outputs": [],
   "source": [
    "# class MyOwnAlgorithm(AlgoBase):\n",
    "\n",
    "#     def __init__(self):\n",
    "\n",
    "#         # Always call base method before doing anything.\n",
    "#         AlgoBase.__init__(self)\n",
    "\n",
    "#     def estimate(self, u, i):\n",
    "#         details = {'info1' : 'That was',\n",
    "#                'info2' : 'easy stuff :)'}    \n",
    "#         return 3,details"
   ]
  },
  {
   "cell_type": "code",
   "execution_count": null,
   "metadata": {},
   "outputs": [],
   "source": [
    "class MyOwnAlgorithm(AlgoBase):\n",
    "\n",
    "    def __init__(self):\n",
    "\n",
    "        # Always call base method before doing anything.\n",
    "        AlgoBase.__init__(self)\n",
    "\n",
    "    def fit(self, trainset):\n",
    "\n",
    "        # Here again: call base method before doing anything. \n",
    "0         AlgoBase.fit(self, trainset)\n",
    "\n",
    "        # Compute the average rating. We might as well use the\n",
    "        # trainset.global_mean attribute ;)\n",
    "        self.the_mean = np.mean([r for (_, _, r) in\n",
    "                                 self.trainset.all_ratings()])\n",
    "\n",
    "        return self\n",
    "\n",
    "    def estimate(self, u, i):\n",
    "\n",
    "        return self.the_mean"
   ]
  },
  {
   "cell_type": "code",
   "execution_count": 9,
   "metadata": {},
   "outputs": [
    {
     "name": "stdout",
     "output_type": "stream",
     "text": [
      "Evaluating RMSE, MAE of algorithm MyOwnAlgorithm on 5 split(s).\n",
      "\n",
      "                  Fold 1  Fold 2  Fold 3  Fold 4  Fold 5  Mean    Std     \n",
      "RMSE (testset)    1.2368  1.2496  1.2453  1.2500  1.2389  1.2441  0.0054  \n",
      "MAE (testset)     0.9919  1.0080  1.0045  1.0096  0.9943  1.0017  0.0072  \n",
      "Fit time          0.00    0.02    0.02    0.02    0.02    0.01    0.01    \n",
      "Test time         0.13    0.07    0.13    0.07    0.07    0.10    0.03    \n"
     ]
    },
    {
     "data": {
      "text/plain": [
       "{'test_rmse': array([1.23676999, 1.24955992, 1.24533128, 1.25004   , 1.23893099]),\n",
       " 'test_mae': array([0.9919 , 1.008  , 1.00445, 1.0096 , 0.99435]),\n",
       " 'fit_time': (3.0994415283203125e-06,\n",
       "  0.017151832580566406,\n",
       "  0.01876091957092285,\n",
       "  0.018194913864135742,\n",
       "  0.017541885375976562),\n",
       " 'test_time': (0.13141083717346191,\n",
       "  0.0733330249786377,\n",
       "  0.12503767013549805,\n",
       "  0.07144808769226074,\n",
       "  0.07424497604370117)}"
      ]
     },
     "execution_count": 9,
     "metadata": {},
     "output_type": "execute_result"
    }
   ],
   "source": [
    "data = Dataset.load_builtin('ml-100k')\n",
    "algo = MyOwnAlgorithm()\n",
    "\n",
    "cross_validate(algo, data, verbose=True)"
   ]
  },
  {
   "cell_type": "code",
   "execution_count": 10,
   "metadata": {},
   "outputs": [
    {
     "name": "stdout",
     "output_type": "stream",
     "text": [
      "user: 196        item: 302        r_ui = 4.00   est = 3.00   {'info1': 'That was', 'info2': 'easy stuff :)', 'was_impossible': False}\n"
     ]
    }
   ],
   "source": [
    "uid = str(196)\n",
    "iid = str(302)\n",
    "pred = algo.predict(uid, iid, r_ui=4, verbose=True)"
   ]
  },
  {
   "cell_type": "code",
   "execution_count": null,
   "metadata": {},
   "outputs": [],
   "source": []
  },
  {
   "cell_type": "code",
   "execution_count": null,
   "metadata": {},
   "outputs": [],
   "source": []
  }
 ],
 "metadata": {
  "kernelspec": {
   "display_name": "Python 3",
   "language": "python",
   "name": "python3"
  },
  "language_info": {
   "codemirror_mode": {
    "name": "ipython",
    "version": 3
   },
   "file_extension": ".py",
   "mimetype": "text/x-python",
   "name": "python",
   "nbconvert_exporter": "python",
   "pygments_lexer": "ipython3",
   "version": "3.6.10"
  }
 },
 "nbformat": 4,
 "nbformat_minor": 4
}
