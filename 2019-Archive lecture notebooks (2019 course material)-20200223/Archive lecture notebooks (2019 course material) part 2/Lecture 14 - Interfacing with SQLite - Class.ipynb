{
 "cells": [
  {
   "cell_type": "code",
   "execution_count": null,
   "metadata": {},
   "outputs": [],
   "source": [
    "from IPython.core.display import display, HTML\n",
    "display(HTML(\"<style>.container { width:80% !important; }</style>\"))"
   ]
  },
  {
   "cell_type": "markdown",
   "metadata": {},
   "source": [
    "# Lecture 14 - Interfacing with SQLite"
   ]
  },
  {
   "cell_type": "markdown",
   "metadata": {},
   "source": [
    "# Table of Contents\n",
    "* [Lecture 14 - Interfacing with SQLite](#Lecture-14---Interfacing-with-SQLite)\n",
    "\t* &nbsp;\n",
    "\t\t* [Content](#Content)\n",
    "\t\t* [Learning Outcomes](#Learning-Outcomes)\n",
    "\t\t* [Connecting SQLite to the Database](#Connecting-SQLite-to-the-Database)\n",
    "\t\t\t* &nbsp;\n",
    "\t\t\t\t* [(1) iterate through each record in the data frame](#%281%29-iterate-through-each-record-in-the-data-frame)\n",
    "\t\t\t\t* [(2) construct a tuple that will contain all the data from each row](#%282%29-construct-a-tuple-that-will-contain-all-the-data-from-each-row)\n",
    "\t\t\t\t* [(3) construct a SQL string containing the SQL insert statement](#%283%29-construct-a-SQL-string-containing-the-SQL-insert-statement)\n",
    "\t\t\t\t* [(4) execute the SQL string  statement together with the data](#%284%29-execute-the-SQL-string--statement-together-with-the-data)\n",
    "\t\t* [Connecting DataFrames with SQLite](#Connecting-DataFrames-with-SQLite)\n"
   ]
  },
  {
   "cell_type": "markdown",
   "metadata": {},
   "source": [
    "---"
   ]
  },
  {
   "cell_type": "markdown",
   "metadata": {},
   "source": [
    "### Learning Outcomes"
   ]
  },
  {
   "cell_type": "markdown",
   "metadata": {},
   "source": [
    "At the end of this lecture, you should be able to:\n",
    "\n",
    "* connect to SQLite using Python scripts  \n",
    "* create a database and select it using Python \n",
    "* create tables in a selected database\n",
    "* construct insert statements with data from a dataframe\n",
    "* execute inserts into tables\n",
    "* construct and execute select statements using Python scripts"
   ]
  },
  {
   "cell_type": "markdown",
   "metadata": {},
   "source": [
    "In cases when our data is heavily relational, it might prove more advantageous to store and work with the data using a relational database format.\n",
    "\n",
    "SQLite is a software library that implements a self-contained, serverless, zero-configuration, transactional SQL database engine. SQLite does not operate like MySQL, Oracle or MS Server since it does not require a separate process to act as the RDBMS.\n",
    "\n",
    "SQLite is simply a set of libraries that are callable. SQLite is the most widely deployed database engine in the world."
   ]
  },
  {
   "cell_type": "code",
   "execution_count": null,
   "metadata": {},
   "outputs": [],
   "source": [
    "import pandas as pd\n",
    "import sqlite3\n",
    "import datetime as dt\n",
    "import numpy as np"
   ]
  },
  {
   "cell_type": "markdown",
   "metadata": {
    "collapsed": true
   },
   "source": [
    "### Connecting SQLite to the Database"
   ]
  },
  {
   "cell_type": "markdown",
   "metadata": {},
   "source": [
    "We use the function sqlite3.connect to connect to the database. We can use the argument \":memory:\" to create a temporary DB in the RAM or pass the name of a file to open or create it."
   ]
  },
  {
   "cell_type": "code",
   "execution_count": null,
   "metadata": {},
   "outputs": [],
   "source": [
    "# Create a database in RAM\n",
    "connection = sqlite3.connect(':memory:')"
   ]
  },
  {
   "cell_type": "code",
   "execution_count": null,
   "metadata": {},
   "outputs": [],
   "source": [
    "# Creates or opens a file called mySQLiteDB.sl3 with a SQLite3 DB\n",
    "connection = sqlite3.connect('../datasets/mySQLiteDB.sl3')"
   ]
  },
  {
   "cell_type": "markdown",
   "metadata": {},
   "source": [
    "A cursor object gives us a 'handle' to the specified database and allows us to execute commands and traverse the records from the result set.  "
   ]
  },
  {
   "cell_type": "code",
   "execution_count": null,
   "metadata": {},
   "outputs": [],
   "source": [
    "cursor = connection.cursor()\n"
   ]
  },
  {
   "cell_type": "markdown",
   "metadata": {},
   "source": [
    "With the cursor, we can now execute commands to create SQL tables."
   ]
  },
  {
   "cell_type": "markdown",
   "metadata": {},
   "source": [
    "We will use the population example from the previous lectures to demonstrate how a table based on this example can be created and its data can be inserted. "
   ]
  },
  {
   "cell_type": "code",
   "execution_count": null,
   "metadata": {},
   "outputs": [],
   "source": [
    "data = pd.DataFrame({'population':[3778000, 19138000, 20000, 447000, 4433000, 22680000, 10900, 549598],\n",
    "                     'year':[2000, 2000, 2000, 2000, 2014, 2014, 2014, 2014],\n",
    "                     'nation':['New Zealand', 'Australia', 'Cook Islands', 'Solomon Islands', \n",
    "                                'New Zealand', 'Australia', 'Cook Islands', 'Solomon Islands']})\n",
    "data"
   ]
  },
  {
   "cell_type": "markdown",
   "metadata": {},
   "source": [
    "We can now create a DB table to store this data.\n",
    "\n"
   ]
  },
  {
   "cell_type": "code",
   "execution_count": null,
   "metadata": {},
   "outputs": [],
   "source": [
    "national_populations = \"\"\"\n",
    "    CREATE TABLE national_populations (\n",
    "      entry INTEGER PRIMARY KEY ,\n",
    "      nation VARCHAR(20) NOT NULL,\n",
    "      population INTEGER(10) NOT NULL,\n",
    "      year date NOT NULL\n",
    "    ) \n",
    "    \"\"\"\n",
    "\n",
    "national_populations"
   ]
  },
  {
   "cell_type": "code",
   "execution_count": null,
   "metadata": {},
   "outputs": [],
   "source": [
    "cursor.execute(\"DROP TABLE IF EXISTS national_populations\")\n",
    "cursor.execute(national_populations)"
   ]
  },
  {
   "cell_type": "markdown",
   "metadata": {},
   "source": [
    "And if we performed any operation on the database other than sending queries, we need to commit those changes via the .commit() method before we close the connection"
   ]
  },
  {
   "cell_type": "code",
   "execution_count": null,
   "metadata": {},
   "outputs": [],
   "source": [
    "connection.commit()"
   ]
  },
  {
   "cell_type": "markdown",
   "metadata": {},
   "source": [
    "We can now begin inserting data from a data frame into the table."
   ]
  },
  {
   "cell_type": "code",
   "execution_count": null,
   "metadata": {},
   "outputs": [],
   "source": [
    "data"
   ]
  },
  {
   "cell_type": "markdown",
   "metadata": {},
   "source": [
    "Of course, we could perform the row insertions manually one-by-one by writing out the SQL statement as a string with all the values imbedded."
   ]
  },
  {
   "cell_type": "code",
   "execution_count": null,
   "metadata": {},
   "outputs": [],
   "source": [
    "sql_statement = \"\"\"\n",
    "            INSERT INTO national_populations \n",
    "            (nation, population, year) \n",
    "            VALUES ('New Zealand', 3778000, '2000-01-01')\n",
    "            \"\"\""
   ]
  },
  {
   "cell_type": "markdown",
   "metadata": {},
   "source": [
    "We then execute the SQL statement below by passing it to the *execute()* method as an argument, followed by a call to commit."
   ]
  },
  {
   "cell_type": "code",
   "execution_count": null,
   "metadata": {},
   "outputs": [],
   "source": [
    "cursor.execute(sql_statement)\n",
    "connection.commit()"
   ]
  },
  {
   "cell_type": "markdown",
   "metadata": {},
   "source": [
    "If you are using Firefox, you can install a plugin which will enable you to view graphically your database tables:\n",
    "\n",
    "https://addons.mozilla.org/en-US/firefox/addon/sqlite-manager-webext/\n",
    "\n",
    "https://add0n.com/sqlite-manager.html?version=0.2.2&type=install"
   ]
  },
  {
   "cell_type": "markdown",
   "metadata": {},
   "source": [
    "**Exercise:** Write code to insert the second row of the above data frame into the database"
   ]
  },
  {
   "cell_type": "code",
   "execution_count": null,
   "metadata": {},
   "outputs": [],
   "source": []
  },
  {
   "cell_type": "markdown",
   "metadata": {},
   "source": [
    "**Exercise:** Turn to the person next to you and discuss the potential issues with the above approach to inserting data into a database if you are faced with millions of records."
   ]
  },
  {
   "cell_type": "markdown",
   "metadata": {},
   "source": [
    " "
   ]
  },
  {
   "cell_type": "markdown",
   "metadata": {},
   "source": [
    "  "
   ]
  },
  {
   "cell_type": "markdown",
   "metadata": {},
   "source": [
    "So clearly this approach to inserting data does not scale to bigger and real-world problems.\n",
    "\n",
    "What is needed is a more automated approach.\n",
    "\n",
    "What we are after is a construct that will allow us to signify which parts of the INSERT statement string alre placeholders for values with which it can be substituted.\n",
    "\n",
    "Below is an example of how we can create placeholders that will be repolaced with values from a data frame. The placeholders are represented by the *?*."
   ]
  },
  {
   "cell_type": "code",
   "execution_count": null,
   "metadata": {},
   "outputs": [],
   "source": [
    "add_national_entry = \"\"\"\n",
    "            INSERT INTO national_populations \n",
    "            (nation, population, year) \n",
    "            VALUES (?, ?, ?)\n",
    "                     \"\"\""
   ]
  },
  {
   "cell_type": "markdown",
   "metadata": {},
   "source": [
    "We next need to create a tuple having the 3 values in order that they will be substituted as *?*. "
   ]
  },
  {
   "cell_type": "code",
   "execution_count": null,
   "metadata": {},
   "outputs": [],
   "source": [
    "substitution_values = ('Cook Islands', 20000,  dt.date(2010, 1, 1))\n",
    "substitution_values"
   ]
  },
  {
   "cell_type": "markdown",
   "metadata": {},
   "source": [
    "We then cal the execute statement on the cursor with the above arguments:"
   ]
  },
  {
   "cell_type": "code",
   "execution_count": null,
   "metadata": {},
   "outputs": [],
   "source": [
    "cursor.execute(add_national_entry, substitution_values)\n",
    "connection.commit()"
   ]
  },
  {
   "cell_type": "markdown",
   "metadata": {},
   "source": [
    "**Exercise**: Write code that inserts into the table above values 'Germany', '84000000', 2014 following the example above."
   ]
  },
  {
   "cell_type": "code",
   "execution_count": null,
   "metadata": {},
   "outputs": [],
   "source": []
  },
  {
   "cell_type": "markdown",
   "metadata": {},
   "source": [
    "We now have the tools and the mechanism to automate this entire process. For this we will need to use iteration.\n",
    "\n",
    "Below are the steps we must follow:"
   ]
  },
  {
   "cell_type": "markdown",
   "metadata": {},
   "source": [
    "##### (1) iterate through each record in the data frame"
   ]
  },
  {
   "cell_type": "code",
   "execution_count": null,
   "metadata": {},
   "outputs": [],
   "source": [
    "data.iterrows()"
   ]
  },
  {
   "cell_type": "code",
   "execution_count": null,
   "metadata": {},
   "outputs": [],
   "source": [
    "for index, row in data.iterrows():\n",
    "    print(\"iteration: \", index)\n",
    "    print(row['nation'], row['population'], row['year'])"
   ]
  },
  {
   "cell_type": "markdown",
   "metadata": {},
   "source": [
    "##### (2) construct a tuple that will contain all the data from each row"
   ]
  },
  {
   "cell_type": "code",
   "execution_count": null,
   "metadata": {},
   "outputs": [],
   "source": [
    "for index, row in data.iterrows():\n",
    "    national_entry_data = (row['nation'], row['population'], dt.date(row['year'], 1, 1))\n",
    "    print(national_entry_data)"
   ]
  },
  {
   "cell_type": "markdown",
   "metadata": {},
   "source": [
    "##### (3) construct a SQL string containing the SQL insert statement"
   ]
  },
  {
   "cell_type": "code",
   "execution_count": null,
   "metadata": {},
   "outputs": [],
   "source": [
    "add_national_entry = \"\"\"\n",
    "                            INSERT INTO national_populations \n",
    "                            (nation, population, year) \n",
    "                            VALUES (?, ?, ?)\n",
    "                     \"\"\"\n",
    "\n",
    "for index, row in data.iterrows():\n",
    "    print(add_national_entry)"
   ]
  },
  {
   "cell_type": "markdown",
   "metadata": {},
   "source": [
    "##### (4) execute the SQL string  statement together with the data"
   ]
  },
  {
   "cell_type": "code",
   "execution_count": null,
   "metadata": {},
   "outputs": [],
   "source": [
    "add_national_entry = \"\"\"\n",
    "                            INSERT INTO national_populations \n",
    "                            (nation, population, year) \n",
    "                            VALUES (?, ?, ?)\n",
    "                        \"\"\"\n",
    "\n",
    "for index, row in data.iterrows():\n",
    "    substitution_values = (row['nation'], row['population'], dt.date(row['year'], 1, 1))\n",
    "    cursor.execute(add_national_entry, substitution_values)\n",
    "    \n",
    "#!!!!!! VERY IMPORTANT  !!!!!\n",
    "#nothing will happen without the line below\n",
    "connection.commit()"
   ]
  },
  {
   "cell_type": "markdown",
   "metadata": {},
   "source": [
    "We also could have a done a multiple insert:"
   ]
  },
  {
   "cell_type": "code",
   "execution_count": null,
   "metadata": {
    "code_folding": []
   },
   "outputs": [],
   "source": [
    "cursor.executemany(\n",
    "      \"\"\"INSERT INTO national_populations (nation, population, year) \n",
    "      VALUES (?, ?, ?)\"\"\",\n",
    "      [\n",
    "      ('China', 1382323332,  dt.date(2016, 1, 1)),\n",
    "      ('USA', 324118787,  dt.date(2016, 1, 1)),\n",
    "      ('Russia', 143439832,  dt.date(2016, 1, 1))\n",
    "      ] )\n",
    "\n",
    "connection.commit()\n"
   ]
  },
  {
   "cell_type": "markdown",
   "metadata": {},
   "source": [
    "We can now query that table into which we have just inserted data."
   ]
  },
  {
   "cell_type": "code",
   "execution_count": null,
   "metadata": {
    "code_folding": []
   },
   "outputs": [],
   "source": [
    "query = (\"SELECT * FROM national_populations \")\n",
    "cursor.execute(query)"
   ]
  },
  {
   "cell_type": "code",
   "execution_count": null,
   "metadata": {
    "code_folding": []
   },
   "outputs": [],
   "source": [
    "for (entry, nation, population, year) in cursor:\n",
    "    print(nation, population, year)"
   ]
  },
  {
   "cell_type": "markdown",
   "metadata": {},
   "source": [
    "**Exercise**: Write code that queries the table above by selecting countries which have populations above 3 million. Return nation name and population only."
   ]
  },
  {
   "cell_type": "code",
   "execution_count": null,
   "metadata": {
    "code_folding": []
   },
   "outputs": [],
   "source": []
  },
  {
   "cell_type": "markdown",
   "metadata": {},
   "source": [
    "We can get some metadata info about our national_populations table using the PRAGMA command. The PRAGMA table_info(tableName) command returns one row for each column in the national_populations table. Columns in the result set include the column order number, column name, data type, whether or not the column can be NULL, and the default value for the column. "
   ]
  },
  {
   "cell_type": "code",
   "execution_count": null,
   "metadata": {},
   "outputs": [],
   "source": [
    "info = cursor.execute('PRAGMA table_info(national_populations)')\n",
    "for c in info:\n",
    "        print(c[0], c[1], c[2], c[3], c[4], c[5])"
   ]
  },
  {
   "cell_type": "markdown",
   "metadata": {},
   "source": [
    "We can create an index on SQLite databases:"
   ]
  },
  {
   "cell_type": "code",
   "execution_count": null,
   "metadata": {},
   "outputs": [],
   "source": [
    "sql = (\"CREATE INDEX ind_year ON national_populations (year);\")\n",
    "cursor.execute(sql)"
   ]
  },
  {
   "cell_type": "markdown",
   "metadata": {},
   "source": [
    "Once finished using a database, release the memory by closing both the cursor and the connection."
   ]
  },
  {
   "cell_type": "code",
   "execution_count": null,
   "metadata": {},
   "outputs": [],
   "source": [
    "cursor.close()\n",
    "connection.close()"
   ]
  },
  {
   "cell_type": "code",
   "execution_count": null,
   "metadata": {},
   "outputs": [],
   "source": []
  },
  {
   "cell_type": "markdown",
   "metadata": {},
   "source": [
    "**Exercise**: Create a database and a table schema to store the data in from the adult_mortality_rate_by_cause.csv, adult_mortality_rates.csv, child_mortality_rates.csv, total_health_expenditure_percent_per_capita_of_gdp_by_country_per_year.csv datasets cleaned from the previous tutorials. \n",
    "\n",
    "Write a scripts to to insert the data from a data frame into the database."
   ]
  },
  {
   "cell_type": "markdown",
   "metadata": {},
   "source": [
    "\n",
    "This is <em>really</em> neat!"
   ]
  },
  {
   "cell_type": "code",
   "execution_count": null,
   "metadata": {
    "code_folding": []
   },
   "outputs": [],
   "source": [
    "%%latex\n",
    "Some important equations:\n",
    "$$E = mc^2$$\n",
    "$$e^{i \\pi} = -1$$"
   ]
  },
  {
   "cell_type": "markdown",
   "metadata": {
    "collapsed": true
   },
   "source": [
    "### Connecting DataFrames with SQLite"
   ]
  },
  {
   "cell_type": "markdown",
   "metadata": {},
   "source": [
    "We have the capability to read a SQL query into a DataFrame through *read_sql_query* which returns a DataFrame corresponding to the result set of the query string. Optionally provide an index_col parameter to use one of the columns as the index, otherwise default integer index will be used."
   ]
  },
  {
   "cell_type": "code",
   "execution_count": null,
   "metadata": {
    "code_folding": []
   },
   "outputs": [],
   "source": [
    "connection = sqlite3.connect(\"../datasets/mySQLiteDB.sl3\")\n",
    "   "
   ]
  },
  {
   "cell_type": "code",
   "execution_count": null,
   "metadata": {},
   "outputs": [],
   "source": [
    "df_sql = pd.read_sql_query('SELECT * '\n",
    "                           'FROM national_populations '\n",
    "                           'WHERE population > 1000000 '\n",
    "                           'LIMIT 3', connection)\n",
    "df_sql"
   ]
  },
  {
   "cell_type": "code",
   "execution_count": null,
   "metadata": {},
   "outputs": [],
   "source": [
    "data"
   ]
  },
  {
   "cell_type": "code",
   "execution_count": null,
   "metadata": {},
   "outputs": [],
   "source": [
    "df_sql = pd.read_sql_query('SELECT nation, AVG(population) as `total_population` '\n",
    "                           'FROM national_populations '\n",
    "                           'GROUP BY nation '\n",
    "                           'ORDER BY -total_population '\n",
    "                           'LIMIT 6', connection)\n",
    "\n",
    "df_sql"
   ]
  },
  {
   "cell_type": "markdown",
   "metadata": {},
   "source": [
    "We can write a dataframe directly to a sqlite database table without specifying column types: "
   ]
  },
  {
   "cell_type": "code",
   "execution_count": null,
   "metadata": {},
   "outputs": [],
   "source": [
    "df_sql.to_sql('temp_results', connection, if_exists='append', index=False)"
   ]
  },
  {
   "cell_type": "code",
   "execution_count": null,
   "metadata": {},
   "outputs": [],
   "source": [
    "pd.read_sql_query('SELECT * FROM temp_results', connection)"
   ]
  },
  {
   "cell_type": "markdown",
   "metadata": {},
   "source": [
    "**Exercise:** Import the country_info.csv and convert it into a SQLite database using the above approach, then generate a SQL query that for each currency counts the number of countries that use it, and list the top 10 in a dataframe. "
   ]
  },
  {
   "cell_type": "code",
   "execution_count": null,
   "metadata": {},
   "outputs": [],
   "source": []
  },
  {
   "cell_type": "code",
   "execution_count": null,
   "metadata": {},
   "outputs": [],
   "source": []
  },
  {
   "cell_type": "code",
   "execution_count": null,
   "metadata": {},
   "outputs": [],
   "source": []
  },
  {
   "cell_type": "code",
   "execution_count": null,
   "metadata": {},
   "outputs": [],
   "source": []
  },
  {
   "cell_type": "code",
   "execution_count": null,
   "metadata": {},
   "outputs": [],
   "source": [
    "Anaconda3-2018.12 (Python 3.7)\n",
    "nbextensions\n",
    "\n",
    "activate base\n",
    "conda install -c conda-forge jupyter_contrib_nbextensions\n",
    "\n",
    "jupyter contrib nbextension install --user\n",
    "jupyter nbextension enable spellchecker/main\n",
    "jupyter nbextension enable codefolding/main\n",
    "conda install -c conda-forge jupyter_nbextensions_configurator\n",
    "jupyter nbextensions_configurator enable --user"
   ]
  },
  {
   "cell_type": "code",
   "execution_count": null,
   "metadata": {
    "code_folding": []
   },
   "outputs": [],
   "source": [
    "%%javascript\n",
    "require(['base/js/utils'],\n",
    "function(utils) {\n",
    "   utils.load_extensions('calico-spell-check', 'calico-document-tools', 'calico-cell-tools');\n",
    "});"
   ]
  },
  {
   "cell_type": "markdown",
   "metadata": {},
   "source": [
    "https://pypi.org/project/ipython-sql/"
   ]
  },
  {
   "cell_type": "code",
   "execution_count": null,
   "metadata": {},
   "outputs": [],
   "source": [
    "!pip install ipython-sql"
   ]
  },
  {
   "cell_type": "code",
   "execution_count": null,
   "metadata": {},
   "outputs": [],
   "source": [
    "%load_ext sql"
   ]
  },
  {
   "cell_type": "code",
   "execution_count": null,
   "metadata": {},
   "outputs": [],
   "source": [
    "%%sql sqlite://\n",
    "CREATE TABLE writer (first_name, last_name, year_of_death);\n",
    "INSERT INTO writer VALUES ('William', 'Shakespeare', 1616);\n",
    "INSERT INTO writer VALUES ('Bertold', 'Brecht', 1956);"
   ]
  },
  {
   "cell_type": "code",
   "execution_count": null,
   "metadata": {},
   "outputs": [],
   "source": [
    "%sql select * from writer"
   ]
  },
  {
   "cell_type": "code",
   "execution_count": null,
   "metadata": {},
   "outputs": [],
   "source": []
  },
  {
   "cell_type": "markdown",
   "metadata": {},
   "source": [
    "https://github.com/ipython/ipython/wiki/Extensions-Index\n",
    "\n",
    "\n",
    "https://jupyter-contrib-nbextensions.readthedocs.io/en/latest/\n",
    "\n",
    "Jupyter\n",
    "https://www.dataquest.io/blog/advanced-jupyter-notebooks-tutorial/\n"
   ]
  }
 ],
 "metadata": {
  "kernelspec": {
   "display_name": "Python 3",
   "language": "python",
   "name": "python3"
  },
  "language_info": {
   "codemirror_mode": {
    "name": "ipython",
    "version": 3
   },
   "file_extension": ".py",
   "mimetype": "text/x-python",
   "name": "python",
   "nbconvert_exporter": "python",
   "pygments_lexer": "ipython3",
   "version": "3.7.1"
  }
 },
 "nbformat": 4,
 "nbformat_minor": 1
}
