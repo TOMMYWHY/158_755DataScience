{
 "cells": [
  {
   "cell_type": "markdown",
   "metadata": {},
   "source": [
    "# Modelling"
   ]
  },
  {
   "cell_type": "code",
   "execution_count": 3,
   "metadata": {},
   "outputs": [],
   "source": [
    "import matplotlib\n",
    "from matplotlib import pyplot as plt\n",
    "from matplotlib.pyplot import GridSpec\n",
    "import numpy as np\n",
    "import pandas as pd\n",
    "import os, sys\n",
    "import seaborn as sns\n",
    "sns.set(style=\"ticks\")\n",
    "from pylab import rcParams\n",
    "rcParams['figure.figsize'] = 25, 20\n",
    "rcParams['font.size'] = 20\n",
    "rcParams['axes.facecolor'] = 'white'\n",
    "matplotlib.style.use('ggplot')\n",
    "import statsmodels.formula.api as smf\n",
    "import statsmodels.api as sm\n",
    "import missingno as msno\n",
    "import sklearn\n",
    "%matplotlib inline"
   ]
  },
  {
   "cell_type": "markdown",
   "metadata": {},
   "source": [
    "## fmanual_feature_Select analysis"
   ]
  },
  {
   "cell_type": "code",
   "execution_count": 13,
   "metadata": {},
   "outputs": [],
   "source": [
    "ffs_players_salary = pd.read_csv('fmanual_feature_Select_players_salary.csv.gz',index_col=0)"
   ]
  },
  {
   "cell_type": "code",
   "execution_count": 15,
   "metadata": {},
   "outputs": [
    {
     "data": {
      "text/html": [
       "<div>\n",
       "<style scoped>\n",
       "    .dataframe tbody tr th:only-of-type {\n",
       "        vertical-align: middle;\n",
       "    }\n",
       "\n",
       "    .dataframe tbody tr th {\n",
       "        vertical-align: top;\n",
       "    }\n",
       "\n",
       "    .dataframe thead th {\n",
       "        text-align: right;\n",
       "    }\n",
       "</style>\n",
       "<table border=\"1\" class=\"dataframe\">\n",
       "  <thead>\n",
       "    <tr style=\"text-align: right;\">\n",
       "      <th></th>\n",
       "      <th>Salary</th>\n",
       "      <th>MP</th>\n",
       "      <th>FG</th>\n",
       "      <th>FGA</th>\n",
       "      <th>P2A</th>\n",
       "      <th>P2</th>\n",
       "      <th>FT</th>\n",
       "      <th>FTA</th>\n",
       "      <th>DRB</th>\n",
       "      <th>AST</th>\n",
       "      <th>TOV</th>\n",
       "      <th>PTS</th>\n",
       "    </tr>\n",
       "  </thead>\n",
       "  <tbody>\n",
       "    <tr>\n",
       "      <td>0</td>\n",
       "      <td>19863636.0</td>\n",
       "      <td>33.0</td>\n",
       "      <td>5.4</td>\n",
       "      <td>12.5</td>\n",
       "      <td>8.6</td>\n",
       "      <td>4.2</td>\n",
       "      <td>2.4</td>\n",
       "      <td>3.5</td>\n",
       "      <td>5.8</td>\n",
       "      <td>3.7</td>\n",
       "      <td>1.6</td>\n",
       "      <td>14.4</td>\n",
       "    </tr>\n",
       "    <tr>\n",
       "      <td>1</td>\n",
       "      <td>2329200.0</td>\n",
       "      <td>23.6</td>\n",
       "      <td>3.5</td>\n",
       "      <td>8.6</td>\n",
       "      <td>5.1</td>\n",
       "      <td>2.1</td>\n",
       "      <td>1.1</td>\n",
       "      <td>1.2</td>\n",
       "      <td>1.9</td>\n",
       "      <td>3.3</td>\n",
       "      <td>1.3</td>\n",
       "      <td>9.4</td>\n",
       "    </tr>\n",
       "    <tr>\n",
       "      <td>3</td>\n",
       "      <td>1618520.0</td>\n",
       "      <td>15.8</td>\n",
       "      <td>2.1</td>\n",
       "      <td>4.6</td>\n",
       "      <td>2.4</td>\n",
       "      <td>1.3</td>\n",
       "      <td>1.0</td>\n",
       "      <td>1.3</td>\n",
       "      <td>1.6</td>\n",
       "      <td>0.7</td>\n",
       "      <td>0.8</td>\n",
       "      <td>6.0</td>\n",
       "    </tr>\n",
       "    <tr>\n",
       "      <td>5</td>\n",
       "      <td>1000000.0</td>\n",
       "      <td>10.9</td>\n",
       "      <td>1.1</td>\n",
       "      <td>2.8</td>\n",
       "      <td>1.0</td>\n",
       "      <td>0.6</td>\n",
       "      <td>0.3</td>\n",
       "      <td>0.5</td>\n",
       "      <td>1.0</td>\n",
       "      <td>0.5</td>\n",
       "      <td>0.3</td>\n",
       "      <td>3.1</td>\n",
       "    </tr>\n",
       "    <tr>\n",
       "      <td>6</td>\n",
       "      <td>28000000.0</td>\n",
       "      <td>30.8</td>\n",
       "      <td>4.8</td>\n",
       "      <td>10.9</td>\n",
       "      <td>6.5</td>\n",
       "      <td>3.3</td>\n",
       "      <td>0.9</td>\n",
       "      <td>1.2</td>\n",
       "      <td>5.3</td>\n",
       "      <td>4.1</td>\n",
       "      <td>1.1</td>\n",
       "      <td>12.0</td>\n",
       "    </tr>\n",
       "  </tbody>\n",
       "</table>\n",
       "</div>"
      ],
      "text/plain": [
       "       Salary    MP   FG   FGA  P2A   P2   FT  FTA  DRB  AST  TOV   PTS\n",
       "0  19863636.0  33.0  5.4  12.5  8.6  4.2  2.4  3.5  5.8  3.7  1.6  14.4\n",
       "1   2329200.0  23.6  3.5   8.6  5.1  2.1  1.1  1.2  1.9  3.3  1.3   9.4\n",
       "3   1618520.0  15.8  2.1   4.6  2.4  1.3  1.0  1.3  1.6  0.7  0.8   6.0\n",
       "5   1000000.0  10.9  1.1   2.8  1.0  0.6  0.3  0.5  1.0  0.5  0.3   3.1\n",
       "6  28000000.0  30.8  4.8  10.9  6.5  3.3  0.9  1.2  5.3  4.1  1.1  12.0"
      ]
     },
     "execution_count": 15,
     "metadata": {},
     "output_type": "execute_result"
    }
   ],
   "source": [
    "ffs_players_salary.head()"
   ]
  },
  {
   "cell_type": "code",
   "execution_count": 35,
   "metadata": {},
   "outputs": [
    {
     "data": {
      "text/html": [
       "<div>\n",
       "<style scoped>\n",
       "    .dataframe tbody tr th:only-of-type {\n",
       "        vertical-align: middle;\n",
       "    }\n",
       "\n",
       "    .dataframe tbody tr th {\n",
       "        vertical-align: top;\n",
       "    }\n",
       "\n",
       "    .dataframe thead th {\n",
       "        text-align: right;\n",
       "    }\n",
       "</style>\n",
       "<table border=\"1\" class=\"dataframe\">\n",
       "  <thead>\n",
       "    <tr style=\"text-align: right;\">\n",
       "      <th></th>\n",
       "      <th>Salary</th>\n",
       "      <th>MP</th>\n",
       "      <th>FG</th>\n",
       "      <th>FGA</th>\n",
       "      <th>P2A</th>\n",
       "      <th>P2</th>\n",
       "      <th>FT</th>\n",
       "      <th>FTA</th>\n",
       "      <th>DRB</th>\n",
       "      <th>AST</th>\n",
       "      <th>TOV</th>\n",
       "      <th>PTS</th>\n",
       "      <th>salary_scaled</th>\n",
       "    </tr>\n",
       "  </thead>\n",
       "  <tbody>\n",
       "    <tr>\n",
       "      <td>0</td>\n",
       "      <td>19863636.0</td>\n",
       "      <td>33.0</td>\n",
       "      <td>5.4</td>\n",
       "      <td>12.5</td>\n",
       "      <td>8.6</td>\n",
       "      <td>4.2</td>\n",
       "      <td>2.4</td>\n",
       "      <td>3.5</td>\n",
       "      <td>5.8</td>\n",
       "      <td>3.7</td>\n",
       "      <td>1.6</td>\n",
       "      <td>14.4</td>\n",
       "      <td>0.489285</td>\n",
       "    </tr>\n",
       "    <tr>\n",
       "      <td>1</td>\n",
       "      <td>2329200.0</td>\n",
       "      <td>23.6</td>\n",
       "      <td>3.5</td>\n",
       "      <td>8.6</td>\n",
       "      <td>5.1</td>\n",
       "      <td>2.1</td>\n",
       "      <td>1.1</td>\n",
       "      <td>1.2</td>\n",
       "      <td>1.9</td>\n",
       "      <td>3.3</td>\n",
       "      <td>1.3</td>\n",
       "      <td>9.4</td>\n",
       "      <td>0.049622</td>\n",
       "    </tr>\n",
       "    <tr>\n",
       "      <td>3</td>\n",
       "      <td>1618520.0</td>\n",
       "      <td>15.8</td>\n",
       "      <td>2.1</td>\n",
       "      <td>4.6</td>\n",
       "      <td>2.4</td>\n",
       "      <td>1.3</td>\n",
       "      <td>1.0</td>\n",
       "      <td>1.3</td>\n",
       "      <td>1.6</td>\n",
       "      <td>0.7</td>\n",
       "      <td>0.8</td>\n",
       "      <td>6.0</td>\n",
       "      <td>0.031802</td>\n",
       "    </tr>\n",
       "    <tr>\n",
       "      <td>5</td>\n",
       "      <td>1000000.0</td>\n",
       "      <td>10.9</td>\n",
       "      <td>1.1</td>\n",
       "      <td>2.8</td>\n",
       "      <td>1.0</td>\n",
       "      <td>0.6</td>\n",
       "      <td>0.3</td>\n",
       "      <td>0.5</td>\n",
       "      <td>1.0</td>\n",
       "      <td>0.5</td>\n",
       "      <td>0.3</td>\n",
       "      <td>3.1</td>\n",
       "      <td>0.016294</td>\n",
       "    </tr>\n",
       "    <tr>\n",
       "      <td>6</td>\n",
       "      <td>28000000.0</td>\n",
       "      <td>30.8</td>\n",
       "      <td>4.8</td>\n",
       "      <td>10.9</td>\n",
       "      <td>6.5</td>\n",
       "      <td>3.3</td>\n",
       "      <td>0.9</td>\n",
       "      <td>1.2</td>\n",
       "      <td>5.3</td>\n",
       "      <td>4.1</td>\n",
       "      <td>1.1</td>\n",
       "      <td>12.0</td>\n",
       "      <td>0.693298</td>\n",
       "    </tr>\n",
       "  </tbody>\n",
       "</table>\n",
       "</div>"
      ],
      "text/plain": [
       "       Salary    MP   FG   FGA  P2A   P2   FT  FTA  DRB  AST  TOV   PTS  \\\n",
       "0  19863636.0  33.0  5.4  12.5  8.6  4.2  2.4  3.5  5.8  3.7  1.6  14.4   \n",
       "1   2329200.0  23.6  3.5   8.6  5.1  2.1  1.1  1.2  1.9  3.3  1.3   9.4   \n",
       "3   1618520.0  15.8  2.1   4.6  2.4  1.3  1.0  1.3  1.6  0.7  0.8   6.0   \n",
       "5   1000000.0  10.9  1.1   2.8  1.0  0.6  0.3  0.5  1.0  0.5  0.3   3.1   \n",
       "6  28000000.0  30.8  4.8  10.9  6.5  3.3  0.9  1.2  5.3  4.1  1.1  12.0   \n",
       "\n",
       "   salary_scaled  \n",
       "0       0.489285  \n",
       "1       0.049622  \n",
       "3       0.031802  \n",
       "5       0.016294  \n",
       "6       0.693298  "
      ]
     },
     "execution_count": 35,
     "metadata": {},
     "output_type": "execute_result"
    }
   ],
   "source": [
    "salary_col = ffs_players_salary['Salary']\n",
    "salary_scaled = (salary_col-salary_col.min())/(salary_col.max()-salary_col.min())\n",
    "ffs_players_salary['salary_scaled']= salary_scaled.copy()\n",
    "ffs_players_salary.head()"
   ]
  },
  {
   "cell_type": "markdown",
   "metadata": {},
   "source": [
    "### linear regression"
   ]
  },
  {
   "cell_type": "code",
   "execution_count": 75,
   "metadata": {},
   "outputs": [
    {
     "data": {
      "image/png": "[encoded data removed]",
      "text/plain": [
       "<Figure size 432x288 with 1 Axes>"
      ]
     },
     "metadata": {
      "needs_background": "light"
     },
     "output_type": "display_data"
    },
    {
     "name": "stdout",
     "output_type": "stream",
     "text": [
      "                            OLS Regression Results                            \n",
      "==============================================================================\n",
      "Dep. Variable:          salary_scaled   R-squared:                       0.397\n",
      "Model:                            OLS   Adj. R-squared:                  0.396\n",
      "Method:                 Least Squares   F-statistic:                     252.5\n",
      "Date:                Mon, 06 Apr 2020   Prob (F-statistic):           4.95e-44\n",
      "Time:                        11:12:51   Log-Likelihood:                 123.77\n",
      "No. Observations:                 385   AIC:                            -243.5\n",
      "Df Residuals:                     383   BIC:                            -235.6\n",
      "Df Model:                           1                                         \n",
      "Covariance Type:            nonrobust                                         \n",
      "==============================================================================\n",
      "                 coef    std err          t      P>|t|      [0.025      0.975]\n",
      "------------------------------------------------------------------------------\n",
      "Intercept     -0.0367      0.017     -2.193      0.029      -0.070      -0.004\n",
      "PTS            0.0223      0.001     15.890      0.000       0.020       0.025\n",
      "==============================================================================\n",
      "Omnibus:                       45.827   Durbin-Watson:                   1.930\n",
      "Prob(Omnibus):                  0.000   Jarque-Bera (JB):               67.466\n",
      "Skew:                           0.786   Prob(JB):                     2.24e-15\n",
      "Kurtosis:                       4.316   Cond. No.                         22.4\n",
      "==============================================================================\n",
      "\n",
      "Warnings:\n",
      "[1] Standard Errors assume that the covariance matrix of the errors is correctly specified.\n"
     ]
    }
   ],
   "source": [
    "linear_model = smf.ols(formula='salary_scaled ~ 1 + PTS', data=ffs_players_salary).fit()\n",
    "\n",
    "\n",
    "plt.xlabel('PTS')\n",
    "plt.ylabel('salary_scaled')\n",
    "x = pd.DataFrame({'PTS': np.linspace(ffs_players_salary.PTS.min(), ffs_players_salary.PTS.max(), len(ffs_players_salary.PTS)) })\n",
    "\n",
    "x_min = ffs_players_salary.PTS.min()\n",
    "x_max = ffs_players_salary.PTS.max()\n",
    "plt.xlim(x_min,x_max)\n",
    "plt.plot(ffs_players_salary.PTS,ffs_players_salary.salary_scaled, 'o')\n",
    "plt.plot(x, linear_model.predict(x), 'g-',)\n",
    "\n",
    "\n",
    "plt.show()\n",
    "print(linear_model.summary())"
   ]
  },
  {
   "cell_type": "code",
   "execution_count": 73,
   "metadata": {},
   "outputs": [
    {
     "data": {
      "image/png": "[encoded data removed]",
      "text/plain": [
       "<Figure size 432x288 with 1 Axes>"
      ]
     },
     "metadata": {
      "needs_background": "light"
     },
     "output_type": "display_data"
    },
    {
     "name": "stdout",
     "output_type": "stream",
     "text": [
      "                            OLS Regression Results                            \n",
      "==============================================================================\n",
      "Dep. Variable:          salary_scaled   R-squared:                       0.406\n",
      "Model:                            OLS   Adj. R-squared:                  0.402\n",
      "Method:                 Least Squares   F-statistic:                     86.93\n",
      "Date:                Mon, 06 Apr 2020   Prob (F-statistic):           7.20e-43\n",
      "Time:                        11:12:37   Log-Likelihood:                 126.68\n",
      "No. Observations:                 385   AIC:                            -245.4\n",
      "Df Residuals:                     381   BIC:                            -229.5\n",
      "Df Model:                           3                                         \n",
      "Covariance Type:            nonrobust                                         \n",
      "=================================================================================\n",
      "                    coef    std err          t      P>|t|      [0.025      0.975]\n",
      "---------------------------------------------------------------------------------\n",
      "Intercept         0.0316      0.041      0.770      0.442      -0.049       0.112\n",
      "PTS               0.0058      0.011      0.511      0.609      -0.016       0.028\n",
      "I(PTS ** 2.0)     0.0009      0.001      1.014      0.311      -0.001       0.003\n",
      "I(PTS ** 3.0) -1.082e-05   1.91e-05     -0.566      0.572   -4.84e-05    2.68e-05\n",
      "==============================================================================\n",
      "Omnibus:                       51.950   Durbin-Watson:                   1.933\n",
      "Prob(Omnibus):                  0.000   Jarque-Bera (JB):               86.999\n",
      "Skew:                           0.813   Prob(JB):                     1.28e-19\n",
      "Kurtosis:                       4.667   Cond. No.                     2.60e+04\n",
      "==============================================================================\n",
      "\n",
      "Warnings:\n",
      "[1] Standard Errors assume that the covariance matrix of the errors is correctly specified.\n",
      "[2] The condition number is large, 2.6e+04. This might indicate that there are\n",
      "strong multicollinearity or other numerical problems.\n"
     ]
    }
   ],
   "source": [
    "linear_model2 = smf.ols(formula='salary_scaled ~ 1 + PTS + I(PTS ** 2.0)+I(PTS ** 3.0)', data=ffs_players_salary).fit()\n",
    "\n",
    "\n",
    "\n",
    "plt.xlabel('PTS')\n",
    "plt.ylabel('salary_scaled')\n",
    "x = pd.DataFrame({'PTS': np.linspace(ffs_players_salary.PTS.min(), ffs_players_salary.PTS.max(), len(ffs_players_salary.PTS)) })\n",
    "\n",
    "x_min = ffs_players_salary.PTS.min()\n",
    "x_max = ffs_players_salary.PTS.max()\n",
    "plt.xlim(x_min,x_max)\n",
    "plt.plot(ffs_players_salary.PTS,ffs_players_salary.salary_scaled, 'o')\n",
    "plt.plot(x, linear_model2.predict(x), 'g-',)\n",
    "\n",
    "\n",
    "plt.show()\n",
    "print(linear_model2.summary())"
   ]
  },
  {
   "cell_type": "code",
   "execution_count": 137,
   "metadata": {},
   "outputs": [
    {
     "name": "stdout",
     "output_type": "stream",
     "text": [
      "                            OLS Regression Results                            \n",
      "==============================================================================\n",
      "Dep. Variable:          salary_scaled   R-squared:                       0.491\n",
      "Model:                            OLS   Adj. R-squared:                  0.476\n",
      "Method:                 Least Squares   F-statistic:                     32.76\n",
      "Date:                Mon, 06 Apr 2020   Prob (F-statistic):           2.45e-48\n",
      "Time:                        12:17:29   Log-Likelihood:                 156.44\n",
      "No. Observations:                 385   AIC:                            -288.9\n",
      "Df Residuals:                     373   BIC:                            -241.4\n",
      "Df Model:                          11                                         \n",
      "Covariance Type:            nonrobust                                         \n",
      "==============================================================================\n",
      "                 coef    std err          t      P>|t|      [0.025      0.975]\n",
      "------------------------------------------------------------------------------\n",
      "Intercept     -0.0529      0.027     -1.988      0.048      -0.105      -0.001\n",
      "MP            -0.0035      0.002     -1.469      0.143      -0.008       0.001\n",
      "FG            -0.0440      0.145     -0.304      0.761      -0.329       0.241\n",
      "FGA            0.0500      0.020      2.548      0.011       0.011       0.089\n",
      "FT             0.1245      0.062      2.013      0.045       0.003       0.246\n",
      "FTA           -0.0626      0.032     -1.940      0.053      -0.126       0.001\n",
      "DRB            0.0462      0.008      5.608      0.000       0.030       0.062\n",
      "AST            0.0440      0.009      4.734      0.000       0.026       0.062\n",
      "TOV           -0.0620      0.029     -2.157      0.032      -0.118      -0.005\n",
      "PTS           -0.0123      0.048     -0.257      0.797      -0.107       0.082\n",
      "P2A           -0.0584      0.025     -2.329      0.020      -0.108      -0.009\n",
      "P2             0.1002      0.069      1.442      0.150      -0.036       0.237\n",
      "==============================================================================\n",
      "Omnibus:                       28.662   Durbin-Watson:                   1.812\n",
      "Prob(Omnibus):                  0.000   Jarque-Bera (JB):               43.546\n",
      "Skew:                           0.521   Prob(JB):                     3.50e-10\n",
      "Kurtosis:                       4.277   Cond. No.                         593.\n",
      "==============================================================================\n",
      "\n",
      "Warnings:\n",
      "[1] Standard Errors assume that the covariance matrix of the errors is correctly specified.\n"
     ]
    }
   ],
   "source": [
    "linear_model3 = smf.ols(formula='salary_scaled ~ 1 + MP+ FG+ FGA+ FT+ FTA+ DRB+ AST+TOV+ PTS + P2A+P2', data=ffs_players_salary).fit()\n",
    "print(linear_model3.summary())"
   ]
  },
  {
   "cell_type": "markdown",
   "metadata": {},
   "source": [
    "# using sklearn"
   ]
  },
  {
   "cell_type": "code",
   "execution_count": 207,
   "metadata": {},
   "outputs": [],
   "source": [
    "from sklearn.preprocessing import StandardScaler,RobustScaler,MinMaxScaler\n",
    "\n",
    "from sklearn.metrics import accuracy_score\n",
    "from sklearn.preprocessing import PolynomialFeatures\n",
    "from sklearn.linear_model import LinearRegression\n",
    "from sklearn.model_selection import train_test_split\n",
    "\n",
    "from sklearn.model_selection import cross_val_predict\n",
    "from sklearn.metrics import mean_squared_error, r2_score\n",
    "from sklearn.decomposition import PCA\n",
    "from sklearn.pipeline import Pipeline\n",
    "from sklearn.metrics import classification_report\n"
   ]
  },
  {
   "cell_type": "code",
   "execution_count": null,
   "metadata": {},
   "outputs": [],
   "source": []
  },
  {
   "cell_type": "markdown",
   "metadata": {},
   "source": [
    "## Regression"
   ]
  },
  {
   "cell_type": "code",
   "execution_count": 209,
   "metadata": {},
   "outputs": [
    {
     "data": {
      "text/html": [
       "<div>\n",
       "<style scoped>\n",
       "    .dataframe tbody tr th:only-of-type {\n",
       "        vertical-align: middle;\n",
       "    }\n",
       "\n",
       "    .dataframe tbody tr th {\n",
       "        vertical-align: top;\n",
       "    }\n",
       "\n",
       "    .dataframe thead th {\n",
       "        text-align: right;\n",
       "    }\n",
       "</style>\n",
       "<table border=\"1\" class=\"dataframe\">\n",
       "  <thead>\n",
       "    <tr style=\"text-align: right;\">\n",
       "      <th></th>\n",
       "      <th>Salary</th>\n",
       "      <th>MP</th>\n",
       "      <th>FG</th>\n",
       "      <th>FGA</th>\n",
       "      <th>P2A</th>\n",
       "      <th>P2</th>\n",
       "      <th>FT</th>\n",
       "      <th>FTA</th>\n",
       "      <th>DRB</th>\n",
       "      <th>AST</th>\n",
       "      <th>TOV</th>\n",
       "      <th>PTS</th>\n",
       "    </tr>\n",
       "  </thead>\n",
       "  <tbody>\n",
       "    <tr>\n",
       "      <td>0</td>\n",
       "      <td>19863636.0</td>\n",
       "      <td>33.0</td>\n",
       "      <td>5.4</td>\n",
       "      <td>12.5</td>\n",
       "      <td>8.6</td>\n",
       "      <td>4.2</td>\n",
       "      <td>2.4</td>\n",
       "      <td>3.5</td>\n",
       "      <td>5.8</td>\n",
       "      <td>3.7</td>\n",
       "      <td>1.6</td>\n",
       "      <td>14.4</td>\n",
       "    </tr>\n",
       "    <tr>\n",
       "      <td>1</td>\n",
       "      <td>2329200.0</td>\n",
       "      <td>23.6</td>\n",
       "      <td>3.5</td>\n",
       "      <td>8.6</td>\n",
       "      <td>5.1</td>\n",
       "      <td>2.1</td>\n",
       "      <td>1.1</td>\n",
       "      <td>1.2</td>\n",
       "      <td>1.9</td>\n",
       "      <td>3.3</td>\n",
       "      <td>1.3</td>\n",
       "      <td>9.4</td>\n",
       "    </tr>\n",
       "    <tr>\n",
       "      <td>3</td>\n",
       "      <td>1618520.0</td>\n",
       "      <td>15.8</td>\n",
       "      <td>2.1</td>\n",
       "      <td>4.6</td>\n",
       "      <td>2.4</td>\n",
       "      <td>1.3</td>\n",
       "      <td>1.0</td>\n",
       "      <td>1.3</td>\n",
       "      <td>1.6</td>\n",
       "      <td>0.7</td>\n",
       "      <td>0.8</td>\n",
       "      <td>6.0</td>\n",
       "    </tr>\n",
       "    <tr>\n",
       "      <td>5</td>\n",
       "      <td>1000000.0</td>\n",
       "      <td>10.9</td>\n",
       "      <td>1.1</td>\n",
       "      <td>2.8</td>\n",
       "      <td>1.0</td>\n",
       "      <td>0.6</td>\n",
       "      <td>0.3</td>\n",
       "      <td>0.5</td>\n",
       "      <td>1.0</td>\n",
       "      <td>0.5</td>\n",
       "      <td>0.3</td>\n",
       "      <td>3.1</td>\n",
       "    </tr>\n",
       "    <tr>\n",
       "      <td>6</td>\n",
       "      <td>28000000.0</td>\n",
       "      <td>30.8</td>\n",
       "      <td>4.8</td>\n",
       "      <td>10.9</td>\n",
       "      <td>6.5</td>\n",
       "      <td>3.3</td>\n",
       "      <td>0.9</td>\n",
       "      <td>1.2</td>\n",
       "      <td>5.3</td>\n",
       "      <td>4.1</td>\n",
       "      <td>1.1</td>\n",
       "      <td>12.0</td>\n",
       "    </tr>\n",
       "  </tbody>\n",
       "</table>\n",
       "</div>"
      ],
      "text/plain": [
       "       Salary    MP   FG   FGA  P2A   P2   FT  FTA  DRB  AST  TOV   PTS\n",
       "0  19863636.0  33.0  5.4  12.5  8.6  4.2  2.4  3.5  5.8  3.7  1.6  14.4\n",
       "1   2329200.0  23.6  3.5   8.6  5.1  2.1  1.1  1.2  1.9  3.3  1.3   9.4\n",
       "3   1618520.0  15.8  2.1   4.6  2.4  1.3  1.0  1.3  1.6  0.7  0.8   6.0\n",
       "5   1000000.0  10.9  1.1   2.8  1.0  0.6  0.3  0.5  1.0  0.5  0.3   3.1\n",
       "6  28000000.0  30.8  4.8  10.9  6.5  3.3  0.9  1.2  5.3  4.1  1.1  12.0"
      ]
     },
     "execution_count": 209,
     "metadata": {},
     "output_type": "execute_result"
    }
   ],
   "source": [
    "ffs_players_salary = pd.read_csv('fmanual_feature_Select_players_salary.csv.gz',index_col=0)\n",
    "ffs_players_salary.head()"
   ]
  },
  {
   "cell_type": "code",
   "execution_count": 210,
   "metadata": {},
   "outputs": [],
   "source": [
    "features_name = [ 'MP', 'FG', 'FGA', 'P2A', 'P2', 'FT', 'FTA', 'DRB', 'AST',\n",
    "       'TOV', 'PTS']\n",
    "X = clear_players_salary[features_name]\n",
    "y = clear_players_salary['Salary']"
   ]
  },
  {
   "cell_type": "code",
   "execution_count": 247,
   "metadata": {},
   "outputs": [],
   "source": [
    "X_train, X_test, y_train, y_test = train_test_split(X,y,test_size=0.2, random_state=666)"
   ]
  },
  {
   "cell_type": "code",
   "execution_count": 248,
   "metadata": {},
   "outputs": [
    {
     "name": "stdout",
     "output_type": "stream",
     "text": [
      "(308, 11)\n",
      "(308,)\n",
      "(77, 11)\n",
      "(77,)\n"
     ]
    }
   ],
   "source": [
    "print(X_train.shape)\n",
    "print(y_train.shape)\n",
    "print(X_test.shape)\n",
    "print(y_test.shape)"
   ]
  },
  {
   "cell_type": "code",
   "execution_count": 249,
   "metadata": {},
   "outputs": [],
   "source": [
    "poly_reg = Pipeline([\n",
    "    ('poly',PolynomialFeatures(degree=1)),\n",
    "#     ('poly',PolynomialFeatures(degree=2)),\n",
    "#     ('poly',PolynomialFeatures(degree=5)),\n",
    "    ('std_scaler',RobustScaler()),\n",
    "#     ('std_scaler',StandardScaler()),\n",
    "    ('lin_reg',LinearRegression())\n",
    "])"
   ]
  },
  {
   "cell_type": "code",
   "execution_count": 250,
   "metadata": {},
   "outputs": [
    {
     "data": {
      "text/plain": [
       "0.4962529768964077"
      ]
     },
     "execution_count": 250,
     "metadata": {},
     "output_type": "execute_result"
    }
   ],
   "source": [
    "poly_reg.fit(X_train,y_train)\n",
    "poly_reg.score(X_train, y_train)"
   ]
  },
  {
   "cell_type": "code",
   "execution_count": 251,
   "metadata": {},
   "outputs": [
    {
     "name": "stdout",
     "output_type": "stream",
     "text": [
      "Mean squared error: 43958403240358.06\n",
      "Coefficient of determination: 0.50\n"
     ]
    }
   ],
   "source": [
    "y_train_predict = poly_reg.predict(X_train)\n",
    "print('Mean squared error: %.2f'% mean_squared_error(y_train, y_train_predict))\n",
    "print('Coefficient of determination: %.2f'% r2_score(y_train, y_train_predict))"
   ]
  },
  {
   "cell_type": "code",
   "execution_count": 252,
   "metadata": {},
   "outputs": [
    {
     "name": "stdout",
     "output_type": "stream",
     "text": [
      "Mean squared error: 33117430341132.22\n",
      "Coefficient of determination: 0.40\n"
     ]
    }
   ],
   "source": [
    "poly_reg.score(X_test, y_test)\n",
    "y_test_predict = poly_reg.predict(X_test)\n",
    "print('Mean squared error: %.2f'  % mean_squared_error(y_test, y_test_predict))\n",
    "print('Coefficient of determination: %.2f'% r2_score(y_test, y_test_predict))"
   ]
  },
  {
   "cell_type": "code",
   "execution_count": 253,
   "metadata": {},
   "outputs": [],
   "source": [
    "# predicted = cross_val_predict(poly_reg, X_train, y_train, cv=10)\n",
    "\n",
    "# fig, ax = plt.subplots()\n",
    "# ax.scatter(y_train, predicted, edgecolors=(0, 0, 0))\n",
    "# ax.plot([y_train.min(), y_train.max()], [y_train.min(), y_train.max()], 'k--', lw=4)\n",
    "# ax.set_xlabel('Measured')\n",
    "# ax.set_ylabel('Predicted')\n",
    "# plt.show()"
   ]
  },
  {
   "cell_type": "code",
   "execution_count": null,
   "metadata": {},
   "outputs": [],
   "source": []
  },
  {
   "cell_type": "markdown",
   "metadata": {},
   "source": [
    "## Classifier"
   ]
  },
  {
   "cell_type": "code",
   "execution_count": 285,
   "metadata": {},
   "outputs": [],
   "source": [
    "from sklearn.preprocessing import StandardScaler\n",
    "from sklearn.metrics import accuracy_score\n",
    "from sklearn.preprocessing import PolynomialFeatures\n",
    "from sklearn.linear_model import LinearRegression\n",
    "from sklearn.model_selection import train_test_split\n",
    "# from sklearn.neighbors import  KNeighborsRegressor\n",
    "from sklearn.neighbors import KNeighborsClassifier\n",
    "from sklearn.metrics import accuracy_score, confusion_matrix, precision_recall_fscore_support\n",
    "\n"
   ]
  },
  {
   "cell_type": "code",
   "execution_count": 286,
   "metadata": {},
   "outputs": [
    {
     "data": {
      "text/html": [
       "<div>\n",
       "<style scoped>\n",
       "    .dataframe tbody tr th:only-of-type {\n",
       "        vertical-align: middle;\n",
       "    }\n",
       "\n",
       "    .dataframe tbody tr th {\n",
       "        vertical-align: top;\n",
       "    }\n",
       "\n",
       "    .dataframe thead th {\n",
       "        text-align: right;\n",
       "    }\n",
       "</style>\n",
       "<table border=\"1\" class=\"dataframe\">\n",
       "  <thead>\n",
       "    <tr style=\"text-align: right;\">\n",
       "      <th></th>\n",
       "      <th>Salary</th>\n",
       "      <th>MP</th>\n",
       "      <th>FG</th>\n",
       "      <th>FGA</th>\n",
       "      <th>P2A</th>\n",
       "      <th>P2</th>\n",
       "      <th>FT</th>\n",
       "      <th>FTA</th>\n",
       "      <th>DRB</th>\n",
       "      <th>AST</th>\n",
       "      <th>TOV</th>\n",
       "      <th>PTS</th>\n",
       "    </tr>\n",
       "  </thead>\n",
       "  <tbody>\n",
       "    <tr>\n",
       "      <td>0</td>\n",
       "      <td>19863636.0</td>\n",
       "      <td>33.0</td>\n",
       "      <td>5.4</td>\n",
       "      <td>12.5</td>\n",
       "      <td>8.6</td>\n",
       "      <td>4.2</td>\n",
       "      <td>2.4</td>\n",
       "      <td>3.5</td>\n",
       "      <td>5.8</td>\n",
       "      <td>3.7</td>\n",
       "      <td>1.6</td>\n",
       "      <td>14.4</td>\n",
       "    </tr>\n",
       "    <tr>\n",
       "      <td>1</td>\n",
       "      <td>2329200.0</td>\n",
       "      <td>23.6</td>\n",
       "      <td>3.5</td>\n",
       "      <td>8.6</td>\n",
       "      <td>5.1</td>\n",
       "      <td>2.1</td>\n",
       "      <td>1.1</td>\n",
       "      <td>1.2</td>\n",
       "      <td>1.9</td>\n",
       "      <td>3.3</td>\n",
       "      <td>1.3</td>\n",
       "      <td>9.4</td>\n",
       "    </tr>\n",
       "    <tr>\n",
       "      <td>3</td>\n",
       "      <td>1618520.0</td>\n",
       "      <td>15.8</td>\n",
       "      <td>2.1</td>\n",
       "      <td>4.6</td>\n",
       "      <td>2.4</td>\n",
       "      <td>1.3</td>\n",
       "      <td>1.0</td>\n",
       "      <td>1.3</td>\n",
       "      <td>1.6</td>\n",
       "      <td>0.7</td>\n",
       "      <td>0.8</td>\n",
       "      <td>6.0</td>\n",
       "    </tr>\n",
       "    <tr>\n",
       "      <td>5</td>\n",
       "      <td>1000000.0</td>\n",
       "      <td>10.9</td>\n",
       "      <td>1.1</td>\n",
       "      <td>2.8</td>\n",
       "      <td>1.0</td>\n",
       "      <td>0.6</td>\n",
       "      <td>0.3</td>\n",
       "      <td>0.5</td>\n",
       "      <td>1.0</td>\n",
       "      <td>0.5</td>\n",
       "      <td>0.3</td>\n",
       "      <td>3.1</td>\n",
       "    </tr>\n",
       "    <tr>\n",
       "      <td>6</td>\n",
       "      <td>28000000.0</td>\n",
       "      <td>30.8</td>\n",
       "      <td>4.8</td>\n",
       "      <td>10.9</td>\n",
       "      <td>6.5</td>\n",
       "      <td>3.3</td>\n",
       "      <td>0.9</td>\n",
       "      <td>1.2</td>\n",
       "      <td>5.3</td>\n",
       "      <td>4.1</td>\n",
       "      <td>1.1</td>\n",
       "      <td>12.0</td>\n",
       "    </tr>\n",
       "  </tbody>\n",
       "</table>\n",
       "</div>"
      ],
      "text/plain": [
       "       Salary    MP   FG   FGA  P2A   P2   FT  FTA  DRB  AST  TOV   PTS\n",
       "0  19863636.0  33.0  5.4  12.5  8.6  4.2  2.4  3.5  5.8  3.7  1.6  14.4\n",
       "1   2329200.0  23.6  3.5   8.6  5.1  2.1  1.1  1.2  1.9  3.3  1.3   9.4\n",
       "3   1618520.0  15.8  2.1   4.6  2.4  1.3  1.0  1.3  1.6  0.7  0.8   6.0\n",
       "5   1000000.0  10.9  1.1   2.8  1.0  0.6  0.3  0.5  1.0  0.5  0.3   3.1\n",
       "6  28000000.0  30.8  4.8  10.9  6.5  3.3  0.9  1.2  5.3  4.1  1.1  12.0"
      ]
     },
     "execution_count": 286,
     "metadata": {},
     "output_type": "execute_result"
    }
   ],
   "source": [
    "ffs_players_salary = pd.read_csv('fmanual_feature_Select_players_salary.csv.gz',index_col=0)\n",
    "ffs_players_salary.head()"
   ]
  },
  {
   "cell_type": "code",
   "execution_count": 287,
   "metadata": {},
   "outputs": [
    {
     "data": {
      "text/html": [
       "<div>\n",
       "<style scoped>\n",
       "    .dataframe tbody tr th:only-of-type {\n",
       "        vertical-align: middle;\n",
       "    }\n",
       "\n",
       "    .dataframe tbody tr th {\n",
       "        vertical-align: top;\n",
       "    }\n",
       "\n",
       "    .dataframe thead th {\n",
       "        text-align: right;\n",
       "    }\n",
       "</style>\n",
       "<table border=\"1\" class=\"dataframe\">\n",
       "  <thead>\n",
       "    <tr style=\"text-align: right;\">\n",
       "      <th></th>\n",
       "      <th>Salary</th>\n",
       "      <th>MP</th>\n",
       "      <th>FG</th>\n",
       "      <th>FGA</th>\n",
       "      <th>P2A</th>\n",
       "      <th>P2</th>\n",
       "      <th>FT</th>\n",
       "      <th>FTA</th>\n",
       "      <th>DRB</th>\n",
       "      <th>AST</th>\n",
       "      <th>TOV</th>\n",
       "      <th>PTS</th>\n",
       "      <th>salary_scaled</th>\n",
       "    </tr>\n",
       "  </thead>\n",
       "  <tbody>\n",
       "    <tr>\n",
       "      <td>0</td>\n",
       "      <td>19863636.0</td>\n",
       "      <td>33.0</td>\n",
       "      <td>5.4</td>\n",
       "      <td>12.5</td>\n",
       "      <td>8.6</td>\n",
       "      <td>4.2</td>\n",
       "      <td>2.4</td>\n",
       "      <td>3.5</td>\n",
       "      <td>5.8</td>\n",
       "      <td>3.7</td>\n",
       "      <td>1.6</td>\n",
       "      <td>14.4</td>\n",
       "      <td>0.489285</td>\n",
       "    </tr>\n",
       "    <tr>\n",
       "      <td>1</td>\n",
       "      <td>2329200.0</td>\n",
       "      <td>23.6</td>\n",
       "      <td>3.5</td>\n",
       "      <td>8.6</td>\n",
       "      <td>5.1</td>\n",
       "      <td>2.1</td>\n",
       "      <td>1.1</td>\n",
       "      <td>1.2</td>\n",
       "      <td>1.9</td>\n",
       "      <td>3.3</td>\n",
       "      <td>1.3</td>\n",
       "      <td>9.4</td>\n",
       "      <td>0.049622</td>\n",
       "    </tr>\n",
       "    <tr>\n",
       "      <td>3</td>\n",
       "      <td>1618520.0</td>\n",
       "      <td>15.8</td>\n",
       "      <td>2.1</td>\n",
       "      <td>4.6</td>\n",
       "      <td>2.4</td>\n",
       "      <td>1.3</td>\n",
       "      <td>1.0</td>\n",
       "      <td>1.3</td>\n",
       "      <td>1.6</td>\n",
       "      <td>0.7</td>\n",
       "      <td>0.8</td>\n",
       "      <td>6.0</td>\n",
       "      <td>0.031802</td>\n",
       "    </tr>\n",
       "    <tr>\n",
       "      <td>5</td>\n",
       "      <td>1000000.0</td>\n",
       "      <td>10.9</td>\n",
       "      <td>1.1</td>\n",
       "      <td>2.8</td>\n",
       "      <td>1.0</td>\n",
       "      <td>0.6</td>\n",
       "      <td>0.3</td>\n",
       "      <td>0.5</td>\n",
       "      <td>1.0</td>\n",
       "      <td>0.5</td>\n",
       "      <td>0.3</td>\n",
       "      <td>3.1</td>\n",
       "      <td>0.016294</td>\n",
       "    </tr>\n",
       "    <tr>\n",
       "      <td>6</td>\n",
       "      <td>28000000.0</td>\n",
       "      <td>30.8</td>\n",
       "      <td>4.8</td>\n",
       "      <td>10.9</td>\n",
       "      <td>6.5</td>\n",
       "      <td>3.3</td>\n",
       "      <td>0.9</td>\n",
       "      <td>1.2</td>\n",
       "      <td>5.3</td>\n",
       "      <td>4.1</td>\n",
       "      <td>1.1</td>\n",
       "      <td>12.0</td>\n",
       "      <td>0.693298</td>\n",
       "    </tr>\n",
       "  </tbody>\n",
       "</table>\n",
       "</div>"
      ],
      "text/plain": [
       "       Salary    MP   FG   FGA  P2A   P2   FT  FTA  DRB  AST  TOV   PTS  \\\n",
       "0  19863636.0  33.0  5.4  12.5  8.6  4.2  2.4  3.5  5.8  3.7  1.6  14.4   \n",
       "1   2329200.0  23.6  3.5   8.6  5.1  2.1  1.1  1.2  1.9  3.3  1.3   9.4   \n",
       "3   1618520.0  15.8  2.1   4.6  2.4  1.3  1.0  1.3  1.6  0.7  0.8   6.0   \n",
       "5   1000000.0  10.9  1.1   2.8  1.0  0.6  0.3  0.5  1.0  0.5  0.3   3.1   \n",
       "6  28000000.0  30.8  4.8  10.9  6.5  3.3  0.9  1.2  5.3  4.1  1.1  12.0   \n",
       "\n",
       "   salary_scaled  \n",
       "0       0.489285  \n",
       "1       0.049622  \n",
       "3       0.031802  \n",
       "5       0.016294  \n",
       "6       0.693298  "
      ]
     },
     "execution_count": 287,
     "metadata": {},
     "output_type": "execute_result"
    }
   ],
   "source": [
    "salary_col = ffs_players_salary['Salary']\n",
    "salary_scaled = (salary_col-salary_col.min())/(salary_col.max()-salary_col.min())\n",
    "ffs_players_salary['salary_scaled']= salary_scaled.copy()\n",
    "ffs_players_salary.head()"
   ]
  },
  {
   "cell_type": "code",
   "execution_count": 288,
   "metadata": {},
   "outputs": [
    {
     "data": {
      "text/html": [
       "<div>\n",
       "<style scoped>\n",
       "    .dataframe tbody tr th:only-of-type {\n",
       "        vertical-align: middle;\n",
       "    }\n",
       "\n",
       "    .dataframe tbody tr th {\n",
       "        vertical-align: top;\n",
       "    }\n",
       "\n",
       "    .dataframe thead th {\n",
       "        text-align: right;\n",
       "    }\n",
       "</style>\n",
       "<table border=\"1\" class=\"dataframe\">\n",
       "  <thead>\n",
       "    <tr style=\"text-align: right;\">\n",
       "      <th></th>\n",
       "      <th>Salary</th>\n",
       "      <th>MP</th>\n",
       "      <th>FG</th>\n",
       "      <th>FGA</th>\n",
       "      <th>P2A</th>\n",
       "      <th>P2</th>\n",
       "      <th>FT</th>\n",
       "      <th>FTA</th>\n",
       "      <th>DRB</th>\n",
       "      <th>AST</th>\n",
       "      <th>TOV</th>\n",
       "      <th>PTS</th>\n",
       "      <th>salary_scaled</th>\n",
       "      <th>Nominal</th>\n",
       "    </tr>\n",
       "  </thead>\n",
       "  <tbody>\n",
       "    <tr>\n",
       "      <td>0</td>\n",
       "      <td>19863636.0</td>\n",
       "      <td>33.0</td>\n",
       "      <td>5.4</td>\n",
       "      <td>12.5</td>\n",
       "      <td>8.6</td>\n",
       "      <td>4.2</td>\n",
       "      <td>2.4</td>\n",
       "      <td>3.5</td>\n",
       "      <td>5.8</td>\n",
       "      <td>3.7</td>\n",
       "      <td>1.6</td>\n",
       "      <td>14.4</td>\n",
       "      <td>0.489285</td>\n",
       "      <td>3</td>\n",
       "    </tr>\n",
       "    <tr>\n",
       "      <td>1</td>\n",
       "      <td>2329200.0</td>\n",
       "      <td>23.6</td>\n",
       "      <td>3.5</td>\n",
       "      <td>8.6</td>\n",
       "      <td>5.1</td>\n",
       "      <td>2.1</td>\n",
       "      <td>1.1</td>\n",
       "      <td>1.2</td>\n",
       "      <td>1.9</td>\n",
       "      <td>3.3</td>\n",
       "      <td>1.3</td>\n",
       "      <td>9.4</td>\n",
       "      <td>0.049622</td>\n",
       "      <td>1</td>\n",
       "    </tr>\n",
       "    <tr>\n",
       "      <td>3</td>\n",
       "      <td>1618520.0</td>\n",
       "      <td>15.8</td>\n",
       "      <td>2.1</td>\n",
       "      <td>4.6</td>\n",
       "      <td>2.4</td>\n",
       "      <td>1.3</td>\n",
       "      <td>1.0</td>\n",
       "      <td>1.3</td>\n",
       "      <td>1.6</td>\n",
       "      <td>0.7</td>\n",
       "      <td>0.8</td>\n",
       "      <td>6.0</td>\n",
       "      <td>0.031802</td>\n",
       "      <td>1</td>\n",
       "    </tr>\n",
       "    <tr>\n",
       "      <td>5</td>\n",
       "      <td>1000000.0</td>\n",
       "      <td>10.9</td>\n",
       "      <td>1.1</td>\n",
       "      <td>2.8</td>\n",
       "      <td>1.0</td>\n",
       "      <td>0.6</td>\n",
       "      <td>0.3</td>\n",
       "      <td>0.5</td>\n",
       "      <td>1.0</td>\n",
       "      <td>0.5</td>\n",
       "      <td>0.3</td>\n",
       "      <td>3.1</td>\n",
       "      <td>0.016294</td>\n",
       "      <td>1</td>\n",
       "    </tr>\n",
       "    <tr>\n",
       "      <td>6</td>\n",
       "      <td>28000000.0</td>\n",
       "      <td>30.8</td>\n",
       "      <td>4.8</td>\n",
       "      <td>10.9</td>\n",
       "      <td>6.5</td>\n",
       "      <td>3.3</td>\n",
       "      <td>0.9</td>\n",
       "      <td>1.2</td>\n",
       "      <td>5.3</td>\n",
       "      <td>4.1</td>\n",
       "      <td>1.1</td>\n",
       "      <td>12.0</td>\n",
       "      <td>0.693298</td>\n",
       "      <td>3</td>\n",
       "    </tr>\n",
       "  </tbody>\n",
       "</table>\n",
       "</div>"
      ],
      "text/plain": [
       "       Salary    MP   FG   FGA  P2A   P2   FT  FTA  DRB  AST  TOV   PTS  \\\n",
       "0  19863636.0  33.0  5.4  12.5  8.6  4.2  2.4  3.5  5.8  3.7  1.6  14.4   \n",
       "1   2329200.0  23.6  3.5   8.6  5.1  2.1  1.1  1.2  1.9  3.3  1.3   9.4   \n",
       "3   1618520.0  15.8  2.1   4.6  2.4  1.3  1.0  1.3  1.6  0.7  0.8   6.0   \n",
       "5   1000000.0  10.9  1.1   2.8  1.0  0.6  0.3  0.5  1.0  0.5  0.3   3.1   \n",
       "6  28000000.0  30.8  4.8  10.9  6.5  3.3  0.9  1.2  5.3  4.1  1.1  12.0   \n",
       "\n",
       "   salary_scaled  Nominal  \n",
       "0       0.489285        3  \n",
       "1       0.049622        1  \n",
       "3       0.031802        1  \n",
       "5       0.016294        1  \n",
       "6       0.693298        3  "
      ]
     },
     "execution_count": 288,
     "metadata": {},
     "output_type": "execute_result"
    }
   ],
   "source": [
    "conditions = [\n",
    "        (ffs_players_salary['salary_scaled']  <= 0.2),\n",
    "        (ffs_players_salary['salary_scaled']  <= 0.4),\n",
    "        (ffs_players_salary['salary_scaled']  <= 0.6),\n",
    "        (ffs_players_salary['salary_scaled']  > 0.8)\n",
    "]\n",
    "choices = [1, 2,3,4]\n",
    "ffs_players_salary['Nominal'] = np.select(conditions, choices, default=3)\n",
    "ffs_players_salary.head()\n",
    "# edge players（边缘球员）\n",
    "# normal players（轮换球员）\n",
    "# first players（首发球员）\n",
    "# stars（明星球员）"
   ]
  },
  {
   "cell_type": "code",
   "execution_count": 289,
   "metadata": {
    "collapsed": true,
    "jupyter": {
     "outputs_hidden": true
    }
   },
   "outputs": [
    {
     "data": {
      "text/plain": [
       "[Text(0, 0.5, 'Number'), Text(0.5, 0, 'Level'), Text(0.5, 1.0, 'Salary_Level')]"
      ]
     },
     "execution_count": 289,
     "metadata": {},
     "output_type": "execute_result"
    },
    {
     "data": {
      "image/png": "[encoded data removed]",
      "text/plain": [
       "<Figure size 720x504 with 1 Axes>"
      ]
     },
     "metadata": {},
     "output_type": "display_data"
    }
   ],
   "source": [
    "#大部分的NBA球员薪资还是处于较低的水平，而其中间薪资的球员也是比较多，薪水较高的球员较少，这也符合正常规律\n",
    "bar=ffs_players_salary['Nominal'].value_counts()\n",
    "sns.set(font_scale=2)\n",
    "sns.set(style=\"white\", palette=\"muted\",color_codes=True)\n",
    "plt.figure(figsize=(10,7))\n",
    "# sns.barplot(y=data_std_c1['Nominal'], palette=\"deep\")\n",
    "ax = sns.barplot(x=bar.index,y=bar )\n",
    "ax.set(xlabel='Level',ylabel='Number',title=\"Salary_Level\")"
   ]
  },
  {
   "cell_type": "code",
   "execution_count": 290,
   "metadata": {},
   "outputs": [],
   "source": [
    "features_name = [ 'MP', 'FG', 'FGA', 'P2A', 'P2', 'FT', 'FTA', 'DRB', 'AST','TOV', 'PTS']\n",
    "\n",
    "X = ffs_players_salary[features_name]\n",
    "y = ffs_players_salary['Nominal']\n"
   ]
  },
  {
   "cell_type": "markdown",
   "metadata": {},
   "source": [
    "## KNN"
   ]
  },
  {
   "cell_type": "code",
   "execution_count": 291,
   "metadata": {},
   "outputs": [],
   "source": [
    "X_train, X_test, y_train, y_test = train_test_split(X,y,test_size=0.2, random_state=666)"
   ]
  },
  {
   "cell_type": "code",
   "execution_count": 292,
   "metadata": {},
   "outputs": [
    {
     "name": "stdout",
     "output_type": "stream",
     "text": [
      "(308, 11)\n",
      "(308,)\n",
      "(77, 11)\n",
      "(77,)\n"
     ]
    }
   ],
   "source": [
    "print(X_train.shape)\n",
    "print(y_train.shape)\n",
    "print(X_test.shape)\n",
    "print(y_test.shape)"
   ]
  },
  {
   "cell_type": "code",
   "execution_count": 314,
   "metadata": {},
   "outputs": [
    {
     "name": "stdout",
     "output_type": "stream",
     "text": [
      "best_score: 1.0\n",
      "best_k: 3\n",
      "best_metric: minkowski\n",
      "best_weights: distance\n"
     ]
    }
   ],
   "source": [
    "best_score = 0.0\n",
    "best_k = 0\n",
    "best_weights = ''\n",
    "best_metric =''\n",
    "\n",
    "weights = ['uniform','distance']\n",
    "metric = ['minkowski','euclidean','manhattan','chebyshev']\n",
    "for weight in weights:\n",
    "    \n",
    "    for metr in metric:\n",
    "\n",
    "        for k in range(3, 20):\n",
    "            knn = KNeighborsClassifier(algorithm='auto', leaf_size=30, metric= metr,\n",
    "                   metric_params=None, n_jobs=None, n_neighbors=k, p=1,\n",
    "                   weights= weight )\n",
    "\n",
    "            knn.fit(X_train,y_train)\n",
    "            y_train_predict = knn.predict(X_train)\n",
    "            score = accuracy_score(y_train,y_train_predict)\n",
    "            if score > best_score :\n",
    "                best_score = score\n",
    "                best_k = k\n",
    "                best_metric = metr\n",
    "                best_weights = weight\n",
    "\n",
    "print('best_score:',best_score)\n",
    "print('best_k:',best_k)\n",
    "print('best_metric:',best_metric)\n",
    "print('best_weights:',best_weights)"
   ]
  },
  {
   "cell_type": "code",
   "execution_count": 315,
   "metadata": {},
   "outputs": [
    {
     "data": {
      "text/plain": [
       "KNeighborsClassifier(algorithm='auto', leaf_size=30, metric='minkowski',\n",
       "                     metric_params=None, n_jobs=None, n_neighbors=3, p=1,\n",
       "                     weights='distance')"
      ]
     },
     "execution_count": 315,
     "metadata": {},
     "output_type": "execute_result"
    }
   ],
   "source": [
    "knn = KNeighborsClassifier(algorithm='auto', leaf_size=30, metric='minkowski',\n",
    "           metric_params=None, n_jobs=None, n_neighbors=3, p=1,\n",
    "           weights='distance',\n",
    "                          )\n",
    "knn.fit(X_train,y_train)"
   ]
  },
  {
   "cell_type": "code",
   "execution_count": 316,
   "metadata": {},
   "outputs": [
    {
     "name": "stdout",
     "output_type": "stream",
     "text": [
      "KNN Train Accuracy: 1.000\n"
     ]
    }
   ],
   "source": [
    "y_train_predict = knn.predict(X_train)\n",
    "print (\"KNN Train Accuracy: %.3f\" % accuracy_score(y_train,y_train_predict))"
   ]
  },
  {
   "cell_type": "code",
   "execution_count": 317,
   "metadata": {},
   "outputs": [
    {
     "name": "stdout",
     "output_type": "stream",
     "text": [
      "KNN Test Accuracy: 0.649\n"
     ]
    }
   ],
   "source": [
    "y_test_predict = knn.predict(X_test)\n",
    "print (\"KNN Test Accuracy: %.3f\" % accuracy_score(y_test,y_test_predict))"
   ]
  },
  {
   "cell_type": "code",
   "execution_count": 318,
   "metadata": {},
   "outputs": [
    {
     "data": {
      "image/png": "[encoded data removed]",
      "text/plain": [
       "<Figure size 396x288 with 2 Axes>"
      ]
     },
     "metadata": {},
     "output_type": "display_data"
    }
   ],
   "source": [
    "cm = confusion_matrix(y_test, y_test_predict) \n",
    "\n",
    "# # Transform to df for easier plotting\n",
    "cm_df = pd.DataFrame(cm,\n",
    "                     index = ['edge players','normal players','first player','stars'], \n",
    "                     columns = ['edge players','normal players','first player','stars'])\n",
    "\n",
    "plt.figure(figsize=(5.5,4))\n",
    "sns.heatmap(cm_df, annot=True)\n",
    "plt.title('Naive Bayes \\nAccuracy:{0:.3f}'.format(accuracy_score(y_test, y_test_predict)))\n",
    "plt.ylabel('True label')\n",
    "plt.xlabel('Predicted label')\n",
    "plt.show()"
   ]
  },
  {
   "cell_type": "code",
   "execution_count": 320,
   "metadata": {},
   "outputs": [
    {
     "ename": "NameError",
     "evalue": "name 'classification_report' is not defined",
     "output_type": "error",
     "traceback": [
      "\u001b[0;31m---------------------------------------------------------------------------\u001b[0m",
      "\u001b[0;31mNameError\u001b[0m                                 Traceback (most recent call last)",
      "\u001b[0;32m<ipython-input-320-3603be241812>\u001b[0m in \u001b[0;36m<module>\u001b[0;34m\u001b[0m\n\u001b[0;32m----> 1\u001b[0;31m \u001b[0mprint\u001b[0m \u001b[0;34m(\u001b[0m\u001b[0mclassification_report\u001b[0m\u001b[0;34m(\u001b[0m\u001b[0my_test\u001b[0m\u001b[0;34m,\u001b[0m\u001b[0my_test_predict\u001b[0m\u001b[0;34m)\u001b[0m\u001b[0;34m)\u001b[0m\u001b[0;34m\u001b[0m\u001b[0;34m\u001b[0m\u001b[0m\n\u001b[0m",
      "\u001b[0;31mNameError\u001b[0m: name 'classification_report' is not defined"
     ]
    }
   ],
   "source": [
    "print (classification_report(y_test,y_test_predict))"
   ]
  },
  {
   "cell_type": "code",
   "execution_count": null,
   "metadata": {},
   "outputs": [],
   "source": [
    "classification_report(y_values_actual,y_values_predicted)"
   ]
  },
  {
   "cell_type": "code",
   "execution_count": null,
   "metadata": {},
   "outputs": [],
   "source": []
  },
  {
   "cell_type": "code",
   "execution_count": null,
   "metadata": {},
   "outputs": [],
   "source": []
  },
  {
   "cell_type": "code",
   "execution_count": null,
   "metadata": {},
   "outputs": [],
   "source": []
  },
  {
   "cell_type": "code",
   "execution_count": null,
   "metadata": {},
   "outputs": [],
   "source": []
  },
  {
   "cell_type": "code",
   "execution_count": null,
   "metadata": {},
   "outputs": [],
   "source": []
  },
  {
   "cell_type": "code",
   "execution_count": null,
   "metadata": {},
   "outputs": [],
   "source": []
  },
  {
   "cell_type": "code",
   "execution_count": null,
   "metadata": {},
   "outputs": [],
   "source": []
  },
  {
   "cell_type": "markdown",
   "metadata": {},
   "source": [
    "*****\n"
   ]
  },
  {
   "cell_type": "code",
   "execution_count": 255,
   "metadata": {},
   "outputs": [],
   "source": [
    "clear_players_salary = pd.read_csv(\"clear_players_salary.csv.gz\",index_col=0)"
   ]
  },
  {
   "cell_type": "code",
   "execution_count": 256,
   "metadata": {},
   "outputs": [],
   "source": [
    "# clear_players_salary.astype"
   ]
  },
  {
   "cell_type": "code",
   "execution_count": 257,
   "metadata": {},
   "outputs": [],
   "source": [
    "features_columns =['Player', 'Salary', 'Age', 'G', 'GS', 'MP', 'FG',\n",
    "       'FGA', 'FG%', 'P3', '3PA', 'P3%', 'P2', 'P2A', 'P2%', 'eFG%', 'FT',\n",
    "       'FTA', 'FT%', 'ORB', 'DRB', 'TRB', 'AST', 'STL', 'BLK', 'TOV', 'PF',\n",
    "       'PTS']\n",
    "clear_players_salary = clear_players_salary[features_columns]\n",
    "# clear_players_salary.head()"
   ]
  },
  {
   "cell_type": "code",
   "execution_count": 258,
   "metadata": {},
   "outputs": [
    {
     "data": {
      "text/plain": [
       "Index(['Age', 'G', 'GS', 'MP', 'FG', 'FGA', 'FG%', 'P3', '3PA', 'P3%', 'P2',\n",
       "       'P2A', 'P2%', 'eFG%', 'FT', 'FTA', 'FT%', 'ORB', 'DRB', 'TRB', 'AST',\n",
       "       'STL', 'BLK', 'TOV', 'PF', 'PTS'],\n",
       "      dtype='object')"
      ]
     },
     "execution_count": 258,
     "metadata": {},
     "output_type": "execute_result"
    }
   ],
   "source": [
    "features_name = [ 'MP', 'FG', 'FGA', 'P2A', 'P2', 'FT', 'FTA', 'DRB', 'AST',\n",
    "       'TOV', 'PTS']\n",
    "# X = final_players_salary[features_name]\n",
    "X = clear_players_salary.iloc[:,2:]\n",
    "y = clear_players_salary['Salary']\n",
    "X.columns"
   ]
  },
  {
   "cell_type": "code",
   "execution_count": 178,
   "metadata": {},
   "outputs": [],
   "source": [
    "X_train, X_test, y_train, y_test = train_test_split(X,y,test_size=0.2, random_state=666)"
   ]
  },
  {
   "cell_type": "code",
   "execution_count": 179,
   "metadata": {},
   "outputs": [
    {
     "name": "stdout",
     "output_type": "stream",
     "text": [
      "(308, 26)\n",
      "(308,)\n",
      "(77, 26)\n",
      "(77,)\n"
     ]
    }
   ],
   "source": [
    "print(X_train.shape)\n",
    "print(y_train.shape)\n",
    "print(X_test.shape)\n",
    "print(y_test.shape)"
   ]
  },
  {
   "cell_type": "code",
   "execution_count": null,
   "metadata": {},
   "outputs": [],
   "source": []
  },
  {
   "cell_type": "code",
   "execution_count": 180,
   "metadata": {},
   "outputs": [
    {
     "name": "stdout",
     "output_type": "stream",
     "text": [
      "pca.components_ (5, 26)\n",
      "pca_var_ratio (5,)\n"
     ]
    },
    {
     "data": {
      "image/png": "[encoded data removed]",
      "text/plain": [
       "<Figure size 432x288 with 1 Axes>"
      ]
     },
     "metadata": {
      "needs_background": "light"
     },
     "output_type": "display_data"
    }
   ],
   "source": [
    "\n",
    "from sklearn.decomposition import PCA\n",
    "\n",
    "X= X_train\n",
    "y=y_train\n",
    "# pca=PCA( )\n",
    "pca=PCA(n_components=0.98)\n",
    "pca.fit(X,y)\n",
    "ratio=pca.explained_variance_ratio_\n",
    "print(\"pca.components_\",pca.components_.shape)\n",
    "print(\"pca_var_ratio\",pca.explained_variance_ratio_.shape)\n",
    "#绘制图形\n",
    "plt.plot([i for i in range(X.shape[1])],\n",
    "         [np.sum(ratio[:i+1]) for i in range(X.shape[1])])\n",
    "plt.xticks(np.arange(X.shape[1],step=5))\n",
    "plt.yticks(np.arange(0,1.01,0.05))\n",
    "plt.grid()\n",
    "plt.show()\n",
    "# ratio"
   ]
  },
  {
   "cell_type": "code",
   "execution_count": 181,
   "metadata": {},
   "outputs": [],
   "source": [
    "def pca(X):\n",
    "    target_dim = ratio.shape[0]\n",
    "    pca_target=PCA(n_components=target_dim)\n",
    "    reduced_X = pca_target.fit_transform(X)\n",
    "    print(reduced_X.shape )\n",
    "    return reduced_X"
   ]
  },
  {
   "cell_type": "code",
   "execution_count": 182,
   "metadata": {},
   "outputs": [
    {
     "name": "stdout",
     "output_type": "stream",
     "text": [
      "(308, 5)\n",
      "(77, 5)\n"
     ]
    }
   ],
   "source": [
    "reduced_X_train = pca(X_train)\n",
    "reduced_X_test = pca(X_test)"
   ]
  },
  {
   "cell_type": "code",
   "execution_count": 183,
   "metadata": {},
   "outputs": [],
   "source": [
    "# reduced_X_train"
   ]
  },
  {
   "cell_type": "markdown",
   "metadata": {},
   "source": [
    "# regression"
   ]
  },
  {
   "cell_type": "code",
   "execution_count": 184,
   "metadata": {},
   "outputs": [],
   "source": [
    "from sklearn.pipeline import Pipeline"
   ]
  },
  {
   "cell_type": "code",
   "execution_count": 185,
   "metadata": {},
   "outputs": [],
   "source": [
    "poly_reg = Pipeline([\n",
    "    ('poly',PolynomialFeatures(degree=1)),\n",
    "#     ('poly',PolynomialFeatures(degree=2)),\n",
    "#     ('std_scaler',StandardScaler()),\n",
    "    ('std_scaler',StandardScaler()),\n",
    "    ('lin_reg',LinearRegression())\n",
    "])"
   ]
  },
  {
   "cell_type": "code",
   "execution_count": 186,
   "metadata": {},
   "outputs": [
    {
     "data": {
      "text/plain": [
       "0.5472902105808154"
      ]
     },
     "execution_count": 186,
     "metadata": {},
     "output_type": "execute_result"
    }
   ],
   "source": [
    "poly_reg.fit(reduced_X_train,y_train)\n",
    "poly_reg.score(reduced_X_train, y_train)"
   ]
  },
  {
   "cell_type": "code",
   "execution_count": 187,
   "metadata": {},
   "outputs": [
    {
     "name": "stdout",
     "output_type": "stream",
     "text": [
      "Mean squared error: 39504748537350.09\n",
      "Coefficient of determination: 0.55\n"
     ]
    }
   ],
   "source": [
    "y_train_predict = poly_reg.predict(reduced_X_train)\n",
    "print('Mean squared error: %.2f'% mean_squared_error(y_train, y_train_predict))\n",
    "print('Coefficient of determination: %.2f'% r2_score(y_train, y_train_predict))"
   ]
  },
  {
   "cell_type": "code",
   "execution_count": 188,
   "metadata": {},
   "outputs": [
    {
     "name": "stdout",
     "output_type": "stream",
     "text": [
      "Mean squared error: 42872429350896.38\n",
      "Coefficient of determination: 0.22\n"
     ]
    }
   ],
   "source": [
    "y_test_predict = poly_reg.predict(reduced_X_test)\n",
    "print('Mean squared error: %.2f'  % mean_squared_error(y_test, y_test_predict))\n",
    "print('Coefficient of determination: %.2f'% r2_score(y_test, y_test_predict))"
   ]
  },
  {
   "cell_type": "code",
   "execution_count": null,
   "metadata": {},
   "outputs": [],
   "source": []
  },
  {
   "cell_type": "code",
   "execution_count": null,
   "metadata": {},
   "outputs": [],
   "source": []
  },
  {
   "cell_type": "code",
   "execution_count": null,
   "metadata": {},
   "outputs": [],
   "source": []
  }
 ],
 "metadata": {
  "kernelspec": {
   "display_name": "Python 3",
   "language": "python",
   "name": "python3"
  },
  "language_info": {
   "codemirror_mode": {
    "name": "ipython",
    "version": 3
   },
   "file_extension": ".py",
   "mimetype": "text/x-python",
   "name": "python",
   "nbconvert_exporter": "python",
   "pygments_lexer": "ipython3",
   "version": "3.7.4"
  }
 },
 "nbformat": 4,
 "nbformat_minor": 4
}
