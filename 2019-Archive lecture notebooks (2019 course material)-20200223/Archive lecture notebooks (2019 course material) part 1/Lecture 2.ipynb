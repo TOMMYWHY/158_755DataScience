{
 "cells": [
  {
   "cell_type": "code",
   "execution_count": null,
   "metadata": {},
   "outputs": [],
   "source": [
    "from IPython.core.display import display, HTML\n",
    "display(HTML(\"<style>.container { width:70% !important; }</style>\"))"
   ]
  },
  {
   "cell_type": "markdown",
   "metadata": {},
   "source": [
    "# Lecture 2 - Operators, Logic and Branching *\n",
    "---\n",
    "\n",
    "### Content\n",
    "\n",
    "1. Arithmetic operators\n",
    "2. Comparison operators\n",
    "3. Boolean logic\n",
    "4. Branching and conditional structures\n",
    "\n",
    "\\* Content (1) in this notebook is based on the material in the Python Tutorial resources found on http://www.python-course.eu/course.php.\n",
    "\n",
    "<img src=http://www.principledpolicy.com/wp-content/uploads/2010/10/logic.jpg width=500>\n",
    "\n",
    "\n",
    "\n",
    "### Learning Outcomes\n",
    "\n",
    "At the end of this lecture, you should be able to:\n",
    "\n",
    "* programatically apply basic arithmetic operations in Python \n",
    "* describe the purpose of comparison operators\n",
    "* apply Python's comparison operators to evaluate expressions\n",
    "* describe the role of logical operators\n",
    "* apply Python's logical operators in order to construct boolean expressions\n",
    "* explain code blocks and Pythons mechanism for constructing code blocks\n",
    "* explain the purpose of branching\n",
    "* program if/elif/else constructs in Python in order to control execution flow"
   ]
  },
  {
   "cell_type": "markdown",
   "metadata": {},
   "source": [
    "## Arithmetic Operators\n",
    "\n",
    "\n",
    "<table class=\"src\">\n",
    "<tbody><tr>\n",
    "<th style=\"width:5%\">Operator</th><th>Description</th><th>Example (If a = 10 and b = 20)</th>\n",
    "</tr>\n",
    "<tr>\n",
    "<td>+</td><td>Addition - Adds values on either side of the operator</td><td> a + b will give 30</td>\n",
    "</tr>\n",
    "<tr>\n",
    "<td>-</td><td>Subtraction - Subtracts right hand operand from left hand operand</td><td> a - b will give -10</td>\n",
    "</tr>\n",
    "<tr>\n",
    "<td>*</td><td>Multiplication - Multiplies values on either side of the operator</td><td> a * b will give 200</td>\n",
    "</tr>\n",
    "<tr>\n",
    "<td>/</td><td>Division - Divides left hand operand by right hand operand</td><td> b / a will give 2</td>\n",
    "</tr>\n",
    "<tr>\n",
    "<td>%</td><td>Modulus - Divides left hand operand by right hand operand and returns remainder</td><td> b % a will give 0</td>\n",
    "</tr>\n",
    "<tr>\n",
    "<td> ** </td><td>Exponent - Performs exponential (power) calculation on operators</td><td> a**b will give 10 to the power 20</td>\n",
    "</tr>\n",
    "<tr>\n",
    "<td>//</td><td>Floor Division - The division of operands where the result is the quotient in which the digits\n",
    "after the decimal point are removed.</td><td> 9//2 is equal to 4 and 9.0//2.0 is equal to 4.0</td>\n",
    "</tr>\n",
    "<th>\n",
    "</tbody></table>"
   ]
  },
  {
   "cell_type": "markdown",
   "metadata": {},
   "source": [
    "The arithmetic operators are mostly self explanatory.\n",
    "\n",
    "An unusual one is the modulus:"
   ]
  },
  {
   "cell_type": "code",
   "execution_count": null,
   "metadata": {},
   "outputs": [],
   "source": [
    "10 % 3"
   ]
  },
  {
   "cell_type": "markdown",
   "metadata": {},
   "source": [
    "\n",
    "Some quirky behaviours need to be understood."
   ]
  },
  {
   "cell_type": "code",
   "execution_count": null,
   "metadata": {},
   "outputs": [],
   "source": [
    "3.0 / 2.0"
   ]
  },
  {
   "cell_type": "code",
   "execution_count": null,
   "metadata": {},
   "outputs": [],
   "source": [
    "3 / 2.0"
   ]
  },
  {
   "cell_type": "code",
   "execution_count": null,
   "metadata": {},
   "outputs": [],
   "source": [
    "3 / 2"
   ]
  },
  {
   "cell_type": "markdown",
   "metadata": {},
   "source": [
    "If you are working with python 2, you will notice that division between integers produces an integer result."
   ]
  },
  {
   "cell_type": "markdown",
   "metadata": {},
   "source": [
    "**Exercise: Multiply 15 by 25 and assign the result to a variable. Divide the result by 3 (in such a way that it produces a float if you are using python 2), and print the output.**"
   ]
  },
  {
   "cell_type": "code",
   "execution_count": null,
   "metadata": {},
   "outputs": [],
   "source": [
    "x = 15 * 25\n",
    "\n",
    "print(float(x/3))"
   ]
  },
  {
   "cell_type": "markdown",
   "metadata": {},
   "source": [
    "**Exercise: Calculate the area of a circle given the values below. (Radius squared, multiplied by pi)**"
   ]
  },
  {
   "cell_type": "code",
   "execution_count": null,
   "metadata": {},
   "outputs": [],
   "source": [
    "radius = 5\n",
    "pi = 3.14\n",
    "\n",
    "#your code here\n"
   ]
  },
  {
   "cell_type": "markdown",
   "metadata": {},
   "source": [
    "**Exercise: Divide 40.5 by 3 and discard the decimal component.**"
   ]
  },
  {
   "cell_type": "code",
   "execution_count": null,
   "metadata": {},
   "outputs": [],
   "source": [
    "\n"
   ]
  },
  {
   "cell_type": "markdown",
   "metadata": {},
   "source": [
    "## Comparison operators\n",
    "\n",
    "A fundamental task within almost any program is the ability to compare values and depending on the outcome (condition), perform some sort of functionality. As all other languages, Python has a full set of comparison operators.\n",
    "\n",
    "<table class=\"src\">\n",
    "<tbody><tr>\n",
    "<th style=\"width:5%\">Operator</th><th>Description</th><th>Example (If a = 10 and b = 20)</th>\n",
    "</tr>\n",
    "\n",
    "<tr>\n",
    "<td>==</td><td> Checks if the value of two operands are equal or not, if yes then condition becomes true.</td><td> (a == b) is not true. </td>\n",
    "</tr>\n",
    "<tr>\n",
    "<td>!=</td><td> Checks if the value of two operands are equal or not, if values are not equal then condition becomes true.</td><td> (a != b) is true. </td>\n",
    "</tr>\n",
    "<tr>\n",
    "<td>&gt;</td><td> Checks if the value of left  operand is greater than the value of right operand, if yes then condition becomes true.</td><td> (a &gt; b) is not true. </td>\n",
    "</tr>\n",
    "<tr>\n",
    "<td>&lt;</td><td> Checks if the value of left  operand is less than the value of right operand, if yes then condition becomes true.</td><td> (a &lt; b) is true. </td>\n",
    "</tr>\n",
    "<tr>\n",
    "<td>&gt;=</td><td> Checks if the value of left  operand is greater than or equal to the value of right operand, if yes then condition becomes true.</td><td> (a &gt;= b) is not true. </td>\n",
    "</tr>\n",
    "<tr>\n",
    "<td>&lt;=</td><td> Checks if the value of left  operand is less than or equal to the value of right operand, if yes then condition becomes true.</td><td> (a &lt;= b) is true. </td>\n",
    "</tr>\n",
    "</tbody></table>\n",
    "\n",
    "\n",
    "The evaluation of a condition returns a value of type boolean, which is simply True or False."
   ]
  },
  {
   "cell_type": "code",
   "execution_count": null,
   "metadata": {},
   "outputs": [],
   "source": [
    "5 == 4"
   ]
  },
  {
   "cell_type": "code",
   "execution_count": null,
   "metadata": {},
   "outputs": [],
   "source": [
    "5 <= 4"
   ]
  },
  {
   "cell_type": "markdown",
   "metadata": {},
   "source": [
    "**Exercise: Evaluate the result of a conditional test that 5 is not 4 and assign the result to a suitably named variable. Print the contents of the variable and in the following line print the type of this variable.**"
   ]
  },
  {
   "cell_type": "code",
   "execution_count": null,
   "metadata": {},
   "outputs": [],
   "source": []
  },
  {
   "cell_type": "markdown",
   "metadata": {},
   "source": [
    "**Exercise: Evaluate if 326310 is greater than 589 multiplied by 554.**"
   ]
  },
  {
   "cell_type": "code",
   "execution_count": null,
   "metadata": {},
   "outputs": [],
   "source": []
  },
  {
   "cell_type": "markdown",
   "metadata": {},
   "source": [
    "**Exercise: Evaluate if 50 is not the same as 50**"
   ]
  },
  {
   "cell_type": "code",
   "execution_count": null,
   "metadata": {},
   "outputs": [],
   "source": []
  },
  {
   "cell_type": "markdown",
   "metadata": {},
   "source": [
    "**Exercise: Evaluate if the string \"hello\" is smaller then the string \"world\".**"
   ]
  },
  {
   "cell_type": "code",
   "execution_count": null,
   "metadata": {},
   "outputs": [],
   "source": []
  },
  {
   "cell_type": "code",
   "execution_count": null,
   "metadata": {},
   "outputs": [],
   "source": [
    "print (ord('h'))"
   ]
  },
  {
   "cell_type": "code",
   "execution_count": null,
   "metadata": {},
   "outputs": [],
   "source": [
    "print (ord('w'))"
   ]
  },
  {
   "cell_type": "markdown",
   "metadata": {},
   "source": [
    "\n",
    "It is the convention in programming that True evaluates to 1 or above and False to 0"
   ]
  },
  {
   "cell_type": "code",
   "execution_count": null,
   "metadata": {},
   "outputs": [],
   "source": [
    "True > False"
   ]
  },
  {
   "cell_type": "markdown",
   "metadata": {},
   "source": [
    "## Logic Operators\n",
    "\n",
    "\n",
    "<img src=http://calwatchdog.com/wp-content/uploads/2013/05/Spock-logic-300x240.jpg >\n",
    "\n",
    "\n",
    "Logical operators enable us to construct more complex boolean expressions.\n",
    "\n",
    "<table class=\"src\">\n",
    "<tbody><tr>\n",
    "<th style=\"width:5%\">Operator</th><th>Description</th><th>Example (If a = True and b = True)</th>\n",
    "</tr>\n",
    "<tr>\n",
    "<td>and</td><td> Called Logical AND  operator. If both the operands are true then then condition becomes true.</td><td> (a and b) is true.</td>\n",
    "</tr>\n",
    "<tr>\n",
    "<td>or</td><td>Called Logical OR Operator.  If any of the two operands are non zero then then condition becomes true.</td><td> (a or b) is true.</td>\n",
    "</tr>\n",
    "<tr><td>not</td><td>Called Logical NOT Operator.  Use to reverses the logical state of its operand. If a condition is true then Logical NOT operator will make false.</td><td> not(a and b) is false. </td>\n",
    "</tr>\n",
    "</tbody></table>"
   ]
  },
  {
   "cell_type": "code",
   "execution_count": null,
   "metadata": {},
   "outputs": [],
   "source": [
    "True and True"
   ]
  },
  {
   "cell_type": "code",
   "execution_count": null,
   "metadata": {},
   "outputs": [],
   "source": [
    "(5 > 3) and (2 < 7)"
   ]
  },
  {
   "cell_type": "code",
   "execution_count": null,
   "metadata": {},
   "outputs": [],
   "source": [
    "True and False"
   ]
  },
  {
   "cell_type": "code",
   "execution_count": null,
   "metadata": {},
   "outputs": [],
   "source": [
    "True or False"
   ]
  },
  {
   "cell_type": "code",
   "execution_count": null,
   "metadata": {},
   "outputs": [],
   "source": [
    "not(True or False)"
   ]
  },
  {
   "cell_type": "markdown",
   "metadata": {},
   "source": [
    "**Exercise: Verbalise the condition below in an English statement.**"
   ]
  },
  {
   "cell_type": "code",
   "execution_count": null,
   "metadata": {},
   "outputs": [],
   "source": [
    "x = 10\n",
    "y = 20\n",
    "z = 30\n",
    "\n",
    "(x > y) or (z > y)"
   ]
  },
  {
   "cell_type": "markdown",
   "metadata": {},
   "source": [
    "**Exercise: Alter the logic statement above as, if x is not greater than y and z is smaller or equal to y, then True.**"
   ]
  },
  {
   "cell_type": "code",
   "execution_count": null,
   "metadata": {},
   "outputs": [],
   "source": []
  },
  {
   "cell_type": "markdown",
   "metadata": {},
   "source": [
    "## Structuring with Indentation\n",
    "\n",
    "Most programming languages use certain characters or keywords to group statements:\n",
    "\n",
    "    begin ... end\n",
    "    do ... done\n",
    "    { ... }\n",
    "    if ... fi\n",
    "\n",
    "Python uses a different principle. Programs get structured through indentation, i.e. Code blocks are defined by their indentation. \n",
    "\n",
    "All statements with the same distance to the right belong to the same block of code, i.e. the statements within a block line up vertically. The block ends at a line less indented or the end of the file. If a block has to be more deeply nested, it is simply indented further to the right.\n",
    "\n",
    "A statement can be continued on the next line with the continuation character \\\\. "
   ]
  },
  {
   "cell_type": "markdown",
   "metadata": {},
   "source": [
    "## Branching - Controlling the execution flow of programs (if, elif, and else)\n",
    "\n",
    "The * if-then* construct (sometimes called if-then-else) statement is one of the most well-known control flow mechanisms. It checks a condition which, if True, executes the code in the block that follows.\n"
   ]
  },
  {
   "cell_type": "code",
   "execution_count": null,
   "metadata": {},
   "outputs": [],
   "source": [
    "x = 10\n",
    "y = 20\n",
    "\n",
    "if (x < y):     #notice the colon to signify the beginning of a code block\n",
    "    print (\"x is smaller than y\")\n",
    "    print (\"this line will also execute if the above condition is True\")\n",
    "    \n",
    "print (\"the program execution continues here regardless of what the condition in the 'if' statement was\")"
   ]
  },
  {
   "cell_type": "markdown",
   "metadata": {},
   "source": [
    "Often, an alternative set of statements needs to be executed if a given condition is false in an *if* statement "
   ]
  },
  {
   "cell_type": "code",
   "execution_count": null,
   "metadata": {},
   "outputs": [],
   "source": [
    "x = 30\n",
    "\n",
    "if (x < y):\n",
    "    print (\"x is smaller than y\")\n",
    "    print (\"this line will also execute if the above condition is True\")\n",
    "else:\n",
    "    print (\"x is NOT smaller than y\")\n",
    "    print (\"I am in the else code block now\")\n",
    "\n",
    "print (\"the program execution continues here regardless of what the condition in the 'if' statement was\")"
   ]
  },
  {
   "cell_type": "markdown",
   "metadata": {},
   "source": [
    "**Exercise: Write and if/else statement where if x does not equal y it will result in output that prints their values and states that they are not the same, otherwise, it prints that they are the same and outputs only one of their values.**"
   ]
  },
  {
   "cell_type": "code",
   "execution_count": null,
   "metadata": {},
   "outputs": [],
   "source": []
  },
  {
   "cell_type": "markdown",
   "metadata": {},
   "source": [
    "It is also very common to encounter more complex conditional constructs which require that a different course of execution takes place on a number of different conditions. In such cases, we employ Python's *elif* clause which stands for 'else if then'.\n",
    "\n",
    "The complete *if-else-then* construct will take the form below with any number of *elif* conditions as necessary."
   ]
  },
  {
   "cell_type": "raw",
   "metadata": {},
   "source": [
    "if condition_1:\n",
    "    statement_block_1\n",
    "elif condition_2:\n",
    "    statement_block_2\n",
    "elif condition_3:\n",
    "    statement_block_3\n",
    "else:\n",
    "    statement_block_4"
   ]
  },
  {
   "cell_type": "markdown",
   "metadata": {},
   "source": [
    "Below is an example of a \"Dog Age Calculator\" algorithm.  It's a generally accepted belief, to assume, that one year in the life a dog corresponds to seven years in the life of a human being. But apparently there are other more subtle methods to calculate this haunting problem, haunting at least for some dog owners.\n",
    "\n",
    "Another subtler method works like this:\n",
    "\n",
    "    A one year old dog roughly corresponds to a fourteen year old child\n",
    "    A dog who is two years old corresponds to a 22 year old human\n",
    "    Every further dog year corresponds to five human years \n",
    "\n",
    "The following Python script implements this \"dog years algorithm\":"
   ]
  },
  {
   "cell_type": "code",
   "execution_count": null,
   "metadata": {},
   "outputs": [],
   "source": [
    "age = int(input(\"Age of the dog: \"))\n",
    "\n",
    "if age < 0:\n",
    "    print (\"This can hardly be true!\")\n",
    "elif age == 1:\n",
    "    print (\"about 14 human years\")\n",
    "elif age == 2:\n",
    "    print (\"about 22 human years\")\n",
    "elif age > 2:\n",
    "    human = 22 + (age -2) * 5\n",
    "    print (\"Human years: \", human)\n"
   ]
  },
  {
   "cell_type": "markdown",
   "metadata": {},
   "source": [
    "**Exercise: Alter the code above as follows, change the last condition to test for age greater then 2 and age smaller than 25.**"
   ]
  },
  {
   "cell_type": "code",
   "execution_count": null,
   "metadata": {},
   "outputs": [],
   "source": []
  },
  {
   "cell_type": "markdown",
   "metadata": {},
   "source": [
    "**Exercise: Alter your code further as follows, add a default 'else' condition which prints and says 'I hardly believe that your dog is so old!'. Test your code to make sure that all conditions are working as expected.**"
   ]
  },
  {
   "cell_type": "code",
   "execution_count": null,
   "metadata": {},
   "outputs": [],
   "source": []
  },
  {
   "cell_type": "code",
   "execution_count": null,
   "metadata": {},
   "outputs": [],
   "source": [
    "%%javascript\n",
    "require(['base/js/utils'],\n",
    "function(utils) {\n",
    "   utils.load_extensions('calico-spell-check', 'calico-document-tools', 'calico-cell-tools');\n",
    "});"
   ]
  },
  {
   "cell_type": "code",
   "execution_count": null,
   "metadata": {},
   "outputs": [],
   "source": []
  }
 ],
 "metadata": {
  "kernelspec": {
   "display_name": "Python 3",
   "language": "python",
   "name": "python3"
  },
  "language_info": {
   "codemirror_mode": {
    "name": "ipython",
    "version": 3
   },
   "file_extension": ".py",
   "mimetype": "text/x-python",
   "name": "python",
   "nbconvert_exporter": "python",
   "pygments_lexer": "ipython3",
   "version": "3.7.1"
  }
 },
 "nbformat": 4,
 "nbformat_minor": 1
}
