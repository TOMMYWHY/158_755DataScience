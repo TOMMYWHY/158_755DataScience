{
 "cells": [
  {
   "cell_type": "markdown",
   "metadata": {
    "_cell_guid": "b1076dfc-b9ad-4769-8c92-a6c4dae69d19",
    "_uuid": "8f2839f25d086af736a60e9eeb907d3b93b6e0e5"
   },
   "source": [
    "# 4 aggregate to 12 level"
   ]
  },
  {
   "cell_type": "markdown",
   "metadata": {},
   "source": [
    "* ## Load the data and analysis libraries\n",
    "\n",
    "> ### Load libraries"
   ]
  },
  {
   "cell_type": "code",
   "execution_count": 1,
   "metadata": {
    "_cell_guid": "79c7e3d0-c299-4dcb-8224-4455121ee9b0",
    "_uuid": "d629ff2d2480ee46fbb7e2d37f6b5fab8052498a"
   },
   "outputs": [],
   "source": [
    "import pandas as pd\n",
    "import numpy as np\n",
    "from tqdm.auto import tqdm as tqdm\n"
   ]
  },
  {
   "cell_type": "code",
   "execution_count": 8,
   "metadata": {},
   "outputs": [],
   "source": [
    "# IS_LOCAL_DEMO = True\n",
    "IS_LOCAL_DEMO = False"
   ]
  },
  {
   "cell_type": "markdown",
   "metadata": {},
   "source": [
    "> ### All models"
   ]
  },
  {
   "cell_type": "code",
   "execution_count": 16,
   "metadata": {},
   "outputs": [],
   "source": [
    "model_name = \"knn\"\n",
    "# model_name = \"ridge\"\n",
    "# model_name = \"rf\"\n",
    "# model_name = \"xgb\"\n",
    "# model_name = \"lgm\"\n",
    "# model_name = \"mlp\""
   ]
  },
  {
   "cell_type": "code",
   "execution_count": 17,
   "metadata": {},
   "outputs": [],
   "source": [
    "if(IS_LOCAL_DEMO):\n",
    "    sub=pd.read_csv(\"submission_{}.csv.gz\".format(model_name)) # for local demo\n",
    "\n",
    "else:\n",
    "    sub=pd.read_csv(\"submission_{}.csv\".format(model_name)) # for kaggle\n"
   ]
  },
  {
   "cell_type": "code",
   "execution_count": 18,
   "metadata": {},
   "outputs": [
    {
     "data": {
      "text/html": [
       "<div>\n",
       "<style scoped>\n",
       "    .dataframe tbody tr th:only-of-type {\n",
       "        vertical-align: middle;\n",
       "    }\n",
       "\n",
       "    .dataframe tbody tr th {\n",
       "        vertical-align: top;\n",
       "    }\n",
       "\n",
       "    .dataframe thead th {\n",
       "        text-align: right;\n",
       "    }\n",
       "</style>\n",
       "<table border=\"1\" class=\"dataframe\">\n",
       "  <thead>\n",
       "    <tr style=\"text-align: right;\">\n",
       "      <th></th>\n",
       "      <th>id</th>\n",
       "      <th>F1</th>\n",
       "      <th>F2</th>\n",
       "      <th>F3</th>\n",
       "      <th>F4</th>\n",
       "      <th>F5</th>\n",
       "      <th>F6</th>\n",
       "      <th>F7</th>\n",
       "      <th>F8</th>\n",
       "      <th>F9</th>\n",
       "      <th>...</th>\n",
       "      <th>F19</th>\n",
       "      <th>F20</th>\n",
       "      <th>F21</th>\n",
       "      <th>F22</th>\n",
       "      <th>F23</th>\n",
       "      <th>F24</th>\n",
       "      <th>F25</th>\n",
       "      <th>F26</th>\n",
       "      <th>F27</th>\n",
       "      <th>F28</th>\n",
       "    </tr>\n",
       "  </thead>\n",
       "  <tbody>\n",
       "    <tr>\n",
       "      <th>0</th>\n",
       "      <td>FOODS_1_001_CA_1_validation</td>\n",
       "      <td>1.333333</td>\n",
       "      <td>1.000000</td>\n",
       "      <td>1.000000</td>\n",
       "      <td>0.333333</td>\n",
       "      <td>1.000000</td>\n",
       "      <td>0.333333</td>\n",
       "      <td>1.666667</td>\n",
       "      <td>1.333333</td>\n",
       "      <td>1.666667</td>\n",
       "      <td>...</td>\n",
       "      <td>1.666667</td>\n",
       "      <td>1.666667</td>\n",
       "      <td>2.333333</td>\n",
       "      <td>0.000000</td>\n",
       "      <td>1.333333</td>\n",
       "      <td>2.000000</td>\n",
       "      <td>0.666667</td>\n",
       "      <td>0.666667</td>\n",
       "      <td>0.666667</td>\n",
       "      <td>0.666667</td>\n",
       "    </tr>\n",
       "    <tr>\n",
       "      <th>1</th>\n",
       "      <td>FOODS_1_001_CA_2_validation</td>\n",
       "      <td>0.333333</td>\n",
       "      <td>0.333333</td>\n",
       "      <td>0.333333</td>\n",
       "      <td>1.666667</td>\n",
       "      <td>0.333333</td>\n",
       "      <td>0.333333</td>\n",
       "      <td>1.000000</td>\n",
       "      <td>1.000000</td>\n",
       "      <td>1.000000</td>\n",
       "      <td>...</td>\n",
       "      <td>1.333333</td>\n",
       "      <td>1.333333</td>\n",
       "      <td>2.000000</td>\n",
       "      <td>1.333333</td>\n",
       "      <td>1.333333</td>\n",
       "      <td>2.000000</td>\n",
       "      <td>1.666667</td>\n",
       "      <td>0.000000</td>\n",
       "      <td>1.333333</td>\n",
       "      <td>1.666667</td>\n",
       "    </tr>\n",
       "    <tr>\n",
       "      <th>2</th>\n",
       "      <td>FOODS_1_001_CA_3_validation</td>\n",
       "      <td>0.666667</td>\n",
       "      <td>0.666667</td>\n",
       "      <td>0.333333</td>\n",
       "      <td>0.333333</td>\n",
       "      <td>0.666667</td>\n",
       "      <td>0.333333</td>\n",
       "      <td>0.333333</td>\n",
       "      <td>0.333333</td>\n",
       "      <td>0.333333</td>\n",
       "      <td>...</td>\n",
       "      <td>0.000000</td>\n",
       "      <td>0.333333</td>\n",
       "      <td>2.000000</td>\n",
       "      <td>0.333333</td>\n",
       "      <td>0.000000</td>\n",
       "      <td>0.333333</td>\n",
       "      <td>0.000000</td>\n",
       "      <td>1.333333</td>\n",
       "      <td>1.000000</td>\n",
       "      <td>0.333333</td>\n",
       "    </tr>\n",
       "  </tbody>\n",
       "</table>\n",
       "<p>3 rows × 29 columns</p>\n",
       "</div>"
      ],
      "text/plain": [
       "                            id        F1        F2        F3        F4  \\\n",
       "0  FOODS_1_001_CA_1_validation  1.333333  1.000000  1.000000  0.333333   \n",
       "1  FOODS_1_001_CA_2_validation  0.333333  0.333333  0.333333  1.666667   \n",
       "2  FOODS_1_001_CA_3_validation  0.666667  0.666667  0.333333  0.333333   \n",
       "\n",
       "         F5        F6        F7        F8        F9  ...       F19       F20  \\\n",
       "0  1.000000  0.333333  1.666667  1.333333  1.666667  ...  1.666667  1.666667   \n",
       "1  0.333333  0.333333  1.000000  1.000000  1.000000  ...  1.333333  1.333333   \n",
       "2  0.666667  0.333333  0.333333  0.333333  0.333333  ...  0.000000  0.333333   \n",
       "\n",
       "        F21       F22       F23       F24       F25       F26       F27  \\\n",
       "0  2.333333  0.000000  1.333333  2.000000  0.666667  0.666667  0.666667   \n",
       "1  2.000000  1.333333  1.333333  2.000000  1.666667  0.000000  1.333333   \n",
       "2  2.000000  0.333333  0.000000  0.333333  0.000000  1.333333  1.000000   \n",
       "\n",
       "        F28  \n",
       "0  0.666667  \n",
       "1  1.666667  \n",
       "2  0.333333  \n",
       "\n",
       "[3 rows x 29 columns]"
      ]
     },
     "execution_count": 18,
     "metadata": {},
     "output_type": "execute_result"
    }
   ],
   "source": [
    "sub.head(3)"
   ]
  },
  {
   "cell_type": "code",
   "execution_count": 19,
   "metadata": {},
   "outputs": [],
   "source": [
    "train_sales = pd.read_csv('../datasets/sales_train_validation.csv')\n",
    "submission_file = pd.read_csv('../datasets/sample_submission.csv')\n"
   ]
  },
  {
   "cell_type": "markdown",
   "metadata": {},
   "source": [
    "* ## Aggregate for 12 level\n",
    "\n",
    "> ### We refer to the M5 competitors Guide and the \"Building aggregate time series\" created by Sachin Agarwal to the aggregate format of the training result to fit for \"sample submission.\"\n",
    "\n",
    "[Building aggregate time series](https://www.kaggle.com/sachina/building-aggregate-time-series)"
   ]
  },
  {
   "cell_type": "code",
   "execution_count": 9,
   "metadata": {},
   "outputs": [],
   "source": [
    "sub_col = ['id']\n",
    "sub_col.extend([f'd_{day}' for day in range(1914, 1914+28)])\n",
    "sub.columns = sub_col"
   ]
  },
  {
   "cell_type": "code",
   "execution_count": 10,
   "metadata": {},
   "outputs": [],
   "source": [
    "train_sales = train_sales.merge(sub, on='id')"
   ]
  },
  {
   "cell_type": "code",
   "execution_count": 11,
   "metadata": {},
   "outputs": [],
   "source": [
    "total = ['Total']\n",
    "train_sales['Total'] = 'Total'\n",
    "train_sales['state_cat'] = train_sales.state_id + \"_\" + train_sales.cat_id\n",
    "train_sales['state_dept'] = train_sales.state_id + \"_\" + train_sales.dept_id\n",
    "train_sales['store_cat'] = train_sales.store_id + \"_\" + train_sales.cat_id\n",
    "train_sales['store_dept'] = train_sales.store_id + \"_\" + train_sales.dept_id\n",
    "train_sales['state_item'] = train_sales.state_id + \"_\" + train_sales.item_id\n",
    "train_sales['item_store'] = train_sales.item_id + \"_\" + train_sales.store_id"
   ]
  },
  {
   "cell_type": "code",
   "execution_count": 12,
   "metadata": {},
   "outputs": [
    {
     "name": "stdout",
     "output_type": "stream",
     "text": [
      "['CA_1', 'CA_2', 'CA_3', 'CA_4', 'TX_1', 'TX_2', 'TX_3', 'WI_1', 'WI_2', 'WI_3']\n"
     ]
    }
   ],
   "source": [
    "val_eval = ['validation', 'evaluation']\n",
    "\n",
    "# creating lists for different aggregation levels\n",
    "total = ['Total']\n",
    "states = ['CA', 'TX', 'WI']\n",
    "num_stores = [('CA',4), ('TX',3), ('WI',3)]\n",
    "stores = [x[0] + \"_\" + str(y + 1) for x in num_stores for y in range(x[1])]\n",
    "print(stores)  # store_id"
   ]
  },
  {
   "cell_type": "code",
   "execution_count": 13,
   "metadata": {},
   "outputs": [
    {
     "name": "stdout",
     "output_type": "stream",
     "text": [
      "['CA_FOODS', 'CA_HOBBIES', 'CA_HOUSEHOLD', 'TX_FOODS', 'TX_HOBBIES', 'TX_HOUSEHOLD', 'WI_FOODS', 'WI_HOBBIES', 'WI_HOUSEHOLD']\n",
      "=================================================================\n",
      "['CA_1_FOODS_1', 'CA_1_FOODS_2', 'CA_1_FOODS_3', 'CA_1_HOBBIES_1', 'CA_1_HOBBIES_2', 'CA_1_HOUSEHOLD_1', 'CA_1_HOUSEHOLD_2', 'CA_2_FOODS_1', 'CA_2_FOODS_2', 'CA_2_FOODS_3', 'CA_2_HOBBIES_1', 'CA_2_HOBBIES_2', 'CA_2_HOUSEHOLD_1', 'CA_2_HOUSEHOLD_2', 'CA_3_FOODS_1', 'CA_3_FOODS_2', 'CA_3_FOODS_3', 'CA_3_HOBBIES_1', 'CA_3_HOBBIES_2', 'CA_3_HOUSEHOLD_1', 'CA_3_HOUSEHOLD_2', 'CA_4_FOODS_1', 'CA_4_FOODS_2', 'CA_4_FOODS_3', 'CA_4_HOBBIES_1', 'CA_4_HOBBIES_2', 'CA_4_HOUSEHOLD_1', 'CA_4_HOUSEHOLD_2', 'TX_1_FOODS_1', 'TX_1_FOODS_2', 'TX_1_FOODS_3', 'TX_1_HOBBIES_1', 'TX_1_HOBBIES_2', 'TX_1_HOUSEHOLD_1', 'TX_1_HOUSEHOLD_2', 'TX_2_FOODS_1', 'TX_2_FOODS_2', 'TX_2_FOODS_3', 'TX_2_HOBBIES_1', 'TX_2_HOBBIES_2', 'TX_2_HOUSEHOLD_1', 'TX_2_HOUSEHOLD_2', 'TX_3_FOODS_1', 'TX_3_FOODS_2', 'TX_3_FOODS_3', 'TX_3_HOBBIES_1', 'TX_3_HOBBIES_2', 'TX_3_HOUSEHOLD_1', 'TX_3_HOUSEHOLD_2', 'WI_1_FOODS_1', 'WI_1_FOODS_2', 'WI_1_FOODS_3', 'WI_1_HOBBIES_1', 'WI_1_HOBBIES_2', 'WI_1_HOUSEHOLD_1', 'WI_1_HOUSEHOLD_2', 'WI_2_FOODS_1', 'WI_2_FOODS_2', 'WI_2_FOODS_3', 'WI_2_HOBBIES_1', 'WI_2_HOBBIES_2', 'WI_2_HOUSEHOLD_1', 'WI_2_HOUSEHOLD_2', 'WI_3_FOODS_1', 'WI_3_FOODS_2', 'WI_3_FOODS_3', 'WI_3_HOBBIES_1', 'WI_3_HOBBIES_2', 'WI_3_HOUSEHOLD_1', 'WI_3_HOUSEHOLD_2']\n"
     ]
    }
   ],
   "source": [
    "cats = ['FOODS', 'HOBBIES', 'HOUSEHOLD']\n",
    "num_depts = [('FOODS',3), ('HOBBIES',2), ('HOUSEHOLD',2)]\n",
    "depts = [x[0] + \"_\" + str(y + 1) for x in num_depts for y in range(x[1])]\n",
    "state_cats = [state + \"_\" + cat for state in states for cat in cats]\n",
    "state_depts = [state + \"_\" + dept for state in states for dept in depts]\n",
    "store_cats = [store + \"_\" + cat for store in stores for cat in cats]\n",
    "store_depts = [store + \"_\" + dept for store in stores for dept in depts]\n",
    "print(state_cats)  # state and  category\n",
    "print(\"=================================================================\")\n",
    "print(store_depts)  # store_id + state_id +category_id"
   ]
  },
  {
   "cell_type": "code",
   "execution_count": 14,
   "metadata": {},
   "outputs": [],
   "source": [
    "prods = list(train_sales.item_id.unique())  # product_list\n",
    "prod_state = [prod + \"_\" + state for prod in prods for state in states]  # product_id+state_id\n",
    "prod_store = [prod + \"_\" + store for prod in prods for store in stores]  # product_id + store_id"
   ]
  },
  {
   "cell_type": "code",
   "execution_count": 15,
   "metadata": {},
   "outputs": [],
   "source": [
    "quants = ['0.005', '0.025', '0.165', '0.250', '0.500', '0.750', '0.835', '0.975', '0.995']\n",
    "days = range(1, 1913 + 29)\n",
    "time_series_columns = [f'd_{i}' for i in days]"
   ]
  },
  {
   "cell_type": "code",
   "execution_count": 16,
   "metadata": {},
   "outputs": [],
   "source": [
    "def create_sales(name_list, group):\n",
    "    sales = train_sales.groupby(group)[time_series_columns].sum() \n",
    "    return sales"
   ]
  },
  {
   "cell_type": "code",
   "execution_count": 17,
   "metadata": {},
   "outputs": [],
   "source": [
    "def create_quantile_dict(name_list = stores, group = 'store_id' ,X = False):\n",
    "    sales = create_sales(name_list, group)\n",
    "    sales = sales.iloc[:, 1857:] #using the last few months data only\n",
    "    sales_quants = pd.DataFrame(index = sales.index)  \n",
    "    for q in quants:\n",
    "        sales_quants[q] = np.quantile(sales, float(q), axis = 1)  \n",
    "    full_mean = pd.DataFrame(np.mean(sales, axis = 1))\n",
    "    daily_means = pd.DataFrame(index = sales.index)  \n",
    "    for i in range(7):\n",
    "        daily_means[str(i)] = np.mean(sales.iloc[:, i::7], axis = 1) \n",
    "        \n",
    "    daily_factors = daily_means / np.array(full_mean)\n",
    "    \n",
    "    daily_factors = pd.concat([daily_factors, daily_factors, daily_factors, daily_factors], axis = 1)\n",
    "    daily_factors_np = np.array(daily_factors)\n",
    "\n",
    "    factor_df = pd.DataFrame(daily_factors_np, columns = submission_file.columns[1:])\n",
    "    factor_df.index = daily_factors.index\n",
    "\n",
    "    for i,x in enumerate(tqdm(sales_quants.index)):\n",
    "        for q in quants:\n",
    "            v = sales_quants.loc[x, q] * np.array(factor_df.loc[x, :])\n",
    "            if X:\n",
    "                my_dict[x + \"_X_\" + q + \"_validation\"] = v\n",
    "                my_dict[x + \"_X_\" + q + \"_evaluation\"] = v\n",
    "            else:\n",
    "                my_dict[x + \"_\" + q + \"_validation\"] = v\n",
    "                my_dict[x + \"_\" + q + \"_evaluation\"] = v"
   ]
  },
  {
   "cell_type": "code",
   "execution_count": 18,
   "metadata": {},
   "outputs": [
    {
     "data": {
      "application/vnd.jupyter.widget-view+json": {
       "model_id": "9f0ea45a8ae8466695cb702a77e5b779",
       "version_major": 2,
       "version_minor": 0
      },
      "text/plain": [
       "HBox(children=(FloatProgress(value=0.0, max=1.0), HTML(value='')))"
      ]
     },
     "metadata": {},
     "output_type": "display_data"
    },
    {
     "name": "stdout",
     "output_type": "stream",
     "text": [
      "\n"
     ]
    },
    {
     "data": {
      "application/vnd.jupyter.widget-view+json": {
       "model_id": "b00a1aa0e8214827bec4c84dba14fc87",
       "version_major": 2,
       "version_minor": 0
      },
      "text/plain": [
       "HBox(children=(FloatProgress(value=0.0, max=1.0), HTML(value='')))"
      ]
     },
     "metadata": {},
     "output_type": "display_data"
    },
    {
     "name": "stdout",
     "output_type": "stream",
     "text": [
      "\n"
     ]
    },
    {
     "data": {
      "application/vnd.jupyter.widget-view+json": {
       "model_id": "50f5de91e00f41c69358dd6d9ad69913",
       "version_major": 2,
       "version_minor": 0
      },
      "text/plain": [
       "HBox(children=(FloatProgress(value=0.0, max=4.0), HTML(value='')))"
      ]
     },
     "metadata": {},
     "output_type": "display_data"
    },
    {
     "name": "stdout",
     "output_type": "stream",
     "text": [
      "\n"
     ]
    },
    {
     "data": {
      "application/vnd.jupyter.widget-view+json": {
       "model_id": "7d3a060f5759430c909cee97a090ab3d",
       "version_major": 2,
       "version_minor": 0
      },
      "text/plain": [
       "HBox(children=(FloatProgress(value=0.0, max=3.0), HTML(value='')))"
      ]
     },
     "metadata": {},
     "output_type": "display_data"
    },
    {
     "name": "stdout",
     "output_type": "stream",
     "text": [
      "\n"
     ]
    },
    {
     "data": {
      "application/vnd.jupyter.widget-view+json": {
       "model_id": "835b1684695a483b91123d14fdb42baa",
       "version_major": 2,
       "version_minor": 0
      },
      "text/plain": [
       "HBox(children=(FloatProgress(value=0.0, max=7.0), HTML(value='')))"
      ]
     },
     "metadata": {},
     "output_type": "display_data"
    },
    {
     "name": "stdout",
     "output_type": "stream",
     "text": [
      "\n"
     ]
    },
    {
     "data": {
      "application/vnd.jupyter.widget-view+json": {
       "model_id": "b86e14b0174e438bb154614c00981798",
       "version_major": 2,
       "version_minor": 0
      },
      "text/plain": [
       "HBox(children=(FloatProgress(value=0.0, max=3.0), HTML(value='')))"
      ]
     },
     "metadata": {},
     "output_type": "display_data"
    },
    {
     "name": "stdout",
     "output_type": "stream",
     "text": [
      "\n"
     ]
    },
    {
     "data": {
      "application/vnd.jupyter.widget-view+json": {
       "model_id": "28dc7e765d73405f95ac1c35cef29794",
       "version_major": 2,
       "version_minor": 0
      },
      "text/plain": [
       "HBox(children=(FloatProgress(value=0.0, max=7.0), HTML(value='')))"
      ]
     },
     "metadata": {},
     "output_type": "display_data"
    },
    {
     "name": "stdout",
     "output_type": "stream",
     "text": [
      "\n"
     ]
    },
    {
     "data": {
      "application/vnd.jupyter.widget-view+json": {
       "model_id": "82a9ac400d01405cb3945b4e6b87b51f",
       "version_major": 2,
       "version_minor": 0
      },
      "text/plain": [
       "HBox(children=(FloatProgress(value=0.0, max=11.0), HTML(value='')))"
      ]
     },
     "metadata": {},
     "output_type": "display_data"
    },
    {
     "name": "stdout",
     "output_type": "stream",
     "text": [
      "\n"
     ]
    },
    {
     "data": {
      "application/vnd.jupyter.widget-view+json": {
       "model_id": "3e888c712bbc4c76a4a10d78c2692d74",
       "version_major": 2,
       "version_minor": 0
      },
      "text/plain": [
       "HBox(children=(FloatProgress(value=0.0, max=24.0), HTML(value='')))"
      ]
     },
     "metadata": {},
     "output_type": "display_data"
    },
    {
     "name": "stdout",
     "output_type": "stream",
     "text": [
      "\n"
     ]
    },
    {
     "data": {
      "application/vnd.jupyter.widget-view+json": {
       "model_id": "f801000a5fb145d8b0d9a3b6b14262fd",
       "version_major": 2,
       "version_minor": 0
      },
      "text/plain": [
       "HBox(children=(FloatProgress(value=0.0, max=3049.0), HTML(value='')))"
      ]
     },
     "metadata": {},
     "output_type": "display_data"
    },
    {
     "name": "stdout",
     "output_type": "stream",
     "text": [
      "\n"
     ]
    },
    {
     "data": {
      "application/vnd.jupyter.widget-view+json": {
       "model_id": "4720df96cb05479cbe704a2f2c44120e",
       "version_major": 2,
       "version_minor": 0
      },
      "text/plain": [
       "HBox(children=(FloatProgress(value=0.0, max=3049.0), HTML(value='')))"
      ]
     },
     "metadata": {},
     "output_type": "display_data"
    },
    {
     "name": "stdout",
     "output_type": "stream",
     "text": [
      "\n"
     ]
    },
    {
     "data": {
      "application/vnd.jupyter.widget-view+json": {
       "model_id": "e7d3db43513e4a56bc171708d5a7d6ba",
       "version_major": 2,
       "version_minor": 0
      },
      "text/plain": [
       "HBox(children=(FloatProgress(value=0.0, max=10000.0), HTML(value='')))"
      ]
     },
     "metadata": {},
     "output_type": "display_data"
    },
    {
     "name": "stdout",
     "output_type": "stream",
     "text": [
      "\n"
     ]
    }
   ],
   "source": [
    "my_dict = {}\n",
    "#adding prediction to my_dict on all 12 aggregation levels\n",
    "create_quantile_dict(total, 'Total', X=True) #1\n",
    "create_quantile_dict(states, 'state_id', X=True) #2\n",
    "create_quantile_dict(stores, 'store_id', X=True) #3\n",
    "create_quantile_dict(cats, 'cat_id', X=True) #4\n",
    "create_quantile_dict(depts, 'dept_id', X=True) #5\n",
    "create_quantile_dict(state_cats, 'state_cat') #6\n",
    "create_quantile_dict(state_depts, 'state_dept') #7\n",
    "create_quantile_dict(store_cats, 'store_cat') #8\n",
    "create_quantile_dict(store_depts, 'store_dept') #9\n",
    "create_quantile_dict(prods, 'item_id', X=True) #10\n",
    "create_quantile_dict(prod_state, 'state_item') #11\n",
    "create_quantile_dict(prod_store, 'item_store') #12"
   ]
  },
  {
   "cell_type": "code",
   "execution_count": 19,
   "metadata": {},
   "outputs": [],
   "source": [
    "pred_df = pd.DataFrame(my_dict)\n",
    "pred_df = pred_df.transpose()\n",
    "pred_df_reset = pred_df.reset_index()\n",
    "final_pred = pd.merge(pd.DataFrame(submission_file.id), pred_df_reset, left_on = 'id', right_on = 'index')\n",
    "del final_pred['index']\n",
    "final_pred = final_pred.rename(columns={0: 'F1', 1: 'F2', 2: 'F3', 3: 'F4', 4: 'F5', 5: 'F6', 6: 'F7', 7: 'F8', 8: 'F9',\n",
    "                                        9: 'F10', 10: 'F11', 11: 'F12', 12: 'F13', 13: 'F14', 14: 'F15', 15: 'F16',\n",
    "                                        16: 'F17', 17: 'F18', 18: 'F19', 19: 'F20', 20: 'F21', 21: 'F22', \n",
    "                                        22: 'F23', 23: 'F24', 24: 'F25', 25: 'F26', 26: 'F27', 27: 'F28'})"
   ]
  },
  {
   "cell_type": "code",
   "execution_count": 20,
   "metadata": {},
   "outputs": [],
   "source": [
    "final_pred = final_pred.fillna(0)"
   ]
  },
  {
   "cell_type": "code",
   "execution_count": 21,
   "metadata": {},
   "outputs": [
    {
     "data": {
      "text/html": [
       "<div>\n",
       "<style scoped>\n",
       "    .dataframe tbody tr th:only-of-type {\n",
       "        vertical-align: middle;\n",
       "    }\n",
       "\n",
       "    .dataframe tbody tr th {\n",
       "        vertical-align: top;\n",
       "    }\n",
       "\n",
       "    .dataframe thead th {\n",
       "        text-align: right;\n",
       "    }\n",
       "</style>\n",
       "<table border=\"1\" class=\"dataframe\">\n",
       "  <thead>\n",
       "    <tr style=\"text-align: right;\">\n",
       "      <th></th>\n",
       "      <th>id</th>\n",
       "      <th>F1</th>\n",
       "      <th>F2</th>\n",
       "      <th>F3</th>\n",
       "      <th>F4</th>\n",
       "      <th>F5</th>\n",
       "      <th>F6</th>\n",
       "      <th>F7</th>\n",
       "      <th>F8</th>\n",
       "      <th>F9</th>\n",
       "      <th>...</th>\n",
       "      <th>F19</th>\n",
       "      <th>F20</th>\n",
       "      <th>F21</th>\n",
       "      <th>F22</th>\n",
       "      <th>F23</th>\n",
       "      <th>F24</th>\n",
       "      <th>F25</th>\n",
       "      <th>F26</th>\n",
       "      <th>F27</th>\n",
       "      <th>F28</th>\n",
       "    </tr>\n",
       "  </thead>\n",
       "  <tbody>\n",
       "    <tr>\n",
       "      <th>0</th>\n",
       "      <td>Total_X_0.005_validation</td>\n",
       "      <td>12049.690239</td>\n",
       "      <td>11469.103271</td>\n",
       "      <td>11118.868364</td>\n",
       "      <td>11003.497120</td>\n",
       "      <td>11942.995155</td>\n",
       "      <td>14883.606219</td>\n",
       "      <td>15273.599632</td>\n",
       "      <td>12049.690239</td>\n",
       "      <td>11469.103271</td>\n",
       "      <td>...</td>\n",
       "      <td>11942.995155</td>\n",
       "      <td>14883.606219</td>\n",
       "      <td>15273.599632</td>\n",
       "      <td>12049.690239</td>\n",
       "      <td>11469.103271</td>\n",
       "      <td>11118.868364</td>\n",
       "      <td>11003.497120</td>\n",
       "      <td>11942.995155</td>\n",
       "      <td>14883.606219</td>\n",
       "      <td>15273.599632</td>\n",
       "    </tr>\n",
       "    <tr>\n",
       "      <th>1</th>\n",
       "      <td>CA_X_0.005_validation</td>\n",
       "      <td>12049.690239</td>\n",
       "      <td>11469.103271</td>\n",
       "      <td>11118.868364</td>\n",
       "      <td>11003.497120</td>\n",
       "      <td>11942.995155</td>\n",
       "      <td>14883.606219</td>\n",
       "      <td>15273.599632</td>\n",
       "      <td>12049.690239</td>\n",
       "      <td>11469.103271</td>\n",
       "      <td>...</td>\n",
       "      <td>11942.995155</td>\n",
       "      <td>14883.606219</td>\n",
       "      <td>15273.599632</td>\n",
       "      <td>12049.690239</td>\n",
       "      <td>11469.103271</td>\n",
       "      <td>11118.868364</td>\n",
       "      <td>11003.497120</td>\n",
       "      <td>11942.995155</td>\n",
       "      <td>14883.606219</td>\n",
       "      <td>15273.599632</td>\n",
       "    </tr>\n",
       "    <tr>\n",
       "      <th>2</th>\n",
       "      <td>CA_1_X_0.005_validation</td>\n",
       "      <td>3222.735495</td>\n",
       "      <td>2955.418723</td>\n",
       "      <td>2877.028995</td>\n",
       "      <td>2886.745243</td>\n",
       "      <td>3210.020405</td>\n",
       "      <td>4066.729575</td>\n",
       "      <td>4113.371564</td>\n",
       "      <td>3222.735495</td>\n",
       "      <td>2955.418723</td>\n",
       "      <td>...</td>\n",
       "      <td>3210.020405</td>\n",
       "      <td>4066.729575</td>\n",
       "      <td>4113.371564</td>\n",
       "      <td>3222.735495</td>\n",
       "      <td>2955.418723</td>\n",
       "      <td>2877.028995</td>\n",
       "      <td>2886.745243</td>\n",
       "      <td>3210.020405</td>\n",
       "      <td>4066.729575</td>\n",
       "      <td>4113.371564</td>\n",
       "    </tr>\n",
       "    <tr>\n",
       "      <th>3</th>\n",
       "      <td>CA_2_X_0.005_validation</td>\n",
       "      <td>2267.384334</td>\n",
       "      <td>2240.351297</td>\n",
       "      <td>2191.418078</td>\n",
       "      <td>2152.626136</td>\n",
       "      <td>2459.104252</td>\n",
       "      <td>3082.108437</td>\n",
       "      <td>3098.502466</td>\n",
       "      <td>2267.384334</td>\n",
       "      <td>2240.351297</td>\n",
       "      <td>...</td>\n",
       "      <td>2459.104252</td>\n",
       "      <td>3082.108437</td>\n",
       "      <td>3098.502466</td>\n",
       "      <td>2267.384334</td>\n",
       "      <td>2240.351297</td>\n",
       "      <td>2191.418078</td>\n",
       "      <td>2152.626136</td>\n",
       "      <td>2459.104252</td>\n",
       "      <td>3082.108437</td>\n",
       "      <td>3098.502466</td>\n",
       "    </tr>\n",
       "    <tr>\n",
       "      <th>4</th>\n",
       "      <td>CA_3_X_0.005_validation</td>\n",
       "      <td>5019.864044</td>\n",
       "      <td>4773.239399</td>\n",
       "      <td>4553.958404</td>\n",
       "      <td>4500.090973</td>\n",
       "      <td>4680.239972</td>\n",
       "      <td>5773.099582</td>\n",
       "      <td>6100.514294</td>\n",
       "      <td>5019.864044</td>\n",
       "      <td>4773.239399</td>\n",
       "      <td>...</td>\n",
       "      <td>4680.239972</td>\n",
       "      <td>5773.099582</td>\n",
       "      <td>6100.514294</td>\n",
       "      <td>5019.864044</td>\n",
       "      <td>4773.239399</td>\n",
       "      <td>4553.958404</td>\n",
       "      <td>4500.090973</td>\n",
       "      <td>4680.239972</td>\n",
       "      <td>5773.099582</td>\n",
       "      <td>6100.514294</td>\n",
       "    </tr>\n",
       "  </tbody>\n",
       "</table>\n",
       "<p>5 rows × 29 columns</p>\n",
       "</div>"
      ],
      "text/plain": [
       "                         id            F1            F2            F3  \\\n",
       "0  Total_X_0.005_validation  12049.690239  11469.103271  11118.868364   \n",
       "1     CA_X_0.005_validation  12049.690239  11469.103271  11118.868364   \n",
       "2   CA_1_X_0.005_validation   3222.735495   2955.418723   2877.028995   \n",
       "3   CA_2_X_0.005_validation   2267.384334   2240.351297   2191.418078   \n",
       "4   CA_3_X_0.005_validation   5019.864044   4773.239399   4553.958404   \n",
       "\n",
       "             F4            F5            F6            F7            F8  \\\n",
       "0  11003.497120  11942.995155  14883.606219  15273.599632  12049.690239   \n",
       "1  11003.497120  11942.995155  14883.606219  15273.599632  12049.690239   \n",
       "2   2886.745243   3210.020405   4066.729575   4113.371564   3222.735495   \n",
       "3   2152.626136   2459.104252   3082.108437   3098.502466   2267.384334   \n",
       "4   4500.090973   4680.239972   5773.099582   6100.514294   5019.864044   \n",
       "\n",
       "             F9  ...           F19           F20           F21           F22  \\\n",
       "0  11469.103271  ...  11942.995155  14883.606219  15273.599632  12049.690239   \n",
       "1  11469.103271  ...  11942.995155  14883.606219  15273.599632  12049.690239   \n",
       "2   2955.418723  ...   3210.020405   4066.729575   4113.371564   3222.735495   \n",
       "3   2240.351297  ...   2459.104252   3082.108437   3098.502466   2267.384334   \n",
       "4   4773.239399  ...   4680.239972   5773.099582   6100.514294   5019.864044   \n",
       "\n",
       "            F23           F24           F25           F26           F27  \\\n",
       "0  11469.103271  11118.868364  11003.497120  11942.995155  14883.606219   \n",
       "1  11469.103271  11118.868364  11003.497120  11942.995155  14883.606219   \n",
       "2   2955.418723   2877.028995   2886.745243   3210.020405   4066.729575   \n",
       "3   2240.351297   2191.418078   2152.626136   2459.104252   3082.108437   \n",
       "4   4773.239399   4553.958404   4500.090973   4680.239972   5773.099582   \n",
       "\n",
       "            F28  \n",
       "0  15273.599632  \n",
       "1  15273.599632  \n",
       "2   4113.371564  \n",
       "3   3098.502466  \n",
       "4   6100.514294  \n",
       "\n",
       "[5 rows x 29 columns]"
      ]
     },
     "execution_count": 21,
     "metadata": {},
     "output_type": "execute_result"
    }
   ],
   "source": [
    "final_pred.head()"
   ]
  },
  {
   "cell_type": "markdown",
   "metadata": {},
   "source": [
    "* ## Dataset persistence for submit"
   ]
  },
  {
   "cell_type": "code",
   "execution_count": 20,
   "metadata": {},
   "outputs": [],
   "source": [
    "if(IS_LOCAL_DEMO):\n",
    "    final_pred.to_csv(\"submission_{}.csv.gz\".format(model_name),compression='gzip',index=False)# for local demo\n",
    "else:\n",
    "    final_pred.to_csv(\"submission_{}.csv\".format(model_name),index=False)# for kaggle\n",
    "\n"
   ]
  },
  {
   "cell_type": "code",
   "execution_count": null,
   "metadata": {},
   "outputs": [],
   "source": []
  },
  {
   "cell_type": "code",
   "execution_count": null,
   "metadata": {},
   "outputs": [],
   "source": []
  },
  {
   "cell_type": "code",
   "execution_count": null,
   "metadata": {},
   "outputs": [],
   "source": []
  },
  {
   "cell_type": "code",
   "execution_count": null,
   "metadata": {},
   "outputs": [],
   "source": []
  },
  {
   "cell_type": "code",
   "execution_count": null,
   "metadata": {},
   "outputs": [],
   "source": []
  },
  {
   "cell_type": "code",
   "execution_count": null,
   "metadata": {},
   "outputs": [],
   "source": []
  },
  {
   "cell_type": "code",
   "execution_count": null,
   "metadata": {},
   "outputs": [],
   "source": []
  },
  {
   "cell_type": "code",
   "execution_count": null,
   "metadata": {},
   "outputs": [],
   "source": []
  },
  {
   "cell_type": "code",
   "execution_count": null,
   "metadata": {},
   "outputs": [],
   "source": []
  },
  {
   "cell_type": "code",
   "execution_count": null,
   "metadata": {},
   "outputs": [],
   "source": []
  }
 ],
 "metadata": {
  "kernelspec": {
   "display_name": "Python 3",
   "language": "python",
   "name": "python3"
  },
  "language_info": {
   "codemirror_mode": {
    "name": "ipython",
    "version": 3
   },
   "file_extension": ".py",
   "mimetype": "text/x-python",
   "name": "python",
   "nbconvert_exporter": "python",
   "pygments_lexer": "ipython3",
   "version": "3.6.10"
  }
 },
 "nbformat": 4,
 "nbformat_minor": 4
}
