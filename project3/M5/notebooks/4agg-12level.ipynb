{
 "cells": [
  {
   "cell_type": "markdown",
   "metadata": {
    "_cell_guid": "b1076dfc-b9ad-4769-8c92-a6c4dae69d19",
    "_uuid": "8f2839f25d086af736a60e9eeb907d3b93b6e0e5",
    "colab_type": "text",
    "id": "Ij8l6hxAFsXi"
   },
   "source": [
    "# 4 aggregate to 12 level"
   ]
  },
  {
   "cell_type": "markdown",
   "metadata": {
    "colab_type": "text",
    "id": "AuIol9VdFsXk"
   },
   "source": [
    "* ## Load the data and analysis libraries\n",
    "\n",
    "> ### Load libraries"
   ]
  },
  {
   "cell_type": "code",
   "execution_count": null,
   "metadata": {
    "_cell_guid": "79c7e3d0-c299-4dcb-8224-4455121ee9b0",
    "_uuid": "d629ff2d2480ee46fbb7e2d37f6b5fab8052498a",
    "colab": {},
    "colab_type": "code",
    "id": "IAdjSZeAFsXk"
   },
   "outputs": [],
   "source": [
    "import pandas as pd\n",
    "import numpy as np\n",
    "from tqdm.auto import tqdm as tqdm\n"
   ]
  },
  {
   "cell_type": "code",
   "execution_count": null,
   "metadata": {
    "colab": {},
    "colab_type": "code",
    "id": "WF96mPQlFsXp"
   },
   "outputs": [],
   "source": [
    "IS_LOCAL_DEMO = True\n",
    "# IS_LOCAL_DEMO = False"
   ]
  },
  {
   "cell_type": "markdown",
   "metadata": {
    "colab_type": "text",
    "id": "523ErXVjFsXt"
   },
   "source": [
    "> ### All models"
   ]
  },
  {
   "cell_type": "code",
   "execution_count": null,
   "metadata": {
    "colab": {},
    "colab_type": "code",
    "id": "k250ycfcFsXu"
   },
   "outputs": [],
   "source": [
    "model_name = \"knn\"\n",
    "# model_name = \"ridge\"\n",
    "# model_name = \"rf\"\n",
    "# model_name = \"xgb\"\n",
    "# model_name = \"lgm\"\n",
    "# model_name = \"mlp\""
   ]
  },
  {
   "cell_type": "code",
   "execution_count": null,
   "metadata": {
    "colab": {},
    "colab_type": "code",
    "id": "Nq2vebimFsXx"
   },
   "outputs": [],
   "source": [
    "if(IS_LOCAL_DEMO):\n",
    "    sub=pd.read_csv(\"submission_{}.csv.gz\".format(model_name)) # for local demo\n",
    "\n",
    "else:\n",
    "    sub=pd.read_csv(\"submission_{}.csv\".format(model_name)) # for kaggle\n"
   ]
  },
  {
   "cell_type": "code",
   "execution_count": null,
   "metadata": {
    "colab": {},
    "colab_type": "code",
    "id": "rQ4gfAcWFsX0",
    "outputId": "7a19e9fc-2488-484a-d49c-688793dd648c"
   },
   "outputs": [
    {
     "data": {
      "text/html": [
       "<div>\n",
       "<style scoped>\n",
       "    .dataframe tbody tr th:only-of-type {\n",
       "        vertical-align: middle;\n",
       "    }\n",
       "\n",
       "    .dataframe tbody tr th {\n",
       "        vertical-align: top;\n",
       "    }\n",
       "\n",
       "    .dataframe thead th {\n",
       "        text-align: right;\n",
       "    }\n",
       "</style>\n",
       "<table border=\"1\" class=\"dataframe\">\n",
       "  <thead>\n",
       "    <tr style=\"text-align: right;\">\n",
       "      <th></th>\n",
       "      <th>id</th>\n",
       "      <th>F1</th>\n",
       "      <th>F2</th>\n",
       "      <th>F3</th>\n",
       "      <th>F4</th>\n",
       "      <th>F5</th>\n",
       "      <th>F6</th>\n",
       "      <th>F7</th>\n",
       "      <th>F8</th>\n",
       "      <th>F9</th>\n",
       "      <th>...</th>\n",
       "      <th>F19</th>\n",
       "      <th>F20</th>\n",
       "      <th>F21</th>\n",
       "      <th>F22</th>\n",
       "      <th>F23</th>\n",
       "      <th>F24</th>\n",
       "      <th>F25</th>\n",
       "      <th>F26</th>\n",
       "      <th>F27</th>\n",
       "      <th>F28</th>\n",
       "    </tr>\n",
       "  </thead>\n",
       "  <tbody>\n",
       "    <tr>\n",
       "      <th>0</th>\n",
       "      <td>FOODS_1_001_CA_1_validation</td>\n",
       "      <td>2.403333</td>\n",
       "      <td>1.030000</td>\n",
       "      <td>1.030000</td>\n",
       "      <td>0.343333</td>\n",
       "      <td>1.030000</td>\n",
       "      <td>0.343333</td>\n",
       "      <td>5.493333</td>\n",
       "      <td>4.463333</td>\n",
       "      <td>1.716667</td>\n",
       "      <td>...</td>\n",
       "      <td>0.343333</td>\n",
       "      <td>1.030000</td>\n",
       "      <td>0.000000</td>\n",
       "      <td>1.373333</td>\n",
       "      <td>1.030000</td>\n",
       "      <td>1.030000</td>\n",
       "      <td>0.343333</td>\n",
       "      <td>1.030000</td>\n",
       "      <td>1.030000</td>\n",
       "      <td>0.343333</td>\n",
       "    </tr>\n",
       "    <tr>\n",
       "      <th>1</th>\n",
       "      <td>FOODS_1_001_CA_2_validation</td>\n",
       "      <td>0.343333</td>\n",
       "      <td>0.343333</td>\n",
       "      <td>0.343333</td>\n",
       "      <td>1.716667</td>\n",
       "      <td>0.343333</td>\n",
       "      <td>0.343333</td>\n",
       "      <td>1.716667</td>\n",
       "      <td>1.373333</td>\n",
       "      <td>0.343333</td>\n",
       "      <td>...</td>\n",
       "      <td>0.343333</td>\n",
       "      <td>0.343333</td>\n",
       "      <td>1.030000</td>\n",
       "      <td>0.686667</td>\n",
       "      <td>0.686667</td>\n",
       "      <td>1.030000</td>\n",
       "      <td>1.030000</td>\n",
       "      <td>0.686667</td>\n",
       "      <td>0.686667</td>\n",
       "      <td>1.030000</td>\n",
       "    </tr>\n",
       "    <tr>\n",
       "      <th>2</th>\n",
       "      <td>FOODS_1_001_CA_3_validation</td>\n",
       "      <td>0.686667</td>\n",
       "      <td>0.686667</td>\n",
       "      <td>0.686667</td>\n",
       "      <td>0.686667</td>\n",
       "      <td>0.686667</td>\n",
       "      <td>0.686667</td>\n",
       "      <td>0.000000</td>\n",
       "      <td>0.686667</td>\n",
       "      <td>0.343333</td>\n",
       "      <td>...</td>\n",
       "      <td>0.686667</td>\n",
       "      <td>0.686667</td>\n",
       "      <td>0.686667</td>\n",
       "      <td>0.686667</td>\n",
       "      <td>0.686667</td>\n",
       "      <td>0.686667</td>\n",
       "      <td>0.686667</td>\n",
       "      <td>0.686667</td>\n",
       "      <td>0.686667</td>\n",
       "      <td>0.686667</td>\n",
       "    </tr>\n",
       "  </tbody>\n",
       "</table>\n",
       "<p>3 rows × 29 columns</p>\n",
       "</div>"
      ],
      "text/plain": [
       "                            id        F1        F2        F3        F4  \\\n",
       "0  FOODS_1_001_CA_1_validation  2.403333  1.030000  1.030000  0.343333   \n",
       "1  FOODS_1_001_CA_2_validation  0.343333  0.343333  0.343333  1.716667   \n",
       "2  FOODS_1_001_CA_3_validation  0.686667  0.686667  0.686667  0.686667   \n",
       "\n",
       "         F5        F6        F7        F8        F9  ...       F19       F20  \\\n",
       "0  1.030000  0.343333  5.493333  4.463333  1.716667  ...  0.343333  1.030000   \n",
       "1  0.343333  0.343333  1.716667  1.373333  0.343333  ...  0.343333  0.343333   \n",
       "2  0.686667  0.686667  0.000000  0.686667  0.343333  ...  0.686667  0.686667   \n",
       "\n",
       "        F21       F22       F23       F24       F25       F26       F27  \\\n",
       "0  0.000000  1.373333  1.030000  1.030000  0.343333  1.030000  1.030000   \n",
       "1  1.030000  0.686667  0.686667  1.030000  1.030000  0.686667  0.686667   \n",
       "2  0.686667  0.686667  0.686667  0.686667  0.686667  0.686667  0.686667   \n",
       "\n",
       "        F28  \n",
       "0  0.343333  \n",
       "1  1.030000  \n",
       "2  0.686667  \n",
       "\n",
       "[3 rows x 29 columns]"
      ]
     },
     "execution_count": 5,
     "metadata": {
      "tags": []
     },
     "output_type": "execute_result"
    }
   ],
   "source": [
    "sub.head(3)"
   ]
  },
  {
   "cell_type": "code",
   "execution_count": null,
   "metadata": {
    "colab": {},
    "colab_type": "code",
    "id": "uAvkCxWnFsX5"
   },
   "outputs": [],
   "source": [
    "train_sales = pd.read_csv('../datasets/sales_train_validation.csv')\n",
    "submission_file = pd.read_csv('../datasets/sample_submission.csv')\n"
   ]
  },
  {
   "cell_type": "markdown",
   "metadata": {
    "colab_type": "text",
    "id": "B0dwtTvhFsX9"
   },
   "source": [
    "* ## Aggregate for 12 level\n",
    "\n",
    "> ### We refer to the M5 competitors Guide and the \"Building aggregate time series\" created by Sachin Agarwal to the aggregate format of the training result to fit for \"sample submission.\"\n",
    "\n",
    "[Building aggregate time series](https://www.kaggle.com/sachina/building-aggregate-time-series)"
   ]
  },
  {
   "cell_type": "code",
   "execution_count": null,
   "metadata": {
    "colab": {},
    "colab_type": "code",
    "id": "RbpemjTAFsX-"
   },
   "outputs": [],
   "source": [
    "sub_col = ['id']\n",
    "sub_col.extend([f'd_{day}' for day in range(1914, 1914+28)])\n",
    "sub.columns = sub_col"
   ]
  },
  {
   "cell_type": "code",
   "execution_count": null,
   "metadata": {
    "colab": {},
    "colab_type": "code",
    "id": "MDWhIDFNFsYB"
   },
   "outputs": [],
   "source": [
    "train_sales = train_sales.merge(sub, on='id')"
   ]
  },
  {
   "cell_type": "code",
   "execution_count": null,
   "metadata": {
    "colab": {},
    "colab_type": "code",
    "id": "6PUqDzk1FsYE"
   },
   "outputs": [],
   "source": [
    "total = ['Total']\n",
    "train_sales['Total'] = 'Total'\n",
    "train_sales['state_cat'] = train_sales.state_id + \"_\" + train_sales.cat_id\n",
    "train_sales['state_dept'] = train_sales.state_id + \"_\" + train_sales.dept_id\n",
    "train_sales['store_cat'] = train_sales.store_id + \"_\" + train_sales.cat_id\n",
    "train_sales['store_dept'] = train_sales.store_id + \"_\" + train_sales.dept_id\n",
    "train_sales['state_item'] = train_sales.state_id + \"_\" + train_sales.item_id\n",
    "train_sales['item_store'] = train_sales.item_id + \"_\" + train_sales.store_id"
   ]
  },
  {
   "cell_type": "code",
   "execution_count": null,
   "metadata": {
    "colab": {},
    "colab_type": "code",
    "id": "WtV0csXYFsYG",
    "outputId": "ad95b448-9f25-4888-f594-85d7e7da3e8b"
   },
   "outputs": [
    {
     "name": "stdout",
     "output_type": "stream",
     "text": [
      "['CA_1', 'CA_2', 'CA_3', 'CA_4', 'TX_1', 'TX_2', 'TX_3', 'WI_1', 'WI_2', 'WI_3']\n"
     ]
    }
   ],
   "source": [
    "val_eval = ['validation', 'evaluation']\n",
    "\n",
    "# creating lists for different aggregation levels\n",
    "total = ['Total']\n",
    "states = ['CA', 'TX', 'WI']\n",
    "num_stores = [('CA',4), ('TX',3), ('WI',3)]\n",
    "stores = [x[0] + \"_\" + str(y + 1) for x in num_stores for y in range(x[1])]\n",
    "print(stores)  # store_id"
   ]
  },
  {
   "cell_type": "code",
   "execution_count": null,
   "metadata": {
    "colab": {},
    "colab_type": "code",
    "id": "aBRY51jOFsYK",
    "outputId": "26c01af4-db49-4fce-d4cc-d6124cb89e7e"
   },
   "outputs": [
    {
     "name": "stdout",
     "output_type": "stream",
     "text": [
      "['CA_FOODS', 'CA_HOBBIES', 'CA_HOUSEHOLD', 'TX_FOODS', 'TX_HOBBIES', 'TX_HOUSEHOLD', 'WI_FOODS', 'WI_HOBBIES', 'WI_HOUSEHOLD']\n",
      "=================================================================\n",
      "['CA_1_FOODS_1', 'CA_1_FOODS_2', 'CA_1_FOODS_3', 'CA_1_HOBBIES_1', 'CA_1_HOBBIES_2', 'CA_1_HOUSEHOLD_1', 'CA_1_HOUSEHOLD_2', 'CA_2_FOODS_1', 'CA_2_FOODS_2', 'CA_2_FOODS_3', 'CA_2_HOBBIES_1', 'CA_2_HOBBIES_2', 'CA_2_HOUSEHOLD_1', 'CA_2_HOUSEHOLD_2', 'CA_3_FOODS_1', 'CA_3_FOODS_2', 'CA_3_FOODS_3', 'CA_3_HOBBIES_1', 'CA_3_HOBBIES_2', 'CA_3_HOUSEHOLD_1', 'CA_3_HOUSEHOLD_2', 'CA_4_FOODS_1', 'CA_4_FOODS_2', 'CA_4_FOODS_3', 'CA_4_HOBBIES_1', 'CA_4_HOBBIES_2', 'CA_4_HOUSEHOLD_1', 'CA_4_HOUSEHOLD_2', 'TX_1_FOODS_1', 'TX_1_FOODS_2', 'TX_1_FOODS_3', 'TX_1_HOBBIES_1', 'TX_1_HOBBIES_2', 'TX_1_HOUSEHOLD_1', 'TX_1_HOUSEHOLD_2', 'TX_2_FOODS_1', 'TX_2_FOODS_2', 'TX_2_FOODS_3', 'TX_2_HOBBIES_1', 'TX_2_HOBBIES_2', 'TX_2_HOUSEHOLD_1', 'TX_2_HOUSEHOLD_2', 'TX_3_FOODS_1', 'TX_3_FOODS_2', 'TX_3_FOODS_3', 'TX_3_HOBBIES_1', 'TX_3_HOBBIES_2', 'TX_3_HOUSEHOLD_1', 'TX_3_HOUSEHOLD_2', 'WI_1_FOODS_1', 'WI_1_FOODS_2', 'WI_1_FOODS_3', 'WI_1_HOBBIES_1', 'WI_1_HOBBIES_2', 'WI_1_HOUSEHOLD_1', 'WI_1_HOUSEHOLD_2', 'WI_2_FOODS_1', 'WI_2_FOODS_2', 'WI_2_FOODS_3', 'WI_2_HOBBIES_1', 'WI_2_HOBBIES_2', 'WI_2_HOUSEHOLD_1', 'WI_2_HOUSEHOLD_2', 'WI_3_FOODS_1', 'WI_3_FOODS_2', 'WI_3_FOODS_3', 'WI_3_HOBBIES_1', 'WI_3_HOBBIES_2', 'WI_3_HOUSEHOLD_1', 'WI_3_HOUSEHOLD_2']\n"
     ]
    }
   ],
   "source": [
    "cats = ['FOODS', 'HOBBIES', 'HOUSEHOLD']\n",
    "num_depts = [('FOODS',3), ('HOBBIES',2), ('HOUSEHOLD',2)]\n",
    "depts = [x[0] + \"_\" + str(y + 1) for x in num_depts for y in range(x[1])]\n",
    "state_cats = [state + \"_\" + cat for state in states for cat in cats]\n",
    "state_depts = [state + \"_\" + dept for state in states for dept in depts]\n",
    "store_cats = [store + \"_\" + cat for store in stores for cat in cats]\n",
    "store_depts = [store + \"_\" + dept for store in stores for dept in depts]\n",
    "print(state_cats)  # state and  category\n",
    "print(\"=================================================================\")\n",
    "print(store_depts)  # store_id + state_id +category_id"
   ]
  },
  {
   "cell_type": "code",
   "execution_count": null,
   "metadata": {
    "colab": {},
    "colab_type": "code",
    "id": "H_1C9SZMFsYN"
   },
   "outputs": [],
   "source": [
    "prods = list(train_sales.item_id.unique())  # product_list\n",
    "prod_state = [prod + \"_\" + state for prod in prods for state in states]  # product_id+state_id\n",
    "prod_store = [prod + \"_\" + store for prod in prods for store in stores]  # product_id + store_id"
   ]
  },
  {
   "cell_type": "code",
   "execution_count": null,
   "metadata": {
    "colab": {},
    "colab_type": "code",
    "id": "E4Ppq46UFsYQ"
   },
   "outputs": [],
   "source": [
    "quants = ['0.005', '0.025', '0.165', '0.250', '0.500', '0.750', '0.835', '0.975', '0.995']\n",
    "days = range(1, 1913 + 29)\n",
    "time_series_columns = [f'd_{i}' for i in days]"
   ]
  },
  {
   "cell_type": "code",
   "execution_count": null,
   "metadata": {
    "colab": {},
    "colab_type": "code",
    "id": "fPDztcK9FsYT"
   },
   "outputs": [],
   "source": [
    "def create_sales(name_list, group):\n",
    "    sales = train_sales.groupby(group)[time_series_columns].sum() \n",
    "    return sales"
   ]
  },
  {
   "cell_type": "code",
   "execution_count": null,
   "metadata": {
    "colab": {},
    "colab_type": "code",
    "id": "q6DKt_k8FsYW"
   },
   "outputs": [],
   "source": [
    "def create_quantile_dict(name_list = stores, group = 'store_id' ,X = False):\n",
    "    sales = create_sales(name_list, group)\n",
    "    sales = sales.iloc[:, 1857:] #using the last few months data only\n",
    "    sales_quants = pd.DataFrame(index = sales.index)  \n",
    "    for q in quants:\n",
    "        sales_quants[q] = np.quantile(sales, float(q), axis = 1)  \n",
    "    full_mean = pd.DataFrame(np.mean(sales, axis = 1))\n",
    "    daily_means = pd.DataFrame(index = sales.index)  \n",
    "    for i in range(7):\n",
    "        daily_means[str(i)] = np.mean(sales.iloc[:, i::7], axis = 1) \n",
    "        \n",
    "    daily_factors = daily_means / np.array(full_mean)\n",
    "    \n",
    "    daily_factors = pd.concat([daily_factors, daily_factors, daily_factors, daily_factors], axis = 1)\n",
    "    daily_factors_np = np.array(daily_factors)\n",
    "\n",
    "    factor_df = pd.DataFrame(daily_factors_np, columns = submission_file.columns[1:])\n",
    "    factor_df.index = daily_factors.index\n",
    "\n",
    "    for i,x in enumerate(tqdm(sales_quants.index)):\n",
    "        for q in quants:\n",
    "            v = sales_quants.loc[x, q] * np.array(factor_df.loc[x, :])\n",
    "            if X:\n",
    "                my_dict[x + \"_X_\" + q + \"_validation\"] = v\n",
    "                my_dict[x + \"_X_\" + q + \"_evaluation\"] = v\n",
    "            else:\n",
    "                my_dict[x + \"_\" + q + \"_validation\"] = v\n",
    "                my_dict[x + \"_\" + q + \"_evaluation\"] = v"
   ]
  },
  {
   "cell_type": "code",
   "execution_count": null,
   "metadata": {
    "colab": {
     "referenced_widgets": [
      "5832e7617f634c0f8fc693e96746622e",
      "1b5d1b341566404fa99b541c620ad42f",
      "c97a565793f1408cb8b349e36fbcd6d9",
      "8c605703d1a947fca60a91e0c27dc0a4",
      "74750d1062274f05b018fe3967a3eca0",
      "33e71df00ad245e3a8f87cbc400ed360",
      "e696d8a3c31c4088bab88bdc386a35dc",
      "54aa0427114b471ea6f723cb406ed5a5",
      "b4ecc1c23bc44c4680b6f677c7cfc40f",
      "8edbc2a618244564999f423e3394d65d",
      "a64bb7315f3b49f083f3d3d19e6d5c01",
      "6e9046e4cd6a4e709dc4a9518bde59e3"
     ]
    },
    "colab_type": "code",
    "id": "yVK4HYw0FsYZ",
    "outputId": "d64defc9-55dd-41f0-c685-516f0ce2fc3b"
   },
   "outputs": [
    {
     "data": {
      "application/vnd.jupyter.widget-view+json": {
       "model_id": "5832e7617f634c0f8fc693e96746622e",
       "version_major": 2,
       "version_minor": 0
      },
      "text/plain": [
       "HBox(children=(FloatProgress(value=0.0, max=1.0), HTML(value='')))"
      ]
     },
     "metadata": {
      "tags": []
     },
     "output_type": "display_data"
    },
    {
     "name": "stdout",
     "output_type": "stream",
     "text": [
      "\n"
     ]
    },
    {
     "data": {
      "application/vnd.jupyter.widget-view+json": {
       "model_id": "1b5d1b341566404fa99b541c620ad42f",
       "version_major": 2,
       "version_minor": 0
      },
      "text/plain": [
       "HBox(children=(FloatProgress(value=0.0, max=3.0), HTML(value='')))"
      ]
     },
     "metadata": {
      "tags": []
     },
     "output_type": "display_data"
    },
    {
     "name": "stdout",
     "output_type": "stream",
     "text": [
      "\n"
     ]
    },
    {
     "data": {
      "application/vnd.jupyter.widget-view+json": {
       "model_id": "c97a565793f1408cb8b349e36fbcd6d9",
       "version_major": 2,
       "version_minor": 0
      },
      "text/plain": [
       "HBox(children=(FloatProgress(value=0.0, max=10.0), HTML(value='')))"
      ]
     },
     "metadata": {
      "tags": []
     },
     "output_type": "display_data"
    },
    {
     "name": "stdout",
     "output_type": "stream",
     "text": [
      "\n"
     ]
    },
    {
     "data": {
      "application/vnd.jupyter.widget-view+json": {
       "model_id": "8c605703d1a947fca60a91e0c27dc0a4",
       "version_major": 2,
       "version_minor": 0
      },
      "text/plain": [
       "HBox(children=(FloatProgress(value=0.0, max=3.0), HTML(value='')))"
      ]
     },
     "metadata": {
      "tags": []
     },
     "output_type": "display_data"
    },
    {
     "name": "stdout",
     "output_type": "stream",
     "text": [
      "\n"
     ]
    },
    {
     "data": {
      "application/vnd.jupyter.widget-view+json": {
       "model_id": "74750d1062274f05b018fe3967a3eca0",
       "version_major": 2,
       "version_minor": 0
      },
      "text/plain": [
       "HBox(children=(FloatProgress(value=0.0, max=7.0), HTML(value='')))"
      ]
     },
     "metadata": {
      "tags": []
     },
     "output_type": "display_data"
    },
    {
     "name": "stdout",
     "output_type": "stream",
     "text": [
      "\n"
     ]
    },
    {
     "data": {
      "application/vnd.jupyter.widget-view+json": {
       "model_id": "33e71df00ad245e3a8f87cbc400ed360",
       "version_major": 2,
       "version_minor": 0
      },
      "text/plain": [
       "HBox(children=(FloatProgress(value=0.0, max=9.0), HTML(value='')))"
      ]
     },
     "metadata": {
      "tags": []
     },
     "output_type": "display_data"
    },
    {
     "name": "stdout",
     "output_type": "stream",
     "text": [
      "\n"
     ]
    },
    {
     "data": {
      "application/vnd.jupyter.widget-view+json": {
       "model_id": "e696d8a3c31c4088bab88bdc386a35dc",
       "version_major": 2,
       "version_minor": 0
      },
      "text/plain": [
       "HBox(children=(FloatProgress(value=0.0, max=21.0), HTML(value='')))"
      ]
     },
     "metadata": {
      "tags": []
     },
     "output_type": "display_data"
    },
    {
     "name": "stdout",
     "output_type": "stream",
     "text": [
      "\n"
     ]
    },
    {
     "data": {
      "application/vnd.jupyter.widget-view+json": {
       "model_id": "54aa0427114b471ea6f723cb406ed5a5",
       "version_major": 2,
       "version_minor": 0
      },
      "text/plain": [
       "HBox(children=(FloatProgress(value=0.0, max=30.0), HTML(value='')))"
      ]
     },
     "metadata": {
      "tags": []
     },
     "output_type": "display_data"
    },
    {
     "name": "stdout",
     "output_type": "stream",
     "text": [
      "\n"
     ]
    },
    {
     "data": {
      "application/vnd.jupyter.widget-view+json": {
       "model_id": "b4ecc1c23bc44c4680b6f677c7cfc40f",
       "version_major": 2,
       "version_minor": 0
      },
      "text/plain": [
       "HBox(children=(FloatProgress(value=0.0, max=70.0), HTML(value='')))"
      ]
     },
     "metadata": {
      "tags": []
     },
     "output_type": "display_data"
    },
    {
     "name": "stdout",
     "output_type": "stream",
     "text": [
      "\n"
     ]
    },
    {
     "data": {
      "application/vnd.jupyter.widget-view+json": {
       "model_id": "8edbc2a618244564999f423e3394d65d",
       "version_major": 2,
       "version_minor": 0
      },
      "text/plain": [
       "HBox(children=(FloatProgress(value=0.0, max=3049.0), HTML(value='')))"
      ]
     },
     "metadata": {
      "tags": []
     },
     "output_type": "display_data"
    },
    {
     "name": "stdout",
     "output_type": "stream",
     "text": [
      "\n"
     ]
    },
    {
     "data": {
      "application/vnd.jupyter.widget-view+json": {
       "model_id": "a64bb7315f3b49f083f3d3d19e6d5c01",
       "version_major": 2,
       "version_minor": 0
      },
      "text/plain": [
       "HBox(children=(FloatProgress(value=0.0, max=9147.0), HTML(value='')))"
      ]
     },
     "metadata": {
      "tags": []
     },
     "output_type": "display_data"
    },
    {
     "name": "stdout",
     "output_type": "stream",
     "text": [
      "\n"
     ]
    },
    {
     "data": {
      "application/vnd.jupyter.widget-view+json": {
       "model_id": "6e9046e4cd6a4e709dc4a9518bde59e3",
       "version_major": 2,
       "version_minor": 0
      },
      "text/plain": [
       "HBox(children=(FloatProgress(value=0.0, max=30490.0), HTML(value='')))"
      ]
     },
     "metadata": {
      "tags": []
     },
     "output_type": "display_data"
    },
    {
     "name": "stdout",
     "output_type": "stream",
     "text": [
      "\n"
     ]
    }
   ],
   "source": [
    "my_dict = {}\n",
    "#adding prediction to my_dict on all 12 aggregation levels\n",
    "create_quantile_dict(total, 'Total', X=True) #1\n",
    "create_quantile_dict(states, 'state_id', X=True) #2\n",
    "create_quantile_dict(stores, 'store_id', X=True) #3\n",
    "create_quantile_dict(cats, 'cat_id', X=True) #4\n",
    "create_quantile_dict(depts, 'dept_id', X=True) #5\n",
    "create_quantile_dict(state_cats, 'state_cat') #6\n",
    "create_quantile_dict(state_depts, 'state_dept') #7\n",
    "create_quantile_dict(store_cats, 'store_cat') #8\n",
    "create_quantile_dict(store_depts, 'store_dept') #9\n",
    "create_quantile_dict(prods, 'item_id', X=True) #10\n",
    "create_quantile_dict(prod_state, 'state_item') #11\n",
    "create_quantile_dict(prod_store, 'item_store') #12"
   ]
  },
  {
   "cell_type": "code",
   "execution_count": null,
   "metadata": {
    "colab": {},
    "colab_type": "code",
    "id": "gz3nNQW-FsYd"
   },
   "outputs": [],
   "source": [
    "pred_df = pd.DataFrame(my_dict)\n",
    "pred_df = pred_df.transpose()\n",
    "pred_df_reset = pred_df.reset_index()\n",
    "final_pred = pd.merge(pd.DataFrame(submission_file.id), pred_df_reset, left_on = 'id', right_on = 'index')\n",
    "del final_pred['index']\n",
    "final_pred = final_pred.rename(columns={0: 'F1', 1: 'F2', 2: 'F3', 3: 'F4', 4: 'F5', 5: 'F6', 6: 'F7', 7: 'F8', 8: 'F9',\n",
    "                                        9: 'F10', 10: 'F11', 11: 'F12', 12: 'F13', 13: 'F14', 14: 'F15', 15: 'F16',\n",
    "                                        16: 'F17', 17: 'F18', 18: 'F19', 19: 'F20', 20: 'F21', 21: 'F22', \n",
    "                                        22: 'F23', 23: 'F24', 24: 'F25', 25: 'F26', 26: 'F27', 27: 'F28'})"
   ]
  },
  {
   "cell_type": "code",
   "execution_count": null,
   "metadata": {
    "colab": {},
    "colab_type": "code",
    "id": "6ejvw9mzFsYg"
   },
   "outputs": [],
   "source": [
    "final_pred = final_pred.fillna(0)"
   ]
  },
  {
   "cell_type": "code",
   "execution_count": null,
   "metadata": {
    "colab": {},
    "colab_type": "code",
    "id": "QTKtBm-MFsYj",
    "outputId": "848f3a13-1b2e-4a18-a7a7-a21ceeb9526c"
   },
   "outputs": [
    {
     "data": {
      "text/html": [
       "<div>\n",
       "<style scoped>\n",
       "    .dataframe tbody tr th:only-of-type {\n",
       "        vertical-align: middle;\n",
       "    }\n",
       "\n",
       "    .dataframe tbody tr th {\n",
       "        vertical-align: top;\n",
       "    }\n",
       "\n",
       "    .dataframe thead th {\n",
       "        text-align: right;\n",
       "    }\n",
       "</style>\n",
       "<table border=\"1\" class=\"dataframe\">\n",
       "  <thead>\n",
       "    <tr style=\"text-align: right;\">\n",
       "      <th></th>\n",
       "      <th>id</th>\n",
       "      <th>F1</th>\n",
       "      <th>F2</th>\n",
       "      <th>F3</th>\n",
       "      <th>F4</th>\n",
       "      <th>F5</th>\n",
       "      <th>F6</th>\n",
       "      <th>F7</th>\n",
       "      <th>F8</th>\n",
       "      <th>F9</th>\n",
       "      <th>...</th>\n",
       "      <th>F19</th>\n",
       "      <th>F20</th>\n",
       "      <th>F21</th>\n",
       "      <th>F22</th>\n",
       "      <th>F23</th>\n",
       "      <th>F24</th>\n",
       "      <th>F25</th>\n",
       "      <th>F26</th>\n",
       "      <th>F27</th>\n",
       "      <th>F28</th>\n",
       "    </tr>\n",
       "  </thead>\n",
       "  <tbody>\n",
       "    <tr>\n",
       "      <th>0</th>\n",
       "      <td>Total_X_0.005_validation</td>\n",
       "      <td>31458.870306</td>\n",
       "      <td>30294.597819</td>\n",
       "      <td>29471.972597</td>\n",
       "      <td>29740.698403</td>\n",
       "      <td>32735.252302</td>\n",
       "      <td>38475.552508</td>\n",
       "      <td>38687.746065</td>\n",
       "      <td>31458.870306</td>\n",
       "      <td>30294.597819</td>\n",
       "      <td>...</td>\n",
       "      <td>32735.252302</td>\n",
       "      <td>38475.552508</td>\n",
       "      <td>38687.746065</td>\n",
       "      <td>31458.870306</td>\n",
       "      <td>30294.597819</td>\n",
       "      <td>29471.972597</td>\n",
       "      <td>29740.698403</td>\n",
       "      <td>32735.252302</td>\n",
       "      <td>38475.552508</td>\n",
       "      <td>38687.746065</td>\n",
       "    </tr>\n",
       "    <tr>\n",
       "      <th>1</th>\n",
       "      <td>CA_X_0.005_validation</td>\n",
       "      <td>13773.411070</td>\n",
       "      <td>13036.507860</td>\n",
       "      <td>12642.805540</td>\n",
       "      <td>12651.854274</td>\n",
       "      <td>13796.412027</td>\n",
       "      <td>16709.000323</td>\n",
       "      <td>17215.188908</td>\n",
       "      <td>13773.411070</td>\n",
       "      <td>13036.507860</td>\n",
       "      <td>...</td>\n",
       "      <td>13796.412027</td>\n",
       "      <td>16709.000323</td>\n",
       "      <td>17215.188908</td>\n",
       "      <td>13773.411070</td>\n",
       "      <td>13036.507860</td>\n",
       "      <td>12642.805540</td>\n",
       "      <td>12651.854274</td>\n",
       "      <td>13796.412027</td>\n",
       "      <td>16709.000323</td>\n",
       "      <td>17215.188908</td>\n",
       "    </tr>\n",
       "    <tr>\n",
       "      <th>2</th>\n",
       "      <td>TX_X_0.005_validation</td>\n",
       "      <td>8240.036818</td>\n",
       "      <td>8015.861403</td>\n",
       "      <td>7755.424596</td>\n",
       "      <td>7913.512449</td>\n",
       "      <td>8414.425378</td>\n",
       "      <td>9501.853852</td>\n",
       "      <td>9882.815504</td>\n",
       "      <td>8240.036818</td>\n",
       "      <td>8015.861403</td>\n",
       "      <td>...</td>\n",
       "      <td>8414.425378</td>\n",
       "      <td>9501.853852</td>\n",
       "      <td>9882.815504</td>\n",
       "      <td>8240.036818</td>\n",
       "      <td>8015.861403</td>\n",
       "      <td>7755.424596</td>\n",
       "      <td>7913.512449</td>\n",
       "      <td>8414.425378</td>\n",
       "      <td>9501.853852</td>\n",
       "      <td>9882.815504</td>\n",
       "    </tr>\n",
       "    <tr>\n",
       "      <th>3</th>\n",
       "      <td>WI_X_0.005_validation</td>\n",
       "      <td>8553.242492</td>\n",
       "      <td>8369.797001</td>\n",
       "      <td>8218.915432</td>\n",
       "      <td>8309.787403</td>\n",
       "      <td>9541.533135</td>\n",
       "      <td>11124.206388</td>\n",
       "      <td>10498.643150</td>\n",
       "      <td>8553.242492</td>\n",
       "      <td>8369.797001</td>\n",
       "      <td>...</td>\n",
       "      <td>9541.533135</td>\n",
       "      <td>11124.206388</td>\n",
       "      <td>10498.643150</td>\n",
       "      <td>8553.242492</td>\n",
       "      <td>8369.797001</td>\n",
       "      <td>8218.915432</td>\n",
       "      <td>8309.787403</td>\n",
       "      <td>9541.533135</td>\n",
       "      <td>11124.206388</td>\n",
       "      <td>10498.643150</td>\n",
       "    </tr>\n",
       "    <tr>\n",
       "      <th>4</th>\n",
       "      <td>CA_1_X_0.005_validation</td>\n",
       "      <td>3207.951461</td>\n",
       "      <td>2945.859296</td>\n",
       "      <td>2875.196058</td>\n",
       "      <td>2908.712405</td>\n",
       "      <td>3258.446079</td>\n",
       "      <td>4033.782651</td>\n",
       "      <td>4102.102050</td>\n",
       "      <td>3207.951461</td>\n",
       "      <td>2945.859296</td>\n",
       "      <td>...</td>\n",
       "      <td>3258.446079</td>\n",
       "      <td>4033.782651</td>\n",
       "      <td>4102.102050</td>\n",
       "      <td>3207.951461</td>\n",
       "      <td>2945.859296</td>\n",
       "      <td>2875.196058</td>\n",
       "      <td>2908.712405</td>\n",
       "      <td>3258.446079</td>\n",
       "      <td>4033.782651</td>\n",
       "      <td>4102.102050</td>\n",
       "    </tr>\n",
       "  </tbody>\n",
       "</table>\n",
       "<p>5 rows × 29 columns</p>\n",
       "</div>"
      ],
      "text/plain": [
       "                         id            F1            F2            F3  \\\n",
       "0  Total_X_0.005_validation  31458.870306  30294.597819  29471.972597   \n",
       "1     CA_X_0.005_validation  13773.411070  13036.507860  12642.805540   \n",
       "2     TX_X_0.005_validation   8240.036818   8015.861403   7755.424596   \n",
       "3     WI_X_0.005_validation   8553.242492   8369.797001   8218.915432   \n",
       "4   CA_1_X_0.005_validation   3207.951461   2945.859296   2875.196058   \n",
       "\n",
       "             F4            F5            F6            F7            F8  \\\n",
       "0  29740.698403  32735.252302  38475.552508  38687.746065  31458.870306   \n",
       "1  12651.854274  13796.412027  16709.000323  17215.188908  13773.411070   \n",
       "2   7913.512449   8414.425378   9501.853852   9882.815504   8240.036818   \n",
       "3   8309.787403   9541.533135  11124.206388  10498.643150   8553.242492   \n",
       "4   2908.712405   3258.446079   4033.782651   4102.102050   3207.951461   \n",
       "\n",
       "             F9  ...           F19           F20           F21           F22  \\\n",
       "0  30294.597819  ...  32735.252302  38475.552508  38687.746065  31458.870306   \n",
       "1  13036.507860  ...  13796.412027  16709.000323  17215.188908  13773.411070   \n",
       "2   8015.861403  ...   8414.425378   9501.853852   9882.815504   8240.036818   \n",
       "3   8369.797001  ...   9541.533135  11124.206388  10498.643150   8553.242492   \n",
       "4   2945.859296  ...   3258.446079   4033.782651   4102.102050   3207.951461   \n",
       "\n",
       "            F23           F24           F25           F26           F27  \\\n",
       "0  30294.597819  29471.972597  29740.698403  32735.252302  38475.552508   \n",
       "1  13036.507860  12642.805540  12651.854274  13796.412027  16709.000323   \n",
       "2   8015.861403   7755.424596   7913.512449   8414.425378   9501.853852   \n",
       "3   8369.797001   8218.915432   8309.787403   9541.533135  11124.206388   \n",
       "4   2945.859296   2875.196058   2908.712405   3258.446079   4033.782651   \n",
       "\n",
       "            F28  \n",
       "0  38687.746065  \n",
       "1  17215.188908  \n",
       "2   9882.815504  \n",
       "3  10498.643150  \n",
       "4   4102.102050  \n",
       "\n",
       "[5 rows x 29 columns]"
      ]
     },
     "execution_count": 19,
     "metadata": {
      "tags": []
     },
     "output_type": "execute_result"
    }
   ],
   "source": [
    "final_pred.head()"
   ]
  },
  {
   "cell_type": "markdown",
   "metadata": {
    "colab_type": "text",
    "id": "GGlPjNWsFsYl"
   },
   "source": [
    "* ## Dataset persistence for submit"
   ]
  },
  {
   "cell_type": "code",
   "execution_count": null,
   "metadata": {
    "colab": {},
    "colab_type": "code",
    "id": "k3Qu_xJvFsYm"
   },
   "outputs": [],
   "source": [
    "if(IS_LOCAL_DEMO):\n",
    "    final_pred.to_csv(\"submission_{}.csv.gz\".format(model_name),compression='gzip',index=False)# for local demo\n",
    "else:\n",
    "    final_pred.to_csv(\"submission_{}.csv\".format(model_name),index=False)# for kaggle\n",
    "\n"
   ]
  },
  {
   "cell_type": "code",
   "execution_count": null,
   "metadata": {
    "colab": {},
    "colab_type": "code",
    "id": "q4D6mCJcFsYo"
   },
   "outputs": [],
   "source": []
  },
  {
   "cell_type": "code",
   "execution_count": null,
   "metadata": {
    "colab": {},
    "colab_type": "code",
    "id": "xp_T7H7VFsYr"
   },
   "outputs": [],
   "source": []
  },
  {
   "cell_type": "code",
   "execution_count": null,
   "metadata": {
    "colab": {},
    "colab_type": "code",
    "id": "AmcBjSEzFsYt"
   },
   "outputs": [],
   "source": []
  },
  {
   "cell_type": "code",
   "execution_count": null,
   "metadata": {
    "colab": {},
    "colab_type": "code",
    "id": "6fCKmbzbFsYw"
   },
   "outputs": [],
   "source": []
  },
  {
   "cell_type": "code",
   "execution_count": null,
   "metadata": {
    "colab": {},
    "colab_type": "code",
    "id": "euWZIX4AFsYz"
   },
   "outputs": [],
   "source": []
  },
  {
   "cell_type": "code",
   "execution_count": null,
   "metadata": {
    "colab": {},
    "colab_type": "code",
    "id": "YLyx4BliFsY2"
   },
   "outputs": [],
   "source": []
  },
  {
   "cell_type": "code",
   "execution_count": null,
   "metadata": {
    "colab": {},
    "colab_type": "code",
    "id": "0CJpP69jFsY4"
   },
   "outputs": [],
   "source": []
  },
  {
   "cell_type": "code",
   "execution_count": null,
   "metadata": {
    "colab": {},
    "colab_type": "code",
    "id": "0qDiWQvzFsY7"
   },
   "outputs": [],
   "source": []
  },
  {
   "cell_type": "code",
   "execution_count": null,
   "metadata": {
    "colab": {},
    "colab_type": "code",
    "id": "wzg_07UGFsY9"
   },
   "outputs": [],
   "source": []
  },
  {
   "cell_type": "code",
   "execution_count": null,
   "metadata": {
    "colab": {},
    "colab_type": "code",
    "id": "rESB5P6PFsZA"
   },
   "outputs": [],
   "source": []
  }
 ],
 "metadata": {
  "colab": {
   "collapsed_sections": [],
   "name": "4agg-12level.ipynb",
   "provenance": []
  },
  "kernelspec": {
   "display_name": "Python 3",
   "language": "python",
   "name": "python3"
  },
  "language_info": {
   "codemirror_mode": {
    "name": "ipython",
    "version": 3
   },
   "file_extension": ".py",
   "mimetype": "text/x-python",
   "name": "python",
   "nbconvert_exporter": "python",
   "pygments_lexer": "ipython3",
   "version": "3.7.4"
  }
 },
 "nbformat": 4,
 "nbformat_minor": 4
}
