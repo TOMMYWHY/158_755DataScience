{
 "cells": [
  {
   "cell_type": "markdown",
   "metadata": {},
   "source": [
    "# Modeling : XGBoost"
   ]
  },
  {
   "cell_type": "code",
   "execution_count": 1,
   "metadata": {},
   "outputs": [],
   "source": [
    "from  datetime import datetime, timedelta\n",
    "import gc\n",
    "import numpy as np, pandas as pd\n",
    "import lightgbm as lgb\n",
    "import xgboost as xgb\n"
   ]
  },
  {
   "cell_type": "code",
   "execution_count": 2,
   "metadata": {},
   "outputs": [],
   "source": [
    "# PRICE_DTYPES = {\"store_id\": \"category\", \"item_id\": \"category\", \"wm_yr_wk\": \"int16\",\"sell_price\":\"float32\" }\n",
    "# prices = pd.read_csv(\"../datasets/sell_prices.csv\", dtype = PRICE_DTYPES)\n",
    "# for col, col_dtype in PRICE_DTYPES.items():\n",
    "#     if col_dtype == \"category\":\n",
    "#         prices[col] = prices[col].cat.codes.astype(\"int16\")  # 类似于labelencoder，将store_id和item_id数字化表示\n",
    "#         prices[col] -= prices[col].min()  \n",
    "# # prices.head(1)"
   ]
  },
  {
   "cell_type": "code",
   "execution_count": 3,
   "metadata": {},
   "outputs": [],
   "source": [
    "# CAL_DTYPES={\"event_name_1\": \"category\", \"event_name_2\": \"category\", \"event_type_1\": \"category\", \n",
    "#          \"event_type_2\": \"category\", \"weekday\": \"category\", 'wm_yr_wk': 'int16', \"wday\": \"int16\",\n",
    "#         \"month\": \"int16\", \"year\": \"int16\", \"snap_CA\": \"float32\", 'snap_TX': 'float32', 'snap_WI': 'float32' }\n",
    "# cal = pd.read_csv(\"../datasets/calendar.csv\", dtype = CAL_DTYPES)\n",
    "# cal[\"date\"] = pd.to_datetime(cal[\"date\"])  #  转化为datetime类型\n",
    "# for col, col_dtype in CAL_DTYPES.items():\n",
    "#     if col_dtype == \"category\":\n",
    "#         cal[col] = cal[col].cat.codes.astype(\"int16\")  # 将event_name_1/event_type_1/event_name_2/event_type_2weekday数字化表示\n",
    "#         cal[col] -= cal[col].min()  # NaN会转换为-1，该代表将NaN归为0，其他从1开始\n",
    "# # cal.head(1)"
   ]
  },
  {
   "cell_type": "code",
   "execution_count": 4,
   "metadata": {},
   "outputs": [],
   "source": [
    "# h = 28 \n",
    "# max_lags = 57\n",
    "# last_day = 1913  # 历史的最后一天\n",
    "# fday = datetime(2016,4, 25)  # 预测的第一天\n",
    "# fday\n",
    "# nrows_demo=None\n",
    "# # nrows_demo=10000"
   ]
  },
  {
   "cell_type": "code",
   "execution_count": 5,
   "metadata": {},
   "outputs": [],
   "source": [
    "# %time\n",
    "# first_day = 1850\n",
    "# numcols = [f\"d_{day}\" for day in range(first_day, last_day + 1)]  # 选取历史数据，从first_day到tr_last（包含这一天）d_1200,d_1201\n",
    "# catcols = ['id', 'item_id', 'dept_id','store_id', 'cat_id', 'state_id']\n",
    "# dtype = {numcol: \"float32\" for numcol in numcols}   # d_1200为float32\n",
    "\n",
    "# dtype.update({col: \"category\" for col in catcols if col != \"id\"})  # 除id外，都为category类型\n",
    "# dt = pd.read_csv(\"../datasets/sales_train_validation.csv\", usecols = catcols + numcols, dtype = dtype,nrows=nrows_demo)  # 取catcols和numcols的列(只取了需要的历史天数销量数据)\n",
    "# dt"
   ]
  },
  {
   "cell_type": "code",
   "execution_count": 6,
   "metadata": {},
   "outputs": [],
   "source": [
    "# for col in catcols:\n",
    "#         if col != \"id\":\n",
    "#             dt[col] = dt[col].cat.codes.astype(\"int16\")  # 数字化\n",
    "#             dt[col] -= dt[col].min()\n",
    "    \n",
    "    \n",
    "# for day in range(last_day + 1, last_day + 28 +1):  # 遍历预测的每一天\n",
    "#     dt[f\"d_{day}\"] = np.nan  # 先填充为NaN\n",
    "\n",
    "# dt = pd.melt(dt,\n",
    "#               id_vars = catcols,\n",
    "#               value_vars = [col for col in dt.columns if col.startswith(\"d_\")],\n",
    "#               var_name = \"d\",\n",
    "#               value_name = \"sales\")\n",
    "\n"
   ]
  },
  {
   "cell_type": "code",
   "execution_count": 7,
   "metadata": {},
   "outputs": [],
   "source": [
    "# dt = dt.merge(cal, on= \"d\", copy = False)\n",
    "# dt = dt.merge(prices, on = [\"store_id\", \"item_id\", \"wm_yr_wk\"], copy = False)"
   ]
  },
  {
   "cell_type": "code",
   "execution_count": 8,
   "metadata": {},
   "outputs": [],
   "source": [
    "# dt.head()"
   ]
  },
  {
   "cell_type": "code",
   "execution_count": 9,
   "metadata": {},
   "outputs": [],
   "source": [
    "# FIRST_DAY = 1750"
   ]
  },
  {
   "cell_type": "code",
   "execution_count": 10,
   "metadata": {},
   "outputs": [],
   "source": [
    "# dt[\"d\"]=dt[\"d\"].apply(lambda x: int(x.split(\"_\")[1])) # d_1 to 1\n"
   ]
  },
  {
   "cell_type": "code",
   "execution_count": 11,
   "metadata": {},
   "outputs": [],
   "source": [
    "IS_LOCAL_DEMO = True\n",
    "# IS_LOCAL_DEMO = False"
   ]
  },
  {
   "cell_type": "code",
   "execution_count": 12,
   "metadata": {},
   "outputs": [],
   "source": [
    "max_lags = 57\n",
    "last_day = 1913  \n",
    "fday = datetime(2016,4, 25) "
   ]
  },
  {
   "cell_type": "code",
   "execution_count": 13,
   "metadata": {},
   "outputs": [
    {
     "name": "stdout",
     "output_type": "stream",
     "text": [
      "loading: train_data.csv.gz\n"
     ]
    }
   ],
   "source": [
    "data_file = (\"train_data.csv.gz\" if(IS_LOCAL_DEMO) else \"train_data.csv\")\n",
    "dt = pd.read_csv(data_file)\n",
    "\n",
    "print(\"loading:\",data_file)"
   ]
  },
  {
   "cell_type": "code",
   "execution_count": 14,
   "metadata": {},
   "outputs": [],
   "source": [
    "dt[\"date\"] = pd.to_datetime(dt[\"date\"])  \n"
   ]
  },
  {
   "cell_type": "code",
   "execution_count": 15,
   "metadata": {},
   "outputs": [],
   "source": [
    "df = dt.copy()"
   ]
  },
  {
   "cell_type": "code",
   "execution_count": null,
   "metadata": {},
   "outputs": [],
   "source": []
  },
  {
   "cell_type": "code",
   "execution_count": 16,
   "metadata": {},
   "outputs": [],
   "source": [
    "def create_fea(dt):\n",
    "    lags = [7, 28]\n",
    "    lag_cols = [f\"lag_{lag}\" for lag in lags ]\n",
    "    for lag, lag_col in zip(lags, lag_cols):  # [(7, lag_7), (28, lag_28)]\n",
    "        dt[lag_col] = dt[[\"id\",\"sales\"]].groupby(\"id\")[\"sales\"].shift(lag)  \n",
    "\n",
    "    wins = [7, 28]\n",
    "    for win in wins :\n",
    "        for lag,lag_col in zip(lags, lag_cols):\n",
    "            dt[f\"rmean_{lag}_{win}\"] = dt[[\"id\", lag_col]].groupby(\"id\")[lag_col].transform(lambda x : x.rolling(win).mean()) \n",
    "\n",
    "    date_features = {\"wday\": \"weekday\", \"week\": \"weekofyear\", \"month\": \"month\",\"quarter\": \"quarter\",  \"year\": \"year\",\"mday\": \"day\" }\n",
    "    \n",
    "    for date_feat_name, date_feat_func in date_features.items():\n",
    "        if date_feat_name in dt.columns:\n",
    "            dt[date_feat_name] = dt[date_feat_name].astype(\"int16\")\n",
    "        else:\n",
    "            dt[date_feat_name] = getattr(dt[\"date\"].dt, date_feat_func).astype(\"int16\")"
   ]
  },
  {
   "cell_type": "code",
   "execution_count": 17,
   "metadata": {},
   "outputs": [],
   "source": [
    "create_fea(df)"
   ]
  },
  {
   "cell_type": "code",
   "execution_count": 18,
   "metadata": {},
   "outputs": [
    {
     "data": {
      "text/html": [
       "<div>\n",
       "<style scoped>\n",
       "    .dataframe tbody tr th:only-of-type {\n",
       "        vertical-align: middle;\n",
       "    }\n",
       "\n",
       "    .dataframe tbody tr th {\n",
       "        vertical-align: top;\n",
       "    }\n",
       "\n",
       "    .dataframe thead th {\n",
       "        text-align: right;\n",
       "    }\n",
       "</style>\n",
       "<table border=\"1\" class=\"dataframe\">\n",
       "  <thead>\n",
       "    <tr style=\"text-align: right;\">\n",
       "      <th></th>\n",
       "      <th>id</th>\n",
       "      <th>item_id</th>\n",
       "      <th>dept_id</th>\n",
       "      <th>store_id</th>\n",
       "      <th>cat_id</th>\n",
       "      <th>state_id</th>\n",
       "      <th>d</th>\n",
       "      <th>sales</th>\n",
       "      <th>date</th>\n",
       "      <th>wm_yr_wk</th>\n",
       "      <th>...</th>\n",
       "      <th>sell_price</th>\n",
       "      <th>lag_7</th>\n",
       "      <th>lag_28</th>\n",
       "      <th>rmean_7_7</th>\n",
       "      <th>rmean_28_7</th>\n",
       "      <th>rmean_7_28</th>\n",
       "      <th>rmean_28_28</th>\n",
       "      <th>week</th>\n",
       "      <th>quarter</th>\n",
       "      <th>mday</th>\n",
       "    </tr>\n",
       "  </thead>\n",
       "  <tbody>\n",
       "    <tr>\n",
       "      <th>0</th>\n",
       "      <td>HOBBIES_1_001_CA_1_validation</td>\n",
       "      <td>0</td>\n",
       "      <td>0</td>\n",
       "      <td>0</td>\n",
       "      <td>0</td>\n",
       "      <td>0</td>\n",
       "      <td>1850</td>\n",
       "      <td>0.0</td>\n",
       "      <td>2016-02-21</td>\n",
       "      <td>11604</td>\n",
       "      <td>...</td>\n",
       "      <td>8.26</td>\n",
       "      <td>NaN</td>\n",
       "      <td>NaN</td>\n",
       "      <td>NaN</td>\n",
       "      <td>NaN</td>\n",
       "      <td>NaN</td>\n",
       "      <td>NaN</td>\n",
       "      <td>7</td>\n",
       "      <td>1</td>\n",
       "      <td>21</td>\n",
       "    </tr>\n",
       "    <tr>\n",
       "      <th>1</th>\n",
       "      <td>HOBBIES_1_001_CA_1_validation</td>\n",
       "      <td>0</td>\n",
       "      <td>0</td>\n",
       "      <td>0</td>\n",
       "      <td>0</td>\n",
       "      <td>0</td>\n",
       "      <td>1851</td>\n",
       "      <td>4.0</td>\n",
       "      <td>2016-02-22</td>\n",
       "      <td>11604</td>\n",
       "      <td>...</td>\n",
       "      <td>8.26</td>\n",
       "      <td>NaN</td>\n",
       "      <td>NaN</td>\n",
       "      <td>NaN</td>\n",
       "      <td>NaN</td>\n",
       "      <td>NaN</td>\n",
       "      <td>NaN</td>\n",
       "      <td>8</td>\n",
       "      <td>1</td>\n",
       "      <td>22</td>\n",
       "    </tr>\n",
       "    <tr>\n",
       "      <th>2</th>\n",
       "      <td>HOBBIES_1_001_CA_1_validation</td>\n",
       "      <td>0</td>\n",
       "      <td>0</td>\n",
       "      <td>0</td>\n",
       "      <td>0</td>\n",
       "      <td>0</td>\n",
       "      <td>1852</td>\n",
       "      <td>0.0</td>\n",
       "      <td>2016-02-23</td>\n",
       "      <td>11604</td>\n",
       "      <td>...</td>\n",
       "      <td>8.26</td>\n",
       "      <td>NaN</td>\n",
       "      <td>NaN</td>\n",
       "      <td>NaN</td>\n",
       "      <td>NaN</td>\n",
       "      <td>NaN</td>\n",
       "      <td>NaN</td>\n",
       "      <td>8</td>\n",
       "      <td>1</td>\n",
       "      <td>23</td>\n",
       "    </tr>\n",
       "    <tr>\n",
       "      <th>3</th>\n",
       "      <td>HOBBIES_1_001_CA_1_validation</td>\n",
       "      <td>0</td>\n",
       "      <td>0</td>\n",
       "      <td>0</td>\n",
       "      <td>0</td>\n",
       "      <td>0</td>\n",
       "      <td>1853</td>\n",
       "      <td>1.0</td>\n",
       "      <td>2016-02-24</td>\n",
       "      <td>11604</td>\n",
       "      <td>...</td>\n",
       "      <td>8.26</td>\n",
       "      <td>NaN</td>\n",
       "      <td>NaN</td>\n",
       "      <td>NaN</td>\n",
       "      <td>NaN</td>\n",
       "      <td>NaN</td>\n",
       "      <td>NaN</td>\n",
       "      <td>8</td>\n",
       "      <td>1</td>\n",
       "      <td>24</td>\n",
       "    </tr>\n",
       "    <tr>\n",
       "      <th>4</th>\n",
       "      <td>HOBBIES_1_001_CA_1_validation</td>\n",
       "      <td>0</td>\n",
       "      <td>0</td>\n",
       "      <td>0</td>\n",
       "      <td>0</td>\n",
       "      <td>0</td>\n",
       "      <td>1854</td>\n",
       "      <td>0.0</td>\n",
       "      <td>2016-02-25</td>\n",
       "      <td>11604</td>\n",
       "      <td>...</td>\n",
       "      <td>8.26</td>\n",
       "      <td>NaN</td>\n",
       "      <td>NaN</td>\n",
       "      <td>NaN</td>\n",
       "      <td>NaN</td>\n",
       "      <td>NaN</td>\n",
       "      <td>NaN</td>\n",
       "      <td>8</td>\n",
       "      <td>1</td>\n",
       "      <td>25</td>\n",
       "    </tr>\n",
       "  </tbody>\n",
       "</table>\n",
       "<p>5 rows × 31 columns</p>\n",
       "</div>"
      ],
      "text/plain": [
       "                              id  item_id  dept_id  store_id  cat_id  \\\n",
       "0  HOBBIES_1_001_CA_1_validation        0        0         0       0   \n",
       "1  HOBBIES_1_001_CA_1_validation        0        0         0       0   \n",
       "2  HOBBIES_1_001_CA_1_validation        0        0         0       0   \n",
       "3  HOBBIES_1_001_CA_1_validation        0        0         0       0   \n",
       "4  HOBBIES_1_001_CA_1_validation        0        0         0       0   \n",
       "\n",
       "   state_id     d  sales       date  wm_yr_wk  ...  sell_price  lag_7  lag_28  \\\n",
       "0         0  1850    0.0 2016-02-21     11604  ...        8.26    NaN     NaN   \n",
       "1         0  1851    4.0 2016-02-22     11604  ...        8.26    NaN     NaN   \n",
       "2         0  1852    0.0 2016-02-23     11604  ...        8.26    NaN     NaN   \n",
       "3         0  1853    1.0 2016-02-24     11604  ...        8.26    NaN     NaN   \n",
       "4         0  1854    0.0 2016-02-25     11604  ...        8.26    NaN     NaN   \n",
       "\n",
       "   rmean_7_7  rmean_28_7  rmean_7_28  rmean_28_28  week  quarter  mday  \n",
       "0        NaN         NaN         NaN          NaN     7        1    21  \n",
       "1        NaN         NaN         NaN          NaN     8        1    22  \n",
       "2        NaN         NaN         NaN          NaN     8        1    23  \n",
       "3        NaN         NaN         NaN          NaN     8        1    24  \n",
       "4        NaN         NaN         NaN          NaN     8        1    25  \n",
       "\n",
       "[5 rows x 31 columns]"
      ]
     },
     "execution_count": 18,
     "metadata": {},
     "output_type": "execute_result"
    }
   ],
   "source": [
    "df.head()"
   ]
  },
  {
   "cell_type": "code",
   "execution_count": 19,
   "metadata": {},
   "outputs": [
    {
     "data": {
      "text/plain": [
       "(90000, 31)"
      ]
     },
     "execution_count": 19,
     "metadata": {},
     "output_type": "execute_result"
    }
   ],
   "source": [
    "df.dropna(inplace = True)\n",
    "df.shape"
   ]
  },
  {
   "cell_type": "code",
   "execution_count": 20,
   "metadata": {},
   "outputs": [
    {
     "name": "stdout",
     "output_type": "stream",
     "text": [
      "1000\n"
     ]
    }
   ],
   "source": [
    "cat_feats = ['item_id', 'dept_id','store_id', 'cat_id', 'state_id'] + [\"event_name_1\", \"event_name_2\", \"event_type_1\", \"event_type_2\"]\n",
    "useless_cols = [\"id\", \"date\", \"sales\",\"d\", \"wm_yr_wk\", \"weekday\"]\n",
    "train_cols = df.columns[~df.columns.isin(useless_cols)]\n",
    "X_train = df[train_cols]\n",
    "y_train = df[\"sales\"]\n",
    "\n",
    "np.random.seed(777)\n",
    "\n",
    "fake_valid_inds = np.random.choice(X_train.index.values, 1_000, replace = False)  \n",
    "print(len(fake_valid_inds))"
   ]
  },
  {
   "cell_type": "code",
   "execution_count": 21,
   "metadata": {},
   "outputs": [],
   "source": [
    "train_inds = np.setdiff1d(X_train.index.values, fake_valid_inds)  \n",
    "train_data = xgb.DMatrix(X_train.loc[train_inds] , label = y_train.loc[train_inds])\n",
    "fake_valid_data = xgb.DMatrix(X_train.loc[fake_valid_inds], label = y_train.loc[fake_valid_inds],)\n"
   ]
  },
  {
   "cell_type": "code",
   "execution_count": 22,
   "metadata": {},
   "outputs": [],
   "source": [
    "params = {'eta':0.1,\n",
    "          'gamma':0.1,\n",
    "          'max_depth':8, \n",
    "          'subsample':1,\n",
    "          'lambda': 0.1,\n",
    "          'alpha':0.1,\n",
    "          'objective':'count:poisson', \n",
    "          'eval_metric':'rmse',\n",
    "          'min_child_weight':1,\n",
    "          'colsample_bytree':1,\n",
    "          'colsample_bylevel':1,\n",
    "          # 'scale_pos_weight':0.8, \n",
    "          # 'max_delta_step':0,\n",
    "          # 'max_leaves': 0\n",
    "          'seed':666,    \n",
    "}  "
   ]
  },
  {
   "cell_type": "code",
   "execution_count": 23,
   "metadata": {},
   "outputs": [
    {
     "name": "stdout",
     "output_type": "stream",
     "text": [
      "[0]\ttrain-rmse:4.08967\tvalid-rmse:3.65727\n",
      "Multiple eval metrics have been passed: 'valid-rmse' will be used for early stopping.\n",
      "\n",
      "Will train until valid-rmse hasn't improved in 20 rounds.\n",
      "[1]\ttrain-rmse:4.07823\tvalid-rmse:3.64495\n",
      "[2]\ttrain-rmse:4.06623\tvalid-rmse:3.63219\n",
      "[3]\ttrain-rmse:4.05363\tvalid-rmse:3.61869\n",
      "[4]\ttrain-rmse:4.04041\tvalid-rmse:3.60470\n",
      "[5]\ttrain-rmse:4.02656\tvalid-rmse:3.58982\n",
      "[6]\ttrain-rmse:4.01204\tvalid-rmse:3.57444\n",
      "[7]\ttrain-rmse:3.99686\tvalid-rmse:3.55849\n",
      "[8]\ttrain-rmse:3.98099\tvalid-rmse:3.54202\n",
      "[9]\ttrain-rmse:3.96442\tvalid-rmse:3.52466\n",
      "[10]\ttrain-rmse:3.94715\tvalid-rmse:3.50630\n",
      "[11]\ttrain-rmse:3.92910\tvalid-rmse:3.48755\n",
      "[12]\ttrain-rmse:3.91028\tvalid-rmse:3.46802\n",
      "[13]\ttrain-rmse:3.89064\tvalid-rmse:3.44765\n",
      "[14]\ttrain-rmse:3.87025\tvalid-rmse:3.42646\n",
      "[15]\ttrain-rmse:3.84903\tvalid-rmse:3.40458\n",
      "[16]\ttrain-rmse:3.82693\tvalid-rmse:3.38236\n",
      "[17]\ttrain-rmse:3.80400\tvalid-rmse:3.35857\n",
      "[18]\ttrain-rmse:3.78023\tvalid-rmse:3.33489\n",
      "[19]\ttrain-rmse:3.75554\tvalid-rmse:3.31005\n",
      "[20]\ttrain-rmse:3.72992\tvalid-rmse:3.28565\n",
      "[21]\ttrain-rmse:3.70343\tvalid-rmse:3.26026\n",
      "[22]\ttrain-rmse:3.67611\tvalid-rmse:3.23388\n",
      "[23]\ttrain-rmse:3.64789\tvalid-rmse:3.20703\n",
      "[24]\ttrain-rmse:3.61886\tvalid-rmse:3.17794\n",
      "[25]\ttrain-rmse:3.58912\tvalid-rmse:3.15056\n",
      "[26]\ttrain-rmse:3.55859\tvalid-rmse:3.12396\n",
      "[27]\ttrain-rmse:3.52736\tvalid-rmse:3.09491\n",
      "[28]\ttrain-rmse:3.49530\tvalid-rmse:3.07182\n",
      "[29]\ttrain-rmse:3.46245\tvalid-rmse:3.04427\n",
      "[30]\ttrain-rmse:3.42910\tvalid-rmse:3.01673\n",
      "[31]\ttrain-rmse:3.39488\tvalid-rmse:2.98817\n",
      "[32]\ttrain-rmse:3.36008\tvalid-rmse:2.96317\n",
      "[33]\ttrain-rmse:3.32469\tvalid-rmse:2.93730\n",
      "[34]\ttrain-rmse:3.28853\tvalid-rmse:2.91296\n",
      "[35]\ttrain-rmse:3.25190\tvalid-rmse:2.88860\n",
      "[36]\ttrain-rmse:3.21471\tvalid-rmse:2.86342\n",
      "[37]\ttrain-rmse:3.17707\tvalid-rmse:2.83496\n",
      "[38]\ttrain-rmse:3.13869\tvalid-rmse:2.80642\n",
      "[39]\ttrain-rmse:3.09983\tvalid-rmse:2.77889\n",
      "[40]\ttrain-rmse:3.06033\tvalid-rmse:2.75651\n",
      "[41]\ttrain-rmse:3.02046\tvalid-rmse:2.73015\n",
      "[42]\ttrain-rmse:2.98033\tvalid-rmse:2.70421\n",
      "[43]\ttrain-rmse:2.93921\tvalid-rmse:2.68045\n",
      "[44]\ttrain-rmse:2.89837\tvalid-rmse:2.66247\n",
      "[45]\ttrain-rmse:2.85687\tvalid-rmse:2.64588\n",
      "[46]\ttrain-rmse:2.81553\tvalid-rmse:2.62431\n",
      "[47]\ttrain-rmse:2.77321\tvalid-rmse:2.60002\n",
      "[48]\ttrain-rmse:2.73058\tvalid-rmse:2.58305\n",
      "[49]\ttrain-rmse:2.68797\tvalid-rmse:2.56463\n",
      "[50]\ttrain-rmse:2.64559\tvalid-rmse:2.54817\n",
      "[51]\ttrain-rmse:2.60411\tvalid-rmse:2.53045\n",
      "[52]\ttrain-rmse:2.56255\tvalid-rmse:2.50994\n",
      "[53]\ttrain-rmse:2.52094\tvalid-rmse:2.49167\n",
      "[54]\ttrain-rmse:2.47979\tvalid-rmse:2.48123\n",
      "[55]\ttrain-rmse:2.43881\tvalid-rmse:2.47246\n",
      "[56]\ttrain-rmse:2.39760\tvalid-rmse:2.45773\n",
      "[57]\ttrain-rmse:2.35743\tvalid-rmse:2.44969\n",
      "[58]\ttrain-rmse:2.31746\tvalid-rmse:2.44529\n",
      "[59]\ttrain-rmse:2.27873\tvalid-rmse:2.43798\n",
      "[60]\ttrain-rmse:2.24068\tvalid-rmse:2.42934\n",
      "[61]\ttrain-rmse:2.20334\tvalid-rmse:2.42264\n",
      "[62]\ttrain-rmse:2.16701\tvalid-rmse:2.41439\n",
      "[63]\ttrain-rmse:2.13233\tvalid-rmse:2.40715\n",
      "[64]\ttrain-rmse:2.09894\tvalid-rmse:2.40125\n",
      "[65]\ttrain-rmse:2.06658\tvalid-rmse:2.39599\n",
      "[66]\ttrain-rmse:2.03492\tvalid-rmse:2.38897\n",
      "[67]\ttrain-rmse:2.00486\tvalid-rmse:2.38214\n",
      "[68]\ttrain-rmse:1.97660\tvalid-rmse:2.37715\n",
      "[69]\ttrain-rmse:1.94968\tvalid-rmse:2.37396\n",
      "[70]\ttrain-rmse:1.92391\tvalid-rmse:2.36936\n",
      "[71]\ttrain-rmse:1.89921\tvalid-rmse:2.36526\n",
      "[72]\ttrain-rmse:1.87549\tvalid-rmse:2.36086\n",
      "[73]\ttrain-rmse:1.85410\tvalid-rmse:2.35919\n",
      "[74]\ttrain-rmse:1.83404\tvalid-rmse:2.36063\n",
      "[75]\ttrain-rmse:1.81550\tvalid-rmse:2.36189\n",
      "[76]\ttrain-rmse:1.79707\tvalid-rmse:2.36242\n",
      "[77]\ttrain-rmse:1.78134\tvalid-rmse:2.36365\n",
      "[78]\ttrain-rmse:1.76663\tvalid-rmse:2.36353\n",
      "[79]\ttrain-rmse:1.75339\tvalid-rmse:2.36066\n",
      "[80]\ttrain-rmse:1.74158\tvalid-rmse:2.35864\n",
      "[81]\ttrain-rmse:1.73026\tvalid-rmse:2.35527\n",
      "[82]\ttrain-rmse:1.71867\tvalid-rmse:2.35475\n",
      "[83]\ttrain-rmse:1.70949\tvalid-rmse:2.35356\n",
      "[84]\ttrain-rmse:1.70043\tvalid-rmse:2.35099\n",
      "[85]\ttrain-rmse:1.69237\tvalid-rmse:2.35037\n",
      "[86]\ttrain-rmse:1.68339\tvalid-rmse:2.35078\n",
      "[87]\ttrain-rmse:1.67549\tvalid-rmse:2.34943\n",
      "[88]\ttrain-rmse:1.66944\tvalid-rmse:2.34761\n",
      "[89]\ttrain-rmse:1.66329\tvalid-rmse:2.34597\n",
      "[90]\ttrain-rmse:1.65819\tvalid-rmse:2.34534\n",
      "[91]\ttrain-rmse:1.65343\tvalid-rmse:2.34321\n",
      "[92]\ttrain-rmse:1.64883\tvalid-rmse:2.34145\n",
      "[93]\ttrain-rmse:1.64451\tvalid-rmse:2.34015\n",
      "[94]\ttrain-rmse:1.64025\tvalid-rmse:2.34000\n",
      "[95]\ttrain-rmse:1.63648\tvalid-rmse:2.33905\n",
      "[96]\ttrain-rmse:1.63264\tvalid-rmse:2.33740\n",
      "[97]\ttrain-rmse:1.62810\tvalid-rmse:2.33943\n",
      "[98]\ttrain-rmse:1.62469\tvalid-rmse:2.33954\n",
      "[99]\ttrain-rmse:1.62074\tvalid-rmse:2.33954\n"
     ]
    }
   ],
   "source": [
    "watch_list = [(train_data,'train'), (fake_valid_data,'valid')]\n",
    "m_xgb = xgb.train(params, train_data, num_boost_round=100, evals=watch_list, early_stopping_rounds=20) "
   ]
  },
  {
   "cell_type": "code",
   "execution_count": null,
   "metadata": {},
   "outputs": [],
   "source": []
  },
  {
   "cell_type": "code",
   "execution_count": 24,
   "metadata": {},
   "outputs": [
    {
     "data": {
      "text/plain": [
       "Index(['item_id', 'dept_id', 'store_id', 'cat_id', 'state_id', 'wday', 'month',\n",
       "       'year', 'event_name_1', 'event_type_1', 'event_name_2', 'event_type_2',\n",
       "       'snap_CA', 'snap_TX', 'snap_WI', 'sell_price', 'lag_7', 'lag_28',\n",
       "       'rmean_7_7', 'rmean_28_7', 'rmean_7_28', 'rmean_28_28', 'week',\n",
       "       'quarter', 'mday'],\n",
       "      dtype='object')"
      ]
     },
     "execution_count": 24,
     "metadata": {},
     "output_type": "execute_result"
    }
   ],
   "source": [
    "train_cols"
   ]
  },
  {
   "cell_type": "code",
   "execution_count": 25,
   "metadata": {},
   "outputs": [
    {
     "name": "stdout",
     "output_type": "stream",
     "text": [
      "[1.0]\n"
     ]
    }
   ],
   "source": [
    "if(IS_LOCAL_DEMO):\n",
    "    alphas = [1] # for local demo\n",
    "else:\n",
    "    alphas = [1.035, 1.03, 1.025] #[1.015,1.25,1.03] #[1.0,1.15,1.01] #[1.0,1.15,1.01] # for kaggle\n",
    "\n",
    "weights = [1 / len(alphas)] * len(alphas) \n",
    "print(weights)"
   ]
  },
  {
   "cell_type": "code",
   "execution_count": 26,
   "metadata": {},
   "outputs": [
    {
     "name": "stdout",
     "output_type": "stream",
     "text": [
      "0 2016-04-25 00:00:00\n",
      "0 2016-04-26 00:00:00\n",
      "0 2016-04-27 00:00:00\n",
      "0 2016-04-28 00:00:00\n",
      "0 2016-04-29 00:00:00\n",
      "0 2016-04-30 00:00:00\n",
      "0 2016-05-01 00:00:00\n",
      "0 2016-05-02 00:00:00\n",
      "0 2016-05-03 00:00:00\n",
      "0 2016-05-04 00:00:00\n",
      "0 2016-05-05 00:00:00\n",
      "0 2016-05-06 00:00:00\n",
      "0 2016-05-07 00:00:00\n",
      "0 2016-05-08 00:00:00\n",
      "0 2016-05-09 00:00:00\n",
      "0 2016-05-10 00:00:00\n",
      "0 2016-05-11 00:00:00\n",
      "0 2016-05-12 00:00:00\n",
      "0 2016-05-13 00:00:00\n",
      "0 2016-05-14 00:00:00\n",
      "0 2016-05-15 00:00:00\n",
      "0 2016-05-16 00:00:00\n",
      "0 2016-05-17 00:00:00\n",
      "0 2016-05-18 00:00:00\n",
      "0 2016-05-19 00:00:00\n",
      "0 2016-05-20 00:00:00\n",
      "0 2016-05-21 00:00:00\n",
      "0 2016-05-22 00:00:00\n",
      "0 1 1.0\n"
     ]
    }
   ],
   "source": [
    "sub = 0.\n",
    "cols = [f\"F{i}\" for i in range(1,29)]\n",
    "\n",
    "for icount, (alpha, weight) in enumerate(zip(alphas, weights)):  # [(1.035, 0.333), (1.03, 0.333), (1.025, 0.333)]\n",
    "    te = dt\n",
    "    for tdelta in range(0, 28):\n",
    "        day = fday + timedelta(days=tdelta)  \n",
    "        print(icount, day)\n",
    "        tst = te[(te.date >= day - timedelta(days=max_lags)) & (te.date <= day)].copy()  \n",
    "        create_fea(tst)\n",
    "        tst = xgb.DMatrix(tst.loc[tst.date == day , train_cols]) # xgb\n",
    "        te.loc[te.date == day, \"sales\"] = alpha * m_xgb.predict(tst) \n",
    "\n",
    "    te_sub = te.loc[te.date >= fday, [\"id\", \"sales\"]]\n",
    "    te_sub[\"F\"] = [f\"F{rank}\" for rank in te_sub.groupby(\"id\")[\"id\"].cumcount()+1]  # [F1,F2,F3,...F28]\n",
    "    te_sub = te_sub.set_index([\"id\", \"F\" ]).unstack()[\"sales\"][cols].reset_index()  \n",
    "    te_sub.fillna(0., inplace = True) \n",
    "    te_sub.sort_values(\"id\", inplace = True)\n",
    "    te_sub.reset_index(drop=True, inplace = True)\n",
    "    if icount == 0 :\n",
    "        sub = te_sub\n",
    "        sub[cols] *= weight\n",
    "    else:\n",
    "        sub[cols] += te_sub[cols]*weight\n",
    "    print(icount, alpha, weight)\n",
    "\n"
   ]
  },
  {
   "cell_type": "code",
   "execution_count": 27,
   "metadata": {},
   "outputs": [],
   "source": [
    "\n",
    "sub2 = sub.copy()\n",
    "sub2[\"id\"] = sub2[\"id\"].str.replace(\"validation$\", \"evaluation\")\n",
    "sub = pd.concat([sub, sub2], axis=0, sort=False)\n"
   ]
  },
  {
   "cell_type": "code",
   "execution_count": 28,
   "metadata": {},
   "outputs": [
    {
     "name": "stdout",
     "output_type": "stream",
     "text": [
      "(20000, 29)\n",
      "Index(['id', 'F1', 'F2', 'F3', 'F4', 'F5', 'F6', 'F7', 'F8', 'F9', 'F10',\n",
      "       'F11', 'F12', 'F13', 'F14', 'F15', 'F16', 'F17', 'F18', 'F19', 'F20',\n",
      "       'F21', 'F22', 'F23', 'F24', 'F25', 'F26', 'F27', 'F28'],\n",
      "      dtype='object', name='F')\n"
     ]
    },
    {
     "data": {
      "text/html": [
       "<div>\n",
       "<style scoped>\n",
       "    .dataframe tbody tr th:only-of-type {\n",
       "        vertical-align: middle;\n",
       "    }\n",
       "\n",
       "    .dataframe tbody tr th {\n",
       "        vertical-align: top;\n",
       "    }\n",
       "\n",
       "    .dataframe thead th {\n",
       "        text-align: right;\n",
       "    }\n",
       "</style>\n",
       "<table border=\"1\" class=\"dataframe\">\n",
       "  <thead>\n",
       "    <tr style=\"text-align: right;\">\n",
       "      <th>F</th>\n",
       "      <th>id</th>\n",
       "      <th>F1</th>\n",
       "      <th>F2</th>\n",
       "      <th>F3</th>\n",
       "      <th>F4</th>\n",
       "      <th>F5</th>\n",
       "      <th>F6</th>\n",
       "      <th>F7</th>\n",
       "      <th>F8</th>\n",
       "      <th>F9</th>\n",
       "      <th>...</th>\n",
       "      <th>F19</th>\n",
       "      <th>F20</th>\n",
       "      <th>F21</th>\n",
       "      <th>F22</th>\n",
       "      <th>F23</th>\n",
       "      <th>F24</th>\n",
       "      <th>F25</th>\n",
       "      <th>F26</th>\n",
       "      <th>F27</th>\n",
       "      <th>F28</th>\n",
       "    </tr>\n",
       "  </thead>\n",
       "  <tbody>\n",
       "    <tr>\n",
       "      <th>0</th>\n",
       "      <td>FOODS_1_001_CA_1_validation</td>\n",
       "      <td>1.090994</td>\n",
       "      <td>0.929188</td>\n",
       "      <td>0.912075</td>\n",
       "      <td>0.906108</td>\n",
       "      <td>1.117657</td>\n",
       "      <td>1.247018</td>\n",
       "      <td>1.133614</td>\n",
       "      <td>1.06077</td>\n",
       "      <td>0.964408</td>\n",
       "      <td>...</td>\n",
       "      <td>0.938978</td>\n",
       "      <td>1.212351</td>\n",
       "      <td>1.181581</td>\n",
       "      <td>1.027601</td>\n",
       "      <td>0.936118</td>\n",
       "      <td>0.932882</td>\n",
       "      <td>0.866921</td>\n",
       "      <td>0.954276</td>\n",
       "      <td>1.282673</td>\n",
       "      <td>1.333103</td>\n",
       "    </tr>\n",
       "    <tr>\n",
       "      <th>1</th>\n",
       "      <td>FOODS_1_001_CA_2_validation</td>\n",
       "      <td>1.265997</td>\n",
       "      <td>1.173489</td>\n",
       "      <td>0.748496</td>\n",
       "      <td>0.924590</td>\n",
       "      <td>0.893916</td>\n",
       "      <td>1.669555</td>\n",
       "      <td>1.268805</td>\n",
       "      <td>1.02175</td>\n",
       "      <td>0.952916</td>\n",
       "      <td>...</td>\n",
       "      <td>1.014048</td>\n",
       "      <td>1.536314</td>\n",
       "      <td>1.425557</td>\n",
       "      <td>1.114387</td>\n",
       "      <td>1.090836</td>\n",
       "      <td>1.088353</td>\n",
       "      <td>1.207588</td>\n",
       "      <td>1.227914</td>\n",
       "      <td>1.631232</td>\n",
       "      <td>1.510149</td>\n",
       "    </tr>\n",
       "    <tr>\n",
       "      <th>2</th>\n",
       "      <td>FOODS_1_001_CA_3_validation</td>\n",
       "      <td>0.958185</td>\n",
       "      <td>0.867534</td>\n",
       "      <td>0.925391</td>\n",
       "      <td>0.943741</td>\n",
       "      <td>0.921091</td>\n",
       "      <td>1.478409</td>\n",
       "      <td>0.993912</td>\n",
       "      <td>0.85888</td>\n",
       "      <td>0.839692</td>\n",
       "      <td>...</td>\n",
       "      <td>0.981107</td>\n",
       "      <td>1.267132</td>\n",
       "      <td>1.125304</td>\n",
       "      <td>0.876783</td>\n",
       "      <td>0.826820</td>\n",
       "      <td>0.898950</td>\n",
       "      <td>0.836534</td>\n",
       "      <td>0.872754</td>\n",
       "      <td>1.193248</td>\n",
       "      <td>1.145454</td>\n",
       "    </tr>\n",
       "  </tbody>\n",
       "</table>\n",
       "<p>3 rows × 29 columns</p>\n",
       "</div>"
      ],
      "text/plain": [
       "F                           id        F1        F2        F3        F4  \\\n",
       "0  FOODS_1_001_CA_1_validation  1.090994  0.929188  0.912075  0.906108   \n",
       "1  FOODS_1_001_CA_2_validation  1.265997  1.173489  0.748496  0.924590   \n",
       "2  FOODS_1_001_CA_3_validation  0.958185  0.867534  0.925391  0.943741   \n",
       "\n",
       "F        F5        F6        F7       F8        F9  ...       F19       F20  \\\n",
       "0  1.117657  1.247018  1.133614  1.06077  0.964408  ...  0.938978  1.212351   \n",
       "1  0.893916  1.669555  1.268805  1.02175  0.952916  ...  1.014048  1.536314   \n",
       "2  0.921091  1.478409  0.993912  0.85888  0.839692  ...  0.981107  1.267132   \n",
       "\n",
       "F       F21       F22       F23       F24       F25       F26       F27  \\\n",
       "0  1.181581  1.027601  0.936118  0.932882  0.866921  0.954276  1.282673   \n",
       "1  1.425557  1.114387  1.090836  1.088353  1.207588  1.227914  1.631232   \n",
       "2  1.125304  0.876783  0.826820  0.898950  0.836534  0.872754  1.193248   \n",
       "\n",
       "F       F28  \n",
       "0  1.333103  \n",
       "1  1.510149  \n",
       "2  1.145454  \n",
       "\n",
       "[3 rows x 29 columns]"
      ]
     },
     "execution_count": 28,
     "metadata": {},
     "output_type": "execute_result"
    }
   ],
   "source": [
    "print(sub.shape)\n",
    "print(sub.columns)\n",
    "sub.head(3)"
   ]
  },
  {
   "cell_type": "code",
   "execution_count": null,
   "metadata": {},
   "outputs": [],
   "source": []
  },
  {
   "cell_type": "code",
   "execution_count": 29,
   "metadata": {},
   "outputs": [],
   "source": [
    "if(IS_LOCAL_DEMO):\n",
    "    sub.to_csv(\"submission_xgb.csv.gz\",compression='gzip',index=False)# for local demo\n",
    "else:\n",
    "    sub.to_csv(\"submission_xgb.csv\",index=False) # for kaggle  \n"
   ]
  },
  {
   "cell_type": "code",
   "execution_count": null,
   "metadata": {},
   "outputs": [],
   "source": [
    "* ## ridge kaggle result ：0.22776"
   ]
  },
  {
   "cell_type": "code",
   "execution_count": null,
   "metadata": {},
   "outputs": [],
   "source": []
  },
  {
   "cell_type": "code",
   "execution_count": null,
   "metadata": {},
   "outputs": [],
   "source": []
  },
  {
   "cell_type": "code",
   "execution_count": null,
   "metadata": {},
   "outputs": [],
   "source": []
  },
  {
   "cell_type": "code",
   "execution_count": null,
   "metadata": {},
   "outputs": [],
   "source": []
  },
  {
   "cell_type": "code",
   "execution_count": null,
   "metadata": {},
   "outputs": [],
   "source": []
  },
  {
   "cell_type": "code",
   "execution_count": null,
   "metadata": {},
   "outputs": [],
   "source": []
  },
  {
   "cell_type": "code",
   "execution_count": null,
   "metadata": {},
   "outputs": [],
   "source": []
  }
 ],
 "metadata": {
  "kernelspec": {
   "display_name": "Python 3",
   "language": "python",
   "name": "python3"
  },
  "language_info": {
   "codemirror_mode": {
    "name": "ipython",
    "version": 3
   },
   "file_extension": ".py",
   "mimetype": "text/x-python",
   "name": "python",
   "nbconvert_exporter": "python",
   "pygments_lexer": "ipython3",
   "version": "3.6.10"
  }
 },
 "nbformat": 4,
 "nbformat_minor": 4
}
