{
 "cells": [
  {
   "cell_type": "code",
   "execution_count": null,
   "metadata": {},
   "outputs": [],
   "source": [
    "from IPython.core.display import display, HTML\n",
    "display(HTML(\"<style>.container { width:70% !important; }</style>\"))"
   ]
  },
  {
   "cell_type": "markdown",
   "metadata": {},
   "source": [
    "# Lecture 3 - Python's Data Structures, Iteration, Modules, Miscellanea *\n",
    "---\n",
    "\n",
    "### Content\n",
    "\n",
    "1. Lists\n",
    "2. Dictionaries\n",
    "3. Tuples\n",
    "4. Iteration (*for* loops)\n",
    "4. Importing modules\n",
    "\n",
    "\n",
    "\\* Content in this notebook borrows material in the Python Tutorial resource found on http://www.python-course.eu/course.php.\n",
    "\n",
    "### Learning Outcomes\n",
    "\n",
    "At the end of this lecture, you should be able to:\n",
    "\n",
    "* describe what data structures are  \n",
    "* list three of Python's most important data structures \n",
    "* describe the differences between lists, dictionaries and tuples\n",
    "* use lists, dictionaries and tuples at an introductory level\n",
    "* explain the role of iterative constructs in programming\n",
    "* use a *for* loop at an introductory level\n",
    "* describe the purpose of modules\n",
    "* import modules and use their functionality"
   ]
  },
  {
   "cell_type": "markdown",
   "metadata": {},
   "source": [
    "## Python's Data Structures\n",
    "\n",
    "Data structures are an important topic of study in computer science and an indispensable part of any program. \n",
    "\n",
    "A data structure is an approach to organizing data in a computer so that it can be used stored and retrieved efficiently.\n",
    "\n",
    "Up to this point, we have seen how ordinary variables can be used to store a single value. However, in any real-world program or even simple script, it is vital to have access to other variable types (data structures) that can hold more than one value. \n",
    "\n",
    "Three data structures will be considered here: lists, dictionaries and tuples. \n",
    "\n",
    "### Lists\n",
    "\n",
    "Lists are sequences of values. Each element in a list is assigned a number - its **position** or **index**. The first index is zero, the second index is one, and so forth.\n",
    "\n",
    "The list is a most versatile data type in Python. Items in a list need not all have the same type. Furthermore lists can grow in a program run. \n",
    "\n",
    "We begin firstly with an empty list."
   ]
  },
  {
   "cell_type": "code",
   "execution_count": null,
   "metadata": {},
   "outputs": [],
   "source": [
    "x = []\n",
    "print (x)"
   ]
  },
  {
   "cell_type": "code",
   "execution_count": null,
   "metadata": {},
   "outputs": [],
   "source": [
    "#an example of a constructing a list\n",
    "x = [1, 40, 33, 20]\n",
    "print (x)"
   ]
  },
  {
   "cell_type": "code",
   "execution_count": null,
   "metadata": {},
   "outputs": [],
   "source": [
    "type(x)"
   ]
  },
  {
   "cell_type": "markdown",
   "metadata": {},
   "source": [
    "We access elements within a list using the index or the position of a value in a list, beginning with 0, enclosed within square brackets. "
   ]
  },
  {
   "cell_type": "code",
   "execution_count": null,
   "metadata": {},
   "outputs": [],
   "source": [
    "#access the second element in the list\n",
    "print (x[1])"
   ]
  },
  {
   "cell_type": "code",
   "execution_count": null,
   "metadata": {},
   "outputs": [],
   "source": [
    "x[1]"
   ]
  },
  {
   "cell_type": "markdown",
   "metadata": {},
   "source": [
    "Lists come with a host of built-in operators (functions) which we can apply to them. These can be accessed by using the '.' operator."
   ]
  },
  {
   "cell_type": "code",
   "execution_count": null,
   "metadata": {},
   "outputs": [],
   "source": [
    "x."
   ]
  },
  {
   "cell_type": "markdown",
   "metadata": {},
   "source": [
    "One of these functions is *append*, which as the name suggests, allows us to add new elements to the end of an existing list."
   ]
  },
  {
   "cell_type": "code",
   "execution_count": null,
   "metadata": {},
   "outputs": [],
   "source": [
    "x.append(3)\n",
    "print (x)"
   ]
  },
  {
   "cell_type": "markdown",
   "metadata": {},
   "source": [
    "One of the extremely versatile features of Python's lists is that they allow you to store mixtures of any types of data within the same list.\n",
    "\n",
    "**Exercise: Append the string 'flexible' to the list x and print its contents.**"
   ]
  },
  {
   "cell_type": "code",
   "execution_count": null,
   "metadata": {},
   "outputs": [],
   "source": []
  },
  {
   "cell_type": "code",
   "execution_count": null,
   "metadata": {},
   "outputs": [],
   "source": []
  },
  {
   "cell_type": "markdown",
   "metadata": {},
   "source": [
    "We can insert elements into the list as follows:"
   ]
  },
  {
   "cell_type": "code",
   "execution_count": null,
   "metadata": {},
   "outputs": [],
   "source": [
    "x.insert(1, 3)\n",
    "print (x)"
   ]
  },
  {
   "cell_type": "markdown",
   "metadata": {},
   "source": [
    "We can change the value at any position."
   ]
  },
  {
   "cell_type": "code",
   "execution_count": null,
   "metadata": {},
   "outputs": [],
   "source": [
    "x[2] = 'forty'\n",
    "x"
   ]
  },
  {
   "cell_type": "markdown",
   "metadata": {},
   "source": [
    "We have access to a built in function called len() which tells us the number of elements in both data types as well as strings "
   ]
  },
  {
   "cell_type": "code",
   "execution_count": null,
   "metadata": {},
   "outputs": [],
   "source": [
    "len(x)"
   ]
  },
  {
   "cell_type": "markdown",
   "metadata": {},
   "source": [
    "**Exercise: Take a look at all the available functions that come with lists and use the appropriate one to remove the value 33 from the list x.**"
   ]
  },
  {
   "cell_type": "code",
   "execution_count": null,
   "metadata": {},
   "outputs": [],
   "source": []
  },
  {
   "cell_type": "markdown",
   "metadata": {},
   "source": [
    "**Exercise: Create a list containing 5 unordered integers (values of your choosing). Take a look at all the available functions that come with lists and use the appropriate one to sort all the elements in the list.**"
   ]
  },
  {
   "cell_type": "code",
   "execution_count": null,
   "metadata": {},
   "outputs": [],
   "source": []
  },
  {
   "cell_type": "markdown",
   "metadata": {},
   "source": [
    "**Exercise: Take a look at all the available functions that come with lists and use the appropriate one to output the number of time the value '3' appears in the list x.**"
   ]
  },
  {
   "cell_type": "code",
   "execution_count": null,
   "metadata": {},
   "outputs": [],
   "source": []
  },
  {
   "cell_type": "markdown",
   "metadata": {},
   "source": [
    "Lists can be easily added together\n"
   ]
  },
  {
   "cell_type": "code",
   "execution_count": null,
   "metadata": {},
   "outputs": [],
   "source": [
    "y = [1, 2, 3]\n",
    "z = [4, 5, 6]\n",
    "yz = y + z\n",
    "print (yz)"
   ]
  },
  {
   "cell_type": "code",
   "execution_count": null,
   "metadata": {},
   "outputs": [],
   "source": [
    "#we can apply multiplication to lists\n",
    "[1, 2, 3] * 2"
   ]
  },
  {
   "cell_type": "markdown",
   "metadata": {},
   "source": [
    "A useful operator for finding out if a certain value is present within a list is called *in* "
   ]
  },
  {
   "cell_type": "code",
   "execution_count": null,
   "metadata": {},
   "outputs": [],
   "source": [
    "2 in y"
   ]
  },
  {
   "cell_type": "markdown",
   "metadata": {},
   "source": [
    "**Exercise: Given the two lists y and z above, write code that appends the last 2 elements from z to y and removes them from z. Use the *in* operator to make sure that both 5 and 6 are inside the list y.**"
   ]
  },
  {
   "cell_type": "code",
   "execution_count": null,
   "metadata": {},
   "outputs": [],
   "source": []
  },
  {
   "cell_type": "markdown",
   "metadata": {},
   "source": [
    "### Slicing\n",
    "\n",
    "Sequential data structures like lists can get very large and additional constructs are often required for accessing and manipulating portions of them. This is where 'slicing' comes in.\n",
    "\n",
    "You can select sections of list-like types (arrays, tuples, NumPy arrays) by using the slice notation, which in its basic form consists of *'start:stop'* passed to the indexing operator []:"
   ]
  },
  {
   "cell_type": "code",
   "execution_count": null,
   "metadata": {},
   "outputs": [],
   "source": [
    "x = [1, 3, 3, 20, 'flexible', 'forty']\n",
    "print(x)"
   ]
  },
  {
   "cell_type": "markdown",
   "metadata": {},
   "source": [
    "To access the two string elements in the list x, we can do the following:"
   ]
  },
  {
   "cell_type": "code",
   "execution_count": null,
   "metadata": {},
   "outputs": [],
   "source": [
    "x[4:6]"
   ]
  },
  {
   "cell_type": "markdown",
   "metadata": {},
   "source": [
    "We also could have written:"
   ]
  },
  {
   "cell_type": "code",
   "execution_count": null,
   "metadata": {},
   "outputs": [],
   "source": [
    "x[4:]"
   ]
  },
  {
   "cell_type": "markdown",
   "metadata": {},
   "source": [
    "Alternatively, we could also select all the integer elements in the list using this notation."
   ]
  },
  {
   "cell_type": "code",
   "execution_count": null,
   "metadata": {},
   "outputs": [],
   "source": [
    "x[:4]"
   ]
  },
  {
   "cell_type": "markdown",
   "metadata": {},
   "source": [
    "Notice that in all cases the *stop* index is not included."
   ]
  },
  {
   "cell_type": "markdown",
   "metadata": {},
   "source": [
    "**Exercise: Given the list x above, write code that selects the [3, 20, 'flexible'] elements from it using the slicing notation.**"
   ]
  },
  {
   "cell_type": "code",
   "execution_count": null,
   "metadata": {},
   "outputs": [],
   "source": []
  },
  {
   "cell_type": "markdown",
   "metadata": {},
   "source": [
    "### Dictionary\n",
    "\n",
    "\n",
    "Alongside lists, dict is one of the most important built-in Python data structures. A more common name for it in other languages is hash map or associative array. \n",
    "\n",
    "Prior to python 3.6, while lists were ordered sets of objects, dictionaries were unordered sets.  As of python 3.6, Dicts are now also ordered according to order of insertion. A key difference between lists and dicts is that items in dictionaries can be accessed via **keys** and not via their **position**. Any key of the dictionary is associated (or mapped) to a value. The values of a dictionary can be any Python data type. Dictionaries are therefore key-value-pairs.\n",
    "\n",
    "Once again we begin with an empty dictionary."
   ]
  },
  {
   "cell_type": "code",
   "execution_count": null,
   "metadata": {},
   "outputs": [],
   "source": [
    "y = {}\n",
    "print (y)"
   ]
  },
  {
   "cell_type": "code",
   "execution_count": null,
   "metadata": {},
   "outputs": [],
   "source": [
    "#map words to numbers\n",
    "y = {'one' : 1,\n",
    "     'two' : 2,\n",
    "     'three' : 3}\n",
    "y"
   ]
  },
  {
   "cell_type": "markdown",
   "metadata": {},
   "source": [
    "Accessing values through keys:"
   ]
  },
  {
   "cell_type": "code",
   "execution_count": null,
   "metadata": {},
   "outputs": [],
   "source": [
    "y['two']"
   ]
  },
  {
   "cell_type": "markdown",
   "metadata": {},
   "source": [
    "Adding additional key-value pairs:"
   ]
  },
  {
   "cell_type": "code",
   "execution_count": null,
   "metadata": {},
   "outputs": [],
   "source": [
    "y['six'] = 6\n",
    "y"
   ]
  },
  {
   "cell_type": "markdown",
   "metadata": {},
   "source": [
    "We can insert different data types."
   ]
  },
  {
   "cell_type": "code",
   "execution_count": null,
   "metadata": {},
   "outputs": [],
   "source": [
    "y['first_five'] = [1,2,3,4,5]\n",
    "y"
   ]
  },
  {
   "cell_type": "markdown",
   "metadata": {},
   "source": [
    "**Exercise: Insert into the above dictionary the key-value pair 'ten' and 10.**"
   ]
  },
  {
   "cell_type": "code",
   "execution_count": null,
   "metadata": {},
   "outputs": [],
   "source": []
  },
  {
   "cell_type": "markdown",
   "metadata": {},
   "source": [
    "We can list all the keys and all the values in a dictionary"
   ]
  },
  {
   "cell_type": "code",
   "execution_count": null,
   "metadata": {},
   "outputs": [],
   "source": [
    "print (y.keys())\n",
    "print (y.values())"
   ]
  },
  {
   "cell_type": "markdown",
   "metadata": {},
   "source": [
    "**Exercise: Find out what data types are returned when we call keys() and values() on the above dictionary.**"
   ]
  },
  {
   "cell_type": "code",
   "execution_count": null,
   "metadata": {},
   "outputs": [],
   "source": []
  },
  {
   "cell_type": "markdown",
   "metadata": {},
   "source": [
    "If we convert these objects to a list, we can access them by their index"
   ]
  },
  {
   "cell_type": "code",
   "execution_count": null,
   "metadata": {},
   "outputs": [],
   "source": [
    "keys = list(y.keys())\n",
    "print (keys)\n",
    "print (keys[2])"
   ]
  },
  {
   "cell_type": "markdown",
   "metadata": {},
   "source": [
    "**Exercise: Write code to test if 1 is a value contained in the above dictionary.**"
   ]
  },
  {
   "cell_type": "code",
   "execution_count": null,
   "metadata": {},
   "outputs": [],
   "source": []
  },
  {
   "cell_type": "code",
   "execution_count": null,
   "metadata": {},
   "outputs": [],
   "source": []
  },
  {
   "cell_type": "code",
   "execution_count": null,
   "metadata": {},
   "outputs": [],
   "source": []
  },
  {
   "cell_type": "markdown",
   "metadata": {},
   "source": [
    "Often, dictionaries need to be constructed from data that is contained in two lists. This can easily be accomplished using a function called zip()."
   ]
  },
  {
   "cell_type": "code",
   "execution_count": null,
   "metadata": {},
   "outputs": [],
   "source": [
    "zip?"
   ]
  },
  {
   "cell_type": "code",
   "execution_count": null,
   "metadata": {},
   "outputs": [],
   "source": [
    "list_1 = [ 'one', 'two', 'three']\n",
    "list_2 = [1, 2, 3]\n",
    "list_3 = list(zip(list_1, list_2))\n",
    "print (list_3)"
   ]
  },
  {
   "cell_type": "markdown",
   "metadata": {},
   "source": [
    "By passing the output of the zip function into a dictionary constructor, we can create a dictionary made up of matched keys and values."
   ]
  },
  {
   "cell_type": "code",
   "execution_count": null,
   "metadata": {},
   "outputs": [],
   "source": [
    "d = dict(zip(list_1, list_2))\n",
    "print (d)"
   ]
  },
  {
   "cell_type": "markdown",
   "metadata": {},
   "source": [
    "### Tuple\n",
    "\n",
    "A tuple is a sequence of elements similar to a list. The only difference is that tuples can't be changed i.e., tuples are thus immutable and also use parentheses, while lists use square brackets.\n",
    "\n",
    "It useful to at least be familiar with the concept of tuples as a number of functions return them.\n",
    "\n",
    "Creating a tuple is as simple as putting different comma-separated values and optionally you can put these comma-separated values between parentheses also. For example:"
   ]
  },
  {
   "cell_type": "code",
   "execution_count": null,
   "metadata": {},
   "outputs": [],
   "source": [
    "z = (2 , 4)\n",
    "print (z)"
   ]
  },
  {
   "cell_type": "code",
   "execution_count": null,
   "metadata": {},
   "outputs": [],
   "source": [
    "#alternatively\n",
    "z = 2, 4\n",
    "z"
   ]
  },
  {
   "cell_type": "markdown",
   "metadata": {},
   "source": [
    "The contents of tuples are accessed in the same way as that of lists, and they can contain elements of mixed data types."
   ]
  },
  {
   "cell_type": "code",
   "execution_count": null,
   "metadata": {},
   "outputs": [],
   "source": [
    "z[1]"
   ]
  },
  {
   "cell_type": "markdown",
   "metadata": {},
   "source": [
    "**Exercise: Write code to alter the first element of the above tuple from 2 to 0.**"
   ]
  },
  {
   "cell_type": "code",
   "execution_count": null,
   "metadata": {},
   "outputs": [],
   "source": []
  },
  {
   "cell_type": "markdown",
   "metadata": {},
   "source": [
    "## Iteration\n",
    "\n",
    "Say we have a list:\n",
    "\n",
    "\n"
   ]
  },
  {
   "cell_type": "code",
   "execution_count": null,
   "metadata": {},
   "outputs": [],
   "source": [
    "my_list = [3, 6, 7, 77, 35, 234, 1, 978, 656, 80, 44, 4]\n",
    "len(my_list)"
   ]
  },
  {
   "cell_type": "markdown",
   "metadata": {},
   "source": [
    "The above list has 12 elements in it. What if you needed to do calculations on each of the elements in the list by multiplying each number by 3. How would you do it? We could of course begin by manually accessing each element and multiplying it by 3 as follows: \n"
   ]
  },
  {
   "cell_type": "code",
   "execution_count": null,
   "metadata": {},
   "outputs": [],
   "source": [
    "print (my_list[0] * 3)\n",
    "print (my_list[1] * 3)\n",
    "print (my_list[2] * 3)\n",
    "print (my_list[3] * 3)\n",
    "print (my_list[4] * 3)\n",
    "print (my_list[5] * 3)\n",
    "print (my_list[6] * 3)\n",
    "print (my_list[7] * 3)\n",
    "print (my_list[8] * 3)\n",
    "print (my_list[9] * 3)\n",
    "print (my_list[10] * 3)\n",
    "print (my_list[11] * 3)"
   ]
  },
  {
   "cell_type": "markdown",
   "metadata": {},
   "source": [
    "The above is tedious but possible. But what if the list has millions of data items in it (which is not out of the ordinary)? Clearly the above approach becomes insufficient and a new more efficient construct becomes necessary.\n",
    "\n",
    "Loops, are an indispensable programming construct that enable efficient iteration. It is inconceivable to imagine a useful program without some mechanism that implements iteration.\n",
    "\n",
    "Python, like all languages, has a number of different looping constructs. We will look at *for*-family of loops, while there are others like *while* that in essence accomplish the same functionality.\n",
    "\n",
    "Let's look at the above problem and solve it efficiently using a *for* loop."
   ]
  },
  {
   "cell_type": "code",
   "execution_count": null,
   "metadata": {},
   "outputs": [],
   "source": [
    "for x in my_list:    #x is a variable that changes at each iteration by becomming a variable that points to each incremented index value\n",
    "    print (x * 3 )     #the statements here are executed once per iteration and form a code block signified by the colon in the first line"
   ]
  },
  {
   "cell_type": "markdown",
   "metadata": {},
   "source": [
    "**Exercise: Write code that iterates through my_list and prints \"Above 100\" if the value is greater than 100, otherwise prints \"Below 100\".**"
   ]
  },
  {
   "cell_type": "code",
   "execution_count": null,
   "metadata": {},
   "outputs": [],
   "source": []
  },
  {
   "cell_type": "markdown",
   "metadata": {},
   "source": [
    "**Exercise: Write code that iterates through my_list from the 6th element to the end and prints the value.(Hint: use slicing in the list)**"
   ]
  },
  {
   "cell_type": "code",
   "execution_count": null,
   "metadata": {},
   "outputs": [],
   "source": []
  },
  {
   "cell_type": "code",
   "execution_count": null,
   "metadata": {},
   "outputs": [],
   "source": []
  },
  {
   "cell_type": "markdown",
   "metadata": {},
   "source": [
    "The built-in function range() is a helpful and commonly used function to iterate over a sequence of numbers. It generates lists of arithmetic progressions: "
   ]
  },
  {
   "cell_type": "code",
   "execution_count": null,
   "metadata": {},
   "outputs": [],
   "source": [
    "list(range(10))"
   ]
  },
  {
   "cell_type": "markdown",
   "metadata": {},
   "source": [
    "range(n) generates the progression of integer numbers starting with 1 and ending with (n -1) \n",
    "\n",
    "It can also be called with more arguments such as: \n",
    "range(begin,end) or\n",
    "range(begin,end, step)"
   ]
  },
  {
   "cell_type": "code",
   "execution_count": null,
   "metadata": {},
   "outputs": [],
   "source": [
    "list(range(5,10))"
   ]
  },
  {
   "cell_type": "code",
   "execution_count": null,
   "metadata": {},
   "outputs": [],
   "source": [
    "list(range(0,10, 2))"
   ]
  },
  {
   "cell_type": "markdown",
   "metadata": {},
   "source": [
    "With the range() function, we can now control the iteration sequence in a more powerful way."
   ]
  },
  {
   "cell_type": "code",
   "execution_count": null,
   "metadata": {},
   "outputs": [],
   "source": [
    "for i in range(1,10):\n",
    "    print (i)"
   ]
  },
  {
   "cell_type": "code",
   "execution_count": null,
   "metadata": {},
   "outputs": [],
   "source": [
    "for i in range(1,10):\n",
    "    print (my_list[i])"
   ]
  },
  {
   "cell_type": "markdown",
   "metadata": {},
   "source": [
    "**Exercise: Write code that iterates through my_list and prints every element on the odd position**"
   ]
  },
  {
   "cell_type": "code",
   "execution_count": null,
   "metadata": {},
   "outputs": [],
   "source": []
  },
  {
   "cell_type": "markdown",
   "metadata": {},
   "source": [
    "We can also iterate though dictionaries."
   ]
  },
  {
   "cell_type": "code",
   "execution_count": null,
   "metadata": {},
   "outputs": [],
   "source": [
    "y = {'first_five': [1, 2, 3, 4, 5], 'one': 1, 'six': 6, 'three': 3, 'two': 2}\n",
    "for key in y:\n",
    "    print (key)"
   ]
  },
  {
   "cell_type": "markdown",
   "metadata": {},
   "source": [
    "**Exercise: Write code that iterates through the above dictionary and prints every value associated with a key**"
   ]
  },
  {
   "cell_type": "code",
   "execution_count": null,
   "metadata": {},
   "outputs": [],
   "source": []
  },
  {
   "cell_type": "markdown",
   "metadata": {},
   "source": [
    "There is also a way to use a built-in dictionary functionality and iterate directly through the values: "
   ]
  },
  {
   "cell_type": "code",
   "execution_count": null,
   "metadata": {},
   "outputs": [],
   "source": [
    "y.values()"
   ]
  },
  {
   "cell_type": "code",
   "execution_count": null,
   "metadata": {},
   "outputs": [],
   "source": [
    "for val in y.values():\n",
    "    print (val)"
   ]
  },
  {
   "cell_type": "markdown",
   "metadata": {},
   "source": [
    "<h3>Loop Control Statements:</h3>\n",
    "\n",
    "<p>Loop control statements change execution from its normal sequence. When execution leaves a scope, all automatic objects that were created in that scope are destroyed.</p>\n",
    "<p>Python supports the following control statements. Click the following links to check their detail.</p>\n",
    "<table class=\"src\">\n",
    "<tr><th style=\"width:30%\">Control Statement</th><th>Description</th></tr>\n",
    "<tr><td>break statement</td><td>Terminates the <b>loop</b> statement and transfers execution to the statement immediately following the loop.</td></tr>\n",
    "<tr><td>continue statement</td><td>Causes the loop to skip the remainder of its body and immediately retest its condition prior to reiterating.</td></tr>\n",
    "<tr><td>pass statement</td><td>The pass statement in Python is used when a statement is required syntactically but you do not want any command or code to execute.</td></tr>\n",
    "</table>\n",
    "\n",
    "\n"
   ]
  },
  {
   "cell_type": "code",
   "execution_count": null,
   "metadata": {},
   "outputs": [],
   "source": [
    "y.values()"
   ]
  },
  {
   "cell_type": "code",
   "execution_count": null,
   "metadata": {},
   "outputs": [],
   "source": [
    "for val in y.values():\n",
    "    if type(val) == list:\n",
    "        continue\n",
    "    elif val == 2:\n",
    "        break\n",
    "    else:\n",
    "        pass    \n",
    "    print (val)"
   ]
  },
  {
   "cell_type": "markdown",
   "metadata": {},
   "source": [
    "## Modules\n",
    "\n",
    "Developing programs which are readable, reliable and maintainable requires some kind of modular software design. This becomes more important as an application's source code increases in size.  \n",
    "\n",
    "Modular programming is a software design technique that enables the division of the source code into separate parts (files). These parts are called modules. The goal is that each module handles some cohesive set of functionalities and that the dependency between all the modules is kept to a minimum. \n",
    "\n",
    "Once all the modules are completed, the executable application is created by putting them all together.\n",
    "\n",
    "In order to be able to access the functionality in different modules, they have to be explicitly imported into an application's source code.\n",
    "\n",
    "It is a convention to make all import statements at the top of an applications source code.\n",
    "\n",
    "For example, Python possesses a module called *math* which has more powerful mathematical functions that we can use apart from the operators we have already come across. One of these is *log()*"
   ]
  },
  {
   "cell_type": "code",
   "execution_count": null,
   "metadata": {},
   "outputs": [],
   "source": [
    "log(10)"
   ]
  },
  {
   "cell_type": "markdown",
   "metadata": {},
   "source": [
    "The above produces an error, however, if we import this module, then we gain access to the above function."
   ]
  },
  {
   "cell_type": "code",
   "execution_count": null,
   "metadata": {},
   "outputs": [],
   "source": [
    "import math\n",
    "\n",
    "math.log(10)"
   ]
  },
  {
   "cell_type": "markdown",
   "metadata": {},
   "source": [
    "Notice that we had to prefix log with math in order to access this function. Often, the module names are long and it becomes cumbersome to write the prefix each time when accessing functionality from them. This can be overcome by redefining the module's namespace. This is the recommended way of using modules."
   ]
  },
  {
   "cell_type": "code",
   "execution_count": null,
   "metadata": {},
   "outputs": [],
   "source": [
    "import math as m\n",
    "\n",
    "m.log(10)"
   ]
  },
  {
   "cell_type": "markdown",
   "metadata": {},
   "source": [
    "We can find out what is inside a module by running the following"
   ]
  },
  {
   "cell_type": "code",
   "execution_count": null,
   "metadata": {
    "scrolled": true
   },
   "outputs": [],
   "source": [
    "dir(math)"
   ]
  },
  {
   "cell_type": "markdown",
   "metadata": {},
   "source": [
    "\n",
    "# Miscellanea - Casting, Strings, IPython environment specifics"
   ]
  },
  {
   "cell_type": "markdown",
   "metadata": {},
   "source": [
    "### Casting\n",
    "\n",
    "Casting converts one data type to another.\n",
    "\n"
   ]
  },
  {
   "cell_type": "code",
   "execution_count": null,
   "metadata": {},
   "outputs": [],
   "source": [
    "x = 3\n",
    "print (type(x))\n",
    "x = float(x)\n",
    "print (type(x))\n",
    "print (x)"
   ]
  },
  {
   "cell_type": "code",
   "execution_count": null,
   "metadata": {},
   "outputs": [],
   "source": [
    "print (x + \" adding an integer and a string should not work\")"
   ]
  },
  {
   "cell_type": "code",
   "execution_count": null,
   "metadata": {},
   "outputs": [],
   "source": [
    "print (str(x) + \" adding a string with another string should work\")"
   ]
  },
  {
   "cell_type": "code",
   "execution_count": null,
   "metadata": {},
   "outputs": [],
   "source": [
    "y = 3.14\n",
    "print (int(y))"
   ]
  },
  {
   "cell_type": "code",
   "execution_count": null,
   "metadata": {},
   "outputs": [],
   "source": [
    "z = \"23.34534534534534\"\n",
    "print (float(z))"
   ]
  },
  {
   "cell_type": "markdown",
   "metadata": {},
   "source": [
    "**Exercise: Write code that converts the string \"23.34534534534534\" into an int. (Hint: you will have to perform 2 conversions to eventually end at an int.)**"
   ]
  },
  {
   "cell_type": "code",
   "execution_count": null,
   "metadata": {},
   "outputs": [],
   "source": [
    "\"23.34534534534534\""
   ]
  },
  {
   "cell_type": "markdown",
   "metadata": {},
   "source": [
    "### More on Strings\n",
    "\n",
    "String processing is an important task of data analysis and cleaning.\n",
    "\n",
    "Python provides a rich set of functionalities to process strings.\n",
    "\n",
    "Individual letters within strings can be accesses using the [] notation and strings can also be sliced like data structures. However, strings are immutable and thus cannot be altered."
   ]
  },
  {
   "cell_type": "code",
   "execution_count": null,
   "metadata": {},
   "outputs": [],
   "source": [
    "my_string = \"Hello World!\"\n",
    "print (my_string)\n",
    "print (my_string[0])"
   ]
  },
  {
   "cell_type": "code",
   "execution_count": null,
   "metadata": {},
   "outputs": [],
   "source": [
    "print (my_string[6:])"
   ]
  },
  {
   "cell_type": "code",
   "execution_count": null,
   "metadata": {},
   "outputs": [],
   "source": [
    "my_string[-6:-1]"
   ]
  },
  {
   "cell_type": "markdown",
   "metadata": {},
   "source": [
    "**Exercise: Write code that changes the first letter of the string my_string into a letter 'Y'.**\n"
   ]
  },
  {
   "cell_type": "code",
   "execution_count": null,
   "metadata": {},
   "outputs": [],
   "source": []
  },
  {
   "cell_type": "markdown",
   "metadata": {},
   "source": [
    "We can convert a string into a list."
   ]
  },
  {
   "cell_type": "code",
   "execution_count": null,
   "metadata": {},
   "outputs": [],
   "source": [
    "my_list = list(my_string)\n",
    "print (my_list)"
   ]
  },
  {
   "cell_type": "markdown",
   "metadata": {},
   "source": [
    "**Exercise: Write code that prints the length of the string below and says \"I am 17 characters long.\".**\n"
   ]
  },
  {
   "cell_type": "code",
   "execution_count": null,
   "metadata": {},
   "outputs": [],
   "source": [
    "my_string = \"How long am I?...\"\n",
    "\n",
    "#your code here"
   ]
  },
  {
   "cell_type": "markdown",
   "metadata": {},
   "source": [
    "Sometimes strings can be very long and contain mixtures of single and double quotation symbols that cause problems. To get around this, we can define complex strings using triple double quotations"
   ]
  },
  {
   "cell_type": "code",
   "execution_count": null,
   "metadata": {},
   "outputs": [],
   "source": [
    "x = \"\"\"\n",
    "Python was conceived in the late 1980s[25] and its implementation was started in December 1989[26] by Guido van Rossum at CWI in the Netherlands as a successor to the ABC language (itself inspired by SETL)[27] capable of exception handling and interfacing with the Amoeba operating system.[5] Van Rossum is Python's principal author, and his continuing central role in deciding the direction of Python is reflected in the title given to him by the Python community, benevolent dictator for life (BDFL).\n",
    "\n",
    "About the origin of Python, Van Rossum wrote in 1996:[28]\n",
    "\n",
    "    Over six years ago, in December 1989, I was looking for a \"hobby\" programming project that would keep me occupied during the week around Christmas. My office ... would be closed, but I had a home computer, and not much else on my hands. I decided to write an interpreter for the new scripting language I had been thinking about lately: a descendant of ABC that would appeal to Unix/C hackers. I chose Python as a working title for the project, being in a slightly irreverent mood (and a big fan of Monty Python's Flying Circus).\n",
    "\n",
    "Python 2.0 was released on 16 October 2000, and included many major new features including a full garbage collector and support for Unicode. With this release the development process was changed and became more transparent and community-backed.[29]\n",
    "\n",
    "Python 3.0 (also called Python 3000 or py3k), a major, backwards-incompatible release, was released on 3 December 2008[30] after a long period of testing. Many of its major features have been backported to the backwards-compatible Python 2.6 and 2.7.[31]\n",
    "\"\"\"\n",
    "print (x)"
   ]
  },
  {
   "cell_type": "markdown",
   "metadata": {},
   "source": [
    "### IPython environment\n",
    "\n",
    "IPython Notebook comes with a range of helper functions.\n",
    "\n",
    "To access the list of all of them type the following and execute:"
   ]
  },
  {
   "cell_type": "code",
   "execution_count": null,
   "metadata": {},
   "outputs": [],
   "source": [
    "%quickref"
   ]
  },
  {
   "cell_type": "markdown",
   "metadata": {},
   "source": [
    "The following command will list all the variables defined in the interactive namespace"
   ]
  },
  {
   "cell_type": "code",
   "execution_count": null,
   "metadata": {},
   "outputs": [],
   "source": [
    "%who"
   ]
  },
  {
   "cell_type": "markdown",
   "metadata": {},
   "source": [
    "History lists the history of all the entered commands\n"
   ]
  },
  {
   "cell_type": "code",
   "execution_count": null,
   "metadata": {
    "scrolled": true
   },
   "outputs": [],
   "source": [
    "%history"
   ]
  },
  {
   "cell_type": "markdown",
   "metadata": {},
   "source": [
    "The contents of a code block can be written directly to a file as follows: "
   ]
  },
  {
   "cell_type": "code",
   "execution_count": null,
   "metadata": {},
   "outputs": [],
   "source": [
    "%%file test.py\n",
    "\n",
    "x = \"\"\"\n",
    "Python was conceived in the late 1980s[25] and its implementation was started in December 1989[26] by Guido van Rossum at CWI in the Netherlands as a successor to the ABC language (itself inspired by SETL)[27] capable of exception handling and interfacing with the Amoeba operating system.[5] Van Rossum is Python's principal author, and his continuing central role in deciding the direction of Python is reflected in the title given to him by the Python community, benevolent dictator for life (BDFL).\n",
    "\n",
    "About the origin of Python, Van Rossum wrote in 1996:[28]\n",
    "\n",
    "    Over six years ago, in December 1989, I was looking for a \"hobby\" programming project that would keep me occupied during the week around Christmas. My office ... would be closed, but I had a home computer, and not much else on my hands. I decided to write an interpreter for the new scripting language I had been thinking about lately: a descendant of ABC that would appeal to Unix/C hackers. I chose Python as a working title for the project, being in a slightly irreverent mood (and a big fan of Monty Python's Flying Circus).\n",
    "\n",
    "Python 2.0 was released on 16 October 2000, and included many major new features including a full garbage collector and support for Unicode. With this release the development process was changed and became more transparent and community-backed.[29]\n",
    "\n",
    "Python 3.0 (also called Python 3000 or py3k), a major, backwards-incompatible release, was released on 3 December 2008[30] after a long period of testing. Many of its major features have been backported to the backwards-compatible Python 2.6 and 2.7.[31]\n",
    "\"\"\"\n",
    "print (x)"
   ]
  },
  {
   "cell_type": "markdown",
   "metadata": {},
   "source": [
    "We can find out what the current directory is that the above file was written to\n"
   ]
  },
  {
   "cell_type": "code",
   "execution_count": null,
   "metadata": {},
   "outputs": [],
   "source": [
    "import os\n",
    "\n",
    "my_working_dir = os.getcwd()\n",
    "my_working_dir"
   ]
  },
  {
   "cell_type": "code",
   "execution_count": null,
   "metadata": {
    "scrolled": true
   },
   "outputs": [],
   "source": [
    "os.listdir(my_working_dir)"
   ]
  },
  {
   "cell_type": "markdown",
   "metadata": {},
   "source": [
    "And we can run the file that we saved"
   ]
  },
  {
   "cell_type": "code",
   "execution_count": null,
   "metadata": {},
   "outputs": [],
   "source": [
    "%run test.py"
   ]
  },
  {
   "cell_type": "code",
   "execution_count": null,
   "metadata": {},
   "outputs": [],
   "source": []
  },
  {
   "cell_type": "code",
   "execution_count": null,
   "metadata": {},
   "outputs": [],
   "source": [
    "%%javascript\n",
    "require(['base/js/utils'],\n",
    "function(utils) {\n",
    "   utils.load_extensions('calico-spell-check', 'calico-document-tools', 'calico-cell-tools');\n",
    "});"
   ]
  },
  {
   "cell_type": "code",
   "execution_count": null,
   "metadata": {},
   "outputs": [],
   "source": []
  }
 ],
 "metadata": {
  "kernelspec": {
   "display_name": "Python 3",
   "language": "python",
   "name": "python3"
  },
  "language_info": {
   "codemirror_mode": {
    "name": "ipython",
    "version": 3
   },
   "file_extension": ".py",
   "mimetype": "text/x-python",
   "name": "python",
   "nbconvert_exporter": "python",
   "pygments_lexer": "ipython3",
   "version": "3.7.1"
  }
 },
 "nbformat": 4,
 "nbformat_minor": 1
}
