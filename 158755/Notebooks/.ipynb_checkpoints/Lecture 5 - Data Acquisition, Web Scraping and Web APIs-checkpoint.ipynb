{
 "cells": [
  {
   "cell_type": "code",
   "execution_count": null,
   "metadata": {},
   "outputs": [],
   "source": [
    "from IPython.core.display import display, HTML\n",
    "display(HTML(\"<style>.container { width:100% !important; }</style>\"))"
   ]
  },
  {
   "cell_type": "markdown",
   "metadata": {},
   "source": [
    "# Data Acquisition, Web Scraping and Web APIs *"
   ]
  },
  {
   "cell_type": "markdown",
   "metadata": {},
   "source": [
    "# Table of Contents\n",
    "* [Data Acquisition, Web Scraping and Web APIs *](#Lecture-5---Data-Acquisition,-Web-Scraping-and-Web-APIs-*)\n",
    "\t* &nbsp;\n",
    "\t\t* [Content](#Content)\n",
    "\t\t* [Learning Outcomes](#Learning-Outcomes)\n",
    "* [Data Acquisition](#Data-Acquisition)\n",
    "* [1. Web scraping](#1.-Web-scraping)\n",
    "\t* [HTML](#HTML)\n",
    "\t\t* &nbsp;\n",
    "\t\t\t* [What is HTML?](#What-is-HTML?)\n",
    "\t* [Intro to Web Scraping](#Intro-to-Web-Scraping)\n",
    "\t\t* [--- WARNING ---](#----WARNING----)\n",
    "\t* [2. Web APIs](#2.-Web-APIs)\n",
    "\t\t* [REST](#REST)\n",
    "\t\t* [JSON](#JSON)\n",
    "\t\t* [Forming an API query](#Forming-an-API-query)\n",
    "\t* [Current International Space Station Details](#Current-International-Space-Station-Details)\n",
    "\t* [Dedicated API Wrapper Modules](#Proprietary-API-Wrapper-Modules)\n",
    "\t* [API Repositories and Market Places](#API-Repositories-and-Market-Places)\n"
   ]
  },
  {
   "cell_type": "markdown",
   "metadata": {},
   "source": [
    "---\n",
    "* Some material on web scraping and usage of APIs adapted from Kevin Markham's data science courses at https://github.com/justmarkham"
   ]
  },
  {
   "cell_type": "markdown",
   "metadata": {},
   "source": [
    "### Content"
   ]
  },
  {
   "cell_type": "markdown",
   "metadata": {},
   "source": [
    "1. Data gathering via web scraping\n",
    "2. HTML basics\n",
    "3. Data gathering via web APIs\n",
    "4. JSON file format"
   ]
  },
  {
   "cell_type": "markdown",
   "metadata": {},
   "source": [
    "### Learning Outcomes"
   ]
  },
  {
   "cell_type": "markdown",
   "metadata": {},
   "source": [
    "At the end of this lecture, you should be able to:\n",
    "\n",
    "* list the different dynamic sources of data\n",
    "* explain what HTML is and its basic structure\n",
    "* make HTTP requests using python\n",
    "* traverse the HTML document tree\n",
    "* perform web scraping at an introductory level\n",
    "* describe and process the JSON file format\n",
    "* perform rudimentary data acquisition using Web APIs\n",
    "\n",
    "\n",
    "\n",
    "---"
   ]
  },
  {
   "cell_type": "markdown",
   "metadata": {},
   "source": [
    "# Data Acquisition"
   ]
  },
  {
   "cell_type": "markdown",
   "metadata": {},
   "source": [
    "So far, we have looked at how we can acquire data from pre-prepared Excel and text files in the CSV format. We also saw how we can use pandas clipboard facility to paste and build data frames. \n",
    "\n",
    "We also experienced that much of the data does not come in tidy formats that are prepared and ready for data analysis. For this we learned a number of techniques that help us to wrangle and tidy our data into shape. \n",
    "\n",
    "Now we are going to look at two additional sources of data that are dynamic and will require the combination of all the techniques we learned previously, such as wrangling, merging, aggregation, as well as some new skills. \n",
    "\n",
    "It is becoming common these days that data is acquired from multiple sources and merged into a single dataset. The data sources that are increasingly becoming the backbone of many analytics and information systems are web based.\n",
    "\n",
    "This section considers how data can be read (scraped) from web pages (HTML documents), and how data can be retrieved from web servers using their application program interfaces (APIs)."
   ]
  },
  {
   "cell_type": "markdown",
   "metadata": {},
   "source": [
    "# 1. Web scraping"
   ]
  },
  {
   "cell_type": "markdown",
   "metadata": {},
   "source": [
    "Often when we need to acquire data, web pages are a great resource to turn to. Many websites make data available on their web pages for viewing in a browser, but do not make it conveniently downloadable as an easily machine-readable format like JSON, CSV, or XML. Because of this, we sometimes need to employ web scraping techniques.\n",
    "\n",
    "The term \"web scraping\" refers to an application or script that processes HTML pages. This is done in order to extract data embedded in HTML for manipulation. \n",
    "\n",
    "Web scraping applications in effect simulate a person viewing a website with a browser.\n",
    "\n",
    "Our task then becomes writing scripts that can traverse the structure of HTML documents and locate the particular piece of data we need."
   ]
  },
  {
   "cell_type": "markdown",
   "metadata": {},
   "source": [
    "## HTML"
   ]
  },
  {
   "cell_type": "markdown",
   "metadata": {},
   "source": [
    "#### What is HTML?"
   ]
  },
  {
   "cell_type": "markdown",
   "metadata": {},
   "source": [
    "HTML is a markup language (not a programming language) for describing web documents (web pages).\n",
    "\n",
    "    HTML stands for Hyper Text Markup Language\n",
    "    A markup language is a set of markup tags\n",
    "    HTML documents are described by HTML tags\n",
    "    Each HTML tag describes different document content\n",
    "\n",
    "HTML pages consist of elements. Elements are marked up by tags, and the tags may have attributes inside them which describe how the content should be rendered by web browsers. The initial tag specifies the type of the document so that the browsers render the content correctly.\n",
    "\n",
    "Please refer to http://www.w3schools.com/html/html_intro.asp for an introduction to HTML."
   ]
  },
  {
   "cell_type": "raw",
   "metadata": {},
   "source": [
    "<!DOCTYPE html>\n",
    "<html>\n",
    "  <head>\n",
    "    <title>This is a title</title>\n",
    "  </head>\n",
    "  <body >\n",
    "    <p>Hello world!</p>\n",
    "  </body>\n",
    "</html>"
   ]
  },
  {
   "cell_type": "markdown",
   "metadata": {},
   "source": [
    "The examples below will show how we can perform web scraping on HTML pages using a Python package called `BeautifulSoup`. \n",
    "\n",
    "BeautifulSoup is an HTML/XML parser for Python that can turn markup text into a parse tree, that can then be traversed more easily."
   ]
  },
  {
   "cell_type": "code",
   "execution_count": 125,
   "metadata": {},
   "outputs": [
    {
     "data": {
      "text/html": [
       "\n",
       "        <iframe\n",
       "            width=\"1100\"\n",
       "            height=\"500\"\n",
       "            src=\"http://www.crummy.com/software/BeautifulSoup/bs4/doc/\"\n",
       "            frameborder=\"0\"\n",
       "            allowfullscreen\n",
       "        ></iframe>\n",
       "        "
      ],
      "text/plain": [
       "<IPython.lib.display.IFrame at 0x11eebfc90>"
      ]
     },
     "execution_count": 125,
     "metadata": {},
     "output_type": "execute_result"
    }
   ],
   "source": [
    "from IPython.display import HTML, IFrame\n",
    "IFrame(\"http://www.crummy.com/software/BeautifulSoup/bs4/doc/\", width=1100, height=500)\n",
    "\n"
   ]
  },
  {
   "cell_type": "markdown",
   "metadata": {},
   "source": [
    "BeautifulSoup provides a simplified, idiomatic way of navigating, searching, and modifying parse tree generated by HTML and XML.\n",
    "\n",
    "More info on BeautifulSoup http://www.crummy.com/software/BeautifulSoup/bs3/documentation.html\n",
    "\n",
    "Good examples of how this is done can be found in : http://www.gregreda.com/2013/03/03/web-scraping-101-with-python/ and http://blog.miguelgrinberg.com/post/easy-web-scraping-with-python"
   ]
  },
  {
   "cell_type": "markdown",
   "metadata": {},
   "source": [
    "## Intro to Web Scraping"
   ]
  },
  {
   "cell_type": "markdown",
   "metadata": {},
   "source": [
    "We are going to begin with a toy example first using the simple html page created below:"
   ]
  },
  {
   "cell_type": "raw",
   "metadata": {},
   "source": [
    "<!doctype html>\n",
    "<html lang=\"en\">\n",
    "<head>\n",
    "  <title>Teo's Webpage</title>\n",
    "</head>\n",
    "\n",
    "<body>\n",
    "  <h1>Teo's Webpage</h1>\n",
    "  <p id=\"intro\">My name is Teo.  I find web scraping interesting.</p>\n",
    "  <p id=\"background\">I live in Auckland and completed my PhD at Massey University in Computer Science, while studying the field of machine learning.</p>\n",
    "  <p id=\"current\">I currently work as a lecturer in Information Technology.</p>\n",
    "  \n",
    "  <h3>My Interests</h3>\n",
    "  <ul>\n",
    "      <li id=\"my favorite\">Data Science and Machine Learning</li>\n",
    "      <li class=\"hobby\">Tennis</li>\n",
    "      <li class=\"hobby\">Reading</li>\n",
    "      <li class=\"hobby\">Travelling</li>\n",
    "      <li class=\"hobby\">Running</li>\n",
    "  </ul>\n",
    "</body>\n",
    "</html>"
   ]
  },
  {
   "cell_type": "code",
   "execution_count": 126,
   "metadata": {},
   "outputs": [],
   "source": [
    "# imports\n",
    "import requests                 # How Python gets the webpages\n",
    "from bs4 import BeautifulSoup   # Creates structured, searchable object\n",
    "import numpy as np\n",
    "import pandas as pd\n",
    "import matplotlib.pyplot as plt\n",
    "import json\n",
    "import prettyprint as pp\n"
   ]
  },
  {
   "cell_type": "code",
   "execution_count": 127,
   "metadata": {},
   "outputs": [],
   "source": [
    "# !import prettyprint"
   ]
  },
  {
   "cell_type": "code",
   "execution_count": 128,
   "metadata": {},
   "outputs": [],
   "source": [
    "from pylab import rcParams\n",
    "\n",
    "rcParams['figure.figsize'] = 15, 10\n",
    "rcParams['font.size'] = 20\n",
    "rcParams['axes.facecolor'] = 'white'\n",
    "\n",
    "%matplotlib inline"
   ]
  },
  {
   "cell_type": "code",
   "execution_count": 129,
   "metadata": {},
   "outputs": [
    {
     "data": {
      "text/plain": [
       "str"
      ]
     },
     "execution_count": 129,
     "metadata": {},
     "output_type": "execute_result"
    }
   ],
   "source": [
    "# First, let's read the toy webpage as a string - this is what happens initially when you scrape any webpage\n",
    "html_doc = \"\"\"\n",
    "<!doctype html>\n",
    "<html lang=\"en\">\n",
    "<head>\n",
    "  <title>Teo's Webpage</title>\n",
    "</head>\n",
    "\n",
    "<body>\n",
    "  <h1>Teo's Webpage</h1>\n",
    "  <p id=\"intro\">My name is Teo.  I find web scraping interesting.</p>\n",
    "  <p id=\"background\">I live in Auckland and completed my PhD at Massey University in Computer Science, while studying the field of machine learning.</p>\n",
    "  <p id=\"current\">I currently work as a lecturer in Information Technology.</p>\n",
    "  \n",
    "  <h3>My Interests</h3>\n",
    "  <ul>\n",
    "      <li id=\"my favorite\">Data Science and Machine Learning</li>\n",
    "      <li class=\"hobby\">Tennis</li>\n",
    "      <li class=\"hobby\">Reading</li>\n",
    "      <li class=\"hobby\">Travelling</li>\n",
    "      <li class=\"hobby\">Running</li>\n",
    "  </ul>\n",
    "</body>\n",
    "</html>\n",
    "\"\"\"\n",
    "type(html_doc)"
   ]
  },
  {
   "cell_type": "code",
   "execution_count": 130,
   "metadata": {},
   "outputs": [
    {
     "name": "stdout",
     "output_type": "stream",
     "text": [
      "<class 'bs4.BeautifulSoup'>\n"
     ]
    },
    {
     "data": {
      "text/plain": [
       "<!DOCTYPE html>\n",
       "<html lang=\"en\">\n",
       "<head>\n",
       "<title>Teo's Webpage</title>\n",
       "</head>\n",
       "<body>\n",
       "<h1>Teo's Webpage</h1>\n",
       "<p id=\"intro\">My name is Teo.  I find web scraping interesting.</p>\n",
       "<p id=\"background\">I live in Auckland and completed my PhD at Massey University in Computer Science, while studying the field of machine learning.</p>\n",
       "<p id=\"current\">I currently work as a lecturer in Information Technology.</p>\n",
       "<h3>My Interests</h3>\n",
       "<ul>\n",
       "<li id=\"my favorite\">Data Science and Machine Learning</li>\n",
       "<li class=\"hobby\">Tennis</li>\n",
       "<li class=\"hobby\">Reading</li>\n",
       "<li class=\"hobby\">Travelling</li>\n",
       "<li class=\"hobby\">Running</li>\n",
       "</ul>\n",
       "</body>\n",
       "</html>"
      ]
     },
     "execution_count": 130,
     "metadata": {},
     "output_type": "execute_result"
    }
   ],
   "source": [
    "# Beautiful soup allows us to create structure from the html elements, and to traverse it\n",
    "page = BeautifulSoup(html_doc, \"lxml\")\n",
    "print(type(page))\n",
    "page"
   ]
  },
  {
   "cell_type": "code",
   "execution_count": 131,
   "metadata": {},
   "outputs": [
    {
     "data": {
      "text/plain": [
       "<body>\n",
       "<h1>Teo's Webpage</h1>\n",
       "<p id=\"intro\">My name is Teo.  I find web scraping interesting.</p>\n",
       "<p id=\"background\">I live in Auckland and completed my PhD at Massey University in Computer Science, while studying the field of machine learning.</p>\n",
       "<p id=\"current\">I currently work as a lecturer in Information Technology.</p>\n",
       "<h3>My Interests</h3>\n",
       "<ul>\n",
       "<li id=\"my favorite\">Data Science and Machine Learning</li>\n",
       "<li class=\"hobby\">Tennis</li>\n",
       "<li class=\"hobby\">Reading</li>\n",
       "<li class=\"hobby\">Travelling</li>\n",
       "<li class=\"hobby\">Running</li>\n",
       "</ul>\n",
       "</body>"
      ]
     },
     "execution_count": 131,
     "metadata": {},
     "output_type": "execute_result"
    }
   ],
   "source": [
    "# The most useful methods in a Beautiful Soup object are \"find\" and \"findAll\".\n",
    "# \"find\" takes several parameters, the most important are \"name\" and \"attrs\".\n",
    "# name will help us find the type of an element\n",
    "# Let's target \"name\".\n",
    "page.find(name='body') # Finds the 'body' tag and everything inside of it."
   ]
  },
  {
   "cell_type": "code",
   "execution_count": 132,
   "metadata": {},
   "outputs": [
    {
     "data": {
      "text/plain": [
       "bs4.element.Tag"
      ]
     },
     "execution_count": 132,
     "metadata": {},
     "output_type": "execute_result"
    }
   ],
   "source": [
    "body = page.find(name='body')\n",
    "type(body) #element.Tag"
   ]
  },
  {
   "cell_type": "markdown",
   "metadata": {},
   "source": [
    "The above result tells us that 'body' element was found in the HTML page, and it tells us what object type it is. When the find fails, then this is what we get:"
   ]
  },
  {
   "cell_type": "code",
   "execution_count": 133,
   "metadata": {},
   "outputs": [
    {
     "data": {
      "text/plain": [
       "NoneType"
      ]
     },
     "execution_count": 133,
     "metadata": {},
     "output_type": "execute_result"
    }
   ],
   "source": [
    "body = page.find(name='bodyyy')\n",
    "type(body) #element.Tag"
   ]
  },
  {
   "cell_type": "markdown",
   "metadata": {},
   "source": [
    "We can see its content below"
   ]
  },
  {
   "cell_type": "code",
   "execution_count": 134,
   "metadata": {},
   "outputs": [
    {
     "data": {
      "text/plain": [
       "['\\n',\n",
       " <h1>Teo's Webpage</h1>,\n",
       " '\\n',\n",
       " <p id=\"intro\">My name is Teo.  I find web scraping interesting.</p>,\n",
       " '\\n',\n",
       " <p id=\"background\">I live in Auckland and completed my PhD at Massey University in Computer Science, while studying the field of machine learning.</p>,\n",
       " '\\n',\n",
       " <p id=\"current\">I currently work as a lecturer in Information Technology.</p>,\n",
       " '\\n',\n",
       " <h3>My Interests</h3>,\n",
       " '\\n',\n",
       " <ul>\n",
       " <li id=\"my favorite\">Data Science and Machine Learning</li>\n",
       " <li class=\"hobby\">Tennis</li>\n",
       " <li class=\"hobby\">Reading</li>\n",
       " <li class=\"hobby\">Travelling</li>\n",
       " <li class=\"hobby\">Running</li>\n",
       " </ul>,\n",
       " '\\n']"
      ]
     },
     "execution_count": 134,
     "metadata": {},
     "output_type": "execute_result"
    }
   ],
   "source": [
    "body = page.find(name='body')\n",
    "body.contents"
   ]
  },
  {
   "cell_type": "markdown",
   "metadata": {},
   "source": [
    "We can recursively search for other elements inside the returned result as well:"
   ]
  },
  {
   "cell_type": "code",
   "execution_count": 135,
   "metadata": {},
   "outputs": [
    {
     "data": {
      "text/plain": [
       "<h1>Teo's Webpage</h1>"
      ]
     },
     "execution_count": 135,
     "metadata": {},
     "output_type": "execute_result"
    }
   ],
   "source": [
    "h1 = body.find(name='h1') # Find the 'h1' element inside of the 'body' tag\n",
    "h1"
   ]
  },
  {
   "cell_type": "code",
   "execution_count": 136,
   "metadata": {},
   "outputs": [
    {
     "data": {
      "text/plain": [
       "\"Teo's Webpage\""
      ]
     },
     "execution_count": 136,
     "metadata": {},
     "output_type": "execute_result"
    }
   ],
   "source": [
    "h1.text"
   ]
  },
  {
   "cell_type": "code",
   "execution_count": 137,
   "metadata": {},
   "outputs": [
    {
     "data": {
      "text/plain": [
       "[\"Teo's Webpage\"]"
      ]
     },
     "execution_count": 137,
     "metadata": {},
     "output_type": "execute_result"
    }
   ],
   "source": [
    "h1.contents"
   ]
  },
  {
   "cell_type": "markdown",
   "metadata": {},
   "source": [
    "Notice how we can access the entire element or just the content. "
   ]
  },
  {
   "cell_type": "markdown",
   "metadata": {},
   "source": [
    "Now let's find the 'p' elements:"
   ]
  },
  {
   "cell_type": "code",
   "execution_count": 138,
   "metadata": {},
   "outputs": [
    {
     "data": {
      "text/plain": [
       "<p id=\"intro\">My name is Teo.  I find web scraping interesting.</p>"
      ]
     },
     "execution_count": 138,
     "metadata": {},
     "output_type": "execute_result"
    }
   ],
   "source": [
    "p = page.find(name='p')\n",
    "# This only finds one.  This is where 'findAll' comes in.\n",
    "p"
   ]
  },
  {
   "cell_type": "markdown",
   "metadata": {},
   "source": [
    "We can also do a search of all instances of an element:"
   ]
  },
  {
   "cell_type": "code",
   "execution_count": 139,
   "metadata": {},
   "outputs": [
    {
     "name": "stdout",
     "output_type": "stream",
     "text": [
      "[<p id=\"intro\">My name is Teo.  I find web scraping interesting.</p>, <p id=\"background\">I live in Auckland and completed my PhD at Massey University in Computer Science, while studying the field of machine learning.</p>, <p id=\"current\">I currently work as a lecturer in Information Technology.</p>]\n"
     ]
    },
    {
     "data": {
      "text/plain": [
       "bs4.element.ResultSet"
      ]
     },
     "execution_count": 139,
     "metadata": {},
     "output_type": "execute_result"
    }
   ],
   "source": [
    "all_p = page.findAll(name='p')\n",
    "print(all_p)\n",
    "type(all_p) # Result sets are a lot like Python lists"
   ]
  },
  {
   "cell_type": "markdown",
   "metadata": {},
   "source": [
    "Access specific element with index:"
   ]
  },
  {
   "cell_type": "code",
   "execution_count": 140,
   "metadata": {},
   "outputs": [
    {
     "name": "stdout",
     "output_type": "stream",
     "text": [
      "<p id=\"intro\">My name is Teo.  I find web scraping interesting.</p>\n",
      "<p id=\"background\">I live in Auckland and completed my PhD at Massey University in Computer Science, while studying the field of machine learning.</p>\n"
     ]
    }
   ],
   "source": [
    "print(all_p[0])\n",
    "print(all_p[1])"
   ]
  },
  {
   "cell_type": "code",
   "execution_count": 141,
   "metadata": {},
   "outputs": [
    {
     "name": "stdout",
     "output_type": "stream",
     "text": [
      "My name is Teo.  I find web scraping interesting.\n",
      "I live in Auckland and completed my PhD at Massey University in Computer Science, while studying the field of machine learning.\n",
      "I currently work as a lecturer in Information Technology.\n"
     ]
    }
   ],
   "source": [
    "# Iterable like  list\n",
    "for one_p in all_p:\n",
    "    print(one_p.text) # Print text"
   ]
  },
  {
   "cell_type": "markdown",
   "metadata": {},
   "source": [
    "Access specific attribute of a tag:"
   ]
  },
  {
   "cell_type": "code",
   "execution_count": 142,
   "metadata": {},
   "outputs": [
    {
     "data": {
      "text/plain": [
       "<p id=\"intro\">My name is Teo.  I find web scraping interesting.</p>"
      ]
     },
     "execution_count": 142,
     "metadata": {},
     "output_type": "execute_result"
    }
   ],
   "source": [
    "all_p[0] # Specific element"
   ]
  },
  {
   "cell_type": "code",
   "execution_count": 143,
   "metadata": {},
   "outputs": [
    {
     "data": {
      "text/plain": [
       "'intro'"
      ]
     },
     "execution_count": 143,
     "metadata": {},
     "output_type": "execute_result"
    }
   ],
   "source": [
    "all_p[0]['id'] # Specific attribute value of a specific element"
   ]
  },
  {
   "cell_type": "markdown",
   "metadata": {},
   "source": [
    "Now let's look at 'attrs'. Beautiful soup also allows us to locate elements with specific attributes:"
   ]
  },
  {
   "cell_type": "code",
   "execution_count": 144,
   "metadata": {},
   "outputs": [
    {
     "data": {
      "text/plain": [
       "<p id=\"intro\">My name is Teo.  I find web scraping interesting.</p>"
      ]
     },
     "execution_count": 144,
     "metadata": {},
     "output_type": "execute_result"
    }
   ],
   "source": [
    "page.find(name='p', attrs={\"id\":\"intro\"})"
   ]
  },
  {
   "cell_type": "code",
   "execution_count": 145,
   "metadata": {},
   "outputs": [
    {
     "data": {
      "text/plain": [
       "<p id=\"background\">I live in Auckland and completed my PhD at Massey University in Computer Science, while studying the field of machine learning.</p>"
      ]
     },
     "execution_count": 145,
     "metadata": {},
     "output_type": "execute_result"
    }
   ],
   "source": [
    "page.find(name='p', attrs={\"id\":\"background\"})"
   ]
  },
  {
   "cell_type": "code",
   "execution_count": 146,
   "metadata": {},
   "outputs": [
    {
     "data": {
      "text/plain": [
       "'I currently work as a lecturer in Information Technology.'"
      ]
     },
     "execution_count": 146,
     "metadata": {},
     "output_type": "execute_result"
    }
   ],
   "source": [
    "result = page.find(name='p', attrs={\"id\":\"current\"})\n",
    "result.text"
   ]
  },
  {
   "cell_type": "markdown",
   "metadata": {},
   "source": [
    "Again we can also do a search of all instances of an element and name of a class:"
   ]
  },
  {
   "cell_type": "code",
   "execution_count": 147,
   "metadata": {},
   "outputs": [
    {
     "data": {
      "text/plain": [
       "[<li class=\"hobby\">Tennis</li>,\n",
       " <li class=\"hobby\">Reading</li>,\n",
       " <li class=\"hobby\">Travelling</li>,\n",
       " <li class=\"hobby\">Running</li>]"
      ]
     },
     "execution_count": 147,
     "metadata": {},
     "output_type": "execute_result"
    }
   ],
   "source": [
    "page.findAll(\"li\", \"hobby\")"
   ]
  },
  {
   "cell_type": "markdown",
   "metadata": {},
   "source": [
    "**Exercise:** Extract the 'h3' element from Teo's webpage."
   ]
  },
  {
   "cell_type": "code",
   "execution_count": 154,
   "metadata": {},
   "outputs": [
    {
     "data": {
      "text/plain": [
       "'My Interests'"
      ]
     },
     "execution_count": 154,
     "metadata": {},
     "output_type": "execute_result"
    }
   ],
   "source": [
    "result = page.find(name='h3',)\n",
    "result.text\n"
   ]
  },
  {
   "cell_type": "markdown",
   "metadata": {},
   "source": [
    "**Exercise:** Extract Teo's hobbies from the html_doc.  Print out the text of the hobby. "
   ]
  },
  {
   "cell_type": "code",
   "execution_count": 153,
   "metadata": {},
   "outputs": [],
   "source": [
    "# page.findAll(\"li\")\n"
   ]
  },
  {
   "cell_type": "code",
   "execution_count": 150,
   "metadata": {},
   "outputs": [
    {
     "name": "stdout",
     "output_type": "stream",
     "text": [
      "Tennis\n",
      "Reading\n",
      "Travelling\n",
      "Running\n"
     ]
    }
   ],
   "source": [
    "page.findAll(\"li\", \"hobby\")\n",
    "for item in page.findAll(\"li\", \"hobby\"):\n",
    "    print(item.text)"
   ]
  },
  {
   "cell_type": "markdown",
   "metadata": {},
   "source": [
    "**Exercise:** Extract Teo's hobby that has the id \"my favorite\"."
   ]
  },
  {
   "cell_type": "code",
   "execution_count": 32,
   "metadata": {},
   "outputs": [
    {
     "data": {
      "text/plain": [
       "'Data Science and Machine Learning'"
      ]
     },
     "execution_count": 32,
     "metadata": {},
     "output_type": "execute_result"
    }
   ],
   "source": [
    "page.find(\"li\",  attrs={\"id\":\"my favorite\"}).text\n"
   ]
  },
  {
   "cell_type": "code",
   "execution_count": null,
   "metadata": {},
   "outputs": [],
   "source": []
  },
  {
   "cell_type": "markdown",
   "metadata": {},
   "source": [
    "## Example "
   ]
  },
  {
   "cell_type": "markdown",
   "metadata": {},
   "source": [
    "We will illustrate this concept further on an example scraping website called http://example.webscraping.com/places/default/view/New-Zealand-159, where will will attempt to scrape data describing various countries.\n",
    "\n"
   ]
  },
  {
   "cell_type": "markdown",
   "metadata": {},
   "source": [
    "We will try and pull the population size of NZ.\n",
    "\n",
    "In order to find where the price is situated in the HTML document, we must look at the document's source code. By right clicking on a page in a browser, an option should be displayed allowing you to view the source.\n",
    "\n",
    "We must inspect the source so that we can find the element that houses this value. We can then use the python's BeautifulSoup package to **read and traverse through the HTML element tree** in order to extract the data that we want.\n",
    "\n",
    "There are three basic steps to scraping a single page:\n",
    "\n",
    "    1. Get (request) the page\n",
    "    2. Parse the page content (read and interpret the document structure)\n",
    "    3. Search through the content of interest\n",
    "\n",
    "\n",
    "Below is the example of a script that will access and display the population value for NZ:\n"
   ]
  },
  {
   "cell_type": "code",
   "execution_count": 33,
   "metadata": {},
   "outputs": [],
   "source": [
    "#we first need to make some extra imports\n",
    "import json\n",
    "from time import sleep\n",
    "from datetime import datetime\n"
   ]
  },
  {
   "cell_type": "markdown",
   "metadata": {},
   "source": [
    "**STEP 1: GET** Access the page and read it into the beautiful soup object"
   ]
  },
  {
   "cell_type": "code",
   "execution_count": 155,
   "metadata": {},
   "outputs": [
    {
     "data": {
      "text/plain": [
       "<Response [200]>"
      ]
     },
     "execution_count": 155,
     "metadata": {},
     "output_type": "execute_result"
    }
   ],
   "source": [
    "url = \"http://example.webscraping.com/places/default/view/New-Zealand-159\"\n",
    "response = requests.get(url) \n",
    "response"
   ]
  },
  {
   "cell_type": "markdown",
   "metadata": {},
   "source": [
    "### --- WARNING --- "
   ]
  },
  {
   "cell_type": "markdown",
   "metadata": {},
   "source": [
    "ALWAYS FIRST MAKE SURE THAT THE RESPONSE IS 200 - OTHERWISE YOU MIGHT HAVE AN ERROR, IN WHICH CASE YOU'D BE BEST TO STOP AND NOT TRY TO PROCESS THE DOCUMENT, SINCE THERE WILL BE NOTHING TO PROCESS"
   ]
  },
  {
   "cell_type": "code",
   "execution_count": 156,
   "metadata": {},
   "outputs": [],
   "source": [
    "page = response.content"
   ]
  },
  {
   "cell_type": "code",
   "execution_count": 157,
   "metadata": {
    "scrolled": true
   },
   "outputs": [
    {
     "data": {
      "text/plain": [
       "b'<!--[if HTML5]><![endif]-->\\n<!DOCTYPE html>\\n<!-- paulirish.com/2008/conditional-stylesheets-vs-css-hacks-answer-neither/ -->\\n<!--[if lt IE 7]><html class=\"ie ie6 ie-lte9 ie-lte8 ie-lte7 no-js\" lang=\"en-us\"> <![endif]-->\\n<!--[if IE 7]><html class=\"ie ie7 ie-lte9 ie-lte8 ie-lte7 no-js\" lang=\"en-us\"> <![endif]-->\\n<!--[if IE 8]><html class=\"ie ie8 ie-lte9 ie-lte8 no-js\" lang=\"en-us\"> <![endif]-->\\n<!--[if IE 9]><html class=\"ie9 ie-lte9 no-js\" lang=\"en-us\"> <![endif]-->\\n<!--[if (gt IE 9)|!(IE)]><!--> <html class=\"no-js\" lang=\"en-us\"> <!--<![endif]-->\\n<head>\\n<title>Example web scraping website</title>\\n  <!--[if !HTML5]>\\n      <meta http-equiv=\"X-UA-Compatible\" content=\"IE=edge,chrome=1\">\\n  <![endif]-->\\n  <!-- www.phpied.com/conditional-comments-block-downloads/ -->\\n  <!-- Always force latest IE rendering engine\\n       (even in intranet) & Chrome Frame\\n       Remove this if you use the .htaccess -->\\n\\t   \\n  <meta charset=\"utf-8\" />\\n\\n  <!-- http://dev.w3.org/html5/markup/meta.name.html -->\\n  <meta name=\"application-name\" content=\"places\" />\\n\\n  <!--  Mobile Viewport Fix\\n        j.mp/mobileviewport & davidbcalhoun.com/2010/viewport-metatag\\n        device-width: Occupy full width of the screen in its current orientation\\n        initial-scale = 1.0 retains dimensions instead of zooming out if page height > device height\\n        user-scalable = yes allows the user to zoom in -->\\n  <meta name=\"viewport\" content=\"width=device-width, initial-scale=1.0\" />\\n\\n  <link rel=\"shortcut icon\" href=\"/places/static/images/favicon.ico\" type=\"image/x-icon\">\\n  <link rel=\"apple-touch-icon\" href=\"/places/static/images/favicon.png\">\\n\\n  <!-- All JavaScript at the bottom, except for Modernizr which enables\\n       HTML5 elements & feature detects -->\\n  <script src=\"/places/static/js/modernizr.custom.js\"></script>\\n\\n  <!-- include stylesheets -->\\n  \\n\\n  <script type=\"text/javascript\"><!--\\n    // These variables are used by the web2py_ajax_init function in web2py_ajax.js (which is loaded below).\\n    var w2p_ajax_confirm_message = \"Are you sure you want to delete this object?\";\\n    var w2p_ajax_disable_with_message = \"Working...\";\\n    var w2p_ajax_date_format = \"%Y-%m-%d\";\\n    var w2p_ajax_datetime_format = \"%Y-%m-%d %H:%M:%S\";\\n    var ajax_error_500 = \\'An error occured, please <a href=\"/places/default/view/New-Zealand-159\">reload</a> the page\\'\\n    //--></script>\\n\\n<meta name=\"keywords\" content=\"web2py, python, web scraping\" />\\n<meta name=\"generator\" content=\"Web2py Web Framework\" />\\n<meta name=\"author\" content=\"Richard Penman\" />\\n<script src=\"/places/static/js/jquery.js\" type=\"text/javascript\"></script><link href=\"/places/static/css/calendar.css\" rel=\"stylesheet\" type=\"text/css\" /><script src=\"/places/static/js/calendar.js\" type=\"text/javascript\"></script><script src=\"/places/static/js/web2py.js\" type=\"text/javascript\"></script><link href=\"/places/static/css/web2py.css\" rel=\"stylesheet\" type=\"text/css\" /><link href=\"/places/static/css/bootstrap.min.css\" rel=\"stylesheet\" type=\"text/css\" /><link href=\"/places/static/css/bootstrap-responsive.min.css\" rel=\"stylesheet\" type=\"text/css\" /><link href=\"/places/static/css/style.css\" rel=\"stylesheet\" type=\"text/css\" /><link href=\"/places/static/css/web2py_bootstrap.css\" rel=\"stylesheet\" type=\"text/css\" />\\n\\n\\n  \\n\\n  <!-- uncomment here to load jquery-ui\\n       <link rel=\"stylesheet\" href=\"http://ajax.googleapis.com/ajax/libs/jqueryui/1.10.3/themes/ui-lightness/jquery-ui.css\" type=\"text/css\" media=\"all\" />\\n       <script src=\"http://ajax.googleapis.com/ajax/libs/jqueryui/1.10.3/jquery-ui.min.js\" type=\"text/javascript\"></script>\\n       uncomment to load jquery-ui //-->\\n  <noscript><link href=\"/places/static/css/web2py_bootstrap_nojs.css\" rel=\"stylesheet\" type=\"text/css\" /></noscript>\\n  \\n</head>\\n\\n<body>\\n  <!-- Navbar ================================================== -->\\n  <div class=\"navbar navbar-inverse\">\\n    <div class=\"flash\"></div>\\n    <div class=\"navbar-inner\">\\n      <div class=\"container\">\\n        \\n        <!-- the next tag is necessary for bootstrap menus, do not remove -->\\n        <button type=\"button\" class=\"btn btn-navbar\" data-toggle=\"collapse\" data-target=\".nav-collapse\" style=\"display:none;\">\\n          <span class=\"icon-bar\"></span>\\n          <span class=\"icon-bar\"></span>\\n          <span class=\"icon-bar\"></span>\\n        </button>\\n        \\n        <ul id=\"navbar\" class=\"nav pull-right\"><li class=\"dropdown\"><a class=\"dropdown-toggle\" data-toggle=\"dropdown\" href=\"#\" rel=\"nofollow\">Log In</a><ul class=\"dropdown-menu\"><li><a href=\"/places/default/user/register?_next=/places/default/view/New-Zealand-159\" rel=\"nofollow\"><i class=\"icon icon-user glyphicon glyphicon-user\"></i> Sign Up</a></li><li class=\"divider\"></li><li><a href=\"/places/default/user/login?_next=/places/default/view/New-Zealand-159\" rel=\"nofollow\"><i class=\"icon icon-off glyphicon glyphicon-off\"></i> Log In</a></li></ul></li></ul>\\n        <div class=\"nav\">\\n          \\n          <ul class=\"nav\"><li class=\"web2py-menu-first\"><a href=\"/places/default/index\">Home</a></li><li class=\"web2py-menu-last\"><a href=\"/places/default/search\">Search</a></li></ul>\\n          \\n        </div><!--/.nav-collapse -->\\n      </div>\\n    </div>\\n  </div><!--/top navbar -->\\n\\n  <div class=\"container\">\\n    <!-- Masthead ================================================== -->\\n      \\n    <header class=\"mastheader row\" id=\"header\">\\n        <div class=\"span12\">\\n            <div class=\"page-header\">\\n                <h1>\\n                    Example web scraping website\\n                    <small></small>\\n                </h1>\\n            </div>\\n        </div>\\n    </header>\\n\\t\\n\\n    <section id=\"main\" class=\"main row\">\\n        \\n\\n        <div class=\"span12\">\\n            \\n            \\n\\n<form action=\"#\" enctype=\"multipart/form-data\" method=\"post\"><table><tr id=\"places_national_flag__row\"><td class=\"w2p_fl\"><label class=\"readonly\" for=\"places_national_flag\" id=\"places_national_flag__label\">National Flag: </label></td><td class=\"w2p_fw\"><img src=\"/places/static/images/flags/nz.png\" /></td><td class=\"w2p_fc\"></td></tr><tr id=\"places_area__row\"><td class=\"w2p_fl\"><label class=\"readonly\" for=\"places_area\" id=\"places_area__label\">Area: </label></td><td class=\"w2p_fw\">268,680 square kilometres</td><td class=\"w2p_fc\"></td></tr><tr id=\"places_population__row\"><td class=\"w2p_fl\"><label class=\"readonly\" for=\"places_population\" id=\"places_population__label\">Population: </label></td><td class=\"w2p_fw\">4,252,277</td><td class=\"w2p_fc\"></td></tr><tr id=\"places_iso__row\"><td class=\"w2p_fl\"><label class=\"readonly\" for=\"places_iso\" id=\"places_iso__label\">Iso: </label></td><td class=\"w2p_fw\">NZ</td><td class=\"w2p_fc\"></td></tr><tr id=\"places_country__row\"><td class=\"w2p_fl\"><label class=\"readonly\" for=\"places_country\" id=\"places_country__label\">Country: </label></td><td class=\"w2p_fw\">New Zealand</td><td class=\"w2p_fc\"></td></tr><tr id=\"places_capital__row\"><td class=\"w2p_fl\"><label class=\"readonly\" for=\"places_capital\" id=\"places_capital__label\">Capital: </label></td><td class=\"w2p_fw\">Wellington</td><td class=\"w2p_fc\"></td></tr><tr id=\"places_continent__row\"><td class=\"w2p_fl\"><label class=\"readonly\" for=\"places_continent\" id=\"places_continent__label\">Continent: </label></td><td class=\"w2p_fw\"><a href=\"/places/default/continent/OC\">OC</a></td><td class=\"w2p_fc\"></td></tr><tr id=\"places_tld__row\"><td class=\"w2p_fl\"><label class=\"readonly\" for=\"places_tld\" id=\"places_tld__label\">Tld: </label></td><td class=\"w2p_fw\">.nz</td><td class=\"w2p_fc\"></td></tr><tr id=\"places_currency_code__row\"><td class=\"w2p_fl\"><label class=\"readonly\" for=\"places_currency_code\" id=\"places_currency_code__label\">Currency Code: </label></td><td class=\"w2p_fw\">NZD</td><td class=\"w2p_fc\"></td></tr><tr id=\"places_currency_name__row\"><td class=\"w2p_fl\"><label class=\"readonly\" for=\"places_currency_name\" id=\"places_currency_name__label\">Currency Name: </label></td><td class=\"w2p_fw\">Dollar</td><td class=\"w2p_fc\"></td></tr><tr id=\"places_phone__row\"><td class=\"w2p_fl\"><label class=\"readonly\" for=\"places_phone\" id=\"places_phone__label\">Phone: </label></td><td class=\"w2p_fw\">64</td><td class=\"w2p_fc\"></td></tr><tr id=\"places_postal_code_format__row\"><td class=\"w2p_fl\"><label class=\"readonly\" for=\"places_postal_code_format\" id=\"places_postal_code_format__label\">Postal Code Format: </label></td><td class=\"w2p_fw\">####</td><td class=\"w2p_fc\"></td></tr><tr id=\"places_postal_code_regex__row\"><td class=\"w2p_fl\"><label class=\"readonly\" for=\"places_postal_code_regex\" id=\"places_postal_code_regex__label\">Postal Code Regex: </label></td><td class=\"w2p_fw\">^(\\\\d{4})$</td><td class=\"w2p_fc\"></td></tr><tr id=\"places_languages__row\"><td class=\"w2p_fl\"><label class=\"readonly\" for=\"places_languages\" id=\"places_languages__label\">Languages: </label></td><td class=\"w2p_fw\">en-NZ,mi</td><td class=\"w2p_fc\"></td></tr><tr id=\"places_neighbours__row\"><td class=\"w2p_fl\"><label class=\"readonly\" for=\"places_neighbours\" id=\"places_neighbours__label\">Neighbours: </label></td><td class=\"w2p_fw\"><div><a href=\"/places/default/iso//\"> </a></div></td><td class=\"w2p_fc\"></td></tr></table><div style=\"display:none;\"><input name=\"id\" type=\"hidden\" value=\"6019431\" /></div></form>\\n\\n<a href=\"/places/default/edit/New-Zealand-159\">Edit</a>\\n\\n            \\n        </div>\\n\\n        \\n    </section><!--/main-->\\n\\n    <!-- Footer ================================================== -->\\n    <div class=\"row\">\\n        <footer class=\"footer span12\" id=\"footer\">\\n        </footer>\\n    </div>\\n\\n  </div> <!-- /container -->\\n\\n  <!-- The javascript =============================================\\n       (Placed at the end of the document so the pages load faster) -->\\n  <script src=\"/places/static/js/bootstrap.min.js\"></script>\\n  <script src=\"/places/static/js/web2py_bootstrap.js\"></script>\\n  <!--[if lt IE 7 ]>\\n      <script src=\"/places/static/js/dd_belatedpng.js\"></script>\\n      <script> DD_belatedPNG.fix(\\'img, .png_bg\\'); //fix any <img> or .png_bg background-images </script>\\n      <![endif]-->\\n</body>\\n</htm'"
      ]
     },
     "execution_count": 157,
     "metadata": {},
     "output_type": "execute_result"
    }
   ],
   "source": [
    "page[:10000]"
   ]
  },
  {
   "cell_type": "markdown",
   "metadata": {},
   "source": [
    "**STEP 2: PARSE** Create a BeautifulSoup object that reads and parses the HTML page into a format that we can search and traverse."
   ]
  },
  {
   "cell_type": "code",
   "execution_count": 158,
   "metadata": {},
   "outputs": [],
   "source": [
    "scraping = BeautifulSoup(page, \"lxml\") "
   ]
  },
  {
   "cell_type": "code",
   "execution_count": 159,
   "metadata": {
    "scrolled": true
   },
   "outputs": [
    {
     "data": {
      "text/plain": [
       "<!--[if HTML5]><![endif]--><!DOCTYPE html>\n",
       "<!-- paulirish.com/2008/conditional-stylesheets-vs-css-hacks-answer-neither/ --><!--[if lt IE 7]><html class=\"ie ie6 ie-lte9 ie-lte8 ie-lte7 no-js\" lang=\"en-us\"> <![endif]--><!--[if IE 7]><html class=\"ie ie7 ie-lte9 ie-lte8 ie-lte7 no-js\" lang=\"en-us\"> <![endif]--><!--[if IE 8]><html class=\"ie ie8 ie-lte9 ie-lte8 no-js\" lang=\"en-us\"> <![endif]--><!--[if IE 9]><html class=\"ie9 ie-lte9 no-js\" lang=\"en-us\"> <![endif]--><!--[if (gt IE 9)|!(IE)]><!--><html class=\"no-js\" lang=\"en-us\"> <!--<![endif]-->\n",
       "<head>\n",
       "<title>Example web scraping website</title>\n",
       "<!--[if !HTML5]>\n",
       "      <meta http-equiv=\"X-UA-Compatible\" content=\"IE=edge,chrome=1\">\n",
       "  <![endif]-->\n",
       "<!-- www.phpied.com/conditional-comments-block-downloads/ -->\n",
       "<!-- Always force latest IE rendering engine\n",
       "       (even in intranet) & Chrome Frame\n",
       "       Remove this if you use the .htaccess -->\n",
       "<meta charset=\"utf-8\"/>\n",
       "<!-- http://dev.w3.org/html5/markup/meta.name.html -->\n",
       "<meta content=\"places\" name=\"application-name\"/>\n",
       "<!--  Mobile Viewport Fix\n",
       "        j.mp/mobileviewport & davidbcalhoun.com/2010/viewport-metatag\n",
       "        device-width: Occupy full width of the screen in its current orientation\n",
       "        initial-scale = 1.0 retains dimensions instead of zooming out if page height > device height\n",
       "        user-scalable = yes allows the user to zoom in -->\n",
       "<meta content=\"width=device-width, initial-scale=1.0\" name=\"viewport\"/>\n",
       "<link href=\"/places/static/images/favicon.ico\" rel=\"shortcut icon\" type=\"image/x-icon\"/>\n",
       "<link href=\"/places/static/images/favicon.png\" rel=\"apple-touch-icon\"/>\n",
       "<!-- All JavaScript at the bottom, except for Modernizr which enables\n",
       "       HTML5 elements & feature detects -->\n",
       "<script src=\"/places/static/js/modernizr.custom.js\"></script>\n",
       "<!-- include stylesheets -->\n",
       "<script type=\"text/javascript\"><!--\n",
       "    // These variables are used by the web2py_ajax_init function in web2py_ajax.js (which is loaded below).\n",
       "    var w2p_ajax_confirm_message = \"Are you sure you want to delete this object?\";\n",
       "    var w2p_ajax_disable_with_message = \"Working...\";\n",
       "    var w2p_ajax_date_format = \"%Y-%m-%d\";\n",
       "    var w2p_ajax_datetime_format = \"%Y-%m-%d %H:%M:%S\";\n",
       "    var ajax_error_500 = 'An error occured, please <a href=\"/places/default/view/New-Zealand-159\">reload</a> the page'\n",
       "    //--></script>\n",
       "<meta content=\"web2py, python, web scraping\" name=\"keywords\"/>\n",
       "<meta content=\"Web2py Web Framework\" name=\"generator\"/>\n",
       "<meta content=\"Richard Penman\" name=\"author\"/>\n",
       "<script src=\"/places/static/js/jquery.js\" type=\"text/javascript\"></script><link href=\"/places/static/css/calendar.css\" rel=\"stylesheet\" type=\"text/css\"/><script src=\"/places/static/js/calendar.js\" type=\"text/javascript\"></script><script src=\"/places/static/js/web2py.js\" type=\"text/javascript\"></script><link href=\"/places/static/css/web2py.css\" rel=\"stylesheet\" type=\"text/css\"/><link href=\"/places/static/css/bootstrap.min.css\" rel=\"stylesheet\" type=\"text/css\"/><link href=\"/places/static/css/bootstrap-responsive.min.css\" rel=\"stylesheet\" type=\"text/css\"/><link href=\"/places/static/css/style.css\" rel=\"stylesheet\" type=\"text/css\"/><link href=\"/places/static/css/web2py_bootstrap.css\" rel=\"stylesheet\" type=\"text/css\"/>\n",
       "<!-- uncomment here to load jquery-ui\n",
       "       <link rel=\"stylesheet\" href=\"http://ajax.googleapis.com/ajax/libs/jqueryui/1.10.3/themes/ui-lightness/jquery-ui.css\" type=\"text/css\" media=\"all\" />\n",
       "       <script src=\"http://ajax.googleapis.com/ajax/libs/jqueryui/1.10.3/jquery-ui.min.js\" type=\"text/javascript\"></script>\n",
       "       uncomment to load jquery-ui //-->\n",
       "<noscript><link href=\"/places/static/css/web2py_bootstrap_nojs.css\" rel=\"stylesheet\" type=\"text/css\"/></noscript>\n",
       "</head>\n",
       "<body>\n",
       "<!-- Navbar ================================================== -->\n",
       "<div class=\"navbar navbar-inverse\">\n",
       "<div class=\"flash\"></div>\n",
       "<div class=\"navbar-inner\">\n",
       "<div class=\"container\">\n",
       "<!-- the next tag is necessary for bootstrap menus, do not remove -->\n",
       "<button class=\"btn btn-navbar\" data-target=\".nav-collapse\" data-toggle=\"collapse\" style=\"display:none;\" type=\"button\">\n",
       "<span class=\"icon-bar\"></span>\n",
       "<span class=\"icon-bar\"></span>\n",
       "<span class=\"icon-bar\"></span>\n",
       "</button>\n",
       "<ul class=\"nav pull-right\" id=\"navbar\"><li class=\"dropdown\"><a class=\"dropdown-toggle\" data-toggle=\"dropdown\" href=\"#\" rel=\"nofollow\">Log In</a><ul class=\"dropdown-menu\"><li><a href=\"/places/default/user/register?_next=/places/default/view/New-Zealand-159\" rel=\"nofollow\"><i class=\"icon icon-user glyphicon glyphicon-user\"></i> Sign Up</a></li><li class=\"divider\"></li><li><a href=\"/places/default/user/login?_next=/places/default/view/New-Zealand-159\" rel=\"nofollow\"><i class=\"icon icon-off glyphicon glyphicon-off\"></i> Log In</a></li></ul></li></ul>\n",
       "<div class=\"nav\">\n",
       "<ul class=\"nav\"><li class=\"web2py-menu-first\"><a href=\"/places/default/index\">Home</a></li><li class=\"web2py-menu-last\"><a href=\"/places/default/search\">Search</a></li></ul>\n",
       "</div><!--/.nav-collapse -->\n",
       "</div>\n",
       "</div>\n",
       "</div><!--/top navbar -->\n",
       "<div class=\"container\">\n",
       "<!-- Masthead ================================================== -->\n",
       "<header class=\"mastheader row\" id=\"header\">\n",
       "<div class=\"span12\">\n",
       "<div class=\"page-header\">\n",
       "<h1>\n",
       "                    Example web scraping website\n",
       "                    <small></small>\n",
       "</h1>\n",
       "</div>\n",
       "</div>\n",
       "</header>\n",
       "<section class=\"main row\" id=\"main\">\n",
       "<div class=\"span12\">\n",
       "<form action=\"#\" enctype=\"multipart/form-data\" method=\"post\"><table><tr id=\"places_national_flag__row\"><td class=\"w2p_fl\"><label class=\"readonly\" for=\"places_national_flag\" id=\"places_national_flag__label\">National Flag: </label></td><td class=\"w2p_fw\"><img src=\"/places/static/images/flags/nz.png\"/></td><td class=\"w2p_fc\"></td></tr><tr id=\"places_area__row\"><td class=\"w2p_fl\"><label class=\"readonly\" for=\"places_area\" id=\"places_area__label\">Area: </label></td><td class=\"w2p_fw\">268,680 square kilometres</td><td class=\"w2p_fc\"></td></tr><tr id=\"places_population__row\"><td class=\"w2p_fl\"><label class=\"readonly\" for=\"places_population\" id=\"places_population__label\">Population: </label></td><td class=\"w2p_fw\">4,252,277</td><td class=\"w2p_fc\"></td></tr><tr id=\"places_iso__row\"><td class=\"w2p_fl\"><label class=\"readonly\" for=\"places_iso\" id=\"places_iso__label\">Iso: </label></td><td class=\"w2p_fw\">NZ</td><td class=\"w2p_fc\"></td></tr><tr id=\"places_country__row\"><td class=\"w2p_fl\"><label class=\"readonly\" for=\"places_country\" id=\"places_country__label\">Country: </label></td><td class=\"w2p_fw\">New Zealand</td><td class=\"w2p_fc\"></td></tr><tr id=\"places_capital__row\"><td class=\"w2p_fl\"><label class=\"readonly\" for=\"places_capital\" id=\"places_capital__label\">Capital: </label></td><td class=\"w2p_fw\">Wellington</td><td class=\"w2p_fc\"></td></tr><tr id=\"places_continent__row\"><td class=\"w2p_fl\"><label class=\"readonly\" for=\"places_continent\" id=\"places_continent__label\">Continent: </label></td><td class=\"w2p_fw\"><a href=\"/places/default/continent/OC\">OC</a></td><td class=\"w2p_fc\"></td></tr><tr id=\"places_tld__row\"><td class=\"w2p_fl\"><label class=\"readonly\" for=\"places_tld\" id=\"places_tld__label\">Tld: </label></td><td class=\"w2p_fw\">.nz</td><td class=\"w2p_fc\"></td></tr><tr id=\"places_currency_code__row\"><td class=\"w2p_fl\"><label class=\"readonly\" for=\"places_currency_code\" id=\"places_currency_code__label\">Currency Code: </label></td><td class=\"w2p_fw\">NZD</td><td class=\"w2p_fc\"></td></tr><tr id=\"places_currency_name__row\"><td class=\"w2p_fl\"><label class=\"readonly\" for=\"places_currency_name\" id=\"places_currency_name__label\">Currency Name: </label></td><td class=\"w2p_fw\">Dollar</td><td class=\"w2p_fc\"></td></tr><tr id=\"places_phone__row\"><td class=\"w2p_fl\"><label class=\"readonly\" for=\"places_phone\" id=\"places_phone__label\">Phone: </label></td><td class=\"w2p_fw\">64</td><td class=\"w2p_fc\"></td></tr><tr id=\"places_postal_code_format__row\"><td class=\"w2p_fl\"><label class=\"readonly\" for=\"places_postal_code_format\" id=\"places_postal_code_format__label\">Postal Code Format: </label></td><td class=\"w2p_fw\">####</td><td class=\"w2p_fc\"></td></tr><tr id=\"places_postal_code_regex__row\"><td class=\"w2p_fl\"><label class=\"readonly\" for=\"places_postal_code_regex\" id=\"places_postal_code_regex__label\">Postal Code Regex: </label></td><td class=\"w2p_fw\">^(\\d{4})$</td><td class=\"w2p_fc\"></td></tr><tr id=\"places_languages__row\"><td class=\"w2p_fl\"><label class=\"readonly\" for=\"places_languages\" id=\"places_languages__label\">Languages: </label></td><td class=\"w2p_fw\">en-NZ,mi</td><td class=\"w2p_fc\"></td></tr><tr id=\"places_neighbours__row\"><td class=\"w2p_fl\"><label class=\"readonly\" for=\"places_neighbours\" id=\"places_neighbours__label\">Neighbours: </label></td><td class=\"w2p_fw\"><div><a href=\"/places/default/iso//\"> </a></div></td><td class=\"w2p_fc\"></td></tr></table><div style=\"display:none;\"><input name=\"id\" type=\"hidden\" value=\"6019431\"/></div></form>\n",
       "<a href=\"/places/default/edit/New-Zealand-159\">Edit</a>\n",
       "</div>\n",
       "</section><!--/main-->\n",
       "<!-- Footer ================================================== -->\n",
       "<div class=\"row\">\n",
       "<footer class=\"footer span12\" id=\"footer\">\n",
       "</footer>\n",
       "</div>\n",
       "</div> <!-- /container -->\n",
       "<!-- The javascript =============================================\n",
       "       (Placed at the end of the document so the pages load faster) -->\n",
       "<script src=\"/places/static/js/bootstrap.min.js\"></script>\n",
       "<script src=\"/places/static/js/web2py_bootstrap.js\"></script>\n",
       "<!--[if lt IE 7 ]>\n",
       "      <script src=\"/places/static/js/dd_belatedpng.js\"></script>\n",
       "      <script> DD_belatedPNG.fix('img, .png_bg'); //fix any <img> or .png_bg background-images </script>\n",
       "      <![endif]-->\n",
       "</body>\n",
       "</html>"
      ]
     },
     "execution_count": 159,
     "metadata": {},
     "output_type": "execute_result"
    }
   ],
   "source": [
    "scraping"
   ]
  },
  {
   "cell_type": "markdown",
   "metadata": {},
   "source": [
    "Now we can search for a given tag, id or class name.\n",
    "\n",
    "**STEP 3: SEARCH** Search through the page for 'tr' type tags with the 'id' having the 'places_population__row' value:"
   ]
  },
  {
   "cell_type": "code",
   "execution_count": 160,
   "metadata": {
    "scrolled": true
   },
   "outputs": [
    {
     "data": {
      "text/plain": [
       "<tr id=\"places_population__row\"><td class=\"w2p_fl\"><label class=\"readonly\" for=\"places_population\" id=\"places_population__label\">Population: </label></td><td class=\"w2p_fw\">4,252,277</td><td class=\"w2p_fc\"></td></tr>"
      ]
     },
     "execution_count": 160,
     "metadata": {},
     "output_type": "execute_result"
    }
   ],
   "source": [
    "element = scraping.find(\"tr\", attrs={\"id\" : \"places_population__row\"})\n",
    "element"
   ]
  },
  {
   "cell_type": "markdown",
   "metadata": {},
   "source": [
    "The returned result has three elements as seen below:"
   ]
  },
  {
   "cell_type": "code",
   "execution_count": 42,
   "metadata": {},
   "outputs": [
    {
     "data": {
      "text/plain": [
       "[<td class=\"w2p_fl\"><label class=\"readonly\" for=\"places_population\" id=\"places_population__label\">Population: </label></td>,\n",
       " <td class=\"w2p_fw\">4,252,277</td>,\n",
       " <td class=\"w2p_fc\"></td>]"
      ]
     },
     "execution_count": 42,
     "metadata": {},
     "output_type": "execute_result"
    }
   ],
   "source": [
    "element.contents"
   ]
  },
  {
   "cell_type": "markdown",
   "metadata": {},
   "source": [
    "There are differnt ways of honing in on the data that we need from this, but one option could be to perform another search:"
   ]
  },
  {
   "cell_type": "code",
   "execution_count": 43,
   "metadata": {},
   "outputs": [
    {
     "data": {
      "text/plain": [
       "<td class=\"w2p_fw\">4,252,277</td>"
      ]
     },
     "execution_count": 43,
     "metadata": {},
     "output_type": "execute_result"
    }
   ],
   "source": [
    "element = element.find(attrs={\"class\" : \"w2p_fw\"})\n",
    "element"
   ]
  },
  {
   "cell_type": "markdown",
   "metadata": {},
   "source": [
    "Once we have found the tag we want, we extract the contents of it by calling .contents and optionally convert it into an int."
   ]
  },
  {
   "cell_type": "code",
   "execution_count": 44,
   "metadata": {},
   "outputs": [
    {
     "data": {
      "text/plain": [
       "'4,252,277'"
      ]
     },
     "execution_count": 44,
     "metadata": {},
     "output_type": "execute_result"
    }
   ],
   "source": [
    "element.contents[0]"
   ]
  },
  {
   "cell_type": "code",
   "execution_count": 45,
   "metadata": {},
   "outputs": [
    {
     "data": {
      "text/plain": [
       "'4252277'"
      ]
     },
     "execution_count": 45,
     "metadata": {},
     "output_type": "execute_result"
    }
   ],
   "source": [
    "element.contents[0].replace(',', '')"
   ]
  },
  {
   "cell_type": "code",
   "execution_count": 46,
   "metadata": {},
   "outputs": [
    {
     "data": {
      "text/plain": [
       "4252277"
      ]
     },
     "execution_count": 46,
     "metadata": {},
     "output_type": "execute_result"
    }
   ],
   "source": [
    "int(element.contents[0].replace(',', ''))"
   ]
  },
  {
   "cell_type": "markdown",
   "metadata": {},
   "source": [
    "As it turns out, there are multiple tags in the document with this tag-name combination. "
   ]
  },
  {
   "cell_type": "raw",
   "metadata": {},
   "source": [
    "ATTRIBUTES\n",
    "\n",
    "Classes are NOT unique\n",
    "\n",
    "    You can use the same class on multiple elements.\n",
    "    You can use multiple classes on the same element.\n",
    "\n",
    "ID's are unique and elements with ID's are easy to extract\n",
    "\n",
    "    Each element can have only one ID\n",
    "    Each page can have only one element with that ID\n",
    "\n"
   ]
  },
  {
   "cell_type": "markdown",
   "metadata": {},
   "source": [
    "**Exercise:** Scrape the information on Singapore from this page: http://example.webscraping.com/places/default/view/Singapore-203, by extracting the Area value and converting it into an int."
   ]
  },
  {
   "cell_type": "code",
   "execution_count": 161,
   "metadata": {},
   "outputs": [
    {
     "data": {
      "text/plain": [
       "<Response [200]>"
      ]
     },
     "execution_count": 161,
     "metadata": {},
     "output_type": "execute_result"
    }
   ],
   "source": [
    "#step 1\n",
    "url = \"http://example.webscraping.com/places/default/view/Singapore-203\"\n",
    "response = requests.get(url)\n",
    "response\n"
   ]
  },
  {
   "cell_type": "code",
   "execution_count": 178,
   "metadata": {},
   "outputs": [
    {
     "data": {
      "text/plain": [
       "692"
      ]
     },
     "execution_count": 178,
     "metadata": {},
     "output_type": "execute_result"
    }
   ],
   "source": [
    "#step 2\n",
    "page = response.content\n",
    "element =  BeautifulSoup(page, \"lxml\").findAll(\"td\", attrs={\"class\" : \"w2p_fw\"})\n",
    "element[1]\n",
    "element[1].text[:3]\n",
    "\n",
    "int(element[1].text[:3])"
   ]
  },
  {
   "cell_type": "code",
   "execution_count": 228,
   "metadata": {},
   "outputs": [
    {
     "ename": "AttributeError",
     "evalue": "'str' object has no attribute 'prettify'",
     "output_type": "error",
     "traceback": [
      "\u001b[0;31m---------------------------------------------------------------------------\u001b[0m",
      "\u001b[0;31mAttributeError\u001b[0m                            Traceback (most recent call last)",
      "\u001b[0;32m<ipython-input-228-10213d55bd6f>\u001b[0m in \u001b[0;36m<module>\u001b[0;34m\u001b[0m\n\u001b[1;32m      1\u001b[0m \u001b[0;31m# step 3\u001b[0m\u001b[0;34m\u001b[0m\u001b[0;34m\u001b[0m\u001b[0;34m\u001b[0m\u001b[0m\n\u001b[1;32m      2\u001b[0m \u001b[0melement\u001b[0m \u001b[0;34m=\u001b[0m  \u001b[0mBeautifulSoup\u001b[0m\u001b[0;34m(\u001b[0m\u001b[0mpage\u001b[0m\u001b[0;34m,\u001b[0m \u001b[0;34m\"lxml\"\u001b[0m\u001b[0;34m)\u001b[0m\u001b[0;34m.\u001b[0m\u001b[0mfind\u001b[0m\u001b[0;34m(\u001b[0m\u001b[0;34m\"tr\"\u001b[0m\u001b[0;34m,\u001b[0m \u001b[0mattrs\u001b[0m\u001b[0;34m=\u001b[0m\u001b[0;34m{\u001b[0m\u001b[0;34m\"id\"\u001b[0m \u001b[0;34m:\u001b[0m \u001b[0;34m\"places_area__row\"\u001b[0m\u001b[0;34m}\u001b[0m\u001b[0;34m)\u001b[0m\u001b[0;34m\u001b[0m\u001b[0;34m\u001b[0m\u001b[0m\n\u001b[0;32m----> 3\u001b[0;31m \u001b[0mstr\u001b[0m\u001b[0;34m(\u001b[0m\u001b[0melement\u001b[0m\u001b[0;34m)\u001b[0m\u001b[0;34m.\u001b[0m\u001b[0mprettify\u001b[0m\u001b[0;34m(\u001b[0m\u001b[0;34m)\u001b[0m\u001b[0;34m\u001b[0m\u001b[0;34m\u001b[0m\u001b[0m\n\u001b[0m\u001b[1;32m      4\u001b[0m \u001b[0;31m# result = element.find(attrs={\"class\",'w2p_fw'}).text\u001b[0m\u001b[0;34m\u001b[0m\u001b[0;34m\u001b[0m\u001b[0;34m\u001b[0m\u001b[0m\n\u001b[1;32m      5\u001b[0m \u001b[0;31m# int(result[:3])\u001b[0m\u001b[0;34m\u001b[0m\u001b[0;34m\u001b[0m\u001b[0;34m\u001b[0m\u001b[0m\n",
      "\u001b[0;31mAttributeError\u001b[0m: 'str' object has no attribute 'prettify'"
     ]
    }
   ],
   "source": [
    "# step 3\n",
    "element =  BeautifulSoup(page, \"lxml\").find(\"tr\", attrs={\"id\" : \"places_area__row\"})\n",
    "element\n",
    "#.prettify()\n",
    "# result = element.find(attrs={\"class\",'w2p_fw'}).text\n",
    "# int(result[:3])\n",
    "# print(element[1])"
   ]
  },
  {
   "cell_type": "code",
   "execution_count": null,
   "metadata": {},
   "outputs": [],
   "source": []
  },
  {
   "cell_type": "markdown",
   "metadata": {},
   "source": [
    "We can also read in entire HTML tables into dataframe objects:\n",
    "\n",
    "Here is an example of how to read in the ASCII table from a wikipedia page: https://en.wikipedia.org/wiki/ASCII"
   ]
  },
  {
   "cell_type": "code",
   "execution_count": 194,
   "metadata": {},
   "outputs": [
    {
     "data": {
      "text/plain": [
       "<Response [200]>"
      ]
     },
     "execution_count": 194,
     "metadata": {},
     "output_type": "execute_result"
    }
   ],
   "source": [
    "#step 1\n",
    "url = \"https://en.wikipedia.org/wiki/ASCII\"\n",
    "response = requests.get(url)\n",
    "response"
   ]
  },
  {
   "cell_type": "code",
   "execution_count": 195,
   "metadata": {
    "scrolled": true
   },
   "outputs": [
    {
     "data": {
      "text/html": [
       "<div>\n",
       "<style scoped>\n",
       "    .dataframe tbody tr th:only-of-type {\n",
       "        vertical-align: middle;\n",
       "    }\n",
       "\n",
       "    .dataframe tbody tr th {\n",
       "        vertical-align: top;\n",
       "    }\n",
       "\n",
       "    .dataframe thead th {\n",
       "        text-align: right;\n",
       "    }\n",
       "</style>\n",
       "<table border=\"1\" class=\"dataframe\">\n",
       "  <thead>\n",
       "    <tr style=\"text-align: right;\">\n",
       "      <th></th>\n",
       "      <th>000 0000</th>\n",
       "      <th>0</th>\n",
       "      <th>0</th>\n",
       "      <th>00</th>\n",
       "      <th>NaN</th>\n",
       "      <th>NUL</th>\n",
       "      <th>NUL</th>\n",
       "      <th>␀</th>\n",
       "      <th>^@</th>\n",
       "      <th>\\0</th>\n",
       "      <th>Null</th>\n",
       "    </tr>\n",
       "  </thead>\n",
       "  <tbody>\n",
       "    <tr>\n",
       "      <td>2</td>\n",
       "      <td>000 0010</td>\n",
       "      <td>2</td>\n",
       "      <td>2</td>\n",
       "      <td>02</td>\n",
       "      <td>EOA</td>\n",
       "      <td>STX</td>\n",
       "      <td>STX</td>\n",
       "      <td>␂</td>\n",
       "      <td>^B</td>\n",
       "      <td>NaN</td>\n",
       "      <td>Start of Text</td>\n",
       "    </tr>\n",
       "    <tr>\n",
       "      <td>3</td>\n",
       "      <td>000 0011</td>\n",
       "      <td>3</td>\n",
       "      <td>3</td>\n",
       "      <td>03</td>\n",
       "      <td>EOM</td>\n",
       "      <td>ETX</td>\n",
       "      <td>ETX</td>\n",
       "      <td>␃</td>\n",
       "      <td>^C</td>\n",
       "      <td>NaN</td>\n",
       "      <td>End of Text</td>\n",
       "    </tr>\n",
       "    <tr>\n",
       "      <td>4</td>\n",
       "      <td>000 0100</td>\n",
       "      <td>4</td>\n",
       "      <td>4</td>\n",
       "      <td>04</td>\n",
       "      <td>EOT</td>\n",
       "      <td>EOT</td>\n",
       "      <td>EOT</td>\n",
       "      <td>␄</td>\n",
       "      <td>^D</td>\n",
       "      <td>NaN</td>\n",
       "      <td>End of Transmission</td>\n",
       "    </tr>\n",
       "    <tr>\n",
       "      <td>5</td>\n",
       "      <td>000 0101</td>\n",
       "      <td>5</td>\n",
       "      <td>5</td>\n",
       "      <td>05</td>\n",
       "      <td>WRU</td>\n",
       "      <td>ENQ</td>\n",
       "      <td>ENQ</td>\n",
       "      <td>␅</td>\n",
       "      <td>^E</td>\n",
       "      <td>NaN</td>\n",
       "      <td>Enquiry</td>\n",
       "    </tr>\n",
       "    <tr>\n",
       "      <td>6</td>\n",
       "      <td>000 0110</td>\n",
       "      <td>6</td>\n",
       "      <td>6</td>\n",
       "      <td>06</td>\n",
       "      <td>RU</td>\n",
       "      <td>ACK</td>\n",
       "      <td>ACK</td>\n",
       "      <td>␆</td>\n",
       "      <td>^F</td>\n",
       "      <td>NaN</td>\n",
       "      <td>Acknowledgement</td>\n",
       "    </tr>\n",
       "    <tr>\n",
       "      <td>7</td>\n",
       "      <td>000 0111</td>\n",
       "      <td>7</td>\n",
       "      <td>7</td>\n",
       "      <td>07</td>\n",
       "      <td>BELL</td>\n",
       "      <td>BEL</td>\n",
       "      <td>BEL</td>\n",
       "      <td>␇</td>\n",
       "      <td>^G</td>\n",
       "      <td>\\a</td>\n",
       "      <td>Bell</td>\n",
       "    </tr>\n",
       "    <tr>\n",
       "      <td>8</td>\n",
       "      <td>000 1000</td>\n",
       "      <td>10</td>\n",
       "      <td>8</td>\n",
       "      <td>08</td>\n",
       "      <td>FE0</td>\n",
       "      <td>BS</td>\n",
       "      <td>BS</td>\n",
       "      <td>␈</td>\n",
       "      <td>^H</td>\n",
       "      <td>\\b</td>\n",
       "      <td>Backspace[e][f]</td>\n",
       "    </tr>\n",
       "    <tr>\n",
       "      <td>9</td>\n",
       "      <td>000 1001</td>\n",
       "      <td>11</td>\n",
       "      <td>9</td>\n",
       "      <td>09</td>\n",
       "      <td>HT/SK</td>\n",
       "      <td>HT</td>\n",
       "      <td>HT</td>\n",
       "      <td>␉</td>\n",
       "      <td>^I</td>\n",
       "      <td>\\t</td>\n",
       "      <td>Horizontal Tab[g]</td>\n",
       "    </tr>\n",
       "    <tr>\n",
       "      <td>10</td>\n",
       "      <td>000 1010</td>\n",
       "      <td>12</td>\n",
       "      <td>10</td>\n",
       "      <td>0A</td>\n",
       "      <td>LF</td>\n",
       "      <td>LF</td>\n",
       "      <td>LF</td>\n",
       "      <td>␊</td>\n",
       "      <td>^J</td>\n",
       "      <td>\\n</td>\n",
       "      <td>Line Feed</td>\n",
       "    </tr>\n",
       "    <tr>\n",
       "      <td>11</td>\n",
       "      <td>000 1011</td>\n",
       "      <td>13</td>\n",
       "      <td>11</td>\n",
       "      <td>0B</td>\n",
       "      <td>VTAB</td>\n",
       "      <td>VT</td>\n",
       "      <td>VT</td>\n",
       "      <td>␋</td>\n",
       "      <td>^K</td>\n",
       "      <td>\\v</td>\n",
       "      <td>Vertical Tab</td>\n",
       "    </tr>\n",
       "    <tr>\n",
       "      <td>12</td>\n",
       "      <td>000 1100</td>\n",
       "      <td>14</td>\n",
       "      <td>12</td>\n",
       "      <td>0C</td>\n",
       "      <td>FF</td>\n",
       "      <td>FF</td>\n",
       "      <td>FF</td>\n",
       "      <td>␌</td>\n",
       "      <td>^L</td>\n",
       "      <td>\\f</td>\n",
       "      <td>Form Feed</td>\n",
       "    </tr>\n",
       "    <tr>\n",
       "      <td>13</td>\n",
       "      <td>000 1101</td>\n",
       "      <td>15</td>\n",
       "      <td>13</td>\n",
       "      <td>0D</td>\n",
       "      <td>CR</td>\n",
       "      <td>CR</td>\n",
       "      <td>CR</td>\n",
       "      <td>␍</td>\n",
       "      <td>^M</td>\n",
       "      <td>\\r</td>\n",
       "      <td>Carriage Return[h]</td>\n",
       "    </tr>\n",
       "    <tr>\n",
       "      <td>14</td>\n",
       "      <td>000 1110</td>\n",
       "      <td>16</td>\n",
       "      <td>14</td>\n",
       "      <td>0E</td>\n",
       "      <td>SO</td>\n",
       "      <td>SO</td>\n",
       "      <td>SO</td>\n",
       "      <td>␎</td>\n",
       "      <td>^N</td>\n",
       "      <td>NaN</td>\n",
       "      <td>Shift Out</td>\n",
       "    </tr>\n",
       "    <tr>\n",
       "      <td>15</td>\n",
       "      <td>000 1111</td>\n",
       "      <td>17</td>\n",
       "      <td>15</td>\n",
       "      <td>0F</td>\n",
       "      <td>SI</td>\n",
       "      <td>SI</td>\n",
       "      <td>SI</td>\n",
       "      <td>␏</td>\n",
       "      <td>^O</td>\n",
       "      <td>NaN</td>\n",
       "      <td>Shift In</td>\n",
       "    </tr>\n",
       "    <tr>\n",
       "      <td>16</td>\n",
       "      <td>001 0000</td>\n",
       "      <td>20</td>\n",
       "      <td>16</td>\n",
       "      <td>10</td>\n",
       "      <td>DC0</td>\n",
       "      <td>DLE</td>\n",
       "      <td>DLE</td>\n",
       "      <td>␐</td>\n",
       "      <td>^P</td>\n",
       "      <td>NaN</td>\n",
       "      <td>Data Link Escape</td>\n",
       "    </tr>\n",
       "    <tr>\n",
       "      <td>17</td>\n",
       "      <td>001 0001</td>\n",
       "      <td>21</td>\n",
       "      <td>17</td>\n",
       "      <td>11</td>\n",
       "      <td>DC1</td>\n",
       "      <td>DC1</td>\n",
       "      <td>DC1</td>\n",
       "      <td>␑</td>\n",
       "      <td>^Q</td>\n",
       "      <td>NaN</td>\n",
       "      <td>Device Control 1 (often XON)</td>\n",
       "    </tr>\n",
       "    <tr>\n",
       "      <td>18</td>\n",
       "      <td>001 0010</td>\n",
       "      <td>22</td>\n",
       "      <td>18</td>\n",
       "      <td>12</td>\n",
       "      <td>DC2</td>\n",
       "      <td>DC2</td>\n",
       "      <td>DC2</td>\n",
       "      <td>␒</td>\n",
       "      <td>^R</td>\n",
       "      <td>NaN</td>\n",
       "      <td>Device Control 2</td>\n",
       "    </tr>\n",
       "    <tr>\n",
       "      <td>19</td>\n",
       "      <td>001 0011</td>\n",
       "      <td>23</td>\n",
       "      <td>19</td>\n",
       "      <td>13</td>\n",
       "      <td>DC3</td>\n",
       "      <td>DC3</td>\n",
       "      <td>DC3</td>\n",
       "      <td>␓</td>\n",
       "      <td>^S</td>\n",
       "      <td>NaN</td>\n",
       "      <td>Device Control 3 (often XOFF)</td>\n",
       "    </tr>\n",
       "    <tr>\n",
       "      <td>20</td>\n",
       "      <td>001 0100</td>\n",
       "      <td>24</td>\n",
       "      <td>20</td>\n",
       "      <td>14</td>\n",
       "      <td>DC4</td>\n",
       "      <td>DC4</td>\n",
       "      <td>DC4</td>\n",
       "      <td>␔</td>\n",
       "      <td>^T</td>\n",
       "      <td>NaN</td>\n",
       "      <td>Device Control 4</td>\n",
       "    </tr>\n",
       "    <tr>\n",
       "      <td>21</td>\n",
       "      <td>001 0101</td>\n",
       "      <td>25</td>\n",
       "      <td>21</td>\n",
       "      <td>15</td>\n",
       "      <td>ERR</td>\n",
       "      <td>NAK</td>\n",
       "      <td>NAK</td>\n",
       "      <td>␕</td>\n",
       "      <td>^U</td>\n",
       "      <td>NaN</td>\n",
       "      <td>Negative Acknowledgement</td>\n",
       "    </tr>\n",
       "    <tr>\n",
       "      <td>22</td>\n",
       "      <td>001 0110</td>\n",
       "      <td>26</td>\n",
       "      <td>22</td>\n",
       "      <td>16</td>\n",
       "      <td>SYNC</td>\n",
       "      <td>SYN</td>\n",
       "      <td>SYN</td>\n",
       "      <td>␖</td>\n",
       "      <td>^V</td>\n",
       "      <td>NaN</td>\n",
       "      <td>Synchronous Idle</td>\n",
       "    </tr>\n",
       "    <tr>\n",
       "      <td>23</td>\n",
       "      <td>001 0111</td>\n",
       "      <td>27</td>\n",
       "      <td>23</td>\n",
       "      <td>17</td>\n",
       "      <td>LEM</td>\n",
       "      <td>ETB</td>\n",
       "      <td>ETB</td>\n",
       "      <td>␗</td>\n",
       "      <td>^W</td>\n",
       "      <td>NaN</td>\n",
       "      <td>End of Transmission Block</td>\n",
       "    </tr>\n",
       "    <tr>\n",
       "      <td>24</td>\n",
       "      <td>001 1000</td>\n",
       "      <td>30</td>\n",
       "      <td>24</td>\n",
       "      <td>18</td>\n",
       "      <td>S0</td>\n",
       "      <td>CAN</td>\n",
       "      <td>CAN</td>\n",
       "      <td>␘</td>\n",
       "      <td>^X</td>\n",
       "      <td>NaN</td>\n",
       "      <td>Cancel</td>\n",
       "    </tr>\n",
       "    <tr>\n",
       "      <td>25</td>\n",
       "      <td>001 1001</td>\n",
       "      <td>31</td>\n",
       "      <td>25</td>\n",
       "      <td>19</td>\n",
       "      <td>S1</td>\n",
       "      <td>EM</td>\n",
       "      <td>EM</td>\n",
       "      <td>␙</td>\n",
       "      <td>^Y</td>\n",
       "      <td>NaN</td>\n",
       "      <td>End of Medium</td>\n",
       "    </tr>\n",
       "    <tr>\n",
       "      <td>26</td>\n",
       "      <td>001 1010</td>\n",
       "      <td>32</td>\n",
       "      <td>26</td>\n",
       "      <td>1A</td>\n",
       "      <td>S2</td>\n",
       "      <td>SS</td>\n",
       "      <td>SUB</td>\n",
       "      <td>␚</td>\n",
       "      <td>^Z</td>\n",
       "      <td>NaN</td>\n",
       "      <td>Substitute</td>\n",
       "    </tr>\n",
       "    <tr>\n",
       "      <td>27</td>\n",
       "      <td>001 1011</td>\n",
       "      <td>33</td>\n",
       "      <td>27</td>\n",
       "      <td>1B</td>\n",
       "      <td>S3</td>\n",
       "      <td>ESC</td>\n",
       "      <td>ESC</td>\n",
       "      <td>␛</td>\n",
       "      <td>^[</td>\n",
       "      <td>\\e[i]</td>\n",
       "      <td>Escape[j]</td>\n",
       "    </tr>\n",
       "    <tr>\n",
       "      <td>28</td>\n",
       "      <td>001 1100</td>\n",
       "      <td>34</td>\n",
       "      <td>28</td>\n",
       "      <td>1C</td>\n",
       "      <td>S4</td>\n",
       "      <td>FS</td>\n",
       "      <td>FS</td>\n",
       "      <td>␜</td>\n",
       "      <td>^\\</td>\n",
       "      <td>NaN</td>\n",
       "      <td>File Separator</td>\n",
       "    </tr>\n",
       "    <tr>\n",
       "      <td>29</td>\n",
       "      <td>001 1101</td>\n",
       "      <td>35</td>\n",
       "      <td>29</td>\n",
       "      <td>1D</td>\n",
       "      <td>S5</td>\n",
       "      <td>GS</td>\n",
       "      <td>GS</td>\n",
       "      <td>␝</td>\n",
       "      <td>^]</td>\n",
       "      <td>NaN</td>\n",
       "      <td>Group Separator</td>\n",
       "    </tr>\n",
       "    <tr>\n",
       "      <td>30</td>\n",
       "      <td>001 1110</td>\n",
       "      <td>36</td>\n",
       "      <td>30</td>\n",
       "      <td>1E</td>\n",
       "      <td>S6</td>\n",
       "      <td>RS</td>\n",
       "      <td>RS</td>\n",
       "      <td>␞</td>\n",
       "      <td>^^[k]</td>\n",
       "      <td>NaN</td>\n",
       "      <td>Record Separator</td>\n",
       "    </tr>\n",
       "    <tr>\n",
       "      <td>31</td>\n",
       "      <td>001 1111</td>\n",
       "      <td>37</td>\n",
       "      <td>31</td>\n",
       "      <td>1F</td>\n",
       "      <td>S7</td>\n",
       "      <td>US</td>\n",
       "      <td>US</td>\n",
       "      <td>␟</td>\n",
       "      <td>^_</td>\n",
       "      <td>NaN</td>\n",
       "      <td>Unit Separator</td>\n",
       "    </tr>\n",
       "    <tr>\n",
       "      <td>32</td>\n",
       "      <td>111 1111</td>\n",
       "      <td>177</td>\n",
       "      <td>127</td>\n",
       "      <td>7F</td>\n",
       "      <td>DEL</td>\n",
       "      <td>DEL</td>\n",
       "      <td>DEL</td>\n",
       "      <td>␡</td>\n",
       "      <td>^?</td>\n",
       "      <td>NaN</td>\n",
       "      <td>Delete[l][f]</td>\n",
       "    </tr>\n",
       "  </tbody>\n",
       "</table>\n",
       "</div>"
      ],
      "text/plain": [
       "0   000 0000    0    0  00    NaN  NUL  NUL  ␀     ^@     \\0  \\\n",
       "2   000 0010    2    2  02    EOA  STX  STX  ␂     ^B    NaN   \n",
       "3   000 0011    3    3  03    EOM  ETX  ETX  ␃     ^C    NaN   \n",
       "4   000 0100    4    4  04    EOT  EOT  EOT  ␄     ^D    NaN   \n",
       "5   000 0101    5    5  05    WRU  ENQ  ENQ  ␅     ^E    NaN   \n",
       "6   000 0110    6    6  06     RU  ACK  ACK  ␆     ^F    NaN   \n",
       "7   000 0111    7    7  07   BELL  BEL  BEL  ␇     ^G     \\a   \n",
       "8   000 1000   10    8  08    FE0   BS   BS  ␈     ^H     \\b   \n",
       "9   000 1001   11    9  09  HT/SK   HT   HT  ␉     ^I     \\t   \n",
       "10  000 1010   12   10  0A     LF   LF   LF  ␊     ^J     \\n   \n",
       "11  000 1011   13   11  0B   VTAB   VT   VT  ␋     ^K     \\v   \n",
       "12  000 1100   14   12  0C     FF   FF   FF  ␌     ^L     \\f   \n",
       "13  000 1101   15   13  0D     CR   CR   CR  ␍     ^M     \\r   \n",
       "14  000 1110   16   14  0E     SO   SO   SO  ␎     ^N    NaN   \n",
       "15  000 1111   17   15  0F     SI   SI   SI  ␏     ^O    NaN   \n",
       "16  001 0000   20   16  10    DC0  DLE  DLE  ␐     ^P    NaN   \n",
       "17  001 0001   21   17  11    DC1  DC1  DC1  ␑     ^Q    NaN   \n",
       "18  001 0010   22   18  12    DC2  DC2  DC2  ␒     ^R    NaN   \n",
       "19  001 0011   23   19  13    DC3  DC3  DC3  ␓     ^S    NaN   \n",
       "20  001 0100   24   20  14    DC4  DC4  DC4  ␔     ^T    NaN   \n",
       "21  001 0101   25   21  15    ERR  NAK  NAK  ␕     ^U    NaN   \n",
       "22  001 0110   26   22  16   SYNC  SYN  SYN  ␖     ^V    NaN   \n",
       "23  001 0111   27   23  17    LEM  ETB  ETB  ␗     ^W    NaN   \n",
       "24  001 1000   30   24  18     S0  CAN  CAN  ␘     ^X    NaN   \n",
       "25  001 1001   31   25  19     S1   EM   EM  ␙     ^Y    NaN   \n",
       "26  001 1010   32   26  1A     S2   SS  SUB  ␚     ^Z    NaN   \n",
       "27  001 1011   33   27  1B     S3  ESC  ESC  ␛     ^[  \\e[i]   \n",
       "28  001 1100   34   28  1C     S4   FS   FS  ␜     ^\\    NaN   \n",
       "29  001 1101   35   29  1D     S5   GS   GS  ␝     ^]    NaN   \n",
       "30  001 1110   36   30  1E     S6   RS   RS  ␞  ^^[k]    NaN   \n",
       "31  001 1111   37   31  1F     S7   US   US  ␟     ^_    NaN   \n",
       "32  111 1111  177  127  7F    DEL  DEL  DEL  ␡     ^?    NaN   \n",
       "\n",
       "0                            Null  \n",
       "2                   Start of Text  \n",
       "3                     End of Text  \n",
       "4             End of Transmission  \n",
       "5                         Enquiry  \n",
       "6                 Acknowledgement  \n",
       "7                            Bell  \n",
       "8                 Backspace[e][f]  \n",
       "9               Horizontal Tab[g]  \n",
       "10                      Line Feed  \n",
       "11                   Vertical Tab  \n",
       "12                      Form Feed  \n",
       "13             Carriage Return[h]  \n",
       "14                      Shift Out  \n",
       "15                       Shift In  \n",
       "16               Data Link Escape  \n",
       "17   Device Control 1 (often XON)  \n",
       "18               Device Control 2  \n",
       "19  Device Control 3 (often XOFF)  \n",
       "20               Device Control 4  \n",
       "21       Negative Acknowledgement  \n",
       "22               Synchronous Idle  \n",
       "23      End of Transmission Block  \n",
       "24                         Cancel  \n",
       "25                  End of Medium  \n",
       "26                     Substitute  \n",
       "27                      Escape[j]  \n",
       "28                 File Separator  \n",
       "29                Group Separator  \n",
       "30               Record Separator  \n",
       "31                 Unit Separator  \n",
       "32                   Delete[l][f]  "
      ]
     },
     "execution_count": 195,
     "metadata": {},
     "output_type": "execute_result"
    }
   ],
   "source": [
    "scraping_html_table_EQ = BeautifulSoup(response.content, \"lxml\") \n",
    "scraping_html_table_EQ = scraping_html_table_EQ.find_all(\"table\", \"wikitable\")\n",
    "df = pd.read_html(str(scraping_html_table_EQ))\n",
    "first_table_df = df[0]\n",
    "first_table_df.columns = first_table_df.iloc[0]\n",
    "first_table_df = first_table_df.iloc[2:]\n",
    "first_table_df"
   ]
  },
  {
   "cell_type": "markdown",
   "metadata": {},
   "source": [
    "**Exercise**: Read the second table from the same webpage into a data frame object:"
   ]
  },
  {
   "cell_type": "code",
   "execution_count": 233,
   "metadata": {},
   "outputs": [
    {
     "data": {
      "text/html": [
       "<div>\n",
       "<style scoped>\n",
       "    .dataframe tbody tr th:only-of-type {\n",
       "        vertical-align: middle;\n",
       "    }\n",
       "\n",
       "    .dataframe tbody tr th {\n",
       "        vertical-align: top;\n",
       "    }\n",
       "\n",
       "    .dataframe thead tr th {\n",
       "        text-align: left;\n",
       "    }\n",
       "</style>\n",
       "<table border=\"1\" class=\"dataframe\">\n",
       "  <thead>\n",
       "    <tr>\n",
       "      <th></th>\n",
       "      <th>Binary</th>\n",
       "      <th>Oct</th>\n",
       "      <th>Dec</th>\n",
       "      <th>Hex</th>\n",
       "      <th colspan=\"3\" halign=\"left\">Glyph</th>\n",
       "    </tr>\n",
       "    <tr>\n",
       "      <th></th>\n",
       "      <th>Binary</th>\n",
       "      <th>Oct</th>\n",
       "      <th>Dec</th>\n",
       "      <th>Hex</th>\n",
       "      <th>1963</th>\n",
       "      <th>1965</th>\n",
       "      <th>1967</th>\n",
       "    </tr>\n",
       "  </thead>\n",
       "  <tbody>\n",
       "    <tr>\n",
       "      <td>0</td>\n",
       "      <td>010 0000</td>\n",
       "      <td>40</td>\n",
       "      <td>32</td>\n",
       "      <td>20</td>\n",
       "      <td>space</td>\n",
       "      <td>space</td>\n",
       "      <td>space</td>\n",
       "    </tr>\n",
       "    <tr>\n",
       "      <td>1</td>\n",
       "      <td>010 0001</td>\n",
       "      <td>41</td>\n",
       "      <td>33</td>\n",
       "      <td>21</td>\n",
       "      <td>!</td>\n",
       "      <td>!</td>\n",
       "      <td>!</td>\n",
       "    </tr>\n",
       "    <tr>\n",
       "      <td>2</td>\n",
       "      <td>010 0010</td>\n",
       "      <td>42</td>\n",
       "      <td>34</td>\n",
       "      <td>22</td>\n",
       "      <td>\"</td>\n",
       "      <td>\"</td>\n",
       "      <td>\"</td>\n",
       "    </tr>\n",
       "    <tr>\n",
       "      <td>3</td>\n",
       "      <td>010 0011</td>\n",
       "      <td>43</td>\n",
       "      <td>35</td>\n",
       "      <td>23</td>\n",
       "      <td>#</td>\n",
       "      <td>#</td>\n",
       "      <td>#</td>\n",
       "    </tr>\n",
       "    <tr>\n",
       "      <td>4</td>\n",
       "      <td>010 0100</td>\n",
       "      <td>44</td>\n",
       "      <td>36</td>\n",
       "      <td>24</td>\n",
       "      <td>$</td>\n",
       "      <td>$</td>\n",
       "      <td>$</td>\n",
       "    </tr>\n",
       "    <tr>\n",
       "      <td>...</td>\n",
       "      <td>...</td>\n",
       "      <td>...</td>\n",
       "      <td>...</td>\n",
       "      <td>...</td>\n",
       "      <td>...</td>\n",
       "      <td>...</td>\n",
       "      <td>...</td>\n",
       "    </tr>\n",
       "    <tr>\n",
       "      <td>90</td>\n",
       "      <td>111 1010</td>\n",
       "      <td>172</td>\n",
       "      <td>122</td>\n",
       "      <td>7A</td>\n",
       "      <td>NaN</td>\n",
       "      <td>z</td>\n",
       "      <td>z</td>\n",
       "    </tr>\n",
       "    <tr>\n",
       "      <td>91</td>\n",
       "      <td>111 1011</td>\n",
       "      <td>173</td>\n",
       "      <td>123</td>\n",
       "      <td>7B</td>\n",
       "      <td>NaN</td>\n",
       "      <td>{</td>\n",
       "      <td>{</td>\n",
       "    </tr>\n",
       "    <tr>\n",
       "      <td>92</td>\n",
       "      <td>111 1100</td>\n",
       "      <td>174</td>\n",
       "      <td>124</td>\n",
       "      <td>7C</td>\n",
       "      <td>ACK</td>\n",
       "      <td>¬</td>\n",
       "      <td>|</td>\n",
       "    </tr>\n",
       "    <tr>\n",
       "      <td>93</td>\n",
       "      <td>111 1101</td>\n",
       "      <td>175</td>\n",
       "      <td>125</td>\n",
       "      <td>7D</td>\n",
       "      <td>NaN</td>\n",
       "      <td>}</td>\n",
       "      <td>}</td>\n",
       "    </tr>\n",
       "    <tr>\n",
       "      <td>94</td>\n",
       "      <td>111 1110</td>\n",
       "      <td>176</td>\n",
       "      <td>126</td>\n",
       "      <td>7E</td>\n",
       "      <td>ESC</td>\n",
       "      <td>|</td>\n",
       "      <td>~</td>\n",
       "    </tr>\n",
       "  </tbody>\n",
       "</table>\n",
       "<p>95 rows × 7 columns</p>\n",
       "</div>"
      ],
      "text/plain": [
       "      Binary  Oct  Dec Hex  Glyph              \n",
       "      Binary  Oct  Dec Hex   1963   1965   1967\n",
       "0   010 0000   40   32  20  space  space  space\n",
       "1   010 0001   41   33  21      !      !      !\n",
       "2   010 0010   42   34  22      \"      \"      \"\n",
       "3   010 0011   43   35  23      #      #      #\n",
       "4   010 0100   44   36  24      $      $      $\n",
       "..       ...  ...  ...  ..    ...    ...    ...\n",
       "90  111 1010  172  122  7A    NaN      z      z\n",
       "91  111 1011  173  123  7B    NaN      {      {\n",
       "92  111 1100  174  124  7C    ACK      ¬      |\n",
       "93  111 1101  175  125  7D    NaN      }      }\n",
       "94  111 1110  176  126  7E    ESC      |      ~\n",
       "\n",
       "[95 rows x 7 columns]"
      ]
     },
     "execution_count": 233,
     "metadata": {},
     "output_type": "execute_result"
    }
   ],
   "source": [
    "scraping_html_table_EQ = BeautifulSoup(response.content, \"lxml\") \n",
    "scraping_html_table_EQ = scraping_html_table_EQ.find_all(\"table\", \"wikitable\")\n",
    "# type(scraping_html_table_EQ)\n",
    "# str(scraping_html_table_EQ)\n",
    "df = pd.read_html(str(scraping_html_table_EQ))\n",
    "# df.prettify()\n",
    "first_table_df = df[1]\n",
    "first_table_df\n",
    "# first_table_df.columns = first_table_df.iloc[0]\n",
    "# first_table_df = first_table_df.iloc[2:]\n",
    "# first_table_df"
   ]
  },
  {
   "cell_type": "markdown",
   "metadata": {},
   "source": [
    "## 2. Web APIs"
   ]
  },
  {
   "cell_type": "markdown",
   "metadata": {},
   "source": [
    "Web servers serve out web pages in the HTML format as they are requested by users. Web servers are also capable of providing data that is not formatted in HTML. \n",
    "\n",
    "These web servers provide public (and private) APIs through which users can interact, construct queries that the web servers understand, and receive data from them. \n",
    "\n",
    "Depending on who owns them, web servers will have different APIs. They usually provide developer help pages that demonstrate how they work and how queries can be constructed using HTTP which the servers understand.\n",
    "\n",
    "Many websites have public APIs providing data feeds via JSON or some other common formats. We will consider only **JSON** as it is becoming a standard, and is conveniently, virtually identical to python's dictionaries in its syntax. \n",
    "\n",
    "Increasingly though, in order to access these APIs we must register for API Keys. They are **credentials**. Some of them are free and simply require that an account be created with a given website, while others must be purchased and have limits on the amount of data that can be pulled.\n",
    "\n",
    "There are a number of ways to access these APIs. **REST** (Representational State Transfer) is becoming the most common mechanism and often uses **JSON** as the format for transmitting data. "
   ]
  },
  {
   "cell_type": "markdown",
   "metadata": {},
   "source": [
    "### JSON"
   ]
  },
  {
   "cell_type": "markdown",
   "metadata": {},
   "source": [
    "JSON (short for JavaScript Object Notation) has become one of the standard formats\n",
    "for sending data by HTTP request between web servers and browsers and other applications. \n",
    "\n",
    "It is a much more flexible data format than a tabular text form like CSV. \n",
    "\n",
    "Here is an example:"
   ]
  },
  {
   "cell_type": "code",
   "execution_count": 237,
   "metadata": {},
   "outputs": [
    {
     "data": {
      "text/plain": [
       "'\\n{\"name\": \"Massey University\",\\n\"campuses_NZ\": [\"Albany\", \"Palmerston North\", \"Wellington\"],\\n\"campuses_international\": null,\\n\"colleges\": [{\"name\": \"Sciences\", \"degrees\": 10, \"majors\": 30},\\n{\"name\": \"Business\", \"degrees\": 8, \"majors\": 25}]\\n}\\n'"
      ]
     },
     "execution_count": 237,
     "metadata": {},
     "output_type": "execute_result"
    }
   ],
   "source": [
    "#In Python triple-quoted strings allow us to include strings that have escape chars in it.\n",
    "obj = \"\"\"\n",
    "{\"name\": \"Massey University\",\n",
    "\"campuses_NZ\": [\"Albany\", \"Palmerston North\", \"Wellington\"],\n",
    "\"campuses_international\": null,\n",
    "\"colleges\": [{\"name\": \"Sciences\", \"degrees\": 10, \"majors\": 30},\n",
    "{\"name\": \"Business\", \"degrees\": 8, \"majors\": 25}]\n",
    "}\n",
    "\"\"\"\n",
    "obj\n"
   ]
  },
  {
   "cell_type": "markdown",
   "metadata": {},
   "source": [
    "JSON is very nearly valid Python code with the exception of its null value `null` and\n",
    "some other nuances (such as disallowing trailing commas at the end of lists). The basic\n",
    "types are objects (dicts), arrays (lists), strings, numbers, booleans, and nulls. \n",
    "\n",
    "**All of the keys in an object must be strings**. There are several Python libraries for reading and\n",
    "writing JSON data. We will use `json` here as it is built into the Python standard library. \n",
    "\n",
    "To convert (deserialize) a JSON string from above to an equivalent Python object (`dict`), use `json.loads`:"
   ]
  },
  {
   "cell_type": "code",
   "execution_count": 238,
   "metadata": {},
   "outputs": [
    {
     "data": {
      "text/plain": [
       "{'name': 'Massey University',\n",
       " 'campuses_NZ': ['Albany', 'Palmerston North', 'Wellington'],\n",
       " 'campuses_international': None,\n",
       " 'colleges': [{'name': 'Sciences', 'degrees': 10, 'majors': 30},\n",
       "  {'name': 'Business', 'degrees': 8, 'majors': 25}]}"
      ]
     },
     "execution_count": 238,
     "metadata": {},
     "output_type": "execute_result"
    }
   ],
   "source": [
    "result = json.loads(obj)\n",
    "result"
   ]
  },
  {
   "cell_type": "markdown",
   "metadata": {},
   "source": [
    "`json.dumps` on the other hand converts a Python object back to JSON:"
   ]
  },
  {
   "cell_type": "code",
   "execution_count": 239,
   "metadata": {},
   "outputs": [
    {
     "data": {
      "text/plain": [
       "'{\"name\": \"Massey University\", \"campuses_NZ\": [\"Albany\", \"Palmerston North\", \"Wellington\"], \"campuses_international\": null, \"colleges\": [{\"name\": \"Sciences\", \"degrees\": 10, \"majors\": 30}, {\"name\": \"Business\", \"degrees\": 8, \"majors\": 25}]}'"
      ]
     },
     "execution_count": 239,
     "metadata": {},
     "output_type": "execute_result"
    }
   ],
   "source": [
    "as_json = json.dumps(result)\n",
    "as_json"
   ]
  },
  {
   "cell_type": "markdown",
   "metadata": {},
   "source": [
    "How you convert a JSON object or list of objects to a DataFrame or some other data\n",
    "structure for analysis will be up to you. Conveniently, you can pass a list of JSON objects\n",
    "to the DataFrame constructor and select a subset of the data fields:"
   ]
  },
  {
   "cell_type": "code",
   "execution_count": 240,
   "metadata": {},
   "outputs": [
    {
     "data": {
      "text/html": [
       "<div>\n",
       "<style scoped>\n",
       "    .dataframe tbody tr th:only-of-type {\n",
       "        vertical-align: middle;\n",
       "    }\n",
       "\n",
       "    .dataframe tbody tr th {\n",
       "        vertical-align: top;\n",
       "    }\n",
       "\n",
       "    .dataframe thead th {\n",
       "        text-align: right;\n",
       "    }\n",
       "</style>\n",
       "<table border=\"1\" class=\"dataframe\">\n",
       "  <thead>\n",
       "    <tr style=\"text-align: right;\">\n",
       "      <th></th>\n",
       "      <th>name</th>\n",
       "      <th>degrees</th>\n",
       "    </tr>\n",
       "  </thead>\n",
       "  <tbody>\n",
       "    <tr>\n",
       "      <td>0</td>\n",
       "      <td>Sciences</td>\n",
       "      <td>10</td>\n",
       "    </tr>\n",
       "    <tr>\n",
       "      <td>1</td>\n",
       "      <td>Business</td>\n",
       "      <td>8</td>\n",
       "    </tr>\n",
       "  </tbody>\n",
       "</table>\n",
       "</div>"
      ],
      "text/plain": [
       "       name  degrees\n",
       "0  Sciences       10\n",
       "1  Business        8"
      ]
     },
     "execution_count": 240,
     "metadata": {},
     "output_type": "execute_result"
    }
   ],
   "source": [
    "massey_colleges = pd.DataFrame(result['colleges'], columns=['name', 'degrees'])\n",
    "massey_colleges"
   ]
  },
  {
   "cell_type": "markdown",
   "metadata": {},
   "source": [
    "We can convert a data frame back to a JSON object with the following:"
   ]
  },
  {
   "cell_type": "code",
   "execution_count": 241,
   "metadata": {
    "scrolled": true
   },
   "outputs": [
    {
     "data": {
      "text/plain": [
       "'{\"name\":{\"0\":\"Sciences\",\"1\":\"Business\"},\"degrees\":{\"0\":10,\"1\":8}}'"
      ]
     },
     "execution_count": 241,
     "metadata": {},
     "output_type": "execute_result"
    }
   ],
   "source": [
    "massey_colleges.to_json()"
   ]
  },
  {
   "cell_type": "markdown",
   "metadata": {},
   "source": [
    "### REST"
   ]
  },
  {
   "cell_type": "markdown",
   "metadata": {},
   "source": [
    "**REST is a lightweight mechanism that is protocol independent, but often sits on top of the HTTP protocol** which enables applications to exchange data with severs. \n",
    "\n",
    "A combination of HTTP requests, together with valid REST queries can easily be constructed from Python. One easy-to-use method is through the `requests` package (http://docs.python-requests.org).\n",
    "\n",
    "Previously, using Web Services and SOAP would result in queries like:"
   ]
  },
  {
   "cell_type": "raw",
   "metadata": {},
   "source": [
    "<?xml version=\"1.0\"?>\n",
    "<soap:Envelope\n",
    "xmlns:soap=\"http://www.w3.org/2001/12/soap-envelope\"\n",
    "soap:encodingStyle=\"http://www.w3.org/2001/12/soap-encoding\">\n",
    " <soap:body pb=\"http://www.whitepages.com/phonebook\">\n",
    "  <pb:GetUserDetails>\n",
    "   <pb:UserID>12345678</pb:UserID>\n",
    "  </pb:GetUserDetails>\n",
    " </soap:Body>\n",
    "</soap:Envelope>"
   ]
  },
  {
   "cell_type": "markdown",
   "metadata": {},
   "source": [
    "Using REST, such clumsy queries can be transformed into simple HTTP requests of a format (1) like:"
   ]
  },
  {
   "cell_type": "raw",
   "metadata": {},
   "source": [
    "http://www.whitepages.com/phonebook/UserDetails/12345678"
   ]
  },
  {
   "cell_type": "markdown",
   "metadata": {},
   "source": [
    "Or alternatively, passing arguments using format (2) as follows:"
   ]
  },
  {
   "cell_type": "raw",
   "metadata": {},
   "source": [
    "http://www.whitepages.com/phonebook?UserDetails=12345678"
   ]
  },
  {
   "cell_type": "markdown",
   "metadata": {},
   "source": [
    "There are slight differences in what you can expect from the two formats. Format 1 (**path segment parameter**) will return a 404 error when the parameter value does not correspond to an existing resource. \n",
    "\n",
    "Format 2 uses **optional parameters**. Instead of en error, this format will return an empty list when the parameter is not found in the query result."
   ]
  },
  {
   "cell_type": "markdown",
   "metadata": {},
   "source": [
    "## Examples of Forming API Queries"
   ]
  },
  {
   "cell_type": "markdown",
   "metadata": {},
   "source": [
    "### Data Science Toolkit (http://www.datasciencetoolkit.org/) \n",
    "\n",
    "The Data Science Toolkit provides free APIs for accessing a range of services.\n",
    "\n",
    " \n"
   ]
  },
  {
   "cell_type": "markdown",
   "metadata": {},
   "source": [
    "#### Google-style Geocoder \n",
    "\n",
    "Interfaces with Google's geocoding API. Provides the latitude and longitude of an address. "
   ]
  },
  {
   "cell_type": "code",
   "execution_count": 244,
   "metadata": {},
   "outputs": [
    {
     "name": "stdout",
     "output_type": "stream",
     "text": [
      "<Response [200]>\n"
     ]
    },
    {
     "data": {
      "text/plain": [
       "{'status': 'OK',\n",
       " 'results': [{'address_components': [{'short_name': 'Albany',\n",
       "     'types': ['locality', 'political'],\n",
       "     'long_name': 'Albany, NZ'},\n",
       "    {'short_name': 'NZ',\n",
       "     'types': ['country', 'political'],\n",
       "     'long_name': 'New Zealand'}],\n",
       "   'types': ['locality', 'political'],\n",
       "   'geometry': {'viewport': {'northeast': {'lng': 174.719104757703,\n",
       "      'lat': -36.7129557004102},\n",
       "     'southwest': {'lng': 174.686346008567, 'lat': -36.7503668260581}},\n",
       "    'location_type': 'APPROXIMATE',\n",
       "    'location': {'lng': 174.7, 'lat': -36.71667}}}]}"
      ]
     },
     "execution_count": 244,
     "metadata": {},
     "output_type": "execute_result"
    }
   ],
   "source": [
    "#Albany Library,30 Kell Dr,Albany,Auckland,New Zealand\n",
    "response = requests.get(\"http://www.datasciencetoolkit.org/maps/api/geocode/json?sensor=false&address=Albany Library,30+Kell+Dr,Albany,+Auckland,+New+Zealand\")\n",
    "print(response)\n",
    "json.loads(response.content)"
   ]
  },
  {
   "cell_type": "markdown",
   "metadata": {},
   "source": [
    "**Exercise**: Extract the latitude and longitude of your current residential address and check it on Google maps."
   ]
  },
  {
   "cell_type": "code",
   "execution_count": null,
   "metadata": {},
   "outputs": [],
   "source": []
  },
  {
   "cell_type": "markdown",
   "metadata": {},
   "source": [
    "#### IP Address to Coordinates\n",
    "\n",
    "This API takes either a single numerical IP address, a comma-separated list, or a JSON-encoded array of addresses, and returns a JSON object with a key for every IP."
   ]
  },
  {
   "cell_type": "code",
   "execution_count": 250,
   "metadata": {},
   "outputs": [
    {
     "name": "stdout",
     "output_type": "stream",
     "text": [
      "<Response [200]>\n"
     ]
    },
    {
     "data": {
      "text/plain": [
       "{'27.252.134.143': {'dma_code': 0,\n",
       "  'latitude': -36.86669921875,\n",
       "  'country_code3': 'NZL',\n",
       "  'area_code': 0,\n",
       "  'longitude': 174.766693115234,\n",
       "  'country_name': 'New Zealand',\n",
       "  'postal_code': '',\n",
       "  'region': 'E7',\n",
       "  'locality': 'Auckland',\n",
       "  'country_code': 'NZ'}}"
      ]
     },
     "execution_count": 250,
     "metadata": {},
     "output_type": "execute_result"
    }
   ],
   "source": [
    "# response = requests.get(\"http://www.datasciencetoolkit.org/ip2coordinates/130.12.1.34\")\n",
    "response = requests.get(\"http://www.datasciencetoolkit.org/ip2coordinates/27.252.134.143\")\n",
    "print(response)\n",
    "json.loads(response.content)"
   ]
  },
  {
   "cell_type": "markdown",
   "metadata": {},
   "source": [
    "**Exercise**: Find out your current IP address (https://www.whatsmyip.org/), then extract the latitude and longitude check it on Google maps."
   ]
  },
  {
   "cell_type": "code",
   "execution_count": null,
   "metadata": {},
   "outputs": [],
   "source": []
  },
  {
   "cell_type": "markdown",
   "metadata": {},
   "source": [
    "### CoinDesk\n",
    "\n",
    "CoinDesk (https://www.coindesk.com/api) provides a simple API to make its Bitcoin Price Index (BPI) data programmatically available to others. \n",
    "\n"
   ]
  },
  {
   "cell_type": "code",
   "execution_count": 251,
   "metadata": {},
   "outputs": [
    {
     "name": "stdout",
     "output_type": "stream",
     "text": [
      "<Response [200]>\n"
     ]
    },
    {
     "data": {
      "text/plain": [
       "{'time': {'updated': 'Mar 22, 2020 20:37:00 UTC',\n",
       "  'updatedISO': '2020-03-22T20:37:00+00:00',\n",
       "  'updateduk': 'Mar 22, 2020 at 20:37 GMT'},\n",
       " 'disclaimer': 'This data was produced from the CoinDesk Bitcoin Price Index (USD). Non-USD currency data converted using hourly conversion rate from openexchangerates.org',\n",
       " 'chartName': 'Bitcoin',\n",
       " 'bpi': {'USD': {'code': 'USD',\n",
       "   'symbol': '&#36;',\n",
       "   'rate': '5,893.1833',\n",
       "   'description': 'United States Dollar',\n",
       "   'rate_float': 5893.1833},\n",
       "  'GBP': {'code': 'GBP',\n",
       "   'symbol': '&pound;',\n",
       "   'rate': '5,058.5259',\n",
       "   'description': 'British Pound Sterling',\n",
       "   'rate_float': 5058.5259},\n",
       "  'EUR': {'code': 'EUR',\n",
       "   'symbol': '&euro;',\n",
       "   'rate': '5,475.1563',\n",
       "   'description': 'Euro',\n",
       "   'rate_float': 5475.1563}}}"
      ]
     },
     "execution_count": 251,
     "metadata": {},
     "output_type": "execute_result"
    }
   ],
   "source": [
    "response = requests.get(\"https://api.coindesk.com/v1/bpi/currentprice.json\")\n",
    "print(response)\n",
    "json.loads(response.content)\n",
    "\n"
   ]
  },
  {
   "cell_type": "markdown",
   "metadata": {},
   "source": [
    "**Exercise**: Modify the query above in order to extract the current price of BitCoin in Singapore (SGD) dollars."
   ]
  },
  {
   "cell_type": "code",
   "execution_count": 271,
   "metadata": {},
   "outputs": [
    {
     "name": "stdout",
     "output_type": "stream",
     "text": [
      "<Response [200]>\n"
     ]
    },
    {
     "data": {
      "text/plain": [
       "10329.5683"
      ]
     },
     "execution_count": 271,
     "metadata": {},
     "output_type": "execute_result"
    }
   ],
   "source": [
    "response = requests.get(\"https://api.coindesk.com/v1/bpi/currentprice/NZD.json\")\n",
    "# https://api.coindesk.com/v1/bpi/currentprice/<CODE>.json\n",
    "print(response)\n",
    "res = json.loads(response.content)\n",
    "res[\"bpi\"][\"NZD\"]['rate_float']\n",
    "# res\n"
   ]
  },
  {
   "cell_type": "code",
   "execution_count": 270,
   "metadata": {},
   "outputs": [
    {
     "data": {
      "text/plain": [
       "dict_keys(['code', 'rate', 'description', 'rate_float'])"
      ]
     },
     "execution_count": 270,
     "metadata": {},
     "output_type": "execute_result"
    }
   ],
   "source": [
    "res.keys()\n",
    "res['bpi'][\"NZD\"].keys()"
   ]
  },
  {
   "cell_type": "markdown",
   "metadata": {},
   "source": [
    "**Exercise**: Modify the query above in order to extract the historic value of BitCoin in SGD dollars from 2013 to today. Extract the values from the json object and plot them."
   ]
  },
  {
   "cell_type": "code",
   "execution_count": 283,
   "metadata": {},
   "outputs": [
    {
     "name": "stdout",
     "output_type": "stream",
     "text": [
      "<Response [200]>\n"
     ]
    },
    {
     "data": {
      "text/plain": [
       "<matplotlib.axes._subplots.AxesSubplot at 0x11fccfc90>"
      ]
     },
     "execution_count": 283,
     "metadata": {},
     "output_type": "execute_result"
    },
    {
     "data": {
      "image/png": "[encoded data removed]",
      "text/plain": [
       "<Figure size 432x288 with 1 Axes>"
      ]
     },
     "metadata": {
      "needs_background": "light"
     },
     "output_type": "display_data"
    }
   ],
   "source": [
    "url ='https://api.coindesk.com/v1/bpi/historical/close.json?start=2013-09-01&end=2020-03-23'\n",
    "response = requests.get(url)\n",
    "print(response)\n",
    "res = json.loads(response.content)['bpi']\n",
    "df = pd.DataFrame.from_dict(res,orient=\"index\")\n",
    "df.plot()\n"
   ]
  },
  {
   "cell_type": "markdown",
   "metadata": {},
   "source": [
    "### OpenRates\n",
    "\n",
    "OpenRates (http://www.openrates.io/) delivers and up-to-date exchange rate data for 32 world currencies in JSON format. All currency data is sourced from the European Central Bank. The OpenRates API also offers historical exchange rates back to 1999. "
   ]
  },
  {
   "cell_type": "code",
   "execution_count": 284,
   "metadata": {
    "scrolled": true
   },
   "outputs": [
    {
     "name": "stdout",
     "output_type": "stream",
     "text": [
      "<Response [200]>\n"
     ]
    },
    {
     "data": {
      "text/plain": [
       "{'rates': {'CAD': 1.5257,\n",
       "  'HKD': 8.3056,\n",
       "  'ISK': 150.7,\n",
       "  'PHP': 54.895,\n",
       "  'DKK': 7.4691,\n",
       "  'HUF': 350.91,\n",
       "  'CZK': 27.191,\n",
       "  'AUD': 1.8226,\n",
       "  'RON': 4.8505,\n",
       "  'SEK': 11.0598,\n",
       "  'IDR': 17050.9,\n",
       "  'INR': 80.465,\n",
       "  'BRL': 5.3937,\n",
       "  'RUB': 85.1038,\n",
       "  'HRK': 7.6098,\n",
       "  'JPY': 118.37,\n",
       "  'THB': 34.851,\n",
       "  'CHF': 1.0546,\n",
       "  'SGD': 1.5515,\n",
       "  'PLN': 4.5315,\n",
       "  'BGN': 1.9558,\n",
       "  'TRY': 6.9806,\n",
       "  'CNY': 7.5919,\n",
       "  'NOK': 12.1215,\n",
       "  'NZD': 1.8521,\n",
       "  'ZAR': 18.5127,\n",
       "  'USD': 1.0707,\n",
       "  'MXN': 25.6864,\n",
       "  'ILS': 3.8683,\n",
       "  'GBP': 0.91028,\n",
       "  'KRW': 1335.64,\n",
       "  'MYR': 4.7052},\n",
       " 'base': 'EUR',\n",
       " 'date': '2020-03-20'}"
      ]
     },
     "execution_count": 284,
     "metadata": {},
     "output_type": "execute_result"
    }
   ],
   "source": [
    "#base currency is the Euro\n",
    "response = requests.get(\"http://api.openrates.io/latest\")\n",
    "print(response)\n",
    "json.loads(response.content)\n"
   ]
  },
  {
   "cell_type": "markdown",
   "metadata": {},
   "source": [
    "**Exercise**: Modify the above query in order to extract the latest exchange rates showing how many NZD dollars a SGD dollar buys. "
   ]
  },
  {
   "cell_type": "code",
   "execution_count": null,
   "metadata": {},
   "outputs": [],
   "source": [
    "url = \"https://api.exchangeratesapi.io/latest?symbols=USD,GBP\"\n",
    "\n"
   ]
  },
  {
   "cell_type": "markdown",
   "metadata": {},
   "source": [
    "**Exercise**: Make API queries that will enable you to quantify the percentage change in the number of Australian dollars a NZ dollar could buy between today and exactly one year ago."
   ]
  },
  {
   "cell_type": "code",
   "execution_count": null,
   "metadata": {
    "scrolled": true
   },
   "outputs": [],
   "source": []
  },
  {
   "cell_type": "code",
   "execution_count": null,
   "metadata": {},
   "outputs": [],
   "source": []
  },
  {
   "cell_type": "markdown",
   "metadata": {},
   "source": [
    "### RestCountries\n",
    "\n",
    "REST Countries (https://restcountries.eu/) provides high level information about a comprehensive set of countries. "
   ]
  },
  {
   "cell_type": "code",
   "execution_count": 73,
   "metadata": {},
   "outputs": [
    {
     "name": "stdout",
     "output_type": "stream",
     "text": [
      "<Response [200]>\n"
     ]
    }
   ],
   "source": [
    "response = requests.get(\"https://restcountries.eu/rest/v2/all\")\n",
    "print(response)\n",
    "# json.loads(response.content)\n"
   ]
  },
  {
   "cell_type": "markdown",
   "metadata": {},
   "source": [
    "An API call to RestCountries can return a list of countries that a target country shares a border with, as well as the GINI coefficient that signifies income inequalities.\n"
   ]
  },
  {
   "cell_type": "markdown",
   "metadata": {},
   "source": [
    "**Exercise**: Make a set of API quesries which returns a list of countries with which Venezuela shares a border, then plot the GINI coefficient for all these countries including Venezuela. "
   ]
  },
  {
   "cell_type": "code",
   "execution_count": null,
   "metadata": {},
   "outputs": [],
   "source": []
  },
  {
   "cell_type": "markdown",
   "metadata": {},
   "source": [
    "### Current International Space Station Details"
   ]
  },
  {
   "cell_type": "markdown",
   "metadata": {},
   "source": [
    "http://open-notify.org/Open-Notify-API/\n",
    "\n",
    "Examples below are taken from: https://www.dataquest.io/blog/python-api-tutorial/\n",
    "\n",
    "Below is an example of querying the ISS in order to find out the location of the space station."
   ]
  },
  {
   "cell_type": "code",
   "execution_count": 74,
   "metadata": {},
   "outputs": [
    {
     "name": "stdout",
     "output_type": "stream",
     "text": [
      "200\n"
     ]
    }
   ],
   "source": [
    "# Make a get request to get the latest position of the international space station from the opennotify api.\n",
    "response = requests.get(\"http://api.open-notify.org/iss-now.json\")\n",
    "\n",
    "# Print the status code of the response.\n",
    "print(response.status_code)"
   ]
  },
  {
   "cell_type": "code",
   "execution_count": 75,
   "metadata": {
    "scrolled": true
   },
   "outputs": [
    {
     "data": {
      "text/plain": [
       "b'{\"message\": \"success\", \"iss_position\": {\"latitude\": \"18.1646\", \"longitude\": \"111.4697\"}, \"timestamp\": 1584904467}'"
      ]
     },
     "execution_count": 75,
     "metadata": {},
     "output_type": "execute_result"
    }
   ],
   "source": [
    "response.content"
   ]
  },
  {
   "cell_type": "markdown",
   "metadata": {},
   "source": [
    "The example API query below returns a list of upcoming ISS passes for a particular location formatted as JSON."
   ]
  },
  {
   "cell_type": "code",
   "execution_count": 76,
   "metadata": {},
   "outputs": [],
   "source": [
    "import pprint as pp"
   ]
  },
  {
   "cell_type": "code",
   "execution_count": 78,
   "metadata": {
    "scrolled": true
   },
   "outputs": [
    {
     "name": "stdout",
     "output_type": "stream",
     "text": [
      "{'message': 'success',\n",
      " 'request': {'altitude': 100,\n",
      "             'datetime': 1584904516,\n",
      "             'latitude': 40.71,\n",
      "             'longitude': -74.0,\n",
      "             'passes': 5},\n",
      " 'response': [{'duration': 525, 'risetime': 1584913603},\n",
      "              {'duration': 652, 'risetime': 1584919320},\n",
      "              {'duration': 598, 'risetime': 1584925180},\n",
      "              {'duration': 560, 'risetime': 1584931069},\n",
      "              {'duration': 620, 'risetime': 1584936902}]}\n"
     ]
    }
   ],
   "source": [
    "# Set up the parameters we want to pass to the API.\n",
    "# This is the latitude and longitude of New York City.\n",
    "parameters = {\"lat\": 40.71, \"lon\": -74}\n",
    "\n",
    "# Make a get request with the parameters.\n",
    "response = requests.get(\"http://api.open-notify.org/iss-pass.json\", params=parameters)\n",
    "\n",
    "# Print the content of the response (the data the server returned)\n",
    "pp.pprint(json.loads(response.content))"
   ]
  },
  {
   "cell_type": "code",
   "execution_count": 79,
   "metadata": {
    "scrolled": true
   },
   "outputs": [
    {
     "name": "stdout",
     "output_type": "stream",
     "text": [
      "{'message': 'success',\n",
      " 'request': {'altitude': 100,\n",
      "             'datetime': 1584904516,\n",
      "             'latitude': 40.71,\n",
      "             'longitude': -74.0,\n",
      "             'passes': 5},\n",
      " 'response': [{'duration': 525, 'risetime': 1584913603},\n",
      "              {'duration': 652, 'risetime': 1584919320},\n",
      "              {'duration': 598, 'risetime': 1584925180},\n",
      "              {'duration': 560, 'risetime': 1584931069},\n",
      "              {'duration': 620, 'risetime': 1584936902}]}\n"
     ]
    }
   ],
   "source": [
    "# This gets the same data as the command above\n",
    "response = requests.get(\"http://api.open-notify.org/iss-pass.json?lat=40.71&lon=-74\")\n",
    "pp.pprint(json.loads(response.content))"
   ]
  },
  {
   "cell_type": "markdown",
   "metadata": {},
   "source": [
    "**Exercise:** Find the latitude and longitude for Singapore and query the API for ISS as to when the predicted flybys over Singapore will be."
   ]
  },
  {
   "cell_type": "code",
   "execution_count": null,
   "metadata": {},
   "outputs": [],
   "source": []
  },
  {
   "cell_type": "code",
   "execution_count": null,
   "metadata": {
    "scrolled": true
   },
   "outputs": [],
   "source": []
  },
  {
   "cell_type": "markdown",
   "metadata": {},
   "source": [
    "**Exercise:** Iterate through the results of the above query and convert the flyover time from Epoch Time to local time expressed in a readable format."
   ]
  },
  {
   "cell_type": "code",
   "execution_count": null,
   "metadata": {},
   "outputs": [],
   "source": []
  },
  {
   "cell_type": "markdown",
   "metadata": {},
   "source": [
    "Using this API, we can also find out programatically how many astronauts are currently in the ISS and who they are: "
   ]
  },
  {
   "cell_type": "code",
   "execution_count": 80,
   "metadata": {
    "scrolled": true
   },
   "outputs": [
    {
     "name": "stdout",
     "output_type": "stream",
     "text": [
      "3\n",
      "{'message': 'success',\n",
      " 'number': 3,\n",
      " 'people': [{'craft': 'ISS', 'name': 'Andrew Morgan'},\n",
      "            {'craft': 'ISS', 'name': 'Oleg Skripochka'},\n",
      "            {'craft': 'ISS', 'name': 'Jessica Meir'}]}\n"
     ]
    }
   ],
   "source": [
    "# Get the response from the API endpoint.\n",
    "response = requests.get(\"http://api.open-notify.org/astros.json\")\n",
    "data = response.json()\n",
    "\n",
    "# 9 people are currently in space.\n",
    "print(data[\"number\"])\n",
    "pp.pprint(data)"
   ]
  },
  {
   "cell_type": "markdown",
   "metadata": {},
   "source": [
    "### GeoNet API"
   ]
  },
  {
   "cell_type": "markdown",
   "metadata": {},
   "source": [
    "https://www.geonet.org.nz/\n",
    "\n",
    "> GeoNet is the result of a partnership between the Earthquake Commission (EQC), GNS Science, and Land Information New Zealand (LINZ). The GeoNet project was established in 2001 to build and operate a modern geological hazard monitoring system in New Zealand. It comprises a network of geophysical instruments, automated software applications and skilled staff to detect, analyse and respond to earthquakes, volcanic activity, large landslides, tsunami and the slow deformation that precedes large earthquakes.\n",
    "\n",
    "\n",
    "GeoNet has an API from which latest seismic activity in the NZ region can be accessed: https://api.geonet.org.nz/\n",
    "\n",
    "\n",
    "Here is an example of how to query their API and extract all recent seismic activity that was at or above the Modified Mercalli Intensity scale (MMI)(https://en.wikipedia.org/wiki/Mercalli_intensity_scale)\n",
    "\n",
    "See https://api.geonet.org.nz/quake?MMI=3 for an example of the returned JSON object format."
   ]
  },
  {
   "cell_type": "code",
   "execution_count": 81,
   "metadata": {
    "scrolled": true
   },
   "outputs": [
    {
     "name": "stdout",
     "output_type": "stream",
     "text": [
      "{'features': [{'geometry': {'coordinates': [172.8175049, -42.78117371],\n",
      "                            'type': 'Point'},\n",
      "               'properties': {'depth': 7.451786041,\n",
      "                              'locality': 'Within 5 km of Culverden',\n",
      "                              'magnitude': 2.369967949,\n",
      "                              'mmi': 3,\n",
      "                              'publicID': '2020p216920',\n",
      "                              'quality': 'best',\n",
      "                              'time': '2020-03-21T06:14:59.239Z'},\n",
      "               'type': 'Feature'},\n",
      "              {'geometry': {'coordinates': [172.9319611, -42.08550262],\n",
      "                            'type': 'Point'},\n",
      "               'properties': {'depth': 35.13520813,\n",
      "                              'locality': '30 km south of St Arnaud',\n",
      "                              'magnitude': 3.360882377,\n",
      "                              'mmi': 3,\n",
      "                              'publicID': '2020p211557',\n",
      "                              'quality': 'best',\n",
      "                              'time': '2020-03-19T06:38:04.556Z'},\n",
      "               'type': 'Feature'},\n",
      "              {'geometry': {'coordinates': [175.7406311, -40.99467087],\n",
      "                            'type': 'Point'},\n",
      "               'properties': {'depth': 40.25020218,\n",
      "                              'locality': '5 km south-east of Masterton',\n",
      "                              'magnitude': 3.701661809,\n",
      "                              'mmi': 4,\n",
      "                              'publicID': '2020p211174',\n",
      "                              'quality': 'best',\n",
      "                              'time': '2020-03-19T03:13:34.520Z'},\n",
      "               'type': 'Feature'},\n",
      "              {'geometry': {'coordinates': [176.2122955, -40.38508606],\n",
      "                            'type': 'Point'},\n",
      "               'properties': {'depth': 19.84411812,\n",
      "                              'locality': '15 km north of Pongaroa',\n",
      "                              'magnitude': 2.746856314,\n",
      "                              'mmi': 3,\n",
      "                              'publicID': '2020p210877',\n",
      "                              'quality': 'best',\n",
      "                              'time': '2020-03-19T00:36:00.836Z'},\n",
      "               'type': 'Feature'},\n",
      "              {'geometry': {'coordinates': [176.2220001, -40.38238907],\n",
      "                            'type': 'Point'},\n",
      "               'properties': {'depth': 21.11058617,\n",
      "                              'locality': '15 km north of Pongaroa',\n",
      "                              'magnitude': 2.985918883,\n",
      "                              'mmi': 3,\n",
      "                              'publicID': '2020p210837',\n",
      "                              'quality': 'best',\n",
      "                              'time': '2020-03-19T00:14:22.953Z'},\n",
      "               'type': 'Feature'},\n",
      "              {'geometry': {'coordinates': [172.787796, -42.68198395],\n",
      "                            'type': 'Point'},\n",
      "               'properties': {'depth': 10.14529037,\n",
      "                              'locality': '10 km north-west of Culverden',\n",
      "                              'magnitude': 2.433372188,\n",
      "                              'mmi': 3,\n",
      "                              'publicID': '2020p210485',\n",
      "                              'quality': 'best',\n",
      "                              'time': '2020-03-18T21:06:26.174Z'},\n",
      "               'type': 'Feature'},\n",
      "              {'geometry': {'coordinates': [172.1314392, -43.1934166],\n",
      "                            'type': 'Point'},\n",
      "               'properties': {'depth': 5,\n",
      "                              'locality': '10 km north-west of Oxford',\n",
      "                              'magnitude': 2.973267909,\n",
      "                              'mmi': 3,\n",
      "                              'publicID': '2020p210090',\n",
      "                              'quality': 'best',\n",
      "                              'time': '2020-03-18T17:36:26.224Z'},\n",
      "               'type': 'Feature'},\n",
      "              {'geometry': {'coordinates': [179.3582764, -36.45059204],\n",
      "                            'type': 'Point'},\n",
      "               'properties': {'depth': 33,\n",
      "                              'locality': '155 km north-east of Te Araroa',\n",
      "                              'magnitude': 5.106749568,\n",
      "                              'mmi': 3,\n",
      "                              'publicID': '2020p210015',\n",
      "                              'quality': 'best',\n",
      "                              'time': '2020-03-18T16:56:21.108Z'},\n",
      "               'type': 'Feature'},\n",
      "              {'geometry': {'coordinates': [176.2383728, -40.39460373],\n",
      "                            'type': 'Point'},\n",
      "               'properties': {'depth': 21.47222519,\n",
      "                              'locality': '15 km north of Pongaroa',\n",
      "                              'magnitude': 3.854420916,\n",
      "                              'mmi': 4,\n",
      "                              'publicID': '2020p209843',\n",
      "                              'quality': 'best',\n",
      "                              'time': '2020-03-18T15:24:37.125Z'},\n",
      "               'type': 'Feature'},\n",
      "              {'geometry': {'coordinates': [169.0656891, -43.99463272],\n",
      "                            'type': 'Point'},\n",
      "               'properties': {'depth': 5,\n",
      "                              'locality': '10 km south of Haast',\n",
      "                              'magnitude': 2.82724754,\n",
      "                              'mmi': 3,\n",
      "                              'publicID': '2020p207924',\n",
      "                              'quality': 'best',\n",
      "                              'time': '2020-03-17T22:22:11.602Z'},\n",
      "               'type': 'Feature'},\n",
      "              {'geometry': {'coordinates': [177.5751038, -37.78222275],\n",
      "                            'type': 'Point'},\n",
      "               'properties': {'depth': 31.85818291,\n",
      "                              'locality': '5 km west of Te Kaha',\n",
      "                              'magnitude': 2.916006475,\n",
      "                              'mmi': 3,\n",
      "                              'publicID': '2020p206816',\n",
      "                              'quality': 'best',\n",
      "                              'time': '2020-03-17T12:31:34.289Z'},\n",
      "               'type': 'Feature'},\n",
      "              {'geometry': {'coordinates': [169.5926056, -47.1704216],\n",
      "                            'type': 'Point'},\n",
      "               'properties': {'depth': 12,\n",
      "                              'locality': '105 km south of Balclutha',\n",
      "                              'magnitude': 4.725293703,\n",
      "                              'mmi': 3,\n",
      "                              'publicID': '2020p206793',\n",
      "                              'quality': 'best',\n",
      "                              'time': '2020-03-17T12:19:32.120Z'},\n",
      "               'type': 'Feature'},\n",
      "              {'geometry': {'coordinates': [174.2805939, -41.6187973],\n",
      "                            'type': 'Point'},\n",
      "               'properties': {'depth': 12.46247482,\n",
      "                              'locality': '15 km east of Seddon',\n",
      "                              'magnitude': 2.550276204,\n",
      "                              'mmi': 3,\n",
      "                              'publicID': '2020p204562',\n",
      "                              'quality': 'best',\n",
      "                              'time': '2020-03-16T16:30:43.093Z'},\n",
      "               'type': 'Feature'},\n",
      "              {'geometry': {'coordinates': [173.6752167, -42.39237213],\n",
      "                            'type': 'Point'},\n",
      "               'properties': {'depth': 4.815938473,\n",
      "                              'locality': 'Within 5 km of Kaikoura',\n",
      "                              'magnitude': 2.162947908,\n",
      "                              'mmi': 3,\n",
      "                              'publicID': '2020p204325',\n",
      "                              'quality': 'best',\n",
      "                              'time': '2020-03-16T14:24:46.743Z'},\n",
      "               'type': 'Feature'},\n",
      "              {'geometry': {'coordinates': [177.9975128, -38.50110245],\n",
      "                            'type': 'Point'},\n",
      "               'properties': {'depth': 25.35699654,\n",
      "                              'locality': '15 km north of Gisborne',\n",
      "                              'magnitude': 3.253315125,\n",
      "                              'mmi': 3,\n",
      "                              'publicID': '2020p203927',\n",
      "                              'quality': 'best',\n",
      "                              'time': '2020-03-16T10:52:43.226Z'},\n",
      "               'type': 'Feature'},\n",
      "              {'geometry': {'coordinates': [172.7927704, -42.7087326],\n",
      "                            'type': 'Point'},\n",
      "               'properties': {'depth': 12,\n",
      "                              'locality': '5 km north-west of Culverden',\n",
      "                              'magnitude': 2.224121388,\n",
      "                              'mmi': 3,\n",
      "                              'publicID': '2020p203024',\n",
      "                              'quality': 'best',\n",
      "                              'time': '2020-03-16T02:51:36.975Z'},\n",
      "               'type': 'Feature'},\n",
      "              {'geometry': {'coordinates': [172.7749634, -42.6802597],\n",
      "                            'type': 'Point'},\n",
      "               'properties': {'depth': 9.251270294,\n",
      "                              'locality': '10 km north-west of Culverden',\n",
      "                              'magnitude': 2.440784501,\n",
      "                              'mmi': 3,\n",
      "                              'publicID': '2020p202940',\n",
      "                              'quality': 'best',\n",
      "                              'time': '2020-03-16T02:06:39.417Z'},\n",
      "               'type': 'Feature'},\n",
      "              {'geometry': {'coordinates': [171.5530853, -43.6063385],\n",
      "                            'type': 'Point'},\n",
      "               'properties': {'depth': 4.575995445,\n",
      "                              'locality': '5 km west of Methven',\n",
      "                              'magnitude': 2.415113687,\n",
      "                              'mmi': 3,\n",
      "                              'publicID': '2020p202688',\n",
      "                              'quality': 'best',\n",
      "                              'time': '2020-03-15T23:52:12.826Z'},\n",
      "               'type': 'Feature'},\n",
      "              {'geometry': {'coordinates': [172.7805939, -42.68375015],\n",
      "                            'type': 'Point'},\n",
      "               'properties': {'depth': 9.053458214,\n",
      "                              'locality': '10 km north-west of Culverden',\n",
      "                              'magnitude': 2.55112143,\n",
      "                              'mmi': 3,\n",
      "                              'publicID': '2020p202134',\n",
      "                              'quality': 'best',\n",
      "                              'time': '2020-03-15T18:57:28.805Z'},\n",
      "               'type': 'Feature'},\n",
      "              {'geometry': {'coordinates': [172.780838, -42.68215942],\n",
      "                            'type': 'Point'},\n",
      "               'properties': {'depth': 9.685751915,\n",
      "                              'locality': '10 km north-west of Culverden',\n",
      "                              'magnitude': 2.363540287,\n",
      "                              'mmi': 3,\n",
      "                              'publicID': '2020p201941',\n",
      "                              'quality': 'best',\n",
      "                              'time': '2020-03-15T17:14:16.275Z'},\n",
      "               'type': 'Feature'},\n",
      "              {'geometry': {'coordinates': [172.7735443, -42.69056702],\n",
      "                            'type': 'Point'},\n",
      "               'properties': {'depth': 10.00164509,\n",
      "                              'locality': '10 km north-west of Culverden',\n",
      "                              'magnitude': 5.092165993,\n",
      "                              'mmi': 6,\n",
      "                              'publicID': '2020p201743',\n",
      "                              'quality': 'best',\n",
      "                              'time': '2020-03-15T15:28:58.847Z'},\n",
      "               'type': 'Feature'},\n",
      "              {'geometry': {'coordinates': [177.5291595, -37.57616043],\n",
      "                            'type': 'Point'},\n",
      "               'properties': {'depth': 73.20803833,\n",
      "                              'locality': '20 km north-west of Te Kaha',\n",
      "                              'magnitude': 5.026609161,\n",
      "                              'mmi': 4,\n",
      "                              'publicID': '2020p201619',\n",
      "                              'quality': 'best',\n",
      "                              'time': '2020-03-15T14:22:37.840Z'},\n",
      "               'type': 'Feature'},\n",
      "              {'geometry': {'coordinates': [174.4596863, -41.47105026],\n",
      "                            'type': 'Point'},\n",
      "               'properties': {'depth': 12,\n",
      "                              'locality': '30 km south-west of Wellington',\n",
      "                              'magnitude': 3.702376532,\n",
      "                              'mmi': 3,\n",
      "                              'publicID': '2020p201365',\n",
      "                              'quality': 'best',\n",
      "                              'time': '2020-03-15T12:07:40.961Z'},\n",
      "               'type': 'Feature'},\n",
      "              {'geometry': {'coordinates': [178.8417511, -36.67341614],\n",
      "                            'type': 'Point'},\n",
      "               'properties': {'depth': 12,\n",
      "                              'locality': '110 km north of Te Araroa',\n",
      "                              'magnitude': 5.910460289,\n",
      "                              'mmi': 5,\n",
      "                              'publicID': '2020p198433',\n",
      "                              'quality': 'best',\n",
      "                              'time': '2020-03-14T10:05:16.180Z'},\n",
      "               'type': 'Feature'},\n",
      "              {'geometry': {'coordinates': [170.0005188, -45.1866951],\n",
      "                            'type': 'Point'},\n",
      "               'properties': {'depth': 2.914741278,\n",
      "                              'locality': '10 km south-west of Ranfurly',\n",
      "                              'magnitude': 2.615565077,\n",
      "                              'mmi': 3,\n",
      "                              'publicID': '2020p197944',\n",
      "                              'quality': 'best',\n",
      "                              'time': '2020-03-14T05:44:58.632Z'},\n",
      "               'type': 'Feature'},\n",
      "              {'geometry': {'coordinates': [170.004837, -44.08966064],\n",
      "                            'type': 'Point'},\n",
      "               'properties': {'depth': 5,\n",
      "                              'locality': '20 km north of Twizel',\n",
      "                              'magnitude': 3.949077601,\n",
      "                              'mmi': 4,\n",
      "                              'publicID': '2020p197208',\n",
      "                              'quality': 'best',\n",
      "                              'time': '2020-03-13T23:12:41.855Z'},\n",
      "               'type': 'Feature'},\n",
      "              {'geometry': {'coordinates': [174.5406036, -41.37582016],\n",
      "                            'type': 'Point'},\n",
      "               'properties': {'depth': 15.84528637,\n",
      "                              'locality': '20 km south-west of Wellington',\n",
      "                              'magnitude': 2.993107097,\n",
      "                              'mmi': 3,\n",
      "                              'publicID': '2020p196408',\n",
      "                              'quality': 'best',\n",
      "                              'time': '2020-03-13T16:06:24.488Z'},\n",
      "               'type': 'Feature'},\n",
      "              {'geometry': {'coordinates': [174.2444, -41.67803192],\n",
      "                            'type': 'Point'},\n",
      "               'properties': {'depth': 9.442864418,\n",
      "                              'locality': '10 km east of Seddon',\n",
      "                              'magnitude': 2.892390702,\n",
      "                              'mmi': 3,\n",
      "                              'publicID': '2020p194843',\n",
      "                              'quality': 'best',\n",
      "                              'time': '2020-03-13T02:12:52.723Z'},\n",
      "               'type': 'Feature'},\n",
      "              {'geometry': {'coordinates': [175.8666992, -40.33198547],\n",
      "                            'type': 'Point'},\n",
      "               'properties': {'depth': 26.14113998,\n",
      "                              'locality': '20 km east of Palmerston North',\n",
      "                              'magnitude': 3.388537489,\n",
      "                              'mmi': 3,\n",
      "                              'publicID': '2020p190616',\n",
      "                              'quality': 'best',\n",
      "                              'time': '2020-03-11T12:40:34.347Z'},\n",
      "               'type': 'Feature'},\n",
      "              {'geometry': {'coordinates': [176.8158112, -39.82859039],\n",
      "                            'type': 'Point'},\n",
      "               'properties': {'depth': 30.38012123,\n",
      "                              'locality': '20 km south of Hastings',\n",
      "                              'magnitude': 3.158909453,\n",
      "                              'mmi': 3,\n",
      "                              'publicID': '2020p189159',\n",
      "                              'quality': 'best',\n",
      "                              'time': '2020-03-10T23:44:18.082Z'},\n",
      "               'type': 'Feature'},\n",
      "              {'geometry': {'coordinates': [172.7102356, -43.52647781],\n",
      "                            'type': 'Point'},\n",
      "               'properties': {'depth': 8.370871544,\n",
      "                              'locality': '5 km east of Christchurch',\n",
      "                              'magnitude': 2.371883994,\n",
      "                              'mmi': 3,\n",
      "                              'publicID': '2020p188881',\n",
      "                              'quality': 'best',\n",
      "                              'time': '2020-03-10T21:16:09.479Z'},\n",
      "               'type': 'Feature'},\n",
      "              {'geometry': {'coordinates': [176.6246033, -40.2548027],\n",
      "                            'type': 'Point'},\n",
      "               'properties': {'depth': 17.13710022,\n",
      "                              'locality': '5 km north of Porangahau',\n",
      "                              'magnitude': 2.27867804,\n",
      "                              'mmi': 3,\n",
      "                              'publicID': '2020p188023',\n",
      "                              'quality': 'best',\n",
      "                              'time': '2020-03-10T13:39:04.672Z'},\n",
      "               'type': 'Feature'},\n",
      "              {'geometry': {'coordinates': [171.6108246, -42.86868668],\n",
      "                            'type': 'Point'},\n",
      "               'properties': {'depth': 5,\n",
      "                              'locality': \"5 km north of Arthur's Pass\",\n",
      "                              'magnitude': 2.764261899,\n",
      "                              'mmi': 3,\n",
      "                              'publicID': '2020p187320',\n",
      "                              'quality': 'best',\n",
      "                              'time': '2020-03-10T07:24:08.122Z'},\n",
      "               'type': 'Feature'},\n",
      "              {'geometry': {'coordinates': [172.7442932, -43.53202438],\n",
      "                            'type': 'Point'},\n",
      "               'properties': {'depth': 8.506339073,\n",
      "                              'locality': '5 km east of Christchurch',\n",
      "                              'magnitude': 3.198594144,\n",
      "                              'mmi': 4,\n",
      "                              'publicID': '2020p186808',\n",
      "                              'quality': 'best',\n",
      "                              'time': '2020-03-10T02:51:49.708Z'},\n",
      "               'type': 'Feature'},\n",
      "              {'geometry': {'coordinates': [176.5066223, -40.24585342],\n",
      "                            'type': 'Point'},\n",
      "               'properties': {'depth': 25.126894,\n",
      "                              'locality': '10 km north-west of Porangahau',\n",
      "                              'magnitude': 3.103555724,\n",
      "                              'mmi': 3,\n",
      "                              'publicID': '2020p186145',\n",
      "                              'quality': 'best',\n",
      "                              'time': '2020-03-09T20:58:11.150Z'},\n",
      "               'type': 'Feature'},\n",
      "              {'geometry': {'coordinates': [176.0173187, -37.99720001],\n",
      "                            'type': 'Point'},\n",
      "               'properties': {'depth': 188.4369202,\n",
      "                              'locality': '20 km north-west of Rotorua',\n",
      "                              'magnitude': 4.698458535,\n",
      "                              'mmi': 3,\n",
      "                              'publicID': '2020p182651',\n",
      "                              'quality': 'best',\n",
      "                              'time': '2020-03-08T13:57:00.800Z'},\n",
      "               'type': 'Feature'},\n",
      "              {'geometry': {'coordinates': [176.7376862, -39.66473389],\n",
      "                            'type': 'Point'},\n",
      "               'properties': {'depth': 23.14824486,\n",
      "                              'locality': '5 km west of Hastings',\n",
      "                              'magnitude': 2.565881723,\n",
      "                              'mmi': 3,\n",
      "                              'publicID': '2020p181794',\n",
      "                              'quality': 'best',\n",
      "                              'time': '2020-03-08T06:20:22.261Z'},\n",
      "               'type': 'Feature'},\n",
      "              {'geometry': {'coordinates': [172.6936646, -43.49412537],\n",
      "                            'type': 'Point'},\n",
      "               'properties': {'depth': 6.088359356,\n",
      "                              'locality': '5 km north-east of Christchurch',\n",
      "                              'magnitude': 2.223268243,\n",
      "                              'mmi': 3,\n",
      "                              'publicID': '2020p180216',\n",
      "                              'quality': 'best',\n",
      "                              'time': '2020-03-07T16:19:32.214Z'},\n",
      "               'type': 'Feature'},\n",
      "              {'geometry': {'coordinates': [176.5537872, -39.90366364],\n",
      "                            'type': 'Point'},\n",
      "               'properties': {'depth': 18.22993851,\n",
      "                              'locality': '10 km north of Waipukurau',\n",
      "                              'magnitude': 2.474091155,\n",
      "                              'mmi': 3,\n",
      "                              'publicID': '2020p174416',\n",
      "                              'quality': 'best',\n",
      "                              'time': '2020-03-05T12:49:19.838Z'},\n",
      "               'type': 'Feature'},\n",
      "              {'geometry': {'coordinates': [167.7888031, -44.9386673],\n",
      "                            'type': 'Point'},\n",
      "               'properties': {'depth': 5,\n",
      "                              'locality': '30 km south of Milford Sound',\n",
      "                              'magnitude': 3.511909978,\n",
      "                              'mmi': 3,\n",
      "                              'publicID': '2020p170940',\n",
      "                              'quality': 'best',\n",
      "                              'time': '2020-03-04T05:57:15.864Z'},\n",
      "               'type': 'Feature'},\n",
      "              {'geometry': {'coordinates': [174.6325531, -40.61383057],\n",
      "                            'type': 'Point'},\n",
      "               'properties': {'depth': 34.56166458,\n",
      "                              'locality': '45 km north-west of Paraparaumu',\n",
      "                              'magnitude': 3.978125761,\n",
      "                              'mmi': 3,\n",
      "                              'publicID': '2020p170830',\n",
      "                              'quality': 'best',\n",
      "                              'time': '2020-03-04T04:58:42.922Z'},\n",
      "               'type': 'Feature'},\n",
      "              {'geometry': {'coordinates': [175.5941925, -39.9201088],\n",
      "                            'type': 'Point'},\n",
      "               'properties': {'depth': 34.55892181,\n",
      "                              'locality': 'Within 5 km of Hunterville',\n",
      "                              'magnitude': 3.05548327,\n",
      "                              'mmi': 3,\n",
      "                              'publicID': '2020p167516',\n",
      "                              'quality': 'best',\n",
      "                              'time': '2020-03-02T23:32:35.363Z'},\n",
      "               'type': 'Feature'},\n",
      "              {'geometry': {'coordinates': [167.6737671, -44.95227432],\n",
      "                            'type': 'Point'},\n",
      "               'properties': {'depth': 40.75899506,\n",
      "                              'locality': '35 km south-west of Milford Sound',\n",
      "                              'magnitude': 3.294923649,\n",
      "                              'mmi': 3,\n",
      "                              'publicID': '2020p166661',\n",
      "                              'quality': 'best',\n",
      "                              'time': '2020-03-02T15:57:20.150Z'},\n",
      "               'type': 'Feature'},\n",
      "              {'geometry': {'coordinates': [171.6090393, -42.86484146],\n",
      "                            'type': 'Point'},\n",
      "               'properties': {'depth': 5,\n",
      "                              'locality': \"5 km north of Arthur's Pass\",\n",
      "                              'magnitude': 2.650302655,\n",
      "                              'mmi': 3,\n",
      "                              'publicID': '2020p165623',\n",
      "                              'quality': 'best',\n",
      "                              'time': '2020-03-02T06:44:02.180Z'},\n",
      "               'type': 'Feature'},\n",
      "              {'geometry': {'coordinates': [174.0911713, -41.73403549],\n",
      "                            'type': 'Point'},\n",
      "               'properties': {'depth': 7.136788368,\n",
      "                              'locality': '5 km south of Seddon',\n",
      "                              'magnitude': 2.288054216,\n",
      "                              'mmi': 3,\n",
      "                              'publicID': '2020p163214',\n",
      "                              'quality': 'best',\n",
      "                              'time': '2020-03-01T09:20:55.148Z'},\n",
      "               'type': 'Feature'},\n",
      "              {'geometry': {'coordinates': [177.9439545, -38.88986206],\n",
      "                            'type': 'Point'},\n",
      "               'properties': {'depth': 31.4574852,\n",
      "                              'locality': '25 km south of Gisborne',\n",
      "                              'magnitude': 2.966586318,\n",
      "                              'mmi': 3,\n",
      "                              'publicID': '2020p162162',\n",
      "                              'quality': 'best',\n",
      "                              'time': '2020-03-01T00:01:10.088Z'},\n",
      "               'type': 'Feature'},\n",
      "              {'geometry': {'coordinates': [174.1714935, -41.67997742],\n",
      "                            'type': 'Point'},\n",
      "               'properties': {'depth': 7.930213451,\n",
      "                              'locality': '5 km east of Seddon',\n",
      "                              'magnitude': 2.326790914,\n",
      "                              'mmi': 3,\n",
      "                              'publicID': '2020p161118',\n",
      "                              'quality': 'best',\n",
      "                              'time': '2020-02-29T14:43:44.801Z'},\n",
      "               'type': 'Feature'},\n",
      "              {'geometry': {'coordinates': [168.3110657, -44.58750916],\n",
      "                            'type': 'Point'},\n",
      "               'properties': {'depth': 5,\n",
      "                              'locality': '30 km east of Milford Sound',\n",
      "                              'magnitude': 3.600231815,\n",
      "                              'mmi': 3,\n",
      "                              'publicID': '2020p160439',\n",
      "                              'quality': 'best',\n",
      "                              'time': '2020-02-29T08:42:16.946Z'},\n",
      "               'type': 'Feature'},\n",
      "              {'geometry': {'coordinates': [175.4770508, -40.33940506],\n",
      "                            'type': 'Point'},\n",
      "               'properties': {'depth': 35.42513657,\n",
      "                              'locality': '10 km west of Palmerston North',\n",
      "                              'magnitude': 3.327977585,\n",
      "                              'mmi': 3,\n",
      "                              'publicID': '2020p159852',\n",
      "                              'quality': 'best',\n",
      "                              'time': '2020-02-29T03:29:25.549Z'},\n",
      "               'type': 'Feature'},\n",
      "              {'geometry': {'coordinates': [174.1809387, -41.77651596],\n",
      "                            'type': 'Point'},\n",
      "               'properties': {'depth': 13.00218964,\n",
      "                              'locality': '15 km south-east of Seddon',\n",
      "                              'magnitude': 2.772179009,\n",
      "                              'mmi': 3,\n",
      "                              'publicID': '2020p159542',\n",
      "                              'quality': 'best',\n",
      "                              'time': '2020-02-29T00:44:29.762Z'},\n",
      "               'type': 'Feature'},\n",
      "              {'geometry': {'coordinates': [165.9718933, -47.87105942],\n",
      "                            'type': 'Point'},\n",
      "               'properties': {'depth': 12,\n",
      "                              'locality': '45 km west of Snares Islands',\n",
      "                              'magnitude': 4.175035641,\n",
      "                              'mmi': 4,\n",
      "                              'publicID': '2020p159127',\n",
      "                              'quality': 'best',\n",
      "                              'time': '2020-02-28T21:03:16.721Z'},\n",
      "               'type': 'Feature'},\n",
      "              {'geometry': {'coordinates': [174.1895905, -39.60435486],\n",
      "                            'type': 'Point'},\n",
      "               'properties': {'depth': 39.81587982,\n",
      "                              'locality': '5 km west of Hawera',\n",
      "                              'magnitude': 3.450782854,\n",
      "                              'mmi': 3,\n",
      "                              'publicID': '2020p158179',\n",
      "                              'quality': 'best',\n",
      "                              'time': '2020-02-28T12:38:01.654Z'},\n",
      "               'type': 'Feature'},\n",
      "              {'geometry': {'coordinates': [172.8319702, -42.78652573],\n",
      "                            'type': 'Point'},\n",
      "               'properties': {'depth': 12,\n",
      "                              'locality': 'Within 5 km of Culverden',\n",
      "                              'magnitude': 2.270251254,\n",
      "                              'mmi': 3,\n",
      "                              'publicID': '2020p157370',\n",
      "                              'quality': 'best',\n",
      "                              'time': '2020-02-28T05:27:13.251Z'},\n",
      "               'type': 'Feature'},\n",
      "              {'geometry': {'coordinates': [178.1996918, -37.061306],\n",
      "                            'type': 'Point'},\n",
      "               'properties': {'depth': 33,\n",
      "                              'locality': '60 km north of Te Araroa',\n",
      "                              'magnitude': 3.80231622,\n",
      "                              'mmi': 3,\n",
      "                              'publicID': '2020p157275',\n",
      "                              'quality': 'best',\n",
      "                              'time': '2020-02-28T04:36:23.090Z'},\n",
      "               'type': 'Feature'},\n",
      "              {'geometry': {'coordinates': [174.1122589, -41.81680679],\n",
      "                            'type': 'Point'},\n",
      "               'properties': {'depth': 13.94344521,\n",
      "                              'locality': '15 km south of Seddon',\n",
      "                              'magnitude': 2.576944518,\n",
      "                              'mmi': 3,\n",
      "                              'publicID': '2020p155433',\n",
      "                              'quality': 'best',\n",
      "                              'time': '2020-02-27T12:15:09.211Z'},\n",
      "               'type': 'Feature'},\n",
      "              {'geometry': {'coordinates': [174.1763763, -41.72605896],\n",
      "                            'type': 'Point'},\n",
      "               'properties': {'depth': 10.73172569,\n",
      "                              'locality': '10 km south-east of Seddon',\n",
      "                              'magnitude': 2.854328158,\n",
      "                              'mmi': 3,\n",
      "                              'publicID': '2020p154619',\n",
      "                              'quality': 'best',\n",
      "                              'time': '2020-02-27T05:01:30.843Z'},\n",
      "               'type': 'Feature'},\n",
      "              {'geometry': {'coordinates': [176.8084106, -39.74663162],\n",
      "                            'type': 'Point'},\n",
      "               'properties': {'depth': 38.67671967,\n",
      "                              'locality': '10 km south of Hastings',\n",
      "                              'magnitude': 3.001290247,\n",
      "                              'mmi': 3,\n",
      "                              'publicID': '2020p153652',\n",
      "                              'quality': 'best',\n",
      "                              'time': '2020-02-26T20:25:48.591Z'},\n",
      "               'type': 'Feature'},\n",
      "              {'geometry': {'coordinates': [178.3198242, -38.13919449],\n",
      "                            'type': 'Point'},\n",
      "               'properties': {'depth': 16.07283211,\n",
      "                              'locality': 'Within 5 km of Tokomaru Bay',\n",
      "                              'magnitude': 2.768091513,\n",
      "                              'mmi': 3,\n",
      "                              'publicID': '2020p151292',\n",
      "                              'quality': 'best',\n",
      "                              'time': '2020-02-25T23:28:50.479Z'},\n",
      "               'type': 'Feature'},\n",
      "              {'geometry': {'coordinates': [178.3995819, -38.13954926],\n",
      "                            'type': 'Point'},\n",
      "               'properties': {'depth': 13.87443447,\n",
      "                              'locality': '5 km east of Tokomaru Bay',\n",
      "                              'magnitude': 2.325362925,\n",
      "                              'mmi': 3,\n",
      "                              'publicID': '2020p150428',\n",
      "                              'quality': 'best',\n",
      "                              'time': '2020-02-25T15:48:31.460Z'},\n",
      "               'type': 'Feature'},\n",
      "              {'geometry': {'coordinates': [178.460434, -38.17671585],\n",
      "                            'type': 'Point'},\n",
      "               'properties': {'depth': 11.08773327,\n",
      "                              'locality': '10 km south-east of Tokomaru Bay',\n",
      "                              'magnitude': 2.776053543,\n",
      "                              'mmi': 3,\n",
      "                              'publicID': '2020p150383',\n",
      "                              'quality': 'best',\n",
      "                              'time': '2020-02-25T15:24:06.594Z'},\n",
      "               'type': 'Feature'},\n",
      "              {'geometry': {'coordinates': [178.4734802, -38.18530273],\n",
      "                            'type': 'Point'},\n",
      "               'properties': {'depth': 15.48414707,\n",
      "                              'locality': '10 km south-east of Tokomaru Bay',\n",
      "                              'magnitude': 3.482695294,\n",
      "                              'mmi': 4,\n",
      "                              'publicID': '2020p150321',\n",
      "                              'quality': 'best',\n",
      "                              'time': '2020-02-25T14:51:17.403Z'},\n",
      "               'type': 'Feature'},\n",
      "              {'geometry': {'coordinates': [177.8063507, -38.90248871],\n",
      "                            'type': 'Point'},\n",
      "               'properties': {'depth': 28.49081993,\n",
      "                              'locality': '30 km south-west of Gisborne',\n",
      "                              'magnitude': 3.860595754,\n",
      "                              'mmi': 4,\n",
      "                              'publicID': '2020p147906',\n",
      "                              'quality': 'best',\n",
      "                              'time': '2020-02-24T17:24:48.253Z'},\n",
      "               'type': 'Feature'},\n",
      "              {'geometry': {'coordinates': [167.4463806, -44.71028137],\n",
      "                            'type': 'Point'},\n",
      "               'properties': {'depth': 5,\n",
      "                              'locality': '35 km west of Milford Sound',\n",
      "                              'magnitude': 5.152573398,\n",
      "                              'mmi': 4,\n",
      "                              'publicID': '2020p147099',\n",
      "                              'quality': 'best',\n",
      "                              'time': '2020-02-24T10:14:22.764Z'},\n",
      "               'type': 'Feature'},\n",
      "              {'geometry': {'coordinates': [174.6110382, -39.03012848],\n",
      "                            'type': 'Point'},\n",
      "               'properties': {'depth': 9.616885185,\n",
      "                              'locality': '35 km south of Mokau',\n",
      "                              'magnitude': 3.382482084,\n",
      "                              'mmi': 3,\n",
      "                              'publicID': '2020p145967',\n",
      "                              'quality': 'best',\n",
      "                              'time': '2020-02-24T00:11:25.928Z'},\n",
      "               'type': 'Feature'},\n",
      "              {'geometry': {'coordinates': [173.5776367, -42.4105835],\n",
      "                            'type': 'Point'},\n",
      "               'properties': {'depth': 13.20432758,\n",
      "                              'locality': '5 km west of Kaikoura',\n",
      "                              'magnitude': 2.178844915,\n",
      "                              'mmi': 3,\n",
      "                              'publicID': '2020p143997',\n",
      "                              'quality': 'best',\n",
      "                              'time': '2020-02-23T06:42:00.365Z'},\n",
      "               'type': 'Feature'},\n",
      "              {'geometry': {'coordinates': [176.179306, -39.74012756],\n",
      "                            'type': 'Point'},\n",
      "               'properties': {'depth': 23.89322472,\n",
      "                              'locality': '30 km east of Taihape',\n",
      "                              'magnitude': 2.973761201,\n",
      "                              'mmi': 3,\n",
      "                              'publicID': '2020p143373',\n",
      "                              'quality': 'best',\n",
      "                              'time': '2020-02-23T01:09:25.134Z'},\n",
      "               'type': 'Feature'},\n",
      "              {'geometry': {'coordinates': [174.3366699, -41.56459045],\n",
      "                            'type': 'Point'},\n",
      "               'properties': {'depth': 8.368267059,\n",
      "                              'locality': '25 km north-east of Seddon',\n",
      "                              'magnitude': 3.103968988,\n",
      "                              'mmi': 3,\n",
      "                              'publicID': '2020p140475',\n",
      "                              'quality': 'best',\n",
      "                              'time': '2020-02-21T23:25:17.700Z'},\n",
      "               'type': 'Feature'},\n",
      "              {'geometry': {'coordinates': [177.5312195, -38.86715317],\n",
      "                            'type': 'Point'},\n",
      "               'properties': {'depth': 19.51138496,\n",
      "                              'locality': '20 km north-east of Wairoa',\n",
      "                              'magnitude': 2.736057554,\n",
      "                              'mmi': 3,\n",
      "                              'publicID': '2020p135844',\n",
      "                              'quality': 'best',\n",
      "                              'time': '2020-02-20T06:17:41.654Z'},\n",
      "               'type': 'Feature'},\n",
      "              {'geometry': {'coordinates': [174.0895233, -38.74240494],\n",
      "                            'type': 'Point'},\n",
      "               'properties': {'depth': 12,\n",
      "                              'locality': '35 km north of New Plymouth',\n",
      "                              'magnitude': 3.670834011,\n",
      "                              'mmi': 3,\n",
      "                              'publicID': '2020p135192',\n",
      "                              'quality': 'best',\n",
      "                              'time': '2020-02-20T00:30:44.118Z'},\n",
      "               'type': 'Feature'},\n",
      "              {'geometry': {'coordinates': [175.3277435, -39.10634613],\n",
      "                            'type': 'Point'},\n",
      "               'properties': {'depth': 8.092262268,\n",
      "                              'locality': '25 km south of Taumarunui',\n",
      "                              'magnitude': 3.042978413,\n",
      "                              'mmi': 3,\n",
      "                              'publicID': '2020p131699',\n",
      "                              'quality': 'best',\n",
      "                              'time': '2020-02-18T17:29:35.415Z'},\n",
      "               'type': 'Feature'},\n",
      "              {'geometry': {'coordinates': [175.3614502, -40.04866409],\n",
      "                            'type': 'Point'},\n",
      "               'properties': {'depth': 11.20453262,\n",
      "                              'locality': '20 km south-west of Hunterville',\n",
      "                              'magnitude': 3.598739807,\n",
      "                              'mmi': 4,\n",
      "                              'publicID': '2020p131068',\n",
      "                              'quality': 'best',\n",
      "                              'time': '2020-02-18T11:53:08.918Z'},\n",
      "               'type': 'Feature'},\n",
      "              {'geometry': {'coordinates': [178.4054413, -37.40063095],\n",
      "                            'type': 'Point'},\n",
      "               'properties': {'depth': 27.69761276,\n",
      "                              'locality': '25 km north of Te Araroa',\n",
      "                              'magnitude': 2.911695938,\n",
      "                              'mmi': 3,\n",
      "                              'publicID': '2020p130238',\n",
      "                              'quality': 'best',\n",
      "                              'time': '2020-02-18T04:31:15.425Z'},\n",
      "               'type': 'Feature'},\n",
      "              {'geometry': {'coordinates': [175.861557, -40.63270187],\n",
      "                            'type': 'Point'},\n",
      "               'properties': {'depth': 21.37844658,\n",
      "                              'locality': '10 km east of Eketahuna',\n",
      "                              'magnitude': 3.02555499,\n",
      "                              'mmi': 3,\n",
      "                              'publicID': '2020p129107',\n",
      "                              'quality': 'best',\n",
      "                              'time': '2020-02-17T18:29:02.396Z'},\n",
      "               'type': 'Feature'},\n",
      "              {'geometry': {'coordinates': [175.8755035, -40.60525894],\n",
      "                            'type': 'Point'},\n",
      "               'properties': {'depth': 24.92295074,\n",
      "                              'locality': '15 km east of Eketahuna',\n",
      "                              'magnitude': 2.969504106,\n",
      "                              'mmi': 3,\n",
      "                              'publicID': '2020p128572',\n",
      "                              'quality': 'best',\n",
      "                              'time': '2020-02-17T13:43:27.543Z'},\n",
      "               'type': 'Feature'},\n",
      "              {'geometry': {'coordinates': [177.0714417, -39.55288696],\n",
      "                            'type': 'Point'},\n",
      "               'properties': {'depth': 22.38539505,\n",
      "                              'locality': '15 km east of Napier',\n",
      "                              'magnitude': 2.846124026,\n",
      "                              'mmi': 3,\n",
      "                              'publicID': '2020p128150',\n",
      "                              'quality': 'best',\n",
      "                              'time': '2020-02-17T09:58:26.182Z'},\n",
      "               'type': 'Feature'},\n",
      "              {'geometry': {'coordinates': [173.8025513, -42.48762512],\n",
      "                            'type': 'Point'},\n",
      "               'properties': {'depth': 14.11895275,\n",
      "                              'locality': '10 km south-east of Kaikoura',\n",
      "                              'magnitude': 2.486068473,\n",
      "                              'mmi': 3,\n",
      "                              'publicID': '2020p127347',\n",
      "                              'quality': 'best',\n",
      "                              'time': '2020-02-17T02:50:45.434Z'},\n",
      "               'type': 'Feature'},\n",
      "              {'geometry': {'coordinates': [176.9015198, -38.35949326],\n",
      "                            'type': 'Point'},\n",
      "               'properties': {'depth': 42.86489487,\n",
      "                              'locality': '20 km north-east of Murupara',\n",
      "                              'magnitude': 3.049217281,\n",
      "                              'mmi': 3,\n",
      "                              'publicID': '2020p125276',\n",
      "                              'quality': 'best',\n",
      "                              'time': '2020-02-16T08:28:18.963Z'},\n",
      "               'type': 'Feature'},\n",
      "              {'geometry': {'coordinates': [177.7703552, -39.13453674],\n",
      "                            'type': 'Point'},\n",
      "               'properties': {'depth': 22.47260857,\n",
      "                              'locality': '30 km east of Wairoa',\n",
      "                              'magnitude': 3.129184208,\n",
      "                              'mmi': 3,\n",
      "                              'publicID': '2020p124797',\n",
      "                              'quality': 'best',\n",
      "                              'time': '2020-02-16T04:11:52.202Z'},\n",
      "               'type': 'Feature'},\n",
      "              {'geometry': {'coordinates': [174.681076, -40.16563416],\n",
      "                            'type': 'Point'},\n",
      "               'properties': {'depth': 52.33171844,\n",
      "                              'locality': '40 km south-west of Whanganui',\n",
      "                              'magnitude': 3.705437473,\n",
      "                              'mmi': 3,\n",
      "                              'publicID': '2020p122422',\n",
      "                              'quality': 'best',\n",
      "                              'time': '2020-02-15T07:06:27.271Z'},\n",
      "               'type': 'Feature'},\n",
      "              {'geometry': {'coordinates': [175.329422, -39.89819717],\n",
      "                            'type': 'Point'},\n",
      "               'properties': {'depth': 16.60133934,\n",
      "                              'locality': '20 km west of Hunterville',\n",
      "                              'magnitude': 2.998001211,\n",
      "                              'mmi': 3,\n",
      "                              'publicID': '2020p118934',\n",
      "                              'quality': 'best',\n",
      "                              'time': '2020-02-14T00:08:14.529Z'},\n",
      "               'type': 'Feature'},\n",
      "              {'geometry': {'coordinates': [174.1669769, -41.69449234],\n",
      "                            'type': 'Point'},\n",
      "               'properties': {'depth': 11.48153019,\n",
      "                              'locality': '5 km east of Seddon',\n",
      "                              'magnitude': 2.074644869,\n",
      "                              'mmi': 3,\n",
      "                              'publicID': '2020p118872',\n",
      "                              'quality': 'best',\n",
      "                              'time': '2020-02-13T23:35:25.790Z'},\n",
      "               'type': 'Feature'},\n",
      "              {'geometry': {'coordinates': [174.1826477, -41.69593811],\n",
      "                            'type': 'Point'},\n",
      "               'properties': {'depth': 10.32502651,\n",
      "                              'locality': '5 km east of Seddon',\n",
      "                              'magnitude': 3.716487155,\n",
      "                              'mmi': 5,\n",
      "                              'publicID': '2020p118387',\n",
      "                              'quality': 'best',\n",
      "                              'time': '2020-02-13T19:16:39.494Z'},\n",
      "               'type': 'Feature'},\n",
      "              {'geometry': {'coordinates': [174.2716064, -41.64831161],\n",
      "                            'type': 'Point'},\n",
      "               'properties': {'depth': 10.64996719,\n",
      "                              'locality': '15 km east of Seddon',\n",
      "                              'magnitude': 4.280005043,\n",
      "                              'mmi': 5,\n",
      "                              'publicID': '2020p118012',\n",
      "                              'quality': 'best',\n",
      "                              'time': '2020-02-13T15:57:17.067Z'},\n",
      "               'type': 'Feature'},\n",
      "              {'geometry': {'coordinates': [174.1329346, -41.7099762],\n",
      "                            'type': 'Point'},\n",
      "               'properties': {'depth': 12,\n",
      "                              'locality': '5 km south-east of Seddon',\n",
      "                              'magnitude': 2.599208428,\n",
      "                              'mmi': 3,\n",
      "                              'publicID': '2020p117997',\n",
      "                              'quality': 'best',\n",
      "                              'time': '2020-02-13T15:49:06.958Z'},\n",
      "               'type': 'Feature'},\n",
      "              {'geometry': {'coordinates': [176.1516113, -38.61285019],\n",
      "                            'type': 'Point'},\n",
      "               'properties': {'depth': 5,\n",
      "                              'locality': '10 km north-east of Taupo',\n",
      "                              'magnitude': 2.634763274,\n",
      "                              'mmi': 3,\n",
      "                              'publicID': '2020p113245',\n",
      "                              'quality': 'best',\n",
      "                              'time': '2020-02-11T21:37:18.868Z'},\n",
      "               'type': 'Feature'}],\n",
      " 'type': 'FeatureCollection'}\n"
     ]
    }
   ],
   "source": [
    "response = requests.get(\"https://api.geonet.org.nz/quake?MMI=3\")\n",
    "#print(response.content)\n",
    "res = json.loads(response.content)\n",
    "pp.pprint(res)"
   ]
  },
  {
   "cell_type": "markdown",
   "metadata": {},
   "source": [
    "We can now search through the JSON object and extract all the seismic activity in the 'Wellington' region for example and print out the magnitude of the quake.\n"
   ]
  },
  {
   "cell_type": "code",
   "execution_count": 82,
   "metadata": {
    "scrolled": true
   },
   "outputs": [
    {
     "name": "stdout",
     "output_type": "stream",
     "text": [
      "30 km south-west of Wellington  - Richter Scale Magnitude:  3.702376532\n",
      "20 km south-west of Wellington  - Richter Scale Magnitude:  2.993107097\n"
     ]
    }
   ],
   "source": [
    "for i in range(len(res['features'])):\n",
    "    if res['features'][i]['properties']['locality'].find('Wellington') > -1:\n",
    "        print(res['features'][i]['properties']['locality'], ' - Richter Scale Magnitude: ', res['features'][i]['properties']['magnitude'])"
   ]
  },
  {
   "cell_type": "code",
   "execution_count": 83,
   "metadata": {},
   "outputs": [
    {
     "name": "stdout",
     "output_type": "stream",
     "text": [
      "15 km east of Seddon  - Richter Scale Magnitude:  2.550276204\n",
      "10 km east of Seddon  - Richter Scale Magnitude:  2.892390702\n",
      "5 km south of Seddon  - Richter Scale Magnitude:  2.288054216\n",
      "5 km east of Seddon  - Richter Scale Magnitude:  2.326790914\n",
      "15 km south-east of Seddon  - Richter Scale Magnitude:  2.772179009\n",
      "15 km south of Seddon  - Richter Scale Magnitude:  2.576944518\n",
      "10 km south-east of Seddon  - Richter Scale Magnitude:  2.854328158\n",
      "25 km north-east of Seddon  - Richter Scale Magnitude:  3.103968988\n",
      "5 km east of Seddon  - Richter Scale Magnitude:  2.074644869\n",
      "5 km east of Seddon  - Richter Scale Magnitude:  3.716487155\n",
      "15 km east of Seddon  - Richter Scale Magnitude:  4.280005043\n",
      "5 km south-east of Seddon  - Richter Scale Magnitude:  2.599208428\n"
     ]
    }
   ],
   "source": [
    "for i in range(len(res['features'])):\n",
    "    if res['features'][i]['properties']['locality'].find('Seddon') > -1:\n",
    "        print(res['features'][i]['properties']['locality'], ' - Richter Scale Magnitude: ', res['features'][i]['properties']['magnitude'])"
   ]
  },
  {
   "cell_type": "markdown",
   "metadata": {},
   "source": [
    "**Exercise:** Modify the above code in order to generate a new query to return all seismic activity that was at or above 2 MMI. Then print all the results for activity in the vicinity of Christchurch, listing both the date of the quake and the depth.a"
   ]
  },
  {
   "cell_type": "code",
   "execution_count": null,
   "metadata": {},
   "outputs": [],
   "source": []
  },
  {
   "cell_type": "markdown",
   "metadata": {},
   "source": [
    "**Exercise:** https://api.geonet.org.nz/quake/stats returns the stats of all seismic activity in NZ over the last year. Generate the query that returns this JSON object and then plot the NZ daily seismic activity in NZ over the last year."
   ]
  },
  {
   "cell_type": "code",
   "execution_count": null,
   "metadata": {
    "scrolled": true
   },
   "outputs": [],
   "source": []
  },
  {
   "cell_type": "markdown",
   "metadata": {},
   "source": [
    "###  World Bank API\n",
    "\n",
    "World Bank APIs provide access to various types of data and databases:\n",
    "\n",
    "    The Indicators API provides programmatic access to time series development data and metadata. Most of the articles in this section are devoted to the Indicators API.\n",
    "\n",
    "    The Data Catalog API provides information about the thousands of development-relevant datasets available through the World Bank Data Catalog. \n",
    "\n",
    "    The Projects API provides access to World Bank operations data, i.e., active, pipeline and closed projects implemented in countries and around the world. \n",
    "\n",
    "    The Finances API provides programmatic access to World Bank financial data (loans, credits, financial statements, etc) delivered on the World Bank Finances platform.\n",
    "\n",
    "    The Climate Data API provides access to historical and modelled climate data from the Climate Knowledge Portal. \n",
    "\n",
    "\n",
    "> Source: https://datahelpdesk.worldbank.org/knowledgebase/topics/125589-developer-information"
   ]
  },
  {
   "cell_type": "raw",
   "metadata": {},
   "source": [
    "The World Bank API enpoint is:\n",
    "\n",
    "http://api.worldbank.org/v2/countries/all/indicators/\n",
    "\n",
    "Here are some of the indicators/variables that can be extracted for World Bank's databases and appended to the above endpoint:\n",
    "\n",
    "'DC.DAC.TOTL.CD': 'net_aid',\n",
    "'EG.ELC.FOSL.ZS': 'percent_fossil_fuel',\n",
    "'EG.ELC.HYRO.ZS': 'percent_hydro',\n",
    "'EG.ELC.NUCL.ZS': 'percent_nuclear',\n",
    "'EG.ELC.RNWX.ZS': 'percent_renewable',\n",
    "'IT.NET.USER.P2': 'internet',\n",
    "'MS.MIL.XPND.ZS': 'mil_spend',\n",
    "'NY.GDP.PCAP.CD': 'GDP_per_capita',\n",
    "'SE.ADT.LITR.ZS': 'literacy',\n",
    "'SG.GEN.PARL.ZS': 'women_in_parliament',\n",
    "'SL.UEM.1524.ZS': 'youth_unemployment',\n",
    "'SM.POP.NETM'   : 'net_migration',\n",
    "'SP.DYN.IMRT.IN': 'infant_mortality',\n",
    "'SP.DYN.LE00.IN': 'life_expectancy',\n",
    "'SP.DYN.TFRT.IN': 'fertility',\n",
    "'SP.POP.GROW'   : 'population_growth',\n",
    "'VC.IHR.PSRC.P5': 'intentional_homicides'\n",
    "\n",
    "One of the key additional arguments that can be passed to the API query is the date range like:\n",
    "\n",
    "?date=2013:2015\n",
    "                     "
   ]
  },
  {
   "cell_type": "code",
   "execution_count": 94,
   "metadata": {},
   "outputs": [
    {
     "name": "stdout",
     "output_type": "stream",
     "text": [
      "http://api.worldbank.org/v2/countries/all/indicators/NY.GDP.PCAP.CD?date=2000:2018&format=json&per_page=5000\n",
      "<Response [200]>\n"
     ]
    }
   ],
   "source": [
    "# World Bank API - GDP example\n",
    "\n",
    "indicator =  'NY.GDP.PCAP.CD?date=2000:2018'\n",
    "url = \"http://api.worldbank.org/v2/countries/all/indicators/%s&format=json&per_page=5000\" % indicator\n",
    "print(url)\n",
    "response = requests.get(url)\n",
    "print(response)\n",
    "result = response.content\n",
    "result = json.loads(result)\n",
    "# result"
   ]
  },
  {
   "cell_type": "markdown",
   "metadata": {},
   "source": [
    "The json object can then be converted into a dataframe :"
   ]
  },
  {
   "cell_type": "code",
   "execution_count": 95,
   "metadata": {
    "scrolled": true
   },
   "outputs": [
    {
     "data": {
      "text/html": [
       "<div>\n",
       "<style scoped>\n",
       "    .dataframe tbody tr th:only-of-type {\n",
       "        vertical-align: middle;\n",
       "    }\n",
       "\n",
       "    .dataframe tbody tr th {\n",
       "        vertical-align: top;\n",
       "    }\n",
       "\n",
       "    .dataframe thead th {\n",
       "        text-align: right;\n",
       "    }\n",
       "</style>\n",
       "<table border=\"1\" class=\"dataframe\">\n",
       "  <thead>\n",
       "    <tr style=\"text-align: right;\">\n",
       "      <th></th>\n",
       "      <th>indicator</th>\n",
       "      <th>country</th>\n",
       "      <th>countryiso3code</th>\n",
       "      <th>date</th>\n",
       "      <th>value</th>\n",
       "      <th>unit</th>\n",
       "      <th>obs_status</th>\n",
       "      <th>decimal</th>\n",
       "    </tr>\n",
       "  </thead>\n",
       "  <tbody>\n",
       "    <tr>\n",
       "      <td>0</td>\n",
       "      <td>{'id': 'NY.GDP.PCAP.CD', 'value': 'GDP per cap...</td>\n",
       "      <td>{'id': '1A', 'value': 'Arab World'}</td>\n",
       "      <td>ARB</td>\n",
       "      <td>2018</td>\n",
       "      <td>6608.806978</td>\n",
       "      <td></td>\n",
       "      <td></td>\n",
       "      <td>1</td>\n",
       "    </tr>\n",
       "    <tr>\n",
       "      <td>1</td>\n",
       "      <td>{'id': 'NY.GDP.PCAP.CD', 'value': 'GDP per cap...</td>\n",
       "      <td>{'id': '1A', 'value': 'Arab World'}</td>\n",
       "      <td>ARB</td>\n",
       "      <td>2017</td>\n",
       "      <td>6279.467425</td>\n",
       "      <td></td>\n",
       "      <td></td>\n",
       "      <td>1</td>\n",
       "    </tr>\n",
       "    <tr>\n",
       "      <td>2</td>\n",
       "      <td>{'id': 'NY.GDP.PCAP.CD', 'value': 'GDP per cap...</td>\n",
       "      <td>{'id': '1A', 'value': 'Arab World'}</td>\n",
       "      <td>ARB</td>\n",
       "      <td>2016</td>\n",
       "      <td>6213.785157</td>\n",
       "      <td></td>\n",
       "      <td></td>\n",
       "      <td>1</td>\n",
       "    </tr>\n",
       "    <tr>\n",
       "      <td>3</td>\n",
       "      <td>{'id': 'NY.GDP.PCAP.CD', 'value': 'GDP per cap...</td>\n",
       "      <td>{'id': '1A', 'value': 'Arab World'}</td>\n",
       "      <td>ARB</td>\n",
       "      <td>2015</td>\n",
       "      <td>6458.870159</td>\n",
       "      <td></td>\n",
       "      <td></td>\n",
       "      <td>1</td>\n",
       "    </tr>\n",
       "    <tr>\n",
       "      <td>4</td>\n",
       "      <td>{'id': 'NY.GDP.PCAP.CD', 'value': 'GDP per cap...</td>\n",
       "      <td>{'id': '1A', 'value': 'Arab World'}</td>\n",
       "      <td>ARB</td>\n",
       "      <td>2014</td>\n",
       "      <td>7498.938317</td>\n",
       "      <td></td>\n",
       "      <td></td>\n",
       "      <td>1</td>\n",
       "    </tr>\n",
       "    <tr>\n",
       "      <td>...</td>\n",
       "      <td>...</td>\n",
       "      <td>...</td>\n",
       "      <td>...</td>\n",
       "      <td>...</td>\n",
       "      <td>...</td>\n",
       "      <td>...</td>\n",
       "      <td>...</td>\n",
       "      <td>...</td>\n",
       "    </tr>\n",
       "    <tr>\n",
       "      <td>4995</td>\n",
       "      <td>{'id': 'NY.GDP.PCAP.CD', 'value': 'GDP per cap...</td>\n",
       "      <td>{'id': 'ZM', 'value': 'Zambia'}</td>\n",
       "      <td>ZMB</td>\n",
       "      <td>2001</td>\n",
       "      <td>382.941178</td>\n",
       "      <td></td>\n",
       "      <td></td>\n",
       "      <td>1</td>\n",
       "    </tr>\n",
       "    <tr>\n",
       "      <td>4996</td>\n",
       "      <td>{'id': 'NY.GDP.PCAP.CD', 'value': 'GDP per cap...</td>\n",
       "      <td>{'id': 'ZM', 'value': 'Zambia'}</td>\n",
       "      <td>ZMB</td>\n",
       "      <td>2000</td>\n",
       "      <td>345.689554</td>\n",
       "      <td></td>\n",
       "      <td></td>\n",
       "      <td>1</td>\n",
       "    </tr>\n",
       "    <tr>\n",
       "      <td>4997</td>\n",
       "      <td>{'id': 'NY.GDP.PCAP.CD', 'value': 'GDP per cap...</td>\n",
       "      <td>{'id': 'ZW', 'value': 'Zimbabwe'}</td>\n",
       "      <td>ZWE</td>\n",
       "      <td>2018</td>\n",
       "      <td>2146.996385</td>\n",
       "      <td></td>\n",
       "      <td></td>\n",
       "      <td>1</td>\n",
       "    </tr>\n",
       "    <tr>\n",
       "      <td>4998</td>\n",
       "      <td>{'id': 'NY.GDP.PCAP.CD', 'value': 'GDP per cap...</td>\n",
       "      <td>{'id': 'ZW', 'value': 'Zimbabwe'}</td>\n",
       "      <td>ZWE</td>\n",
       "      <td>2017</td>\n",
       "      <td>1602.403507</td>\n",
       "      <td></td>\n",
       "      <td></td>\n",
       "      <td>1</td>\n",
       "    </tr>\n",
       "    <tr>\n",
       "      <td>4999</td>\n",
       "      <td>{'id': 'NY.GDP.PCAP.CD', 'value': 'GDP per cap...</td>\n",
       "      <td>{'id': 'ZW', 'value': 'Zimbabwe'}</td>\n",
       "      <td>ZWE</td>\n",
       "      <td>2016</td>\n",
       "      <td>1464.583529</td>\n",
       "      <td></td>\n",
       "      <td></td>\n",
       "      <td>1</td>\n",
       "    </tr>\n",
       "  </tbody>\n",
       "</table>\n",
       "<p>5000 rows × 8 columns</p>\n",
       "</div>"
      ],
      "text/plain": [
       "                                              indicator  \\\n",
       "0     {'id': 'NY.GDP.PCAP.CD', 'value': 'GDP per cap...   \n",
       "1     {'id': 'NY.GDP.PCAP.CD', 'value': 'GDP per cap...   \n",
       "2     {'id': 'NY.GDP.PCAP.CD', 'value': 'GDP per cap...   \n",
       "3     {'id': 'NY.GDP.PCAP.CD', 'value': 'GDP per cap...   \n",
       "4     {'id': 'NY.GDP.PCAP.CD', 'value': 'GDP per cap...   \n",
       "...                                                 ...   \n",
       "4995  {'id': 'NY.GDP.PCAP.CD', 'value': 'GDP per cap...   \n",
       "4996  {'id': 'NY.GDP.PCAP.CD', 'value': 'GDP per cap...   \n",
       "4997  {'id': 'NY.GDP.PCAP.CD', 'value': 'GDP per cap...   \n",
       "4998  {'id': 'NY.GDP.PCAP.CD', 'value': 'GDP per cap...   \n",
       "4999  {'id': 'NY.GDP.PCAP.CD', 'value': 'GDP per cap...   \n",
       "\n",
       "                                  country countryiso3code  date        value  \\\n",
       "0     {'id': '1A', 'value': 'Arab World'}             ARB  2018  6608.806978   \n",
       "1     {'id': '1A', 'value': 'Arab World'}             ARB  2017  6279.467425   \n",
       "2     {'id': '1A', 'value': 'Arab World'}             ARB  2016  6213.785157   \n",
       "3     {'id': '1A', 'value': 'Arab World'}             ARB  2015  6458.870159   \n",
       "4     {'id': '1A', 'value': 'Arab World'}             ARB  2014  7498.938317   \n",
       "...                                   ...             ...   ...          ...   \n",
       "4995      {'id': 'ZM', 'value': 'Zambia'}             ZMB  2001   382.941178   \n",
       "4996      {'id': 'ZM', 'value': 'Zambia'}             ZMB  2000   345.689554   \n",
       "4997    {'id': 'ZW', 'value': 'Zimbabwe'}             ZWE  2018  2146.996385   \n",
       "4998    {'id': 'ZW', 'value': 'Zimbabwe'}             ZWE  2017  1602.403507   \n",
       "4999    {'id': 'ZW', 'value': 'Zimbabwe'}             ZWE  2016  1464.583529   \n",
       "\n",
       "     unit obs_status  decimal  \n",
       "0                           1  \n",
       "1                           1  \n",
       "2                           1  \n",
       "3                           1  \n",
       "4                           1  \n",
       "...   ...        ...      ...  \n",
       "4995                        1  \n",
       "4996                        1  \n",
       "4997                        1  \n",
       "4998                        1  \n",
       "4999                        1  \n",
       "\n",
       "[5000 rows x 8 columns]"
      ]
     },
     "execution_count": 95,
     "metadata": {},
     "output_type": "execute_result"
    }
   ],
   "source": [
    "worldbank_df = pd.DataFrame.from_dict(result[1])\n",
    "worldbank_df"
   ]
  },
  {
   "cell_type": "markdown",
   "metadata": {},
   "source": [
    "We need to extract the country from the dict object in the country column:"
   ]
  },
  {
   "cell_type": "code",
   "execution_count": 96,
   "metadata": {
    "scrolled": true
   },
   "outputs": [
    {
     "data": {
      "text/html": [
       "<div>\n",
       "<style scoped>\n",
       "    .dataframe tbody tr th:only-of-type {\n",
       "        vertical-align: middle;\n",
       "    }\n",
       "\n",
       "    .dataframe tbody tr th {\n",
       "        vertical-align: top;\n",
       "    }\n",
       "\n",
       "    .dataframe thead th {\n",
       "        text-align: right;\n",
       "    }\n",
       "</style>\n",
       "<table border=\"1\" class=\"dataframe\">\n",
       "  <thead>\n",
       "    <tr style=\"text-align: right;\">\n",
       "      <th></th>\n",
       "      <th>indicator</th>\n",
       "      <th>country</th>\n",
       "      <th>countryiso3code</th>\n",
       "      <th>date</th>\n",
       "      <th>value</th>\n",
       "      <th>unit</th>\n",
       "      <th>obs_status</th>\n",
       "      <th>decimal</th>\n",
       "    </tr>\n",
       "  </thead>\n",
       "  <tbody>\n",
       "    <tr>\n",
       "      <td>0</td>\n",
       "      <td>{'id': 'NY.GDP.PCAP.CD', 'value': 'GDP per cap...</td>\n",
       "      <td>Arab World</td>\n",
       "      <td>ARB</td>\n",
       "      <td>2018</td>\n",
       "      <td>6608.806978</td>\n",
       "      <td></td>\n",
       "      <td></td>\n",
       "      <td>1</td>\n",
       "    </tr>\n",
       "    <tr>\n",
       "      <td>1</td>\n",
       "      <td>{'id': 'NY.GDP.PCAP.CD', 'value': 'GDP per cap...</td>\n",
       "      <td>Arab World</td>\n",
       "      <td>ARB</td>\n",
       "      <td>2017</td>\n",
       "      <td>6279.467425</td>\n",
       "      <td></td>\n",
       "      <td></td>\n",
       "      <td>1</td>\n",
       "    </tr>\n",
       "    <tr>\n",
       "      <td>2</td>\n",
       "      <td>{'id': 'NY.GDP.PCAP.CD', 'value': 'GDP per cap...</td>\n",
       "      <td>Arab World</td>\n",
       "      <td>ARB</td>\n",
       "      <td>2016</td>\n",
       "      <td>6213.785157</td>\n",
       "      <td></td>\n",
       "      <td></td>\n",
       "      <td>1</td>\n",
       "    </tr>\n",
       "    <tr>\n",
       "      <td>3</td>\n",
       "      <td>{'id': 'NY.GDP.PCAP.CD', 'value': 'GDP per cap...</td>\n",
       "      <td>Arab World</td>\n",
       "      <td>ARB</td>\n",
       "      <td>2015</td>\n",
       "      <td>6458.870159</td>\n",
       "      <td></td>\n",
       "      <td></td>\n",
       "      <td>1</td>\n",
       "    </tr>\n",
       "    <tr>\n",
       "      <td>4</td>\n",
       "      <td>{'id': 'NY.GDP.PCAP.CD', 'value': 'GDP per cap...</td>\n",
       "      <td>Arab World</td>\n",
       "      <td>ARB</td>\n",
       "      <td>2014</td>\n",
       "      <td>7498.938317</td>\n",
       "      <td></td>\n",
       "      <td></td>\n",
       "      <td>1</td>\n",
       "    </tr>\n",
       "    <tr>\n",
       "      <td>...</td>\n",
       "      <td>...</td>\n",
       "      <td>...</td>\n",
       "      <td>...</td>\n",
       "      <td>...</td>\n",
       "      <td>...</td>\n",
       "      <td>...</td>\n",
       "      <td>...</td>\n",
       "      <td>...</td>\n",
       "    </tr>\n",
       "    <tr>\n",
       "      <td>4995</td>\n",
       "      <td>{'id': 'NY.GDP.PCAP.CD', 'value': 'GDP per cap...</td>\n",
       "      <td>Zambia</td>\n",
       "      <td>ZMB</td>\n",
       "      <td>2001</td>\n",
       "      <td>382.941178</td>\n",
       "      <td></td>\n",
       "      <td></td>\n",
       "      <td>1</td>\n",
       "    </tr>\n",
       "    <tr>\n",
       "      <td>4996</td>\n",
       "      <td>{'id': 'NY.GDP.PCAP.CD', 'value': 'GDP per cap...</td>\n",
       "      <td>Zambia</td>\n",
       "      <td>ZMB</td>\n",
       "      <td>2000</td>\n",
       "      <td>345.689554</td>\n",
       "      <td></td>\n",
       "      <td></td>\n",
       "      <td>1</td>\n",
       "    </tr>\n",
       "    <tr>\n",
       "      <td>4997</td>\n",
       "      <td>{'id': 'NY.GDP.PCAP.CD', 'value': 'GDP per cap...</td>\n",
       "      <td>Zimbabwe</td>\n",
       "      <td>ZWE</td>\n",
       "      <td>2018</td>\n",
       "      <td>2146.996385</td>\n",
       "      <td></td>\n",
       "      <td></td>\n",
       "      <td>1</td>\n",
       "    </tr>\n",
       "    <tr>\n",
       "      <td>4998</td>\n",
       "      <td>{'id': 'NY.GDP.PCAP.CD', 'value': 'GDP per cap...</td>\n",
       "      <td>Zimbabwe</td>\n",
       "      <td>ZWE</td>\n",
       "      <td>2017</td>\n",
       "      <td>1602.403507</td>\n",
       "      <td></td>\n",
       "      <td></td>\n",
       "      <td>1</td>\n",
       "    </tr>\n",
       "    <tr>\n",
       "      <td>4999</td>\n",
       "      <td>{'id': 'NY.GDP.PCAP.CD', 'value': 'GDP per cap...</td>\n",
       "      <td>Zimbabwe</td>\n",
       "      <td>ZWE</td>\n",
       "      <td>2016</td>\n",
       "      <td>1464.583529</td>\n",
       "      <td></td>\n",
       "      <td></td>\n",
       "      <td>1</td>\n",
       "    </tr>\n",
       "  </tbody>\n",
       "</table>\n",
       "<p>5000 rows × 8 columns</p>\n",
       "</div>"
      ],
      "text/plain": [
       "                                              indicator     country  \\\n",
       "0     {'id': 'NY.GDP.PCAP.CD', 'value': 'GDP per cap...  Arab World   \n",
       "1     {'id': 'NY.GDP.PCAP.CD', 'value': 'GDP per cap...  Arab World   \n",
       "2     {'id': 'NY.GDP.PCAP.CD', 'value': 'GDP per cap...  Arab World   \n",
       "3     {'id': 'NY.GDP.PCAP.CD', 'value': 'GDP per cap...  Arab World   \n",
       "4     {'id': 'NY.GDP.PCAP.CD', 'value': 'GDP per cap...  Arab World   \n",
       "...                                                 ...         ...   \n",
       "4995  {'id': 'NY.GDP.PCAP.CD', 'value': 'GDP per cap...      Zambia   \n",
       "4996  {'id': 'NY.GDP.PCAP.CD', 'value': 'GDP per cap...      Zambia   \n",
       "4997  {'id': 'NY.GDP.PCAP.CD', 'value': 'GDP per cap...    Zimbabwe   \n",
       "4998  {'id': 'NY.GDP.PCAP.CD', 'value': 'GDP per cap...    Zimbabwe   \n",
       "4999  {'id': 'NY.GDP.PCAP.CD', 'value': 'GDP per cap...    Zimbabwe   \n",
       "\n",
       "     countryiso3code  date        value unit obs_status  decimal  \n",
       "0                ARB  2018  6608.806978                        1  \n",
       "1                ARB  2017  6279.467425                        1  \n",
       "2                ARB  2016  6213.785157                        1  \n",
       "3                ARB  2015  6458.870159                        1  \n",
       "4                ARB  2014  7498.938317                        1  \n",
       "...              ...   ...          ...  ...        ...      ...  \n",
       "4995             ZMB  2001   382.941178                        1  \n",
       "4996             ZMB  2000   345.689554                        1  \n",
       "4997             ZWE  2018  2146.996385                        1  \n",
       "4998             ZWE  2017  1602.403507                        1  \n",
       "4999             ZWE  2016  1464.583529                        1  \n",
       "\n",
       "[5000 rows x 8 columns]"
      ]
     },
     "execution_count": 96,
     "metadata": {},
     "output_type": "execute_result"
    }
   ],
   "source": [
    "worldbank_df['country'] = worldbank_df[['country']].applymap(lambda x : x['value'])\n",
    "worldbank_df"
   ]
  },
  {
   "cell_type": "code",
   "execution_count": 87,
   "metadata": {
    "scrolled": true
   },
   "outputs": [
    {
     "data": {
      "text/plain": [
       "array(['Arab World', 'Caribbean small states',\n",
       "       'Central Europe and the Baltics', 'Early-demographic dividend',\n",
       "       'East Asia & Pacific',\n",
       "       'East Asia & Pacific (excluding high income)',\n",
       "       'East Asia & Pacific (IDA & IBRD countries)', 'Euro area',\n",
       "       'Europe & Central Asia',\n",
       "       'Europe & Central Asia (excluding high income)',\n",
       "       'Europe & Central Asia (IDA & IBRD countries)', 'European Union',\n",
       "       'Fragile and conflict affected situations',\n",
       "       'Heavily indebted poor countries (HIPC)', 'High income',\n",
       "       'IBRD only', 'IDA & IBRD total', 'IDA blend', 'IDA only',\n",
       "       'IDA total', 'Late-demographic dividend',\n",
       "       'Latin America & Caribbean',\n",
       "       'Latin America & Caribbean (excluding high income)',\n",
       "       'Latin America & the Caribbean (IDA & IBRD countries)',\n",
       "       'Least developed countries: UN classification',\n",
       "       'Low & middle income', 'Low income', 'Lower middle income',\n",
       "       'Middle East & North Africa',\n",
       "       'Middle East & North Africa (excluding high income)',\n",
       "       'Middle East & North Africa (IDA & IBRD countries)',\n",
       "       'Middle income', 'North America', 'Not classified', 'OECD members',\n",
       "       'Other small states', 'Pacific island small states',\n",
       "       'Post-demographic dividend', 'Pre-demographic dividend',\n",
       "       'Small states', 'South Asia', 'South Asia (IDA & IBRD)',\n",
       "       'Sub-Saharan Africa', 'Sub-Saharan Africa (excluding high income)',\n",
       "       'Sub-Saharan Africa (IDA & IBRD countries)', 'Upper middle income',\n",
       "       'World', 'Afghanistan', 'Albania', 'Algeria', 'American Samoa',\n",
       "       'Andorra', 'Angola', 'Antigua and Barbuda', 'Argentina', 'Armenia',\n",
       "       'Aruba', 'Australia', 'Austria', 'Azerbaijan', 'Bahamas, The',\n",
       "       'Bahrain', 'Bangladesh', 'Barbados', 'Belarus', 'Belgium',\n",
       "       'Belize', 'Benin', 'Bermuda', 'Bhutan', 'Bolivia',\n",
       "       'Bosnia and Herzegovina', 'Botswana', 'Brazil',\n",
       "       'British Virgin Islands', 'Brunei Darussalam', 'Bulgaria',\n",
       "       'Burkina Faso', 'Burundi', 'Cabo Verde', 'Cambodia', 'Cameroon',\n",
       "       'Canada', 'Cayman Islands', 'Central African Republic', 'Chad',\n",
       "       'Channel Islands', 'Chile', 'China', 'Colombia', 'Comoros',\n",
       "       'Congo, Dem. Rep.', 'Congo, Rep.', 'Costa Rica', \"Cote d'Ivoire\",\n",
       "       'Croatia', 'Cuba', 'Curacao', 'Cyprus', 'Czech Republic',\n",
       "       'Denmark', 'Djibouti', 'Dominica', 'Dominican Republic', 'Ecuador',\n",
       "       'Egypt, Arab Rep.', 'El Salvador', 'Equatorial Guinea', 'Eritrea',\n",
       "       'Estonia', 'Eswatini', 'Ethiopia', 'Faroe Islands', 'Fiji',\n",
       "       'Finland', 'France', 'French Polynesia', 'Gabon', 'Gambia, The',\n",
       "       'Georgia', 'Germany', 'Ghana', 'Gibraltar', 'Greece', 'Greenland',\n",
       "       'Grenada', 'Guam', 'Guatemala', 'Guinea', 'Guinea-Bissau',\n",
       "       'Guyana', 'Haiti', 'Honduras', 'Hong Kong SAR, China', 'Hungary',\n",
       "       'Iceland', 'India', 'Indonesia', 'Iran, Islamic Rep.', 'Iraq',\n",
       "       'Ireland', 'Isle of Man', 'Israel', 'Italy', 'Jamaica', 'Japan',\n",
       "       'Jordan', 'Kazakhstan', 'Kenya', 'Kiribati',\n",
       "       'Korea, Dem. People’s Rep.', 'Korea, Rep.', 'Kosovo', 'Kuwait',\n",
       "       'Kyrgyz Republic', 'Lao PDR', 'Latvia', 'Lebanon', 'Lesotho',\n",
       "       'Liberia', 'Libya', 'Liechtenstein', 'Lithuania', 'Luxembourg',\n",
       "       'Macao SAR, China', 'Madagascar', 'Malawi', 'Malaysia', 'Maldives',\n",
       "       'Mali', 'Malta', 'Marshall Islands', 'Mauritania', 'Mauritius',\n",
       "       'Mexico', 'Micronesia, Fed. Sts.', 'Moldova', 'Monaco', 'Mongolia',\n",
       "       'Montenegro', 'Morocco', 'Mozambique', 'Myanmar', 'Namibia',\n",
       "       'Nauru', 'Nepal', 'Netherlands', 'New Caledonia', 'New Zealand',\n",
       "       'Nicaragua', 'Niger', 'Nigeria', 'North Macedonia',\n",
       "       'Northern Mariana Islands', 'Norway', 'Oman', 'Pakistan', 'Palau',\n",
       "       'Panama', 'Papua New Guinea', 'Paraguay', 'Peru', 'Philippines',\n",
       "       'Poland', 'Portugal', 'Puerto Rico', 'Qatar', 'Romania',\n",
       "       'Russian Federation', 'Rwanda', 'Samoa', 'San Marino',\n",
       "       'Sao Tome and Principe', 'Saudi Arabia', 'Senegal', 'Serbia',\n",
       "       'Seychelles', 'Sierra Leone', 'Singapore',\n",
       "       'Sint Maarten (Dutch part)', 'Slovak Republic', 'Slovenia',\n",
       "       'Solomon Islands', 'Somalia', 'South Africa', 'South Sudan',\n",
       "       'Spain', 'Sri Lanka', 'St. Kitts and Nevis', 'St. Lucia',\n",
       "       'St. Martin (French part)', 'St. Vincent and the Grenadines',\n",
       "       'Sudan', 'Suriname', 'Sweden', 'Switzerland',\n",
       "       'Syrian Arab Republic', 'Tajikistan', 'Tanzania', 'Thailand',\n",
       "       'Timor-Leste', 'Togo', 'Tonga', 'Trinidad and Tobago', 'Tunisia',\n",
       "       'Turkey', 'Turkmenistan', 'Turks and Caicos Islands', 'Tuvalu',\n",
       "       'Uganda', 'Ukraine', 'United Arab Emirates', 'United Kingdom',\n",
       "       'United States', 'Uruguay', 'Uzbekistan', 'Vanuatu',\n",
       "       'Venezuela, RB', 'Vietnam', 'Virgin Islands (U.S.)',\n",
       "       'West Bank and Gaza', 'Yemen, Rep.', 'Zambia', 'Zimbabwe'],\n",
       "      dtype=object)"
      ]
     },
     "execution_count": 87,
     "metadata": {},
     "output_type": "execute_result"
    }
   ],
   "source": [
    "worldbank_df.country.unique()"
   ]
  },
  {
   "cell_type": "markdown",
   "metadata": {},
   "source": [
    "We can next select and rename some of the columns into more meaningful names:"
   ]
  },
  {
   "cell_type": "code",
   "execution_count": 88,
   "metadata": {
    "scrolled": true
   },
   "outputs": [
    {
     "data": {
      "text/html": [
       "<div>\n",
       "<style scoped>\n",
       "    .dataframe tbody tr th:only-of-type {\n",
       "        vertical-align: middle;\n",
       "    }\n",
       "\n",
       "    .dataframe tbody tr th {\n",
       "        vertical-align: top;\n",
       "    }\n",
       "\n",
       "    .dataframe thead th {\n",
       "        text-align: right;\n",
       "    }\n",
       "</style>\n",
       "<table border=\"1\" class=\"dataframe\">\n",
       "  <thead>\n",
       "    <tr style=\"text-align: right;\">\n",
       "      <th></th>\n",
       "      <th>country</th>\n",
       "      <th>countryiso3code</th>\n",
       "      <th>date</th>\n",
       "      <th>GDP_per_capita</th>\n",
       "    </tr>\n",
       "  </thead>\n",
       "  <tbody>\n",
       "    <tr>\n",
       "      <td>0</td>\n",
       "      <td>Arab World</td>\n",
       "      <td>ARB</td>\n",
       "      <td>2018</td>\n",
       "      <td>6608.806978</td>\n",
       "    </tr>\n",
       "    <tr>\n",
       "      <td>1</td>\n",
       "      <td>Arab World</td>\n",
       "      <td>ARB</td>\n",
       "      <td>2017</td>\n",
       "      <td>6279.467425</td>\n",
       "    </tr>\n",
       "    <tr>\n",
       "      <td>2</td>\n",
       "      <td>Arab World</td>\n",
       "      <td>ARB</td>\n",
       "      <td>2016</td>\n",
       "      <td>6213.785157</td>\n",
       "    </tr>\n",
       "    <tr>\n",
       "      <td>3</td>\n",
       "      <td>Arab World</td>\n",
       "      <td>ARB</td>\n",
       "      <td>2015</td>\n",
       "      <td>6458.870159</td>\n",
       "    </tr>\n",
       "    <tr>\n",
       "      <td>4</td>\n",
       "      <td>Arab World</td>\n",
       "      <td>ARB</td>\n",
       "      <td>2014</td>\n",
       "      <td>7498.938317</td>\n",
       "    </tr>\n",
       "    <tr>\n",
       "      <td>...</td>\n",
       "      <td>...</td>\n",
       "      <td>...</td>\n",
       "      <td>...</td>\n",
       "      <td>...</td>\n",
       "    </tr>\n",
       "    <tr>\n",
       "      <td>4995</td>\n",
       "      <td>Zambia</td>\n",
       "      <td>ZMB</td>\n",
       "      <td>2001</td>\n",
       "      <td>382.941178</td>\n",
       "    </tr>\n",
       "    <tr>\n",
       "      <td>4996</td>\n",
       "      <td>Zambia</td>\n",
       "      <td>ZMB</td>\n",
       "      <td>2000</td>\n",
       "      <td>345.689554</td>\n",
       "    </tr>\n",
       "    <tr>\n",
       "      <td>4997</td>\n",
       "      <td>Zimbabwe</td>\n",
       "      <td>ZWE</td>\n",
       "      <td>2018</td>\n",
       "      <td>2146.996385</td>\n",
       "    </tr>\n",
       "    <tr>\n",
       "      <td>4998</td>\n",
       "      <td>Zimbabwe</td>\n",
       "      <td>ZWE</td>\n",
       "      <td>2017</td>\n",
       "      <td>1602.403507</td>\n",
       "    </tr>\n",
       "    <tr>\n",
       "      <td>4999</td>\n",
       "      <td>Zimbabwe</td>\n",
       "      <td>ZWE</td>\n",
       "      <td>2016</td>\n",
       "      <td>1464.583529</td>\n",
       "    </tr>\n",
       "  </tbody>\n",
       "</table>\n",
       "<p>5000 rows × 4 columns</p>\n",
       "</div>"
      ],
      "text/plain": [
       "         country countryiso3code  date  GDP_per_capita\n",
       "0     Arab World             ARB  2018     6608.806978\n",
       "1     Arab World             ARB  2017     6279.467425\n",
       "2     Arab World             ARB  2016     6213.785157\n",
       "3     Arab World             ARB  2015     6458.870159\n",
       "4     Arab World             ARB  2014     7498.938317\n",
       "...          ...             ...   ...             ...\n",
       "4995      Zambia             ZMB  2001      382.941178\n",
       "4996      Zambia             ZMB  2000      345.689554\n",
       "4997    Zimbabwe             ZWE  2018     2146.996385\n",
       "4998    Zimbabwe             ZWE  2017     1602.403507\n",
       "4999    Zimbabwe             ZWE  2016     1464.583529\n",
       "\n",
       "[5000 rows x 4 columns]"
      ]
     },
     "execution_count": 88,
     "metadata": {},
     "output_type": "execute_result"
    }
   ],
   "source": [
    "worldbank_df = worldbank_df[['country', 'countryiso3code', 'date', 'value']]\n",
    "worldbank_df.columns = ['country', 'countryiso3code', 'date', 'GDP_per_capita']\n",
    "worldbank_df"
   ]
  },
  {
   "cell_type": "markdown",
   "metadata": {},
   "source": [
    "**Exercise:** Plot the GDP per capita for New Zealand from the above dataframe."
   ]
  },
  {
   "cell_type": "code",
   "execution_count": null,
   "metadata": {},
   "outputs": [],
   "source": []
  },
  {
   "cell_type": "markdown",
   "metadata": {},
   "source": [
    "**Exercise:** Perform the same steps for Singapore and plot the data against that of New Zealand."
   ]
  },
  {
   "cell_type": "code",
   "execution_count": null,
   "metadata": {},
   "outputs": [],
   "source": []
  },
  {
   "cell_type": "markdown",
   "metadata": {},
   "source": [
    "**Exercise:** Generate a new API query that extract the net migration numbers for NZ, Singapore and Australia since the year 2000 then plot them together on the same graph.\n",
    "\n",
    "https://api.worldbank.org/v2/sources/40/indicators"
   ]
  },
  {
   "cell_type": "code",
   "execution_count": null,
   "metadata": {},
   "outputs": [],
   "source": []
  },
  {
   "cell_type": "markdown",
   "metadata": {},
   "source": [
    "###  IMF API\n",
    "\n",
    "The INternational Monetary Fund provides an API for a comprehensive set of financial and economic indicators whose details can be explored here https://datahelpdesk.worldbank.org/knowledgebase/topics/125589-developer-information and http://datahelp.imf.org/knowledgebase/articles/838041-sdmx-2-0-restful-web-service\n",
    "\n",
    "\n",
    "There are some examples of how to extract data from this API in the following links:\n",
    "\n",
    "https://briandew.wordpress.com/2016/05/01/machine-reading-imf-data-data-retrieval-with-python/\n",
    "\n",
    "https://briandew.wordpress.com/2016/08/10/using-the-imf-data-api-data-retrieval-with-python/ \n",
    "\n",
    "https://www.bd-econ.com/imfapi1.html\n",
    "\n",
    "\n",
    "The endpoint for the IMF API service is http://dataservices.imf.org/REST/SDMX_JSON.svc/\n",
    "\n",
    "A number of different databases can then be appended to the endpoint; however, the documentation is somewhat obscure in terms of usage instructions. \n"
   ]
  },
  {
   "cell_type": "code",
   "execution_count": 101,
   "metadata": {},
   "outputs": [],
   "source": [
    "# this is a request for quarterly (frequency: Q) import price index data (indicator: PMP_IX) for NZ. (reference area: NZ), \n",
    "# from the International Financial Statistics (IFS) series.\n",
    "\n",
    "url = 'http://dataservices.imf.org/REST/SDMX_JSON.svc/' #endpoint\n",
    "database = 'CompactData/IFS/Q.NZ.PMP_IX' # database and indicator\n"
   ]
  },
  {
   "cell_type": "code",
   "execution_count": 102,
   "metadata": {},
   "outputs": [
    {
     "name": "stdout",
     "output_type": "stream",
     "text": [
      "<Response [200]>\n"
     ]
    }
   ],
   "source": [
    "response = requests.get(url + database)\n",
    "print(response)\n",
    "result = response.content\n",
    "result = json.loads(result)\n",
    "# result\n"
   ]
  },
  {
   "cell_type": "code",
   "execution_count": 103,
   "metadata": {},
   "outputs": [
    {
     "data": {
      "text/plain": [
       "dict_keys(['CompactData'])"
      ]
     },
     "execution_count": 103,
     "metadata": {},
     "output_type": "execute_result"
    }
   ],
   "source": [
    "result.keys()"
   ]
  },
  {
   "cell_type": "code",
   "execution_count": 104,
   "metadata": {},
   "outputs": [
    {
     "data": {
      "text/plain": [
       "dict_keys(['@xmlns:xsi', '@xmlns:xsd', '@xsi:schemaLocation', '@xmlns', 'Header', 'DataSet'])"
      ]
     },
     "execution_count": 104,
     "metadata": {},
     "output_type": "execute_result"
    }
   ],
   "source": [
    "result['CompactData'].keys()"
   ]
  },
  {
   "cell_type": "code",
   "execution_count": 105,
   "metadata": {},
   "outputs": [
    {
     "data": {
      "text/plain": [
       "dict_keys(['@xmlns', 'Series'])"
      ]
     },
     "execution_count": 105,
     "metadata": {},
     "output_type": "execute_result"
    }
   ],
   "source": [
    "result['CompactData']['DataSet'].keys()"
   ]
  },
  {
   "cell_type": "code",
   "execution_count": 106,
   "metadata": {},
   "outputs": [
    {
     "data": {
      "text/plain": [
       "dict_keys(['@FREQ', '@REF_AREA', '@INDICATOR', '@UNIT_MULT', '@BASE_YEAR', '@TIME_FORMAT', 'Obs'])"
      ]
     },
     "execution_count": 106,
     "metadata": {},
     "output_type": "execute_result"
    }
   ],
   "source": [
    "result['CompactData']['DataSet']['Series'].keys()"
   ]
  },
  {
   "cell_type": "code",
   "execution_count": 108,
   "metadata": {},
   "outputs": [],
   "source": [
    "# result['CompactData']['DataSet']['Series']['Obs']"
   ]
  },
  {
   "cell_type": "code",
   "execution_count": 109,
   "metadata": {
    "scrolled": true
   },
   "outputs": [
    {
     "data": {
      "text/html": [
       "<div>\n",
       "<style scoped>\n",
       "    .dataframe tbody tr th:only-of-type {\n",
       "        vertical-align: middle;\n",
       "    }\n",
       "\n",
       "    .dataframe tbody tr th {\n",
       "        vertical-align: top;\n",
       "    }\n",
       "\n",
       "    .dataframe thead th {\n",
       "        text-align: right;\n",
       "    }\n",
       "</style>\n",
       "<table border=\"1\" class=\"dataframe\">\n",
       "  <thead>\n",
       "    <tr style=\"text-align: right;\">\n",
       "      <th></th>\n",
       "      <th>@TIME_PERIOD</th>\n",
       "      <th>@OBS_VALUE</th>\n",
       "    </tr>\n",
       "  </thead>\n",
       "  <tbody>\n",
       "    <tr>\n",
       "      <td>0</td>\n",
       "      <td>1949-Q1</td>\n",
       "      <td>7.09588656406853</td>\n",
       "    </tr>\n",
       "    <tr>\n",
       "      <td>1</td>\n",
       "      <td>1949-Q2</td>\n",
       "      <td>7.22608631753767</td>\n",
       "    </tr>\n",
       "    <tr>\n",
       "      <td>2</td>\n",
       "      <td>1949-Q3</td>\n",
       "      <td>7.35628607100682</td>\n",
       "    </tr>\n",
       "    <tr>\n",
       "      <td>3</td>\n",
       "      <td>1949-Q4</td>\n",
       "      <td>7.61668557794511</td>\n",
       "    </tr>\n",
       "    <tr>\n",
       "      <td>4</td>\n",
       "      <td>1950-Q1</td>\n",
       "      <td>7.81198520814884</td>\n",
       "    </tr>\n",
       "    <tr>\n",
       "      <td>...</td>\n",
       "      <td>...</td>\n",
       "      <td>...</td>\n",
       "    </tr>\n",
       "    <tr>\n",
       "      <td>277</td>\n",
       "      <td>2018-Q2</td>\n",
       "      <td>90.6267332224071</td>\n",
       "    </tr>\n",
       "    <tr>\n",
       "      <td>278</td>\n",
       "      <td>2018-Q3</td>\n",
       "      <td>93.9545202440377</td>\n",
       "    </tr>\n",
       "    <tr>\n",
       "      <td>279</td>\n",
       "      <td>2018-Q4</td>\n",
       "      <td>95.28563505269</td>\n",
       "    </tr>\n",
       "    <tr>\n",
       "      <td>280</td>\n",
       "      <td>2019-Q1</td>\n",
       "      <td>91.9578480310593</td>\n",
       "    </tr>\n",
       "    <tr>\n",
       "      <td>281</td>\n",
       "      <td>2019-Q2</td>\n",
       "      <td>93.5108153078203</td>\n",
       "    </tr>\n",
       "  </tbody>\n",
       "</table>\n",
       "<p>282 rows × 2 columns</p>\n",
       "</div>"
      ],
      "text/plain": [
       "    @TIME_PERIOD        @OBS_VALUE\n",
       "0        1949-Q1  7.09588656406853\n",
       "1        1949-Q2  7.22608631753767\n",
       "2        1949-Q3  7.35628607100682\n",
       "3        1949-Q4  7.61668557794511\n",
       "4        1950-Q1  7.81198520814884\n",
       "..           ...               ...\n",
       "277      2018-Q2  90.6267332224071\n",
       "278      2018-Q3  93.9545202440377\n",
       "279      2018-Q4    95.28563505269\n",
       "280      2019-Q1  91.9578480310593\n",
       "281      2019-Q2  93.5108153078203\n",
       "\n",
       "[282 rows x 2 columns]"
      ]
     },
     "execution_count": 109,
     "metadata": {},
     "output_type": "execute_result"
    }
   ],
   "source": [
    "pd.DataFrame.from_dict(result['CompactData']['DataSet']['Series']['Obs'])"
   ]
  },
  {
   "cell_type": "markdown",
   "metadata": {},
   "source": [
    "**Exercise:** Clean up the dataframe and plot the annual percentage change in the NZ Export Price Index Inflation Rate."
   ]
  },
  {
   "cell_type": "code",
   "execution_count": null,
   "metadata": {},
   "outputs": [],
   "source": []
  },
  {
   "cell_type": "markdown",
   "metadata": {},
   "source": [
    "**Exercise:** Repeat the same analysis and plot for Australia."
   ]
  },
  {
   "cell_type": "code",
   "execution_count": null,
   "metadata": {},
   "outputs": [],
   "source": []
  },
  {
   "cell_type": "markdown",
   "metadata": {},
   "source": [
    "## Dedicated API Wrapper Modules"
   ]
  },
  {
   "cell_type": "markdown",
   "metadata": {},
   "source": [
    "Well established companies will sometimes write and make available modules in various programming languages that form a wrapper around their REST APIs and an easier interface for communicating with their servers.\n",
    "\n",
    "Yahoo and Spotify are an example of such companies that provide a Python module. Some of custom-made APIs are free-access and some require an account to be created with them first. Premium content can only be pulled from their servers using a paid Premium account.\n",
    "\n",
    "Let's look at a custom wrapper for Craigslist:"
   ]
  },
  {
   "cell_type": "code",
   "execution_count": 110,
   "metadata": {
    "scrolled": true
   },
   "outputs": [
    {
     "name": "stdout",
     "output_type": "stream",
     "text": [
      "Collecting python-craigslist\n",
      "  Downloading https://files.pythonhosted.org/packages/6d/74/c91732f8b6e6d20a60df342c48b80a117fb075a5341d4a4c8025dbedfa24/python-craigslist-1.0.8.tar.gz\n",
      "Requirement already satisfied: requests in /Users/Tommy/opt/anaconda3/lib/python3.7/site-packages (from python-craigslist) (2.22.0)\n",
      "Requirement already satisfied: beautifulsoup4 in /Users/Tommy/opt/anaconda3/lib/python3.7/site-packages (from python-craigslist) (4.8.0)\n",
      "Requirement already satisfied: six in /Users/Tommy/opt/anaconda3/lib/python3.7/site-packages (from python-craigslist) (1.12.0)\n",
      "Requirement already satisfied: chardet<3.1.0,>=3.0.2 in /Users/Tommy/opt/anaconda3/lib/python3.7/site-packages (from requests->python-craigslist) (3.0.4)\n",
      "Requirement already satisfied: urllib3!=1.25.0,!=1.25.1,<1.26,>=1.21.1 in /Users/Tommy/opt/anaconda3/lib/python3.7/site-packages (from requests->python-craigslist) (1.24.2)\n",
      "Requirement already satisfied: certifi>=2017.4.17 in /Users/Tommy/opt/anaconda3/lib/python3.7/site-packages (from requests->python-craigslist) (2019.9.11)\n",
      "Requirement already satisfied: idna<2.9,>=2.5 in /Users/Tommy/opt/anaconda3/lib/python3.7/site-packages (from requests->python-craigslist) (2.8)\n",
      "Requirement already satisfied: soupsieve>=1.2 in /Users/Tommy/opt/anaconda3/lib/python3.7/site-packages (from beautifulsoup4->python-craigslist) (1.9.3)\n",
      "Building wheels for collected packages: python-craigslist\n",
      "  Building wheel for python-craigslist (setup.py) ... \u001b[?25ldone\n",
      "\u001b[?25h  Created wheel for python-craigslist: filename=python_craigslist-1.0.8-cp37-none-any.whl size=12225 sha256=5d63d89440333d7319fc1170a529e47098c8ca4eb53b8f3f798512d84b095b6a\n",
      "  Stored in directory: /Users/Tommy/Library/Caches/pip/wheels/b3/0a/a4/eb61ec76d82383043359d191321d2f5fa3379a1006f65548d0\n",
      "Successfully built python-craigslist\n",
      "Installing collected packages: python-craigslist\n",
      "Successfully installed python-craigslist-1.0.8\n"
     ]
    }
   ],
   "source": [
    "!pip install python-craigslist"
   ]
  },
  {
   "cell_type": "code",
   "execution_count": 111,
   "metadata": {},
   "outputs": [
    {
     "name": "stdout",
     "output_type": "stream",
     "text": [
      "Base filters:\n",
      "* query = ...\n",
      "* search_titles = True/False\n",
      "* has_image = True/False\n",
      "* posted_today = True/False\n",
      "* bundle_duplicates = True/False\n",
      "* search_distance = ...\n",
      "* zip_code = ...\n",
      "Section specific filters:\n",
      "* is_internship = True/False\n",
      "* is_nonprofit = True/False\n",
      "* is_telecommuting = True/False\n",
      "* employment_type = 'full-time', 'part-time', 'contract', \"employee's choice\"\n",
      "=========================\n",
      "Base filters:\n",
      "* query = ...\n",
      "* search_titles = True/False\n",
      "* has_image = True/False\n",
      "* posted_today = True/False\n",
      "* bundle_duplicates = True/False\n",
      "* search_distance = ...\n",
      "* zip_code = ...\n",
      "Section specific filters:\n",
      "* min_price = ...\n",
      "* max_price = ...\n",
      "* make = ...\n",
      "* model = ...\n",
      "* min_year = ...\n",
      "* max_year = ...\n",
      "* min_miles = ...\n",
      "* max_miles = ...\n",
      "* min_engine_displacement = ...\n",
      "* max_engine_displacement = ...\n",
      "* language = 'af', 'ca', 'da', 'de', 'en', 'es', 'fi', 'fr', 'it', 'nl', 'no', 'pt', 'sv', 'tl', 'tr', 'zh', 'ar', 'ja', 'ko', 'ru', 'vi'\n",
      "* condition = 'new', 'like new', 'excellent', 'good', 'fair', 'salvage'\n",
      "* auto_cylinders = '3 cylinders', '4 cylinders', '5 cylinders', '6 cylinders', '8 cylinders', '10 cylinders', '12 cylinders', 'other'\n",
      "* auto_drivetrain = 'fwd', 'rwd', '4wd'\n",
      "* auto_fuel_type = 'gas', 'diesel', 'hybrid', 'electric', 'other'\n",
      "* auto_paint = 'black', 'blue', 'brown', 'green', 'grey', 'orange', 'purple', 'red', 'silver', 'white', 'yellow', 'custom'\n",
      "* auto_size = 'compact', 'full-size', 'mid-size', 'sub-compact'\n",
      "* auto_title_status = 'clean', 'salvage', 'rebuilt', 'parts only', 'lien', 'missing'\n",
      "* auto_transmission = 'manual', 'automatic', 'other'\n",
      "* auto_bodytype = 'bus', 'convertible', 'coupe', 'hatchback', 'mini-van', 'offroad', 'pickup', 'sedan', 'truck', 'SUV', 'wagon', 'van', 'other'\n"
     ]
    }
   ],
   "source": [
    "from craigslist import CraigslistJobs, CraigslistForSale\n",
    "CraigslistJobs.show_filters()\n",
    "print(\"=========================\")\n",
    "CraigslistForSale.show_filters(category='cta')"
   ]
  },
  {
   "cell_type": "markdown",
   "metadata": {},
   "source": [
    "Find a software developer job in Auckland (codes have been worked out by studying the craigslist website URLs):"
   ]
  },
  {
   "cell_type": "code",
   "execution_count": 112,
   "metadata": {},
   "outputs": [],
   "source": [
    "from craigslist import CraigslistJobs\n",
    "cl_j = CraigslistJobs(site='auckland', category='sof',\n",
    "                      filters={ 'employment_type': ['full-time', 'part-time']})\n",
    "\n",
    "for result in cl_j.get_results():\n",
    "    print(result)\n"
   ]
  },
  {
   "cell_type": "markdown",
   "metadata": {},
   "source": [
    "\n",
    "Find a free food events in New York:"
   ]
  },
  {
   "cell_type": "code",
   "execution_count": 113,
   "metadata": {},
   "outputs": [
    {
     "name": "stdout",
     "output_type": "stream",
     "text": [
      "{'id': '7093573126', 'repost_of': None, 'name': 'Simple 60 sec Habit That Reversed A Serious Type 2 Diabetes And Melted', 'url': 'https://newyork.craigslist.org/brk/eve/d/new-york-simple-60-sec-habit-that/7093573126.html', 'datetime': None, 'last_updated': None, 'price': None, 'where': 'bronx', 'has_image': True, 'geotag': None}\n",
      "{'id': '7092442438', 'repost_of': None, 'name': 'Free Dinner & Unlimited Gourmet Food At Sapphire Times Square!', 'url': 'https://newyork.craigslist.org/mnh/eve/d/new-york-free-dinner-unlimited-gourmet/7092442438.html', 'datetime': None, 'last_updated': None, 'price': None, 'where': 'New York', 'has_image': True, 'geotag': None}\n",
      "{'id': '7090068281', 'repost_of': None, 'name': 'Taj Lounge NYC Hip Hop vs. Reggae™ Sunday Funday Brunch Party', 'url': 'https://newyork.craigslist.org/mnh/eve/d/new-york-taj-lounge-nyc-hip-hop-vs/7090068281.html', 'datetime': None, 'last_updated': None, 'price': None, 'where': 'Downtown', 'has_image': True, 'geotag': None}\n"
     ]
    }
   ],
   "source": [
    "from craigslist import CraigslistEvents\n",
    "cl_e = CraigslistEvents(site='newyork', filters={'free': True, 'food': True})\n",
    "\n",
    "for result in cl_e.get_results(sort_by='newest', limit=5):\n",
    "    print(result)\n"
   ]
  },
  {
   "cell_type": "markdown",
   "metadata": {},
   "source": [
    "## API Repositories and Market Places\n",
    "\n",
    "A large number of other API repositories can be found under these links:\n",
    "\n",
    "https://any-api.com/\n",
    "\n",
    "https://market.mashape.com/\n",
    "\n",
    "A summary of some useful APIs can be found here http://www.computersciencezone.org/50-most-useful-apis-for-developers/ \n",
    "\n",
    "http://www.programmableweb.com/apis/directory\n"
   ]
  },
  {
   "cell_type": "code",
   "execution_count": null,
   "metadata": {},
   "outputs": [],
   "source": []
  },
  {
   "cell_type": "code",
   "execution_count": null,
   "metadata": {},
   "outputs": [],
   "source": []
  }
 ],
 "metadata": {
  "kernelspec": {
   "display_name": "Python 3",
   "language": "python",
   "name": "python3"
  },
  "language_info": {
   "codemirror_mode": {
    "name": "ipython",
    "version": 3
   },
   "file_extension": ".py",
   "mimetype": "text/x-python",
   "name": "python",
   "nbconvert_exporter": "python",
   "pygments_lexer": "ipython3",
   "version": "3.7.4"
  },
  "toc": {
   "base_numbering": 1,
   "nav_menu": {},
   "number_sections": true,
   "sideBar": true,
   "skip_h1_title": false,
   "title_cell": "Table of Contents",
   "title_sidebar": "Contents",
   "toc_cell": false,
   "toc_position": {},
   "toc_section_display": true,
   "toc_window_display": false
  }
 },
 "nbformat": 4,
 "nbformat_minor": 4
}
