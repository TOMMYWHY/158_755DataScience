{
 "cells": [
  {
   "cell_type": "markdown",
   "metadata": {},
   "source": [
    "# Modelling"
   ]
  },
  {
   "cell_type": "markdown",
   "metadata": {},
   "source": [
    "* ##  Loading the data and analysis libraries"
   ]
  },
  {
   "cell_type": "code",
   "execution_count": 1,
   "metadata": {},
   "outputs": [],
   "source": [
    "import matplotlib\n",
    "from matplotlib import pyplot as plt\n",
    "from matplotlib.pyplot import GridSpec\n",
    "import numpy as np\n",
    "import pandas as pd\n",
    "import os, sys\n",
    "import seaborn as sns\n",
    "sns.set(style=\"ticks\")\n",
    "from pylab import rcParams\n",
    "rcParams['figure.figsize'] = (7,5)\n",
    "rcParams['figure.dpi'] = 120\n",
    "rcParams['savefig.dpi'] = 120 \n",
    "\n",
    "rcParams['axes.facecolor'] = 'white'\n",
    "matplotlib.style.use('ggplot')\n",
    "import statsmodels.formula.api as smf\n",
    "import statsmodels.api as sm\n",
    "import missingno as msno\n",
    "import seaborn as sns\n",
    "import sklearn\n",
    "from sklearn.preprocessing import StandardScaler,RobustScaler,MinMaxScaler\n",
    "\n",
    "from sklearn.metrics import accuracy_score\n",
    "from sklearn.preprocessing import PolynomialFeatures\n",
    "from sklearn.linear_model import LinearRegression\n",
    "from sklearn.model_selection import train_test_split\n",
    "from sklearn.ensemble import RandomForestClassifier\n",
    "from sklearn.svm import SVC\n",
    "from sklearn.model_selection import cross_val_predict\n",
    "from sklearn.metrics import mean_squared_error, r2_score\n",
    "from sklearn.decomposition import PCA\n",
    "from sklearn.pipeline import Pipeline\n",
    "from sklearn.metrics import classification_report\n",
    "from sklearn.neighbors import KNeighborsRegressor\n",
    "from sklearn.preprocessing import StandardScaler\n",
    "from sklearn.metrics import accuracy_score\n",
    "from sklearn.preprocessing import PolynomialFeatures\n",
    "from sklearn.linear_model import LinearRegression\n",
    "from sklearn.model_selection import train_test_split\n",
    "# from sklearn.neighbors import  KNeighborsRegressor\n",
    "from sklearn.neighbors import KNeighborsClassifier\n",
    "from sklearn.metrics import accuracy_score, confusion_matrix, precision_recall_fscore_support\n",
    "\n",
    "%matplotlib inline"
   ]
  },
  {
   "cell_type": "code",
   "execution_count": 2,
   "metadata": {},
   "outputs": [],
   "source": [
    "ffs_players_salary = pd.read_csv('fmanual_feature_Select_players_salary.csv.gz',index_col=0)"
   ]
  },
  {
   "cell_type": "code",
   "execution_count": 3,
   "metadata": {},
   "outputs": [
    {
     "name": "stdout",
     "output_type": "stream",
     "text": [
      "(385, 12)\n"
     ]
    },
    {
     "data": {
      "text/html": [
       "<div>\n",
       "<style scoped>\n",
       "    .dataframe tbody tr th:only-of-type {\n",
       "        vertical-align: middle;\n",
       "    }\n",
       "\n",
       "    .dataframe tbody tr th {\n",
       "        vertical-align: top;\n",
       "    }\n",
       "\n",
       "    .dataframe thead th {\n",
       "        text-align: right;\n",
       "    }\n",
       "</style>\n",
       "<table border=\"1\" class=\"dataframe\">\n",
       "  <thead>\n",
       "    <tr style=\"text-align: right;\">\n",
       "      <th></th>\n",
       "      <th>Salary</th>\n",
       "      <th>MP</th>\n",
       "      <th>FG</th>\n",
       "      <th>FGA</th>\n",
       "      <th>P2A</th>\n",
       "      <th>P2</th>\n",
       "      <th>FT</th>\n",
       "      <th>FTA</th>\n",
       "      <th>DRB</th>\n",
       "      <th>AST</th>\n",
       "      <th>TOV</th>\n",
       "      <th>PTS</th>\n",
       "    </tr>\n",
       "  </thead>\n",
       "  <tbody>\n",
       "    <tr>\n",
       "      <td>0</td>\n",
       "      <td>19.863636</td>\n",
       "      <td>1914.0</td>\n",
       "      <td>314.0</td>\n",
       "      <td>726.0</td>\n",
       "      <td>500.0</td>\n",
       "      <td>246.0</td>\n",
       "      <td>137.0</td>\n",
       "      <td>203.0</td>\n",
       "      <td>338.0</td>\n",
       "      <td>215.0</td>\n",
       "      <td>94.0</td>\n",
       "      <td>833.0</td>\n",
       "    </tr>\n",
       "    <tr>\n",
       "      <td>1</td>\n",
       "      <td>2.329200</td>\n",
       "      <td>1368.0</td>\n",
       "      <td>202.0</td>\n",
       "      <td>496.0</td>\n",
       "      <td>293.0</td>\n",
       "      <td>122.0</td>\n",
       "      <td>62.0</td>\n",
       "      <td>72.0</td>\n",
       "      <td>111.0</td>\n",
       "      <td>193.0</td>\n",
       "      <td>75.0</td>\n",
       "      <td>546.0</td>\n",
       "    </tr>\n",
       "    <tr>\n",
       "      <td>3</td>\n",
       "      <td>1.618520</td>\n",
       "      <td>756.0</td>\n",
       "      <td>100.0</td>\n",
       "      <td>220.0</td>\n",
       "      <td>115.0</td>\n",
       "      <td>61.0</td>\n",
       "      <td>48.0</td>\n",
       "      <td>62.0</td>\n",
       "      <td>76.0</td>\n",
       "      <td>35.0</td>\n",
       "      <td>36.0</td>\n",
       "      <td>287.0</td>\n",
       "    </tr>\n",
       "    <tr>\n",
       "      <td>5</td>\n",
       "      <td>1.000000</td>\n",
       "      <td>293.0</td>\n",
       "      <td>30.0</td>\n",
       "      <td>75.0</td>\n",
       "      <td>28.0</td>\n",
       "      <td>16.0</td>\n",
       "      <td>9.0</td>\n",
       "      <td>13.0</td>\n",
       "      <td>28.0</td>\n",
       "      <td>14.0</td>\n",
       "      <td>7.0</td>\n",
       "      <td>83.0</td>\n",
       "    </tr>\n",
       "    <tr>\n",
       "      <td>6</td>\n",
       "      <td>28.000000</td>\n",
       "      <td>1848.0</td>\n",
       "      <td>289.0</td>\n",
       "      <td>654.0</td>\n",
       "      <td>390.0</td>\n",
       "      <td>200.0</td>\n",
       "      <td>55.0</td>\n",
       "      <td>73.0</td>\n",
       "      <td>320.0</td>\n",
       "      <td>244.0</td>\n",
       "      <td>65.0</td>\n",
       "      <td>722.0</td>\n",
       "    </tr>\n",
       "  </tbody>\n",
       "</table>\n",
       "</div>"
      ],
      "text/plain": [
       "      Salary      MP     FG    FGA    P2A     P2     FT    FTA    DRB    AST  \\\n",
       "0  19.863636  1914.0  314.0  726.0  500.0  246.0  137.0  203.0  338.0  215.0   \n",
       "1   2.329200  1368.0  202.0  496.0  293.0  122.0   62.0   72.0  111.0  193.0   \n",
       "3   1.618520   756.0  100.0  220.0  115.0   61.0   48.0   62.0   76.0   35.0   \n",
       "5   1.000000   293.0   30.0   75.0   28.0   16.0    9.0   13.0   28.0   14.0   \n",
       "6  28.000000  1848.0  289.0  654.0  390.0  200.0   55.0   73.0  320.0  244.0   \n",
       "\n",
       "    TOV    PTS  \n",
       "0  94.0  833.0  \n",
       "1  75.0  546.0  \n",
       "3  36.0  287.0  \n",
       "5   7.0   83.0  \n",
       "6  65.0  722.0  "
      ]
     },
     "execution_count": 3,
     "metadata": {},
     "output_type": "execute_result"
    }
   ],
   "source": [
    "print(ffs_players_salary.shape)\n",
    "ffs_players_salary.head()"
   ]
  },
  {
   "cell_type": "markdown",
   "metadata": {},
   "source": [
    "> ###  Normalization"
   ]
  },
  {
   "cell_type": "code",
   "execution_count": 4,
   "metadata": {},
   "outputs": [
    {
     "data": {
      "text/html": [
       "<div>\n",
       "<style scoped>\n",
       "    .dataframe tbody tr th:only-of-type {\n",
       "        vertical-align: middle;\n",
       "    }\n",
       "\n",
       "    .dataframe tbody tr th {\n",
       "        vertical-align: top;\n",
       "    }\n",
       "\n",
       "    .dataframe thead th {\n",
       "        text-align: right;\n",
       "    }\n",
       "</style>\n",
       "<table border=\"1\" class=\"dataframe\">\n",
       "  <thead>\n",
       "    <tr style=\"text-align: right;\">\n",
       "      <th></th>\n",
       "      <th>Salary</th>\n",
       "      <th>MP</th>\n",
       "      <th>FG</th>\n",
       "      <th>FGA</th>\n",
       "      <th>P2A</th>\n",
       "      <th>P2</th>\n",
       "      <th>FT</th>\n",
       "      <th>FTA</th>\n",
       "      <th>DRB</th>\n",
       "      <th>AST</th>\n",
       "      <th>TOV</th>\n",
       "      <th>PTS</th>\n",
       "      <th>salary_scaled</th>\n",
       "    </tr>\n",
       "  </thead>\n",
       "  <tbody>\n",
       "    <tr>\n",
       "      <td>0</td>\n",
       "      <td>19.863636</td>\n",
       "      <td>1914.0</td>\n",
       "      <td>314.0</td>\n",
       "      <td>726.0</td>\n",
       "      <td>500.0</td>\n",
       "      <td>246.0</td>\n",
       "      <td>137.0</td>\n",
       "      <td>203.0</td>\n",
       "      <td>338.0</td>\n",
       "      <td>215.0</td>\n",
       "      <td>94.0</td>\n",
       "      <td>833.0</td>\n",
       "      <td>489.284837</td>\n",
       "    </tr>\n",
       "    <tr>\n",
       "      <td>1</td>\n",
       "      <td>2.329200</td>\n",
       "      <td>1368.0</td>\n",
       "      <td>202.0</td>\n",
       "      <td>496.0</td>\n",
       "      <td>293.0</td>\n",
       "      <td>122.0</td>\n",
       "      <td>62.0</td>\n",
       "      <td>72.0</td>\n",
       "      <td>111.0</td>\n",
       "      <td>193.0</td>\n",
       "      <td>75.0</td>\n",
       "      <td>546.0</td>\n",
       "      <td>49.622195</td>\n",
       "    </tr>\n",
       "    <tr>\n",
       "      <td>3</td>\n",
       "      <td>1.618520</td>\n",
       "      <td>756.0</td>\n",
       "      <td>100.0</td>\n",
       "      <td>220.0</td>\n",
       "      <td>115.0</td>\n",
       "      <td>61.0</td>\n",
       "      <td>48.0</td>\n",
       "      <td>62.0</td>\n",
       "      <td>76.0</td>\n",
       "      <td>35.0</td>\n",
       "      <td>36.0</td>\n",
       "      <td>287.0</td>\n",
       "      <td>31.802435</td>\n",
       "    </tr>\n",
       "    <tr>\n",
       "      <td>5</td>\n",
       "      <td>1.000000</td>\n",
       "      <td>293.0</td>\n",
       "      <td>30.0</td>\n",
       "      <td>75.0</td>\n",
       "      <td>28.0</td>\n",
       "      <td>16.0</td>\n",
       "      <td>9.0</td>\n",
       "      <td>13.0</td>\n",
       "      <td>28.0</td>\n",
       "      <td>14.0</td>\n",
       "      <td>7.0</td>\n",
       "      <td>83.0</td>\n",
       "      <td>16.293516</td>\n",
       "    </tr>\n",
       "    <tr>\n",
       "      <td>6</td>\n",
       "      <td>28.000000</td>\n",
       "      <td>1848.0</td>\n",
       "      <td>289.0</td>\n",
       "      <td>654.0</td>\n",
       "      <td>390.0</td>\n",
       "      <td>200.0</td>\n",
       "      <td>55.0</td>\n",
       "      <td>73.0</td>\n",
       "      <td>320.0</td>\n",
       "      <td>244.0</td>\n",
       "      <td>65.0</td>\n",
       "      <td>722.0</td>\n",
       "      <td>693.297974</td>\n",
       "    </tr>\n",
       "  </tbody>\n",
       "</table>\n",
       "</div>"
      ],
      "text/plain": [
       "      Salary      MP     FG    FGA    P2A     P2     FT    FTA    DRB    AST  \\\n",
       "0  19.863636  1914.0  314.0  726.0  500.0  246.0  137.0  203.0  338.0  215.0   \n",
       "1   2.329200  1368.0  202.0  496.0  293.0  122.0   62.0   72.0  111.0  193.0   \n",
       "3   1.618520   756.0  100.0  220.0  115.0   61.0   48.0   62.0   76.0   35.0   \n",
       "5   1.000000   293.0   30.0   75.0   28.0   16.0    9.0   13.0   28.0   14.0   \n",
       "6  28.000000  1848.0  289.0  654.0  390.0  200.0   55.0   73.0  320.0  244.0   \n",
       "\n",
       "    TOV    PTS  salary_scaled  \n",
       "0  94.0  833.0     489.284837  \n",
       "1  75.0  546.0      49.622195  \n",
       "3  36.0  287.0      31.802435  \n",
       "5   7.0   83.0      16.293516  \n",
       "6  65.0  722.0     693.297974  "
      ]
     },
     "execution_count": 4,
     "metadata": {},
     "output_type": "execute_result"
    }
   ],
   "source": [
    "salary_col = ffs_players_salary['Salary']\n",
    "salary_scaled = (salary_col-salary_col.min())/(salary_col.max()-salary_col.min()) *1000\n",
    "ffs_players_salary['salary_scaled']= salary_scaled.copy()\n",
    "ffs_players_salary.head()"
   ]
  },
  {
   "cell_type": "markdown",
   "metadata": {},
   "source": [
    "* ##  Regression"
   ]
  },
  {
   "cell_type": "markdown",
   "metadata": {},
   "source": [
    "> ### We get a conclusion from the previous EDA that the Points(PTS), and Free Throw (FT) are primary indices for the player. I assumed the salary has a linear relationship with them."
   ]
  },
  {
   "cell_type": "markdown",
   "metadata": {},
   "source": [
    "> ### Create a  Linear regression model for salary with the Points(PTS). It is easy to notice that using  Linear and Polynomial models can not get an excellent R-squared result."
   ]
  },
  {
   "cell_type": "code",
   "execution_count": 5,
   "metadata": {},
   "outputs": [
    {
     "data": {
      "image/png": "[encoded data removed]",
      "text/plain": [
       "<Figure size 432x288 with 1 Axes>"
      ]
     },
     "metadata": {
      "needs_background": "light"
     },
     "output_type": "display_data"
    },
    {
     "data": {
      "text/plain": [
       "<Figure size 1800x1080 with 0 Axes>"
      ]
     },
     "metadata": {},
     "output_type": "display_data"
    },
    {
     "name": "stdout",
     "output_type": "stream",
     "text": [
      "-------------\n",
      "-------------\n",
      "                            OLS Regression Results                            \n",
      "==============================================================================\n",
      "Dep. Variable:          salary_scaled   R-squared:                       0.310\n",
      "Model:                            OLS   Adj. R-squared:                  0.305\n",
      "Method:                 Least Squares   F-statistic:                     57.07\n",
      "Date:                Fri, 17 Apr 2020   Prob (F-statistic):           1.72e-30\n",
      "Time:                        19:32:43   Log-Likelihood:                -2561.7\n",
      "No. Observations:                 385   AIC:                             5131.\n",
      "Df Residuals:                     381   BIC:                             5147.\n",
      "Df Model:                           3                                         \n",
      "Covariance Type:            nonrobust                                         \n",
      "=================================================================================\n",
      "                    coef    std err          t      P>|t|      [0.025      0.975]\n",
      "---------------------------------------------------------------------------------\n",
      "Intercept        71.0929     26.739      2.659      0.008      18.519     123.667\n",
      "PTS               0.0797      0.149      0.536      0.592      -0.213       0.372\n",
      "I(PTS ** 2.0)     0.0003      0.000      1.255      0.210      -0.000       0.001\n",
      "I(PTS ** 3.0) -7.081e-08   8.35e-08     -0.848      0.397   -2.35e-07    9.35e-08\n",
      "==============================================================================\n",
      "Omnibus:                       96.238   Durbin-Watson:                   1.976\n",
      "Prob(Omnibus):                  0.000   Jarque-Bera (JB):              224.490\n",
      "Skew:                           1.248   Prob(JB):                     1.79e-49\n",
      "Kurtosis:                       5.786   Cond. No.                     2.81e+09\n",
      "==============================================================================\n",
      "\n",
      "Warnings:\n",
      "[1] Standard Errors assume that the covariance matrix of the errors is correctly specified.\n",
      "[2] The condition number is large, 2.81e+09. This might indicate that there are\n",
      "strong multicollinearity or other numerical problems.\n"
     ]
    }
   ],
   "source": [
    "\n",
    "plt.scatter( ffs_players_salary.PTS, ffs_players_salary.salary_scaled, s=10, alpha=0.3)\n",
    "plt.xlabel('PTS')\n",
    "plt.ylabel('salary')\n",
    "x = pd.DataFrame({'PTS': np.linspace(ffs_players_salary.PTS.min(), ffs_players_salary.PTS.max(), len(ffs_players_salary.PTS)) })\n",
    "\n",
    "x_min = ffs_players_salary.PTS.min()\n",
    "x_max = ffs_players_salary.PTS.max()\n",
    "plt.xlim(x_min,x_max)\n",
    "plt.plot(ffs_players_salary.PTS,ffs_players_salary.salary_scaled, 'o')\n",
    "\n",
    "\n",
    "poly_1 = smf.ols(formula='salary_scaled ~ 1 + PTS', data=ffs_players_salary).fit()\n",
    "plt.plot(x, poly_1.predict(x), 'b-', label='Poly n=1 $R^2$=%.2f' % poly_1.rsquared,  alpha=0.9)\n",
    "\n",
    "poly_2 = smf.ols(formula='salary_scaled ~ 1 + PTS + I(PTS ** 2.0)', data=ffs_players_salary).fit()\n",
    "plt.plot(x, poly_2.predict(x), 'g-', label='Poly n=2 $R^2$=%.2f' % poly_2.rsquared, alpha=0.9)\n",
    "\n",
    "\n",
    "poly_3 = smf.ols(formula='salary_scaled ~ 1 + PTS + I(PTS ** 2.0)+ I(PTS ** 3.0)', data=ffs_players_salary).fit()\n",
    "plt.plot(x, poly_3.predict(x), 'b-', label='Poly n=3 $R^2$=%.2f' % poly_3.rsquared, alpha=0.9)\n",
    "\n",
    "plt.legend()\n",
    "plt.figure(dpi=180, figsize=(10, 6))\n",
    "\n",
    "plt.show()\n",
    "# print(poly_1.summary())\n",
    "print(\"-------------\")\n",
    "# print(poly_2.summary())\n",
    "print(\"-------------\")\n",
    "print(poly_3.summary())"
   ]
  },
  {
   "cell_type": "markdown",
   "metadata": {},
   "source": [
    "### The model of Minutes Played(FT) has the same result as above. They reinforce the conclusion of the above EDA that a single feature does not determine player salary."
   ]
  },
  {
   "cell_type": "code",
   "execution_count": 6,
   "metadata": {},
   "outputs": [
    {
     "data": {
      "image/png": "[encoded data removed]",
      "text/plain": [
       "<Figure size 432x288 with 1 Axes>"
      ]
     },
     "metadata": {
      "needs_background": "light"
     },
     "output_type": "display_data"
    },
    {
     "data": {
      "text/plain": [
       "<Figure size 1800x1080 with 0 Axes>"
      ]
     },
     "metadata": {},
     "output_type": "display_data"
    },
    {
     "name": "stdout",
     "output_type": "stream",
     "text": [
      "-------------\n",
      "-------------\n",
      "                            OLS Regression Results                            \n",
      "==============================================================================\n",
      "Dep. Variable:          salary_scaled   R-squared:                       0.309\n",
      "Model:                            OLS   Adj. R-squared:                  0.303\n",
      "Method:                 Least Squares   F-statistic:                     56.76\n",
      "Date:                Fri, 17 Apr 2020   Prob (F-statistic):           2.38e-30\n",
      "Time:                        19:32:47   Log-Likelihood:                -2562.1\n",
      "No. Observations:                 385   AIC:                             5132.\n",
      "Df Residuals:                     381   BIC:                             5148.\n",
      "Df Model:                           3                                         \n",
      "Covariance Type:            nonrobust                                         \n",
      "================================================================================\n",
      "                   coef    std err          t      P>|t|      [0.025      0.975]\n",
      "--------------------------------------------------------------------------------\n",
      "Intercept       54.1169     19.608      2.760      0.006      15.564      92.669\n",
      "FT               1.9820      0.494      4.008      0.000       1.010       2.954\n",
      "I(FT ** 2.0)    -0.0019      0.003     -0.702      0.483      -0.007       0.003\n",
      "I(FT ** 3.0)  1.137e-06   3.67e-06      0.310      0.757   -6.08e-06    8.35e-06\n",
      "==============================================================================\n",
      "Omnibus:                       87.845   Durbin-Watson:                   1.959\n",
      "Prob(Omnibus):                  0.000   Jarque-Bera (JB):              183.825\n",
      "Skew:                           1.190   Prob(JB):                     1.21e-40\n",
      "Kurtosis:                       5.407   Cond. No.                     3.29e+07\n",
      "==============================================================================\n",
      "\n",
      "Warnings:\n",
      "[1] Standard Errors assume that the covariance matrix of the errors is correctly specified.\n",
      "[2] The condition number is large, 3.29e+07. This might indicate that there are\n",
      "strong multicollinearity or other numerical problems.\n"
     ]
    }
   ],
   "source": [
    "plt.scatter( ffs_players_salary.FT, ffs_players_salary.salary_scaled, s=10, alpha=0.3)\n",
    "plt.xlabel('FT')\n",
    "plt.ylabel('salary_scaled')\n",
    "x = pd.DataFrame({'FT': np.linspace(ffs_players_salary.FT.min(), ffs_players_salary.FT.max(), len(ffs_players_salary.FT)) })\n",
    "\n",
    "x_min = ffs_players_salary.FT.min()\n",
    "x_max = ffs_players_salary.FT.max()\n",
    "plt.xlim(x_min,x_max)\n",
    "plt.plot(ffs_players_salary.FT,ffs_players_salary.salary_scaled, 'o')\n",
    "\n",
    "\n",
    "poly_1 = smf.ols(formula='salary_scaled ~ 1 + FT', data=ffs_players_salary).fit()\n",
    "plt.plot(x, poly_1.predict(x), 'b-', label='Poly n=1 $R^2$=%.2f' % poly_1.rsquared,  alpha=0.9)\n",
    "\n",
    "poly_2 = smf.ols(formula='salary_scaled ~ 1 + FT + I(FT ** 2.0)', data=ffs_players_salary).fit()\n",
    "plt.plot(x, poly_2.predict(x), 'g-', label='Poly n=2 $R^2$=%.2f' % poly_2.rsquared, alpha=0.9)\n",
    "\n",
    "\n",
    "poly_3 = smf.ols(formula='salary_scaled ~ 1 + FT + I(FT ** 2.0)+ I(FT ** 3.0)', data=ffs_players_salary).fit()\n",
    "plt.plot(x, poly_3.predict(x), 'b-', label='Poly n=3 $R^2$=%.2f' % poly_3.rsquared, alpha=0.9)\n",
    "\n",
    "plt.legend()\n",
    "plt.figure(dpi=180, figsize=(10, 6))\n",
    "\n",
    "plt.show()\n",
    "# print(poly_1.summary())\n",
    "print(\"-------------\")\n",
    "# print(poly_2.summary())\n",
    "print(\"-------------\")\n",
    "print(poly_3.summary())"
   ]
  },
  {
   "cell_type": "markdown",
   "metadata": {},
   "source": [
    "> ### Using all selected features to create a multiple-linear model and the model result is better than before. However, the accuracy of the model is too low and is not suitable for prediction."
   ]
  },
  {
   "cell_type": "code",
   "execution_count": 7,
   "metadata": {},
   "outputs": [
    {
     "name": "stdout",
     "output_type": "stream",
     "text": [
      "                            OLS Regression Results                            \n",
      "==============================================================================\n",
      "Dep. Variable:          salary_scaled   R-squared:                       0.396\n",
      "Model:                            OLS   Adj. R-squared:                  0.380\n",
      "Method:                 Least Squares   F-statistic:                     24.50\n",
      "Date:                Fri, 17 Apr 2020   Prob (F-statistic):           1.64e-35\n",
      "Time:                        19:32:48   Log-Likelihood:                -2536.2\n",
      "No. Observations:                 385   AIC:                             5094.\n",
      "Df Residuals:                     374   BIC:                             5138.\n",
      "Df Model:                          10                                         \n",
      "Covariance Type:            nonrobust                                         \n",
      "==============================================================================\n",
      "                 coef    std err          t      P>|t|      [0.025      0.975]\n",
      "------------------------------------------------------------------------------\n",
      "Intercept     72.5849     19.459      3.730      0.000      34.322     110.847\n",
      "MP            -0.2233      0.045     -4.959      0.000      -0.312      -0.135\n",
      "FG            -0.3962      0.259     -1.530      0.127      -0.905       0.113\n",
      "FGA            0.5205      0.551      0.944      0.346      -0.564       1.605\n",
      "FT             1.8069      1.004      1.799      0.073      -0.168       3.781\n",
      "FTA           -1.1100      0.775     -1.432      0.153      -2.634       0.414\n",
      "DRB            1.0111      0.181      5.578      0.000       0.655       1.367\n",
      "AST            0.9669      0.197      4.919      0.000       0.580       1.353\n",
      "TOV           -2.0806      0.659     -3.158      0.002      -3.376      -0.785\n",
      "PTS            0.1543      0.461      0.335      0.738      -0.752       1.061\n",
      "P2A           -0.3032      0.716     -0.423      0.672      -1.711       1.105\n",
      "P2             0.4638      1.220      0.380      0.704      -1.935       2.863\n",
      "==============================================================================\n",
      "Omnibus:                       82.719   Durbin-Watson:                   1.914\n",
      "Prob(Omnibus):                  0.000   Jarque-Bera (JB):              196.419\n",
      "Skew:                           1.067   Prob(JB):                     2.23e-43\n",
      "Kurtosis:                       5.773   Cond. No.                     1.92e+16\n",
      "==============================================================================\n",
      "\n",
      "Warnings:\n",
      "[1] Standard Errors assume that the covariance matrix of the errors is correctly specified.\n",
      "[2] The smallest eigenvalue is 2.5e-24. This might indicate that there are\n",
      "strong multicollinearity problems or that the design matrix is singular.\n"
     ]
    }
   ],
   "source": [
    "linear_model3 = smf.ols(formula='salary_scaled ~ 1 + MP+ FG+ FGA+ FT+ FTA+ DRB+ AST+TOV+ PTS + P2A+P2', data=ffs_players_salary).fit()\n",
    "print(linear_model3.summary())"
   ]
  },
  {
   "cell_type": "markdown",
   "metadata": {},
   "source": [
    "> ### Use Scikit-learn to training multi-features."
   ]
  },
  {
   "cell_type": "code",
   "execution_count": 8,
   "metadata": {},
   "outputs": [
    {
     "data": {
      "text/html": [
       "<div>\n",
       "<style scoped>\n",
       "    .dataframe tbody tr th:only-of-type {\n",
       "        vertical-align: middle;\n",
       "    }\n",
       "\n",
       "    .dataframe tbody tr th {\n",
       "        vertical-align: top;\n",
       "    }\n",
       "\n",
       "    .dataframe thead th {\n",
       "        text-align: right;\n",
       "    }\n",
       "</style>\n",
       "<table border=\"1\" class=\"dataframe\">\n",
       "  <thead>\n",
       "    <tr style=\"text-align: right;\">\n",
       "      <th></th>\n",
       "      <th>Salary</th>\n",
       "      <th>MP</th>\n",
       "      <th>FG</th>\n",
       "      <th>FGA</th>\n",
       "      <th>P2A</th>\n",
       "      <th>P2</th>\n",
       "      <th>FT</th>\n",
       "      <th>FTA</th>\n",
       "      <th>DRB</th>\n",
       "      <th>AST</th>\n",
       "      <th>TOV</th>\n",
       "      <th>PTS</th>\n",
       "    </tr>\n",
       "  </thead>\n",
       "  <tbody>\n",
       "    <tr>\n",
       "      <td>0</td>\n",
       "      <td>19.863636</td>\n",
       "      <td>1914.0</td>\n",
       "      <td>314.0</td>\n",
       "      <td>726.0</td>\n",
       "      <td>500.0</td>\n",
       "      <td>246.0</td>\n",
       "      <td>137.0</td>\n",
       "      <td>203.0</td>\n",
       "      <td>338.0</td>\n",
       "      <td>215.0</td>\n",
       "      <td>94.0</td>\n",
       "      <td>833.0</td>\n",
       "    </tr>\n",
       "    <tr>\n",
       "      <td>1</td>\n",
       "      <td>2.329200</td>\n",
       "      <td>1368.0</td>\n",
       "      <td>202.0</td>\n",
       "      <td>496.0</td>\n",
       "      <td>293.0</td>\n",
       "      <td>122.0</td>\n",
       "      <td>62.0</td>\n",
       "      <td>72.0</td>\n",
       "      <td>111.0</td>\n",
       "      <td>193.0</td>\n",
       "      <td>75.0</td>\n",
       "      <td>546.0</td>\n",
       "    </tr>\n",
       "    <tr>\n",
       "      <td>3</td>\n",
       "      <td>1.618520</td>\n",
       "      <td>756.0</td>\n",
       "      <td>100.0</td>\n",
       "      <td>220.0</td>\n",
       "      <td>115.0</td>\n",
       "      <td>61.0</td>\n",
       "      <td>48.0</td>\n",
       "      <td>62.0</td>\n",
       "      <td>76.0</td>\n",
       "      <td>35.0</td>\n",
       "      <td>36.0</td>\n",
       "      <td>287.0</td>\n",
       "    </tr>\n",
       "    <tr>\n",
       "      <td>5</td>\n",
       "      <td>1.000000</td>\n",
       "      <td>293.0</td>\n",
       "      <td>30.0</td>\n",
       "      <td>75.0</td>\n",
       "      <td>28.0</td>\n",
       "      <td>16.0</td>\n",
       "      <td>9.0</td>\n",
       "      <td>13.0</td>\n",
       "      <td>28.0</td>\n",
       "      <td>14.0</td>\n",
       "      <td>7.0</td>\n",
       "      <td>83.0</td>\n",
       "    </tr>\n",
       "    <tr>\n",
       "      <td>6</td>\n",
       "      <td>28.000000</td>\n",
       "      <td>1848.0</td>\n",
       "      <td>289.0</td>\n",
       "      <td>654.0</td>\n",
       "      <td>390.0</td>\n",
       "      <td>200.0</td>\n",
       "      <td>55.0</td>\n",
       "      <td>73.0</td>\n",
       "      <td>320.0</td>\n",
       "      <td>244.0</td>\n",
       "      <td>65.0</td>\n",
       "      <td>722.0</td>\n",
       "    </tr>\n",
       "  </tbody>\n",
       "</table>\n",
       "</div>"
      ],
      "text/plain": [
       "      Salary      MP     FG    FGA    P2A     P2     FT    FTA    DRB    AST  \\\n",
       "0  19.863636  1914.0  314.0  726.0  500.0  246.0  137.0  203.0  338.0  215.0   \n",
       "1   2.329200  1368.0  202.0  496.0  293.0  122.0   62.0   72.0  111.0  193.0   \n",
       "3   1.618520   756.0  100.0  220.0  115.0   61.0   48.0   62.0   76.0   35.0   \n",
       "5   1.000000   293.0   30.0   75.0   28.0   16.0    9.0   13.0   28.0   14.0   \n",
       "6  28.000000  1848.0  289.0  654.0  390.0  200.0   55.0   73.0  320.0  244.0   \n",
       "\n",
       "    TOV    PTS  \n",
       "0  94.0  833.0  \n",
       "1  75.0  546.0  \n",
       "3  36.0  287.0  \n",
       "5   7.0   83.0  \n",
       "6  65.0  722.0  "
      ]
     },
     "execution_count": 8,
     "metadata": {},
     "output_type": "execute_result"
    }
   ],
   "source": [
    "clear_players_salary = pd.read_csv('fmanual_feature_Select_players_salary.csv.gz',index_col=0)\n",
    "clear_players_salary.head()"
   ]
  },
  {
   "cell_type": "code",
   "execution_count": 9,
   "metadata": {},
   "outputs": [],
   "source": [
    "features_name = [ 'MP', 'FG', 'FGA', 'P2A', 'P2', 'FT', 'FTA', 'DRB', 'AST',\n",
    "       'TOV', 'PTS']\n",
    "X = clear_players_salary[features_name]\n",
    "# X = clear_players_salary.iloc[:,5:]\n",
    "salary_col = ffs_players_salary['Salary']\n",
    "y = (salary_col-salary_col.min())/(salary_col.max()-salary_col.min()) \n",
    "# X "
   ]
  },
  {
   "cell_type": "markdown",
   "metadata": {},
   "source": [
    "> ### Split the dataset to training and testing. Use 20% of the dataset to verify the model accuracy.\n"
   ]
  },
  {
   "cell_type": "code",
   "execution_count": 10,
   "metadata": {},
   "outputs": [],
   "source": [
    "X_train, X_test, y_train, y_test = train_test_split(X,y,test_size=0.2, random_state=888)"
   ]
  },
  {
   "cell_type": "code",
   "execution_count": 11,
   "metadata": {},
   "outputs": [
    {
     "name": "stdout",
     "output_type": "stream",
     "text": [
      "(308, 11)\n",
      "(308,)\n",
      "(77, 11)\n",
      "(77,)\n"
     ]
    }
   ],
   "source": [
    "print(X_train.shape)\n",
    "print(y_train.shape)\n",
    "print(X_test.shape)\n",
    "print(y_test.shape)"
   ]
  },
  {
   "cell_type": "markdown",
   "metadata": {},
   "source": [
    "> ### StandardScaler standardizes a feature by subtracting the mean and then scaling to unit variance. Unit variance means dividing all the values by the standard deviation."
   ]
  },
  {
   "cell_type": "code",
   "execution_count": 12,
   "metadata": {},
   "outputs": [],
   "source": [
    "X_train = StandardScaler().fit(X_train).transform(X_train)\n",
    "X_test = StandardScaler().fit(X_test).transform(X_test)\n"
   ]
  },
  {
   "cell_type": "markdown",
   "metadata": {},
   "source": [
    "> ### Create a linear regression model to training all selected features by Skit-learn."
   ]
  },
  {
   "cell_type": "code",
   "execution_count": 13,
   "metadata": {},
   "outputs": [
    {
     "data": {
      "text/plain": [
       "Pipeline(memory=None,\n",
       "         steps=[('poly',\n",
       "                 PolynomialFeatures(degree=1, include_bias=True,\n",
       "                                    interaction_only=False, order='C')),\n",
       "                ('std_scaler',\n",
       "                 RobustScaler(copy=True, quantile_range=(25.0, 75.0),\n",
       "                              with_centering=True, with_scaling=True)),\n",
       "                ('lin_reg',\n",
       "                 LinearRegression(copy_X=True, fit_intercept=True, n_jobs=None,\n",
       "                                  normalize=False))],\n",
       "         verbose=False)"
      ]
     },
     "execution_count": 13,
     "metadata": {},
     "output_type": "execute_result"
    }
   ],
   "source": [
    "poly_reg = Pipeline([\n",
    "    ('poly',PolynomialFeatures(degree=1)),\n",
    "#     ('poly',PolynomialFeatures(degree=2)),\n",
    "    ('std_scaler',RobustScaler()),\n",
    "    ('lin_reg',LinearRegression())\n",
    "])\n",
    "poly_reg.fit(X_train,y_train)"
   ]
  },
  {
   "cell_type": "markdown",
   "metadata": {},
   "source": [
    "###  The model training result is 41% "
   ]
  },
  {
   "cell_type": "code",
   "execution_count": 14,
   "metadata": {},
   "outputs": [
    {
     "name": "stdout",
     "output_type": "stream",
     "text": [
      "Mean squared error: 0.03\n",
      "Coefficient of determination: 0.41\n"
     ]
    }
   ],
   "source": [
    "y_train_predict = poly_reg.predict(X_train)\n",
    "print('Mean squared error: %.2f'% mean_squared_error(y_train, y_train_predict))\n",
    "print('Coefficient of determination: %.2f'% r2_score(y_train, y_train_predict))"
   ]
  },
  {
   "cell_type": "markdown",
   "metadata": {},
   "source": [
    "### The model training result is 33%. The linear model is not good enough.\n"
   ]
  },
  {
   "cell_type": "code",
   "execution_count": 15,
   "metadata": {},
   "outputs": [
    {
     "name": "stdout",
     "output_type": "stream",
     "text": [
      "Mean squared error: 0.03\n",
      "Coefficient of determination: 0.33\n"
     ]
    }
   ],
   "source": [
    "y_test_predict = poly_reg.predict(X_test)\n",
    "print('Mean squared error: %.2f'  % mean_squared_error(y_test, y_test_predict))\n",
    "print('Coefficient of determination: %.2f'% r2_score(y_test, y_test_predict))"
   ]
  },
  {
   "cell_type": "markdown",
   "metadata": {},
   "source": [
    "> ### Create a KNN regression model to training all selected features by Skit-learn."
   ]
  },
  {
   "cell_type": "markdown",
   "metadata": {},
   "source": [
    "> ### KNN has several params, and I try to search for the best params for the KNN model. The best group of params is using 3 neighbors, Minkowski, and distance."
   ]
  },
  {
   "cell_type": "code",
   "execution_count": 16,
   "metadata": {},
   "outputs": [
    {
     "name": "stdout",
     "output_type": "stream",
     "text": [
      "best_score: 1.0\n",
      "best_k: 3\n",
      "best_metric: minkowski\n",
      "best_weights: distance\n"
     ]
    }
   ],
   "source": [
    "best_score = 0.0\n",
    "best_k = 0\n",
    "best_weights = ''\n",
    "best_metric =''\n",
    "\n",
    "weights = ['uniform','distance']\n",
    "metric = ['minkowski','euclidean','manhattan','chebyshev']\n",
    "for weight in weights:\n",
    "    \n",
    "    for metr in metric:\n",
    "\n",
    "        for k in range(3, 20):\n",
    "            knn_r = KNeighborsRegressor(algorithm='auto', leaf_size=30, metric= metr,\n",
    "                   metric_params=None, n_jobs=None, n_neighbors=k, p=1,\n",
    "                   weights= weight )\n",
    "\n",
    "            knn_r.fit(X_train,y_train)\n",
    "            y_train_predict = knn_r.predict(X_train)\n",
    "            score = r2_score(y_train,y_train_predict)\n",
    "            if score > best_score :\n",
    "                best_score = score\n",
    "                best_k = k\n",
    "                best_metric = metr\n",
    "                best_weights = weight\n",
    "\n",
    "print('best_score:',best_score)\n",
    "print('best_k:',best_k)\n",
    "print('best_metric:',best_metric)\n",
    "print('best_weights:',best_weights)"
   ]
  },
  {
   "cell_type": "markdown",
   "metadata": {},
   "source": [
    "> ### Use above params to create the KNN model."
   ]
  },
  {
   "cell_type": "code",
   "execution_count": 17,
   "metadata": {},
   "outputs": [
    {
     "data": {
      "text/plain": [
       "KNeighborsRegressor(algorithm='auto', leaf_size=30, metric='minkowski',\n",
       "                    metric_params=None, n_jobs=None, n_neighbors=3, p=1,\n",
       "                    weights='distance')"
      ]
     },
     "execution_count": 17,
     "metadata": {},
     "output_type": "execute_result"
    }
   ],
   "source": [
    "knn_r = KNeighborsRegressor( metric='minkowski',\n",
    "           metric_params=None, n_jobs=None, n_neighbors=3, p=1,\n",
    "           weights='distance',\n",
    "                          )\n",
    "knn_r.fit(X_train,y_train)"
   ]
  },
  {
   "cell_type": "markdown",
   "metadata": {},
   "source": [
    ">  ### The model training result is 100%"
   ]
  },
  {
   "cell_type": "code",
   "execution_count": 18,
   "metadata": {},
   "outputs": [
    {
     "name": "stdout",
     "output_type": "stream",
     "text": [
      "Mean squared error: 0.00\n",
      "Coefficient of determination: 1.00\n"
     ]
    },
    {
     "data": {
      "text/plain": [
       "1.0"
      ]
     },
     "execution_count": 18,
     "metadata": {},
     "output_type": "execute_result"
    }
   ],
   "source": [
    "y_train_predict = knn_r.predict(X_train)\n",
    "print('Mean squared error: %.2f'% mean_squared_error(y_train, y_train_predict))\n",
    "print('Coefficient of determination: %.2f'% r2_score(y_train, y_train_predict))\n",
    "knn_r.score(X_train, y_train)\n"
   ]
  },
  {
   "cell_type": "markdown",
   "metadata": {},
   "source": [
    "> ### However, the testing result is only 19%—the model overfitting so obviously."
   ]
  },
  {
   "cell_type": "code",
   "execution_count": 19,
   "metadata": {},
   "outputs": [
    {
     "name": "stdout",
     "output_type": "stream",
     "text": [
      "Mean squared error: 0.04\n",
      "Coefficient of determination: 0.19\n"
     ]
    },
    {
     "data": {
      "text/plain": [
       "0.18994515316828856"
      ]
     },
     "execution_count": 19,
     "metadata": {},
     "output_type": "execute_result"
    }
   ],
   "source": [
    "y_test_predict = knn_r.predict(X_test)\n",
    "print('Mean squared error: %.2f'  % mean_squared_error(y_test, y_test_predict))\n",
    "print('Coefficient of determination: %.2f'% r2_score(y_test, y_test_predict))\n",
    "knn_r.score(X_test, y_test)\n"
   ]
  },
  {
   "cell_type": "markdown",
   "metadata": {},
   "source": [
    "* ##   Classifier"
   ]
  },
  {
   "cell_type": "markdown",
   "metadata": {},
   "source": [
    "> ### In the above experiment, we could get a conclusion is that the dataset is not fit for regression methods. We could try classifier methods to predict the salary of the players."
   ]
  },
  {
   "cell_type": "code",
   "execution_count": 20,
   "metadata": {},
   "outputs": [
    {
     "data": {
      "text/html": [
       "<div>\n",
       "<style scoped>\n",
       "    .dataframe tbody tr th:only-of-type {\n",
       "        vertical-align: middle;\n",
       "    }\n",
       "\n",
       "    .dataframe tbody tr th {\n",
       "        vertical-align: top;\n",
       "    }\n",
       "\n",
       "    .dataframe thead th {\n",
       "        text-align: right;\n",
       "    }\n",
       "</style>\n",
       "<table border=\"1\" class=\"dataframe\">\n",
       "  <thead>\n",
       "    <tr style=\"text-align: right;\">\n",
       "      <th></th>\n",
       "      <th>Salary</th>\n",
       "      <th>MP</th>\n",
       "      <th>FG</th>\n",
       "      <th>FGA</th>\n",
       "      <th>P2A</th>\n",
       "      <th>P2</th>\n",
       "      <th>FT</th>\n",
       "      <th>FTA</th>\n",
       "      <th>DRB</th>\n",
       "      <th>AST</th>\n",
       "      <th>TOV</th>\n",
       "      <th>PTS</th>\n",
       "      <th>salary_scaled</th>\n",
       "    </tr>\n",
       "  </thead>\n",
       "  <tbody>\n",
       "    <tr>\n",
       "      <td>0</td>\n",
       "      <td>19.863636</td>\n",
       "      <td>1914.0</td>\n",
       "      <td>314.0</td>\n",
       "      <td>726.0</td>\n",
       "      <td>500.0</td>\n",
       "      <td>246.0</td>\n",
       "      <td>137.0</td>\n",
       "      <td>203.0</td>\n",
       "      <td>338.0</td>\n",
       "      <td>215.0</td>\n",
       "      <td>94.0</td>\n",
       "      <td>833.0</td>\n",
       "      <td>0.489285</td>\n",
       "    </tr>\n",
       "    <tr>\n",
       "      <td>1</td>\n",
       "      <td>2.329200</td>\n",
       "      <td>1368.0</td>\n",
       "      <td>202.0</td>\n",
       "      <td>496.0</td>\n",
       "      <td>293.0</td>\n",
       "      <td>122.0</td>\n",
       "      <td>62.0</td>\n",
       "      <td>72.0</td>\n",
       "      <td>111.0</td>\n",
       "      <td>193.0</td>\n",
       "      <td>75.0</td>\n",
       "      <td>546.0</td>\n",
       "      <td>0.049622</td>\n",
       "    </tr>\n",
       "    <tr>\n",
       "      <td>3</td>\n",
       "      <td>1.618520</td>\n",
       "      <td>756.0</td>\n",
       "      <td>100.0</td>\n",
       "      <td>220.0</td>\n",
       "      <td>115.0</td>\n",
       "      <td>61.0</td>\n",
       "      <td>48.0</td>\n",
       "      <td>62.0</td>\n",
       "      <td>76.0</td>\n",
       "      <td>35.0</td>\n",
       "      <td>36.0</td>\n",
       "      <td>287.0</td>\n",
       "      <td>0.031802</td>\n",
       "    </tr>\n",
       "    <tr>\n",
       "      <td>5</td>\n",
       "      <td>1.000000</td>\n",
       "      <td>293.0</td>\n",
       "      <td>30.0</td>\n",
       "      <td>75.0</td>\n",
       "      <td>28.0</td>\n",
       "      <td>16.0</td>\n",
       "      <td>9.0</td>\n",
       "      <td>13.0</td>\n",
       "      <td>28.0</td>\n",
       "      <td>14.0</td>\n",
       "      <td>7.0</td>\n",
       "      <td>83.0</td>\n",
       "      <td>0.016294</td>\n",
       "    </tr>\n",
       "    <tr>\n",
       "      <td>6</td>\n",
       "      <td>28.000000</td>\n",
       "      <td>1848.0</td>\n",
       "      <td>289.0</td>\n",
       "      <td>654.0</td>\n",
       "      <td>390.0</td>\n",
       "      <td>200.0</td>\n",
       "      <td>55.0</td>\n",
       "      <td>73.0</td>\n",
       "      <td>320.0</td>\n",
       "      <td>244.0</td>\n",
       "      <td>65.0</td>\n",
       "      <td>722.0</td>\n",
       "      <td>0.693298</td>\n",
       "    </tr>\n",
       "  </tbody>\n",
       "</table>\n",
       "</div>"
      ],
      "text/plain": [
       "      Salary      MP     FG    FGA    P2A     P2     FT    FTA    DRB    AST  \\\n",
       "0  19.863636  1914.0  314.0  726.0  500.0  246.0  137.0  203.0  338.0  215.0   \n",
       "1   2.329200  1368.0  202.0  496.0  293.0  122.0   62.0   72.0  111.0  193.0   \n",
       "3   1.618520   756.0  100.0  220.0  115.0   61.0   48.0   62.0   76.0   35.0   \n",
       "5   1.000000   293.0   30.0   75.0   28.0   16.0    9.0   13.0   28.0   14.0   \n",
       "6  28.000000  1848.0  289.0  654.0  390.0  200.0   55.0   73.0  320.0  244.0   \n",
       "\n",
       "    TOV    PTS  salary_scaled  \n",
       "0  94.0  833.0       0.489285  \n",
       "1  75.0  546.0       0.049622  \n",
       "3  36.0  287.0       0.031802  \n",
       "5   7.0   83.0       0.016294  \n",
       "6  65.0  722.0       0.693298  "
      ]
     },
     "execution_count": 20,
     "metadata": {},
     "output_type": "execute_result"
    }
   ],
   "source": [
    "ffs_players_salary = pd.read_csv('fmanual_feature_Select_players_salary.csv.gz',index_col=0)\n",
    "salary_col = ffs_players_salary['Salary']\n",
    "salary_scaled = (salary_col-salary_col.min())/(salary_col.max()-salary_col.min())\n",
    "ffs_players_salary['salary_scaled']= salary_scaled.copy()\n",
    "ffs_players_salary.head()"
   ]
  },
  {
   "cell_type": "markdown",
   "metadata": {},
   "source": [
    "> ### I could grouping the player to 4 levels as regular players, first players, stars and superstars by salary."
   ]
  },
  {
   "cell_type": "code",
   "execution_count": 28,
   "metadata": {},
   "outputs": [
    {
     "data": {
      "text/html": [
       "<div>\n",
       "<style scoped>\n",
       "    .dataframe tbody tr th:only-of-type {\n",
       "        vertical-align: middle;\n",
       "    }\n",
       "\n",
       "    .dataframe tbody tr th {\n",
       "        vertical-align: top;\n",
       "    }\n",
       "\n",
       "    .dataframe thead th {\n",
       "        text-align: right;\n",
       "    }\n",
       "</style>\n",
       "<table border=\"1\" class=\"dataframe\">\n",
       "  <thead>\n",
       "    <tr style=\"text-align: right;\">\n",
       "      <th></th>\n",
       "      <th>Salary</th>\n",
       "      <th>MP</th>\n",
       "      <th>FG</th>\n",
       "      <th>FGA</th>\n",
       "      <th>P2A</th>\n",
       "      <th>P2</th>\n",
       "      <th>FT</th>\n",
       "      <th>FTA</th>\n",
       "      <th>DRB</th>\n",
       "      <th>AST</th>\n",
       "      <th>TOV</th>\n",
       "      <th>PTS</th>\n",
       "      <th>salary_scaled</th>\n",
       "      <th>Nominal</th>\n",
       "    </tr>\n",
       "  </thead>\n",
       "  <tbody>\n",
       "    <tr>\n",
       "      <td>0</td>\n",
       "      <td>19.863636</td>\n",
       "      <td>1914.0</td>\n",
       "      <td>314.0</td>\n",
       "      <td>726.0</td>\n",
       "      <td>500.0</td>\n",
       "      <td>246.0</td>\n",
       "      <td>137.0</td>\n",
       "      <td>203.0</td>\n",
       "      <td>338.0</td>\n",
       "      <td>215.0</td>\n",
       "      <td>94.0</td>\n",
       "      <td>833.0</td>\n",
       "      <td>0.489285</td>\n",
       "      <td>3</td>\n",
       "    </tr>\n",
       "    <tr>\n",
       "      <td>1</td>\n",
       "      <td>2.329200</td>\n",
       "      <td>1368.0</td>\n",
       "      <td>202.0</td>\n",
       "      <td>496.0</td>\n",
       "      <td>293.0</td>\n",
       "      <td>122.0</td>\n",
       "      <td>62.0</td>\n",
       "      <td>72.0</td>\n",
       "      <td>111.0</td>\n",
       "      <td>193.0</td>\n",
       "      <td>75.0</td>\n",
       "      <td>546.0</td>\n",
       "      <td>0.049622</td>\n",
       "      <td>1</td>\n",
       "    </tr>\n",
       "    <tr>\n",
       "      <td>3</td>\n",
       "      <td>1.618520</td>\n",
       "      <td>756.0</td>\n",
       "      <td>100.0</td>\n",
       "      <td>220.0</td>\n",
       "      <td>115.0</td>\n",
       "      <td>61.0</td>\n",
       "      <td>48.0</td>\n",
       "      <td>62.0</td>\n",
       "      <td>76.0</td>\n",
       "      <td>35.0</td>\n",
       "      <td>36.0</td>\n",
       "      <td>287.0</td>\n",
       "      <td>0.031802</td>\n",
       "      <td>1</td>\n",
       "    </tr>\n",
       "    <tr>\n",
       "      <td>5</td>\n",
       "      <td>1.000000</td>\n",
       "      <td>293.0</td>\n",
       "      <td>30.0</td>\n",
       "      <td>75.0</td>\n",
       "      <td>28.0</td>\n",
       "      <td>16.0</td>\n",
       "      <td>9.0</td>\n",
       "      <td>13.0</td>\n",
       "      <td>28.0</td>\n",
       "      <td>14.0</td>\n",
       "      <td>7.0</td>\n",
       "      <td>83.0</td>\n",
       "      <td>0.016294</td>\n",
       "      <td>1</td>\n",
       "    </tr>\n",
       "    <tr>\n",
       "      <td>6</td>\n",
       "      <td>28.000000</td>\n",
       "      <td>1848.0</td>\n",
       "      <td>289.0</td>\n",
       "      <td>654.0</td>\n",
       "      <td>390.0</td>\n",
       "      <td>200.0</td>\n",
       "      <td>55.0</td>\n",
       "      <td>73.0</td>\n",
       "      <td>320.0</td>\n",
       "      <td>244.0</td>\n",
       "      <td>65.0</td>\n",
       "      <td>722.0</td>\n",
       "      <td>0.693298</td>\n",
       "      <td>3</td>\n",
       "    </tr>\n",
       "  </tbody>\n",
       "</table>\n",
       "</div>"
      ],
      "text/plain": [
       "      Salary      MP     FG    FGA    P2A     P2     FT    FTA    DRB    AST  \\\n",
       "0  19.863636  1914.0  314.0  726.0  500.0  246.0  137.0  203.0  338.0  215.0   \n",
       "1   2.329200  1368.0  202.0  496.0  293.0  122.0   62.0   72.0  111.0  193.0   \n",
       "3   1.618520   756.0  100.0  220.0  115.0   61.0   48.0   62.0   76.0   35.0   \n",
       "5   1.000000   293.0   30.0   75.0   28.0   16.0    9.0   13.0   28.0   14.0   \n",
       "6  28.000000  1848.0  289.0  654.0  390.0  200.0   55.0   73.0  320.0  244.0   \n",
       "\n",
       "    TOV    PTS  salary_scaled  Nominal  \n",
       "0  94.0  833.0       0.489285        3  \n",
       "1  75.0  546.0       0.049622        1  \n",
       "3  36.0  287.0       0.031802        1  \n",
       "5   7.0   83.0       0.016294        1  \n",
       "6  65.0  722.0       0.693298        3  "
      ]
     },
     "execution_count": 28,
     "metadata": {},
     "output_type": "execute_result"
    }
   ],
   "source": [
    "conditions = [\n",
    "        (ffs_players_salary['salary_scaled']<=0.2), # regular players\n",
    "        (ffs_players_salary['salary_scaled']<=0.4),# first players\n",
    "        (ffs_players_salary['salary_scaled']<=0.6),# stars\n",
    "        (ffs_players_salary['salary_scaled']>0.8) # superstars\n",
    "]\n",
    "choices = [1, 2,3,4]\n",
    "ffs_players_salary['Nominal'] = np.select(conditions, choices, default=3)\n",
    "ffs_players_salary.head()"
   ]
  },
  {
   "cell_type": "markdown",
   "metadata": {},
   "source": [
    "> ### The salary of most NBA players is still at a low level, and there are more players with an average salary and fewer players with a higher salary, which is also following a reasonable sense."
   ]
  },
  {
   "cell_type": "code",
   "execution_count": 29,
   "metadata": {},
   "outputs": [
    {
     "data": {
      "text/plain": [
       "<Figure size 400x240 with 0 Axes>"
      ]
     },
     "execution_count": 29,
     "metadata": {},
     "output_type": "execute_result"
    },
    {
     "data": {
      "image/png": "[encoded data removed]",
      "text/plain": [
       "<Figure size 432x288 with 1 Axes>"
      ]
     },
     "metadata": {},
     "output_type": "display_data"
    },
    {
     "data": {
      "text/plain": [
       "<Figure size 400x240 with 0 Axes>"
      ]
     },
     "metadata": {},
     "output_type": "display_data"
    }
   ],
   "source": [
    "bar=ffs_players_salary['Nominal'].value_counts()\n",
    "sns.set(font_scale=2)\n",
    "sns.set(style=\"white\", palette=\"muted\",color_codes=True)\n",
    "ax = sns.barplot(x=bar.index,y=bar )\n",
    "ax.set(xlabel='Level',ylabel='Number',title=\"Salary_Level\")\n",
    "plt.figure(dpi=80, figsize=(5, 3))"
   ]
  },
  {
   "cell_type": "code",
   "execution_count": 30,
   "metadata": {},
   "outputs": [],
   "source": [
    "features_name = [ 'MP', 'FG', 'FGA', 'P2A', 'P2', 'FT', 'FTA', 'DRB', 'AST','TOV', 'PTS']\n",
    "X = ffs_players_salary[features_name]\n",
    "y = ffs_players_salary['Nominal']"
   ]
  },
  {
   "cell_type": "markdown",
   "metadata": {},
   "source": [
    ">### Split the dataset to training and testing. Use 20% of the dataset to verify the model accuracy."
   ]
  },
  {
   "cell_type": "code",
   "execution_count": 31,
   "metadata": {},
   "outputs": [],
   "source": [
    "X_train, X_test, y_train, y_test = train_test_split(X,y,test_size=0.2, random_state=888)"
   ]
  },
  {
   "cell_type": "code",
   "execution_count": 32,
   "metadata": {},
   "outputs": [
    {
     "name": "stdout",
     "output_type": "stream",
     "text": [
      "(308, 11)\n",
      "(308,)\n",
      "(77, 11)\n",
      "(77,)\n"
     ]
    }
   ],
   "source": [
    "print(X_train.shape)\n",
    "print(y_train.shape)\n",
    "print(X_test.shape)\n",
    "print(y_test.shape)"
   ]
  },
  {
   "cell_type": "markdown",
   "metadata": {},
   "source": [
    "\n",
    "> ### Create a KNN classifier model to training all selected features by Skit-learn."
   ]
  },
  {
   "cell_type": "code",
   "execution_count": 33,
   "metadata": {},
   "outputs": [
    {
     "name": "stdout",
     "output_type": "stream",
     "text": [
      "best_score: 1.0\n",
      "best_k: 3\n",
      "best_metric: minkowski\n",
      "best_weights: distance\n"
     ]
    }
   ],
   "source": [
    "best_score = 0.0\n",
    "best_k = 0\n",
    "best_weights = ''\n",
    "best_metric =''\n",
    "\n",
    "weights = ['uniform','distance']\n",
    "metric = ['minkowski','euclidean','manhattan','chebyshev']\n",
    "for weight in weights:\n",
    "    \n",
    "    for metr in metric:\n",
    "\n",
    "        for k in range(3, 20):\n",
    "            knn = KNeighborsClassifier(algorithm='auto', leaf_size=30, metric= metr,\n",
    "                   metric_params=None, n_jobs=None, n_neighbors=k, p=1,\n",
    "                   weights= weight )\n",
    "\n",
    "            knn.fit(X_train,y_train)\n",
    "            y_train_predict = knn.predict(X_train)\n",
    "            score = accuracy_score(y_train,y_train_predict)\n",
    "            if score > best_score :\n",
    "                best_score = score\n",
    "                best_k = k\n",
    "                best_metric = metr\n",
    "                best_weights = weight\n",
    "\n",
    "print('best_score:',best_score)\n",
    "print('best_k:',best_k)\n",
    "print('best_metric:',best_metric)\n",
    "print('best_weights:',best_weights)"
   ]
  },
  {
   "cell_type": "code",
   "execution_count": 34,
   "metadata": {},
   "outputs": [
    {
     "data": {
      "text/plain": [
       "KNeighborsClassifier(algorithm='auto', leaf_size=30, metric='minkowski',\n",
       "                     metric_params=None, n_jobs=None, n_neighbors=3, p=1,\n",
       "                     weights='distance')"
      ]
     },
     "execution_count": 34,
     "metadata": {},
     "output_type": "execute_result"
    }
   ],
   "source": [
    "knn = KNeighborsClassifier(algorithm='auto', leaf_size=30, metric='minkowski',\n",
    "           metric_params=None, n_jobs=None, n_neighbors=3, p=1,\n",
    "           weights='distance',\n",
    "                          )\n",
    "knn.fit(X_train,y_train)"
   ]
  },
  {
   "cell_type": "markdown",
   "metadata": {},
   "source": [
    ">  ### The model training result is 100%"
   ]
  },
  {
   "cell_type": "code",
   "execution_count": 35,
   "metadata": {},
   "outputs": [
    {
     "name": "stdout",
     "output_type": "stream",
     "text": [
      "KNN Train Accuracy: 1.000\n"
     ]
    }
   ],
   "source": [
    "y_train_predict = knn.predict(X_train)\n",
    "print (\"KNN Train Accuracy: %.3f\" % accuracy_score(y_train,y_train_predict))"
   ]
  },
  {
   "cell_type": "markdown",
   "metadata": {},
   "source": [
    ">  ###  Although the accuracy of this model is only 63%, it can be used in predicting reluctantly."
   ]
  },
  {
   "cell_type": "code",
   "execution_count": 36,
   "metadata": {},
   "outputs": [
    {
     "name": "stdout",
     "output_type": "stream",
     "text": [
      "KNN Test Accuracy: 0.636\n"
     ]
    }
   ],
   "source": [
    "y_test_predict = knn.predict(X_test)\n",
    "print (\"KNN Test Accuracy: %.3f\" % accuracy_score(y_test,y_test_predict))"
   ]
  },
  {
   "cell_type": "markdown",
   "metadata": {},
   "source": [
    "> ### We could get the information from the confusion matrix that the model misclassified the group."
   ]
  },
  {
   "cell_type": "code",
   "execution_count": 37,
   "metadata": {},
   "outputs": [
    {
     "name": "stdout",
     "output_type": "stream",
     "text": [
      "              precision    recall  f1-score   support\n",
      "\n",
      "           1       0.74      0.83      0.78        54\n",
      "           2       0.11      0.10      0.11        10\n",
      "           3       0.43      0.25      0.32        12\n",
      "           4       0.00      0.00      0.00         1\n",
      "\n",
      "    accuracy                           0.64        77\n",
      "   macro avg       0.32      0.30      0.30        77\n",
      "weighted avg       0.60      0.64      0.61        77\n",
      "\n"
     ]
    },
    {
     "name": "stderr",
     "output_type": "stream",
     "text": [
      "/Users/Tommy/opt/anaconda3/lib/python3.7/site-packages/sklearn/metrics/classification.py:1437: UndefinedMetricWarning: Precision and F-score are ill-defined and being set to 0.0 in labels with no predicted samples.\n",
      "  'precision', 'predicted', average, warn_for)\n"
     ]
    },
    {
     "data": {
      "image/png": "[encoded data removed]",
      "text/plain": [
       "<Figure size 480x320 with 2 Axes>"
      ]
     },
     "metadata": {},
     "output_type": "display_data"
    }
   ],
   "source": [
    "print (classification_report(y_test,y_test_predict))\n",
    "cm = confusion_matrix(y_test, y_test_predict) \n",
    "cm_df = pd.DataFrame(cm,\n",
    "                     index = ['edge players','normal players','first player','stars'], \n",
    "                     columns = ['edge players','normal players','first player','stars'])\n",
    "\n",
    "plt.figure(dpi=80, figsize=(6, 4))\n",
    "\n",
    "sns.heatmap(cm_df, annot=True)\n",
    "plt.title('Naive Bayes \\nAccuracy:{0:.3f}'.format(accuracy_score(y_test, y_test_predict)))\n",
    "plt.ylabel('True label')\n",
    "plt.xlabel('Predicted label')\n",
    "plt.show()\n"
   ]
  },
  {
   "cell_type": "code",
   "execution_count": null,
   "metadata": {},
   "outputs": [],
   "source": []
  },
  {
   "cell_type": "markdown",
   "metadata": {},
   "source": [
    ">### Create a SVM model to training all selected features by Skit-learn."
   ]
  },
  {
   "cell_type": "code",
   "execution_count": 38,
   "metadata": {},
   "outputs": [
    {
     "data": {
      "text/plain": [
       "SVC(C=1, cache_size=200, class_weight=None, coef0=1,\n",
       "    decision_function_shape='ovr', degree=2, gamma=0.005, kernel='rbf',\n",
       "    max_iter=-1, probability=False, random_state=None, shrinking=True, tol=0.5,\n",
       "    verbose=False)"
      ]
     },
     "execution_count": 38,
     "metadata": {},
     "output_type": "execute_result"
    }
   ],
   "source": [
    "svm= SVC(C=1, kernel='rbf', degree=2, gamma=0.005,coef0=1,shrinking=True, tol=0.5,probability=False,\n",
    "        max_iter=-1,)\n",
    "svm.fit(X_train,y_train)"
   ]
  },
  {
   "cell_type": "markdown",
   "metadata": {},
   "source": [
    ">  ### The model training result is 100%"
   ]
  },
  {
   "cell_type": "code",
   "execution_count": 39,
   "metadata": {},
   "outputs": [
    {
     "name": "stdout",
     "output_type": "stream",
     "text": [
      "SVM Train Accuracy: 1.000\n"
     ]
    }
   ],
   "source": [
    "y_train_predict = svm.predict(X_train)\n",
    "print (\"SVM Train Accuracy: %.3f\" % accuracy_score(y_train,y_train_predict))"
   ]
  },
  {
   "cell_type": "markdown",
   "metadata": {},
   "source": [
    "> ### The model testing result is only 70%, the model is available to predict."
   ]
  },
  {
   "cell_type": "code",
   "execution_count": 40,
   "metadata": {},
   "outputs": [
    {
     "name": "stdout",
     "output_type": "stream",
     "text": [
      "Logistic Test Accuracy: 0.701\n"
     ]
    }
   ],
   "source": [
    "y_test_predict = svm.predict(X_test)\n",
    "print(\"Logistic Test Accuracy: %.3f\" % accuracy_score(y_test,y_test_predict))"
   ]
  },
  {
   "cell_type": "markdown",
   "metadata": {},
   "source": [
    "> ### We could get the information from the confusion matrix that the model misclassified the group."
   ]
  },
  {
   "cell_type": "code",
   "execution_count": 41,
   "metadata": {},
   "outputs": [
    {
     "name": "stderr",
     "output_type": "stream",
     "text": [
      "/Users/Tommy/opt/anaconda3/lib/python3.7/site-packages/sklearn/metrics/classification.py:1437: UndefinedMetricWarning: Precision and F-score are ill-defined and being set to 0.0 in labels with no predicted samples.\n",
      "  'precision', 'predicted', average, warn_for)\n"
     ]
    },
    {
     "name": "stdout",
     "output_type": "stream",
     "text": [
      "              precision    recall  f1-score   support\n",
      "\n",
      "           1       0.70      1.00      0.82        54\n",
      "           2       0.00      0.00      0.00        10\n",
      "           3       0.00      0.00      0.00        12\n",
      "           4       0.00      0.00      0.00         1\n",
      "\n",
      "    accuracy                           0.70        77\n",
      "   macro avg       0.18      0.25      0.21        77\n",
      "weighted avg       0.49      0.70      0.58        77\n",
      "\n"
     ]
    },
    {
     "data": {
      "image/png": "[encoded data removed]",
      "text/plain": [
       "<Figure size 480x320 with 2 Axes>"
      ]
     },
     "metadata": {},
     "output_type": "display_data"
    }
   ],
   "source": [
    "print (classification_report(y_test,y_test_predict))\n",
    "cm = confusion_matrix(y_test, y_test_predict) \n",
    "cm_df = pd.DataFrame(cm,\n",
    "                     index = ['edge players','normal players','first player','stars'], \n",
    "                     columns = ['edge players','normal players','first player','stars'])\n",
    "\n",
    "plt.figure(dpi=80, figsize=(6, 4))\n",
    "sns.heatmap(cm_df, annot=True)\n",
    "plt.title('Naive Bayes \\nAccuracy:{0:.3f}'.format(accuracy_score(y_test, y_test_predict)))\n",
    "plt.ylabel('True label')\n",
    "plt.xlabel('Predicted label')\n",
    "plt.show()"
   ]
  },
  {
   "cell_type": "code",
   "execution_count": null,
   "metadata": {},
   "outputs": [],
   "source": []
  },
  {
   "cell_type": "markdown",
   "metadata": {},
   "source": [
    "### Create a Random Forest classifier model to training all selected features by Skit-learn."
   ]
  },
  {
   "cell_type": "code",
   "execution_count": 42,
   "metadata": {},
   "outputs": [
    {
     "name": "stderr",
     "output_type": "stream",
     "text": [
      "[Parallel(n_jobs=-1)]: Using backend ThreadingBackend with 8 concurrent workers.\n",
      "[Parallel(n_jobs=-1)]: Done  34 tasks      | elapsed:    0.1s\n",
      "[Parallel(n_jobs=-1)]: Done 100 out of 100 | elapsed:    0.1s finished\n"
     ]
    },
    {
     "data": {
      "text/plain": [
       "0.672077922077922"
      ]
     },
     "execution_count": 42,
     "metadata": {},
     "output_type": "execute_result"
    }
   ],
   "source": [
    "forest = RandomForestClassifier(criterion='gini', max_leaf_nodes=None,\n",
    "                                n_estimators = 100, random_state =1,\n",
    "                                n_jobs =-1,verbose=True, oob_score=True)\n",
    "forest.fit(X_train,y_train)\n",
    "forest.oob_score_"
   ]
  },
  {
   "cell_type": "markdown",
   "metadata": {},
   "source": [
    ">### The model training result is 100%"
   ]
  },
  {
   "cell_type": "code",
   "execution_count": 43,
   "metadata": {},
   "outputs": [
    {
     "name": "stdout",
     "output_type": "stream",
     "text": [
      "Random Forest Train Accuracy: 1.000\n"
     ]
    },
    {
     "name": "stderr",
     "output_type": "stream",
     "text": [
      "[Parallel(n_jobs=8)]: Using backend ThreadingBackend with 8 concurrent workers.\n",
      "[Parallel(n_jobs=8)]: Done  34 tasks      | elapsed:    0.0s\n",
      "[Parallel(n_jobs=8)]: Done 100 out of 100 | elapsed:    0.0s finished\n"
     ]
    }
   ],
   "source": [
    "y_train_predict = forest.predict(X_train)\n",
    "print (\"Random Forest Train Accuracy: %.3f\" % accuracy_score(y_train,y_train_predict))\n"
   ]
  },
  {
   "cell_type": "markdown",
   "metadata": {},
   "source": [
    ">### The model testing result is 63%. The Random Forest model result is worse than SVM model."
   ]
  },
  {
   "cell_type": "code",
   "execution_count": 44,
   "metadata": {},
   "outputs": [
    {
     "name": "stdout",
     "output_type": "stream",
     "text": [
      "Random Forest Test Accuracy: 0.636\n"
     ]
    },
    {
     "name": "stderr",
     "output_type": "stream",
     "text": [
      "[Parallel(n_jobs=8)]: Using backend ThreadingBackend with 8 concurrent workers.\n",
      "[Parallel(n_jobs=8)]: Done  34 tasks      | elapsed:    0.0s\n",
      "[Parallel(n_jobs=8)]: Done 100 out of 100 | elapsed:    0.0s finished\n"
     ]
    }
   ],
   "source": [
    "y_test_predict = forest.predict(X_test)\n",
    "print(\"Random Forest Test Accuracy: %.3f\" % accuracy_score(y_test,y_test_predict))"
   ]
  },
  {
   "cell_type": "markdown",
   "metadata": {},
   "source": [
    "> ### We also could find which feature is more important than others from the bar chart."
   ]
  },
  {
   "cell_type": "code",
   "execution_count": 45,
   "metadata": {},
   "outputs": [
    {
     "data": {
      "text/plain": [
       "Text(0.5, 1.0, 'Feature Importance')"
      ]
     },
     "execution_count": 45,
     "metadata": {},
     "output_type": "execute_result"
    },
    {
     "data": {
      "image/png": "[encoded data removed]",
      "text/plain": [
       "<Figure size 432x288 with 1 Axes>"
      ]
     },
     "metadata": {},
     "output_type": "display_data"
    }
   ],
   "source": [
    "plt.bar(range(len(X_train.columns.values)), forest.feature_importances_)\n",
    "plt.xticks(range(len(X_train.columns.values)),X_train.columns.values, rotation= 45)\n",
    "\n",
    "plt.title('Feature Importance')"
   ]
  },
  {
   "cell_type": "markdown",
   "metadata": {},
   "source": [
    "> ### We could get the information from the confusion matrix that the model misclassified the group."
   ]
  },
  {
   "cell_type": "code",
   "execution_count": 46,
   "metadata": {},
   "outputs": [
    {
     "name": "stdout",
     "output_type": "stream",
     "text": [
      "              precision    recall  f1-score   support\n",
      "\n",
      "           1       0.73      0.85      0.79        54\n",
      "           2       0.00      0.00      0.00        10\n",
      "           3       0.25      0.17      0.20        12\n",
      "           4       1.00      1.00      1.00         1\n",
      "\n",
      "    accuracy                           0.64        77\n",
      "   macro avg       0.50      0.50      0.50        77\n",
      "weighted avg       0.56      0.64      0.60        77\n",
      "\n"
     ]
    },
    {
     "data": {
      "image/png": "[encoded data removed]",
      "text/plain": [
       "<Figure size 480x320 with 2 Axes>"
      ]
     },
     "metadata": {},
     "output_type": "display_data"
    }
   ],
   "source": [
    "print (classification_report(y_test,y_test_predict))\n",
    "cm = confusion_matrix(y_test, y_test_predict) \n",
    "cm_df = pd.DataFrame(cm,\n",
    "                     index = ['edge players','normal players','first player','stars'], \n",
    "                     columns = ['edge players','normal players','first player','stars'])\n",
    "\n",
    "plt.figure(dpi=80, figsize=(6, 4))\n",
    "sns.heatmap(cm_df, annot=True)\n",
    "plt.title('Naive Bayes \\nAccuracy:{0:.3f}'.format(accuracy_score(y_test, y_test_predict)))\n",
    "plt.ylabel('True label')\n",
    "plt.xlabel('Predicted label')\n",
    "plt.show()"
   ]
  },
  {
   "cell_type": "code",
   "execution_count": null,
   "metadata": {},
   "outputs": [],
   "source": []
  },
  {
   "cell_type": "markdown",
   "metadata": {},
   "source": [
    "*****\n"
   ]
  },
  {
   "cell_type": "markdown",
   "metadata": {},
   "source": [
    "> ### By analyzing the accuracy of the above different models, it appears that the SVM model has higher accuracy(70%), followed by the Random Forest and KNN models, which has an accuracy of 63%. However, All of the regression models have poor fitting effects. Improving accuracy depends on more data and model tuning, which needs to be optimized more carefully later."
   ]
  },
  {
   "cell_type": "code",
   "execution_count": null,
   "metadata": {},
   "outputs": [],
   "source": []
  },
  {
   "cell_type": "code",
   "execution_count": null,
   "metadata": {},
   "outputs": [],
   "source": []
  },
  {
   "cell_type": "code",
   "execution_count": null,
   "metadata": {},
   "outputs": [],
   "source": []
  },
  {
   "cell_type": "code",
   "execution_count": null,
   "metadata": {},
   "outputs": [],
   "source": []
  },
  {
   "cell_type": "code",
   "execution_count": null,
   "metadata": {},
   "outputs": [],
   "source": []
  },
  {
   "cell_type": "code",
   "execution_count": null,
   "metadata": {},
   "outputs": [],
   "source": []
  },
  {
   "cell_type": "code",
   "execution_count": null,
   "metadata": {},
   "outputs": [],
   "source": []
  },
  {
   "cell_type": "code",
   "execution_count": null,
   "metadata": {},
   "outputs": [],
   "source": []
  },
  {
   "cell_type": "code",
   "execution_count": null,
   "metadata": {},
   "outputs": [],
   "source": []
  },
  {
   "cell_type": "code",
   "execution_count": null,
   "metadata": {},
   "outputs": [],
   "source": []
  }
 ],
 "metadata": {
  "kernelspec": {
   "display_name": "Python 3",
   "language": "python",
   "name": "python3"
  },
  "language_info": {
   "codemirror_mode": {
    "name": "ipython",
    "version": 3
   },
   "file_extension": ".py",
   "mimetype": "text/x-python",
   "name": "python",
   "nbconvert_exporter": "python",
   "pygments_lexer": "ipython3",
   "version": "3.7.4"
  }
 },
 "nbformat": 4,
 "nbformat_minor": 4
}
