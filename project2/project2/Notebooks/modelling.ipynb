{
 "cells": [
  {
   "cell_type": "markdown",
   "metadata": {},
   "source": [
    "# Modelling"
   ]
  },
  {
   "cell_type": "code",
   "execution_count": 368,
   "metadata": {},
   "outputs": [],
   "source": [
    "import matplotlib\n",
    "from matplotlib import pyplot as plt\n",
    "from matplotlib.pyplot import GridSpec\n",
    "import numpy as np\n",
    "import pandas as pd\n",
    "import os, sys\n",
    "import seaborn as sns\n",
    "sns.set(style=\"ticks\")\n",
    "from pylab import rcParams\n",
    "rcParams['figure.figsize'] = 25, 20\n",
    "rcParams['font.size'] = 20\n",
    "rcParams['axes.facecolor'] = 'white'\n",
    "matplotlib.style.use('ggplot')\n",
    "import statsmodels.formula.api as smf\n",
    "import statsmodels.api as sm\n",
    "import missingno as msno\n",
    "import sklearn\n",
    "%matplotlib inline"
   ]
  },
  {
   "cell_type": "markdown",
   "metadata": {},
   "source": [
    "## fmanual_feature_Select analysis"
   ]
  },
  {
   "cell_type": "code",
   "execution_count": 369,
   "metadata": {},
   "outputs": [],
   "source": [
    "ffs_players_salary = pd.read_csv('fmanual_feature_Select_players_salary.csv.gz',index_col=0)"
   ]
  },
  {
   "cell_type": "code",
   "execution_count": 370,
   "metadata": {},
   "outputs": [
    {
     "data": {
      "text/html": [
       "<div>\n",
       "<style scoped>\n",
       "    .dataframe tbody tr th:only-of-type {\n",
       "        vertical-align: middle;\n",
       "    }\n",
       "\n",
       "    .dataframe tbody tr th {\n",
       "        vertical-align: top;\n",
       "    }\n",
       "\n",
       "    .dataframe thead th {\n",
       "        text-align: right;\n",
       "    }\n",
       "</style>\n",
       "<table border=\"1\" class=\"dataframe\">\n",
       "  <thead>\n",
       "    <tr style=\"text-align: right;\">\n",
       "      <th></th>\n",
       "      <th>Salary</th>\n",
       "      <th>MP</th>\n",
       "      <th>FG</th>\n",
       "      <th>FGA</th>\n",
       "      <th>P2A</th>\n",
       "      <th>P2</th>\n",
       "      <th>FT</th>\n",
       "      <th>FTA</th>\n",
       "      <th>DRB</th>\n",
       "      <th>AST</th>\n",
       "      <th>TOV</th>\n",
       "      <th>PTS</th>\n",
       "    </tr>\n",
       "  </thead>\n",
       "  <tbody>\n",
       "    <tr>\n",
       "      <td>0</td>\n",
       "      <td>19863636.0</td>\n",
       "      <td>33.0</td>\n",
       "      <td>5.4</td>\n",
       "      <td>12.5</td>\n",
       "      <td>8.6</td>\n",
       "      <td>4.2</td>\n",
       "      <td>2.4</td>\n",
       "      <td>3.5</td>\n",
       "      <td>5.8</td>\n",
       "      <td>3.7</td>\n",
       "      <td>1.6</td>\n",
       "      <td>14.4</td>\n",
       "    </tr>\n",
       "    <tr>\n",
       "      <td>1</td>\n",
       "      <td>2329200.0</td>\n",
       "      <td>23.6</td>\n",
       "      <td>3.5</td>\n",
       "      <td>8.6</td>\n",
       "      <td>5.1</td>\n",
       "      <td>2.1</td>\n",
       "      <td>1.1</td>\n",
       "      <td>1.2</td>\n",
       "      <td>1.9</td>\n",
       "      <td>3.3</td>\n",
       "      <td>1.3</td>\n",
       "      <td>9.4</td>\n",
       "    </tr>\n",
       "    <tr>\n",
       "      <td>3</td>\n",
       "      <td>1618520.0</td>\n",
       "      <td>15.8</td>\n",
       "      <td>2.1</td>\n",
       "      <td>4.6</td>\n",
       "      <td>2.4</td>\n",
       "      <td>1.3</td>\n",
       "      <td>1.0</td>\n",
       "      <td>1.3</td>\n",
       "      <td>1.6</td>\n",
       "      <td>0.7</td>\n",
       "      <td>0.8</td>\n",
       "      <td>6.0</td>\n",
       "    </tr>\n",
       "    <tr>\n",
       "      <td>5</td>\n",
       "      <td>1000000.0</td>\n",
       "      <td>10.9</td>\n",
       "      <td>1.1</td>\n",
       "      <td>2.8</td>\n",
       "      <td>1.0</td>\n",
       "      <td>0.6</td>\n",
       "      <td>0.3</td>\n",
       "      <td>0.5</td>\n",
       "      <td>1.0</td>\n",
       "      <td>0.5</td>\n",
       "      <td>0.3</td>\n",
       "      <td>3.1</td>\n",
       "    </tr>\n",
       "    <tr>\n",
       "      <td>6</td>\n",
       "      <td>28000000.0</td>\n",
       "      <td>30.8</td>\n",
       "      <td>4.8</td>\n",
       "      <td>10.9</td>\n",
       "      <td>6.5</td>\n",
       "      <td>3.3</td>\n",
       "      <td>0.9</td>\n",
       "      <td>1.2</td>\n",
       "      <td>5.3</td>\n",
       "      <td>4.1</td>\n",
       "      <td>1.1</td>\n",
       "      <td>12.0</td>\n",
       "    </tr>\n",
       "  </tbody>\n",
       "</table>\n",
       "</div>"
      ],
      "text/plain": [
       "       Salary    MP   FG   FGA  P2A   P2   FT  FTA  DRB  AST  TOV   PTS\n",
       "0  19863636.0  33.0  5.4  12.5  8.6  4.2  2.4  3.5  5.8  3.7  1.6  14.4\n",
       "1   2329200.0  23.6  3.5   8.6  5.1  2.1  1.1  1.2  1.9  3.3  1.3   9.4\n",
       "3   1618520.0  15.8  2.1   4.6  2.4  1.3  1.0  1.3  1.6  0.7  0.8   6.0\n",
       "5   1000000.0  10.9  1.1   2.8  1.0  0.6  0.3  0.5  1.0  0.5  0.3   3.1\n",
       "6  28000000.0  30.8  4.8  10.9  6.5  3.3  0.9  1.2  5.3  4.1  1.1  12.0"
      ]
     },
     "execution_count": 370,
     "metadata": {},
     "output_type": "execute_result"
    }
   ],
   "source": [
    "ffs_players_salary.head()"
   ]
  },
  {
   "cell_type": "code",
   "execution_count": 371,
   "metadata": {},
   "outputs": [
    {
     "data": {
      "text/html": [
       "<div>\n",
       "<style scoped>\n",
       "    .dataframe tbody tr th:only-of-type {\n",
       "        vertical-align: middle;\n",
       "    }\n",
       "\n",
       "    .dataframe tbody tr th {\n",
       "        vertical-align: top;\n",
       "    }\n",
       "\n",
       "    .dataframe thead th {\n",
       "        text-align: right;\n",
       "    }\n",
       "</style>\n",
       "<table border=\"1\" class=\"dataframe\">\n",
       "  <thead>\n",
       "    <tr style=\"text-align: right;\">\n",
       "      <th></th>\n",
       "      <th>Salary</th>\n",
       "      <th>MP</th>\n",
       "      <th>FG</th>\n",
       "      <th>FGA</th>\n",
       "      <th>P2A</th>\n",
       "      <th>P2</th>\n",
       "      <th>FT</th>\n",
       "      <th>FTA</th>\n",
       "      <th>DRB</th>\n",
       "      <th>AST</th>\n",
       "      <th>TOV</th>\n",
       "      <th>PTS</th>\n",
       "      <th>salary_scaled</th>\n",
       "    </tr>\n",
       "  </thead>\n",
       "  <tbody>\n",
       "    <tr>\n",
       "      <td>0</td>\n",
       "      <td>19863636.0</td>\n",
       "      <td>33.0</td>\n",
       "      <td>5.4</td>\n",
       "      <td>12.5</td>\n",
       "      <td>8.6</td>\n",
       "      <td>4.2</td>\n",
       "      <td>2.4</td>\n",
       "      <td>3.5</td>\n",
       "      <td>5.8</td>\n",
       "      <td>3.7</td>\n",
       "      <td>1.6</td>\n",
       "      <td>14.4</td>\n",
       "      <td>0.489285</td>\n",
       "    </tr>\n",
       "    <tr>\n",
       "      <td>1</td>\n",
       "      <td>2329200.0</td>\n",
       "      <td>23.6</td>\n",
       "      <td>3.5</td>\n",
       "      <td>8.6</td>\n",
       "      <td>5.1</td>\n",
       "      <td>2.1</td>\n",
       "      <td>1.1</td>\n",
       "      <td>1.2</td>\n",
       "      <td>1.9</td>\n",
       "      <td>3.3</td>\n",
       "      <td>1.3</td>\n",
       "      <td>9.4</td>\n",
       "      <td>0.049622</td>\n",
       "    </tr>\n",
       "    <tr>\n",
       "      <td>3</td>\n",
       "      <td>1618520.0</td>\n",
       "      <td>15.8</td>\n",
       "      <td>2.1</td>\n",
       "      <td>4.6</td>\n",
       "      <td>2.4</td>\n",
       "      <td>1.3</td>\n",
       "      <td>1.0</td>\n",
       "      <td>1.3</td>\n",
       "      <td>1.6</td>\n",
       "      <td>0.7</td>\n",
       "      <td>0.8</td>\n",
       "      <td>6.0</td>\n",
       "      <td>0.031802</td>\n",
       "    </tr>\n",
       "    <tr>\n",
       "      <td>5</td>\n",
       "      <td>1000000.0</td>\n",
       "      <td>10.9</td>\n",
       "      <td>1.1</td>\n",
       "      <td>2.8</td>\n",
       "      <td>1.0</td>\n",
       "      <td>0.6</td>\n",
       "      <td>0.3</td>\n",
       "      <td>0.5</td>\n",
       "      <td>1.0</td>\n",
       "      <td>0.5</td>\n",
       "      <td>0.3</td>\n",
       "      <td>3.1</td>\n",
       "      <td>0.016294</td>\n",
       "    </tr>\n",
       "    <tr>\n",
       "      <td>6</td>\n",
       "      <td>28000000.0</td>\n",
       "      <td>30.8</td>\n",
       "      <td>4.8</td>\n",
       "      <td>10.9</td>\n",
       "      <td>6.5</td>\n",
       "      <td>3.3</td>\n",
       "      <td>0.9</td>\n",
       "      <td>1.2</td>\n",
       "      <td>5.3</td>\n",
       "      <td>4.1</td>\n",
       "      <td>1.1</td>\n",
       "      <td>12.0</td>\n",
       "      <td>0.693298</td>\n",
       "    </tr>\n",
       "  </tbody>\n",
       "</table>\n",
       "</div>"
      ],
      "text/plain": [
       "       Salary    MP   FG   FGA  P2A   P2   FT  FTA  DRB  AST  TOV   PTS  \\\n",
       "0  19863636.0  33.0  5.4  12.5  8.6  4.2  2.4  3.5  5.8  3.7  1.6  14.4   \n",
       "1   2329200.0  23.6  3.5   8.6  5.1  2.1  1.1  1.2  1.9  3.3  1.3   9.4   \n",
       "3   1618520.0  15.8  2.1   4.6  2.4  1.3  1.0  1.3  1.6  0.7  0.8   6.0   \n",
       "5   1000000.0  10.9  1.1   2.8  1.0  0.6  0.3  0.5  1.0  0.5  0.3   3.1   \n",
       "6  28000000.0  30.8  4.8  10.9  6.5  3.3  0.9  1.2  5.3  4.1  1.1  12.0   \n",
       "\n",
       "   salary_scaled  \n",
       "0       0.489285  \n",
       "1       0.049622  \n",
       "3       0.031802  \n",
       "5       0.016294  \n",
       "6       0.693298  "
      ]
     },
     "execution_count": 371,
     "metadata": {},
     "output_type": "execute_result"
    }
   ],
   "source": [
    "salary_col = ffs_players_salary['Salary']\n",
    "salary_scaled = (salary_col-salary_col.min())/(salary_col.max()-salary_col.min())\n",
    "ffs_players_salary['salary_scaled']= salary_scaled.copy()\n",
    "ffs_players_salary.head()"
   ]
  },
  {
   "cell_type": "markdown",
   "metadata": {},
   "source": [
    "### linear regression"
   ]
  },
  {
   "cell_type": "code",
   "execution_count": 372,
   "metadata": {},
   "outputs": [
    {
     "data": {
      "image/png": "[encoded data removed]",
      "text/plain": [
       "<Figure size 432x288 with 1 Axes>"
      ]
     },
     "metadata": {
      "needs_background": "light"
     },
     "output_type": "display_data"
    },
    {
     "name": "stdout",
     "output_type": "stream",
     "text": [
      "                            OLS Regression Results                            \n",
      "==============================================================================\n",
      "Dep. Variable:          salary_scaled   R-squared:                       0.397\n",
      "Model:                            OLS   Adj. R-squared:                  0.396\n",
      "Method:                 Least Squares   F-statistic:                     252.5\n",
      "Date:                Mon, 06 Apr 2020   Prob (F-statistic):           4.95e-44\n",
      "Time:                        13:07:25   Log-Likelihood:                 123.77\n",
      "No. Observations:                 385   AIC:                            -243.5\n",
      "Df Residuals:                     383   BIC:                            -235.6\n",
      "Df Model:                           1                                         \n",
      "Covariance Type:            nonrobust                                         \n",
      "==============================================================================\n",
      "                 coef    std err          t      P>|t|      [0.025      0.975]\n",
      "------------------------------------------------------------------------------\n",
      "Intercept     -0.0367      0.017     -2.193      0.029      -0.070      -0.004\n",
      "PTS            0.0223      0.001     15.890      0.000       0.020       0.025\n",
      "==============================================================================\n",
      "Omnibus:                       45.827   Durbin-Watson:                   1.930\n",
      "Prob(Omnibus):                  0.000   Jarque-Bera (JB):               67.466\n",
      "Skew:                           0.786   Prob(JB):                     2.24e-15\n",
      "Kurtosis:                       4.316   Cond. No.                         22.4\n",
      "==============================================================================\n",
      "\n",
      "Warnings:\n",
      "[1] Standard Errors assume that the covariance matrix of the errors is correctly specified.\n"
     ]
    }
   ],
   "source": [
    "linear_model = smf.ols(formula='salary_scaled ~ 1 + PTS', data=ffs_players_salary).fit()\n",
    "\n",
    "\n",
    "plt.xlabel('PTS')\n",
    "plt.ylabel('salary_scaled')\n",
    "x = pd.DataFrame({'PTS': np.linspace(ffs_players_salary.PTS.min(), ffs_players_salary.PTS.max(), len(ffs_players_salary.PTS)) })\n",
    "\n",
    "x_min = ffs_players_salary.PTS.min()\n",
    "x_max = ffs_players_salary.PTS.max()\n",
    "plt.xlim(x_min,x_max)\n",
    "plt.plot(ffs_players_salary.PTS,ffs_players_salary.salary_scaled, 'o')\n",
    "plt.plot(x, linear_model.predict(x), 'g-',)\n",
    "\n",
    "\n",
    "plt.show()\n",
    "print(linear_model.summary())"
   ]
  },
  {
   "cell_type": "code",
   "execution_count": 373,
   "metadata": {},
   "outputs": [
    {
     "data": {
      "image/png": "[encoded data removed]",
      "text/plain": [
       "<Figure size 432x288 with 1 Axes>"
      ]
     },
     "metadata": {
      "needs_background": "light"
     },
     "output_type": "display_data"
    },
    {
     "name": "stdout",
     "output_type": "stream",
     "text": [
      "                            OLS Regression Results                            \n",
      "==============================================================================\n",
      "Dep. Variable:          salary_scaled   R-squared:                       0.406\n",
      "Model:                            OLS   Adj. R-squared:                  0.402\n",
      "Method:                 Least Squares   F-statistic:                     86.93\n",
      "Date:                Mon, 06 Apr 2020   Prob (F-statistic):           7.20e-43\n",
      "Time:                        13:07:25   Log-Likelihood:                 126.68\n",
      "No. Observations:                 385   AIC:                            -245.4\n",
      "Df Residuals:                     381   BIC:                            -229.5\n",
      "Df Model:                           3                                         \n",
      "Covariance Type:            nonrobust                                         \n",
      "=================================================================================\n",
      "                    coef    std err          t      P>|t|      [0.025      0.975]\n",
      "---------------------------------------------------------------------------------\n",
      "Intercept         0.0316      0.041      0.770      0.442      -0.049       0.112\n",
      "PTS               0.0058      0.011      0.511      0.609      -0.016       0.028\n",
      "I(PTS ** 2.0)     0.0009      0.001      1.014      0.311      -0.001       0.003\n",
      "I(PTS ** 3.0) -1.082e-05   1.91e-05     -0.566      0.572   -4.84e-05    2.68e-05\n",
      "==============================================================================\n",
      "Omnibus:                       51.950   Durbin-Watson:                   1.933\n",
      "Prob(Omnibus):                  0.000   Jarque-Bera (JB):               86.999\n",
      "Skew:                           0.813   Prob(JB):                     1.28e-19\n",
      "Kurtosis:                       4.667   Cond. No.                     2.60e+04\n",
      "==============================================================================\n",
      "\n",
      "Warnings:\n",
      "[1] Standard Errors assume that the covariance matrix of the errors is correctly specified.\n",
      "[2] The condition number is large, 2.6e+04. This might indicate that there are\n",
      "strong multicollinearity or other numerical problems.\n"
     ]
    }
   ],
   "source": [
    "linear_model2 = smf.ols(formula='salary_scaled ~ 1 + PTS + I(PTS ** 2.0)+I(PTS ** 3.0)', data=ffs_players_salary).fit()\n",
    "\n",
    "\n",
    "\n",
    "plt.xlabel('PTS')\n",
    "plt.ylabel('salary_scaled')\n",
    "x = pd.DataFrame({'PTS': np.linspace(ffs_players_salary.PTS.min(), ffs_players_salary.PTS.max(), len(ffs_players_salary.PTS)) })\n",
    "\n",
    "x_min = ffs_players_salary.PTS.min()\n",
    "x_max = ffs_players_salary.PTS.max()\n",
    "plt.xlim(x_min,x_max)\n",
    "plt.plot(ffs_players_salary.PTS,ffs_players_salary.salary_scaled, 'o')\n",
    "plt.plot(x, linear_model2.predict(x), 'g-',)\n",
    "\n",
    "\n",
    "plt.show()\n",
    "print(linear_model2.summary())"
   ]
  },
  {
   "cell_type": "code",
   "execution_count": 374,
   "metadata": {},
   "outputs": [
    {
     "name": "stdout",
     "output_type": "stream",
     "text": [
      "                            OLS Regression Results                            \n",
      "==============================================================================\n",
      "Dep. Variable:          salary_scaled   R-squared:                       0.491\n",
      "Model:                            OLS   Adj. R-squared:                  0.476\n",
      "Method:                 Least Squares   F-statistic:                     32.76\n",
      "Date:                Mon, 06 Apr 2020   Prob (F-statistic):           2.45e-48\n",
      "Time:                        13:07:25   Log-Likelihood:                 156.44\n",
      "No. Observations:                 385   AIC:                            -288.9\n",
      "Df Residuals:                     373   BIC:                            -241.4\n",
      "Df Model:                          11                                         \n",
      "Covariance Type:            nonrobust                                         \n",
      "==============================================================================\n",
      "                 coef    std err          t      P>|t|      [0.025      0.975]\n",
      "------------------------------------------------------------------------------\n",
      "Intercept     -0.0529      0.027     -1.988      0.048      -0.105      -0.001\n",
      "MP            -0.0035      0.002     -1.469      0.143      -0.008       0.001\n",
      "FG            -0.0440      0.145     -0.304      0.761      -0.329       0.241\n",
      "FGA            0.0500      0.020      2.548      0.011       0.011       0.089\n",
      "FT             0.1245      0.062      2.013      0.045       0.003       0.246\n",
      "FTA           -0.0626      0.032     -1.940      0.053      -0.126       0.001\n",
      "DRB            0.0462      0.008      5.608      0.000       0.030       0.062\n",
      "AST            0.0440      0.009      4.734      0.000       0.026       0.062\n",
      "TOV           -0.0620      0.029     -2.157      0.032      -0.118      -0.005\n",
      "PTS           -0.0123      0.048     -0.257      0.797      -0.107       0.082\n",
      "P2A           -0.0584      0.025     -2.329      0.020      -0.108      -0.009\n",
      "P2             0.1002      0.069      1.442      0.150      -0.036       0.237\n",
      "==============================================================================\n",
      "Omnibus:                       28.662   Durbin-Watson:                   1.812\n",
      "Prob(Omnibus):                  0.000   Jarque-Bera (JB):               43.546\n",
      "Skew:                           0.521   Prob(JB):                     3.50e-10\n",
      "Kurtosis:                       4.277   Cond. No.                         593.\n",
      "==============================================================================\n",
      "\n",
      "Warnings:\n",
      "[1] Standard Errors assume that the covariance matrix of the errors is correctly specified.\n"
     ]
    }
   ],
   "source": [
    "linear_model3 = smf.ols(formula='salary_scaled ~ 1 + MP+ FG+ FGA+ FT+ FTA+ DRB+ AST+TOV+ PTS + P2A+P2', data=ffs_players_salary).fit()\n",
    "print(linear_model3.summary())"
   ]
  },
  {
   "cell_type": "markdown",
   "metadata": {},
   "source": [
    "# using sklearn"
   ]
  },
  {
   "cell_type": "code",
   "execution_count": 375,
   "metadata": {},
   "outputs": [],
   "source": [
    "from sklearn.preprocessing import StandardScaler,RobustScaler,MinMaxScaler\n",
    "\n",
    "from sklearn.metrics import accuracy_score\n",
    "from sklearn.preprocessing import PolynomialFeatures\n",
    "from sklearn.linear_model import LinearRegression\n",
    "from sklearn.model_selection import train_test_split\n",
    "from sklearn.ensemble import RandomForestClassifier\n",
    "from sklearn.svm import SVC\n",
    "from sklearn.model_selection import cross_val_predict\n",
    "from sklearn.metrics import mean_squared_error, r2_score\n",
    "from sklearn.decomposition import PCA\n",
    "from sklearn.pipeline import Pipeline\n",
    "from sklearn.metrics import classification_report\n"
   ]
  },
  {
   "cell_type": "code",
   "execution_count": null,
   "metadata": {},
   "outputs": [],
   "source": []
  },
  {
   "cell_type": "markdown",
   "metadata": {},
   "source": [
    "## Regression"
   ]
  },
  {
   "cell_type": "code",
   "execution_count": 376,
   "metadata": {},
   "outputs": [
    {
     "data": {
      "text/html": [
       "<div>\n",
       "<style scoped>\n",
       "    .dataframe tbody tr th:only-of-type {\n",
       "        vertical-align: middle;\n",
       "    }\n",
       "\n",
       "    .dataframe tbody tr th {\n",
       "        vertical-align: top;\n",
       "    }\n",
       "\n",
       "    .dataframe thead th {\n",
       "        text-align: right;\n",
       "    }\n",
       "</style>\n",
       "<table border=\"1\" class=\"dataframe\">\n",
       "  <thead>\n",
       "    <tr style=\"text-align: right;\">\n",
       "      <th></th>\n",
       "      <th>Salary</th>\n",
       "      <th>MP</th>\n",
       "      <th>FG</th>\n",
       "      <th>FGA</th>\n",
       "      <th>P2A</th>\n",
       "      <th>P2</th>\n",
       "      <th>FT</th>\n",
       "      <th>FTA</th>\n",
       "      <th>DRB</th>\n",
       "      <th>AST</th>\n",
       "      <th>TOV</th>\n",
       "      <th>PTS</th>\n",
       "    </tr>\n",
       "  </thead>\n",
       "  <tbody>\n",
       "    <tr>\n",
       "      <td>0</td>\n",
       "      <td>19863636.0</td>\n",
       "      <td>33.0</td>\n",
       "      <td>5.4</td>\n",
       "      <td>12.5</td>\n",
       "      <td>8.6</td>\n",
       "      <td>4.2</td>\n",
       "      <td>2.4</td>\n",
       "      <td>3.5</td>\n",
       "      <td>5.8</td>\n",
       "      <td>3.7</td>\n",
       "      <td>1.6</td>\n",
       "      <td>14.4</td>\n",
       "    </tr>\n",
       "    <tr>\n",
       "      <td>1</td>\n",
       "      <td>2329200.0</td>\n",
       "      <td>23.6</td>\n",
       "      <td>3.5</td>\n",
       "      <td>8.6</td>\n",
       "      <td>5.1</td>\n",
       "      <td>2.1</td>\n",
       "      <td>1.1</td>\n",
       "      <td>1.2</td>\n",
       "      <td>1.9</td>\n",
       "      <td>3.3</td>\n",
       "      <td>1.3</td>\n",
       "      <td>9.4</td>\n",
       "    </tr>\n",
       "    <tr>\n",
       "      <td>3</td>\n",
       "      <td>1618520.0</td>\n",
       "      <td>15.8</td>\n",
       "      <td>2.1</td>\n",
       "      <td>4.6</td>\n",
       "      <td>2.4</td>\n",
       "      <td>1.3</td>\n",
       "      <td>1.0</td>\n",
       "      <td>1.3</td>\n",
       "      <td>1.6</td>\n",
       "      <td>0.7</td>\n",
       "      <td>0.8</td>\n",
       "      <td>6.0</td>\n",
       "    </tr>\n",
       "    <tr>\n",
       "      <td>5</td>\n",
       "      <td>1000000.0</td>\n",
       "      <td>10.9</td>\n",
       "      <td>1.1</td>\n",
       "      <td>2.8</td>\n",
       "      <td>1.0</td>\n",
       "      <td>0.6</td>\n",
       "      <td>0.3</td>\n",
       "      <td>0.5</td>\n",
       "      <td>1.0</td>\n",
       "      <td>0.5</td>\n",
       "      <td>0.3</td>\n",
       "      <td>3.1</td>\n",
       "    </tr>\n",
       "    <tr>\n",
       "      <td>6</td>\n",
       "      <td>28000000.0</td>\n",
       "      <td>30.8</td>\n",
       "      <td>4.8</td>\n",
       "      <td>10.9</td>\n",
       "      <td>6.5</td>\n",
       "      <td>3.3</td>\n",
       "      <td>0.9</td>\n",
       "      <td>1.2</td>\n",
       "      <td>5.3</td>\n",
       "      <td>4.1</td>\n",
       "      <td>1.1</td>\n",
       "      <td>12.0</td>\n",
       "    </tr>\n",
       "  </tbody>\n",
       "</table>\n",
       "</div>"
      ],
      "text/plain": [
       "       Salary    MP   FG   FGA  P2A   P2   FT  FTA  DRB  AST  TOV   PTS\n",
       "0  19863636.0  33.0  5.4  12.5  8.6  4.2  2.4  3.5  5.8  3.7  1.6  14.4\n",
       "1   2329200.0  23.6  3.5   8.6  5.1  2.1  1.1  1.2  1.9  3.3  1.3   9.4\n",
       "3   1618520.0  15.8  2.1   4.6  2.4  1.3  1.0  1.3  1.6  0.7  0.8   6.0\n",
       "5   1000000.0  10.9  1.1   2.8  1.0  0.6  0.3  0.5  1.0  0.5  0.3   3.1\n",
       "6  28000000.0  30.8  4.8  10.9  6.5  3.3  0.9  1.2  5.3  4.1  1.1  12.0"
      ]
     },
     "execution_count": 376,
     "metadata": {},
     "output_type": "execute_result"
    }
   ],
   "source": [
    "ffs_players_salary = pd.read_csv('fmanual_feature_Select_players_salary.csv.gz',index_col=0)\n",
    "ffs_players_salary.head()"
   ]
  },
  {
   "cell_type": "code",
   "execution_count": 377,
   "metadata": {},
   "outputs": [],
   "source": [
    "features_name = [ 'MP', 'FG', 'FGA', 'P2A', 'P2', 'FT', 'FTA', 'DRB', 'AST',\n",
    "       'TOV', 'PTS']\n",
    "X = clear_players_salary[features_name]\n",
    "y = clear_players_salary['Salary']"
   ]
  },
  {
   "cell_type": "code",
   "execution_count": 378,
   "metadata": {},
   "outputs": [],
   "source": [
    "X_train, X_test, y_train, y_test = train_test_split(X,y,test_size=0.2, random_state=666)"
   ]
  },
  {
   "cell_type": "code",
   "execution_count": 379,
   "metadata": {},
   "outputs": [
    {
     "name": "stdout",
     "output_type": "stream",
     "text": [
      "(308, 11)\n",
      "(308,)\n",
      "(77, 11)\n",
      "(77,)\n"
     ]
    }
   ],
   "source": [
    "print(X_train.shape)\n",
    "print(y_train.shape)\n",
    "print(X_test.shape)\n",
    "print(y_test.shape)"
   ]
  },
  {
   "cell_type": "code",
   "execution_count": 380,
   "metadata": {},
   "outputs": [],
   "source": [
    "poly_reg = Pipeline([\n",
    "    ('poly',PolynomialFeatures(degree=1)),\n",
    "#     ('poly',PolynomialFeatures(degree=2)),\n",
    "#     ('poly',PolynomialFeatures(degree=5)),\n",
    "    ('std_scaler',RobustScaler()),\n",
    "#     ('std_scaler',StandardScaler()),\n",
    "    ('lin_reg',LinearRegression())\n",
    "])"
   ]
  },
  {
   "cell_type": "code",
   "execution_count": 381,
   "metadata": {},
   "outputs": [
    {
     "data": {
      "text/plain": [
       "0.4962529768964077"
      ]
     },
     "execution_count": 381,
     "metadata": {},
     "output_type": "execute_result"
    }
   ],
   "source": [
    "poly_reg.fit(X_train,y_train)\n",
    "poly_reg.score(X_train, y_train)"
   ]
  },
  {
   "cell_type": "code",
   "execution_count": 382,
   "metadata": {},
   "outputs": [
    {
     "name": "stdout",
     "output_type": "stream",
     "text": [
      "Mean squared error: 43958403240358.06\n",
      "Coefficient of determination: 0.50\n"
     ]
    }
   ],
   "source": [
    "y_train_predict = poly_reg.predict(X_train)\n",
    "print('Mean squared error: %.2f'% mean_squared_error(y_train, y_train_predict))\n",
    "print('Coefficient of determination: %.2f'% r2_score(y_train, y_train_predict))"
   ]
  },
  {
   "cell_type": "code",
   "execution_count": 383,
   "metadata": {},
   "outputs": [
    {
     "name": "stdout",
     "output_type": "stream",
     "text": [
      "Mean squared error: 33117430341132.22\n",
      "Coefficient of determination: 0.40\n"
     ]
    }
   ],
   "source": [
    "poly_reg.score(X_test, y_test)\n",
    "y_test_predict = poly_reg.predict(X_test)\n",
    "print('Mean squared error: %.2f'  % mean_squared_error(y_test, y_test_predict))\n",
    "print('Coefficient of determination: %.2f'% r2_score(y_test, y_test_predict))"
   ]
  },
  {
   "cell_type": "code",
   "execution_count": 384,
   "metadata": {},
   "outputs": [],
   "source": [
    "# predicted = cross_val_predict(poly_reg, X_train, y_train, cv=10)\n",
    "\n",
    "# fig, ax = plt.subplots()\n",
    "# ax.scatter(y_train, predicted, edgecolors=(0, 0, 0))\n",
    "# ax.plot([y_train.min(), y_train.max()], [y_train.min(), y_train.max()], 'k--', lw=4)\n",
    "# ax.set_xlabel('Measured')\n",
    "# ax.set_ylabel('Predicted')\n",
    "# plt.show()"
   ]
  },
  {
   "cell_type": "code",
   "execution_count": null,
   "metadata": {},
   "outputs": [],
   "source": []
  },
  {
   "cell_type": "markdown",
   "metadata": {},
   "source": [
    "## Classifier"
   ]
  },
  {
   "cell_type": "code",
   "execution_count": 385,
   "metadata": {},
   "outputs": [],
   "source": [
    "from sklearn.preprocessing import StandardScaler\n",
    "from sklearn.metrics import accuracy_score\n",
    "from sklearn.preprocessing import PolynomialFeatures\n",
    "from sklearn.linear_model import LinearRegression\n",
    "from sklearn.model_selection import train_test_split\n",
    "# from sklearn.neighbors import  KNeighborsRegressor\n",
    "from sklearn.neighbors import KNeighborsClassifier\n",
    "from sklearn.metrics import accuracy_score, confusion_matrix, precision_recall_fscore_support\n",
    "\n"
   ]
  },
  {
   "cell_type": "code",
   "execution_count": 386,
   "metadata": {},
   "outputs": [
    {
     "data": {
      "text/html": [
       "<div>\n",
       "<style scoped>\n",
       "    .dataframe tbody tr th:only-of-type {\n",
       "        vertical-align: middle;\n",
       "    }\n",
       "\n",
       "    .dataframe tbody tr th {\n",
       "        vertical-align: top;\n",
       "    }\n",
       "\n",
       "    .dataframe thead th {\n",
       "        text-align: right;\n",
       "    }\n",
       "</style>\n",
       "<table border=\"1\" class=\"dataframe\">\n",
       "  <thead>\n",
       "    <tr style=\"text-align: right;\">\n",
       "      <th></th>\n",
       "      <th>Salary</th>\n",
       "      <th>MP</th>\n",
       "      <th>FG</th>\n",
       "      <th>FGA</th>\n",
       "      <th>P2A</th>\n",
       "      <th>P2</th>\n",
       "      <th>FT</th>\n",
       "      <th>FTA</th>\n",
       "      <th>DRB</th>\n",
       "      <th>AST</th>\n",
       "      <th>TOV</th>\n",
       "      <th>PTS</th>\n",
       "    </tr>\n",
       "  </thead>\n",
       "  <tbody>\n",
       "    <tr>\n",
       "      <td>0</td>\n",
       "      <td>19863636.0</td>\n",
       "      <td>33.0</td>\n",
       "      <td>5.4</td>\n",
       "      <td>12.5</td>\n",
       "      <td>8.6</td>\n",
       "      <td>4.2</td>\n",
       "      <td>2.4</td>\n",
       "      <td>3.5</td>\n",
       "      <td>5.8</td>\n",
       "      <td>3.7</td>\n",
       "      <td>1.6</td>\n",
       "      <td>14.4</td>\n",
       "    </tr>\n",
       "    <tr>\n",
       "      <td>1</td>\n",
       "      <td>2329200.0</td>\n",
       "      <td>23.6</td>\n",
       "      <td>3.5</td>\n",
       "      <td>8.6</td>\n",
       "      <td>5.1</td>\n",
       "      <td>2.1</td>\n",
       "      <td>1.1</td>\n",
       "      <td>1.2</td>\n",
       "      <td>1.9</td>\n",
       "      <td>3.3</td>\n",
       "      <td>1.3</td>\n",
       "      <td>9.4</td>\n",
       "    </tr>\n",
       "    <tr>\n",
       "      <td>3</td>\n",
       "      <td>1618520.0</td>\n",
       "      <td>15.8</td>\n",
       "      <td>2.1</td>\n",
       "      <td>4.6</td>\n",
       "      <td>2.4</td>\n",
       "      <td>1.3</td>\n",
       "      <td>1.0</td>\n",
       "      <td>1.3</td>\n",
       "      <td>1.6</td>\n",
       "      <td>0.7</td>\n",
       "      <td>0.8</td>\n",
       "      <td>6.0</td>\n",
       "    </tr>\n",
       "    <tr>\n",
       "      <td>5</td>\n",
       "      <td>1000000.0</td>\n",
       "      <td>10.9</td>\n",
       "      <td>1.1</td>\n",
       "      <td>2.8</td>\n",
       "      <td>1.0</td>\n",
       "      <td>0.6</td>\n",
       "      <td>0.3</td>\n",
       "      <td>0.5</td>\n",
       "      <td>1.0</td>\n",
       "      <td>0.5</td>\n",
       "      <td>0.3</td>\n",
       "      <td>3.1</td>\n",
       "    </tr>\n",
       "    <tr>\n",
       "      <td>6</td>\n",
       "      <td>28000000.0</td>\n",
       "      <td>30.8</td>\n",
       "      <td>4.8</td>\n",
       "      <td>10.9</td>\n",
       "      <td>6.5</td>\n",
       "      <td>3.3</td>\n",
       "      <td>0.9</td>\n",
       "      <td>1.2</td>\n",
       "      <td>5.3</td>\n",
       "      <td>4.1</td>\n",
       "      <td>1.1</td>\n",
       "      <td>12.0</td>\n",
       "    </tr>\n",
       "  </tbody>\n",
       "</table>\n",
       "</div>"
      ],
      "text/plain": [
       "       Salary    MP   FG   FGA  P2A   P2   FT  FTA  DRB  AST  TOV   PTS\n",
       "0  19863636.0  33.0  5.4  12.5  8.6  4.2  2.4  3.5  5.8  3.7  1.6  14.4\n",
       "1   2329200.0  23.6  3.5   8.6  5.1  2.1  1.1  1.2  1.9  3.3  1.3   9.4\n",
       "3   1618520.0  15.8  2.1   4.6  2.4  1.3  1.0  1.3  1.6  0.7  0.8   6.0\n",
       "5   1000000.0  10.9  1.1   2.8  1.0  0.6  0.3  0.5  1.0  0.5  0.3   3.1\n",
       "6  28000000.0  30.8  4.8  10.9  6.5  3.3  0.9  1.2  5.3  4.1  1.1  12.0"
      ]
     },
     "execution_count": 386,
     "metadata": {},
     "output_type": "execute_result"
    }
   ],
   "source": [
    "ffs_players_salary = pd.read_csv('fmanual_feature_Select_players_salary.csv.gz',index_col=0)\n",
    "ffs_players_salary.head()"
   ]
  },
  {
   "cell_type": "code",
   "execution_count": 387,
   "metadata": {},
   "outputs": [
    {
     "data": {
      "text/html": [
       "<div>\n",
       "<style scoped>\n",
       "    .dataframe tbody tr th:only-of-type {\n",
       "        vertical-align: middle;\n",
       "    }\n",
       "\n",
       "    .dataframe tbody tr th {\n",
       "        vertical-align: top;\n",
       "    }\n",
       "\n",
       "    .dataframe thead th {\n",
       "        text-align: right;\n",
       "    }\n",
       "</style>\n",
       "<table border=\"1\" class=\"dataframe\">\n",
       "  <thead>\n",
       "    <tr style=\"text-align: right;\">\n",
       "      <th></th>\n",
       "      <th>Salary</th>\n",
       "      <th>MP</th>\n",
       "      <th>FG</th>\n",
       "      <th>FGA</th>\n",
       "      <th>P2A</th>\n",
       "      <th>P2</th>\n",
       "      <th>FT</th>\n",
       "      <th>FTA</th>\n",
       "      <th>DRB</th>\n",
       "      <th>AST</th>\n",
       "      <th>TOV</th>\n",
       "      <th>PTS</th>\n",
       "      <th>salary_scaled</th>\n",
       "    </tr>\n",
       "  </thead>\n",
       "  <tbody>\n",
       "    <tr>\n",
       "      <td>0</td>\n",
       "      <td>19863636.0</td>\n",
       "      <td>33.0</td>\n",
       "      <td>5.4</td>\n",
       "      <td>12.5</td>\n",
       "      <td>8.6</td>\n",
       "      <td>4.2</td>\n",
       "      <td>2.4</td>\n",
       "      <td>3.5</td>\n",
       "      <td>5.8</td>\n",
       "      <td>3.7</td>\n",
       "      <td>1.6</td>\n",
       "      <td>14.4</td>\n",
       "      <td>0.489285</td>\n",
       "    </tr>\n",
       "    <tr>\n",
       "      <td>1</td>\n",
       "      <td>2329200.0</td>\n",
       "      <td>23.6</td>\n",
       "      <td>3.5</td>\n",
       "      <td>8.6</td>\n",
       "      <td>5.1</td>\n",
       "      <td>2.1</td>\n",
       "      <td>1.1</td>\n",
       "      <td>1.2</td>\n",
       "      <td>1.9</td>\n",
       "      <td>3.3</td>\n",
       "      <td>1.3</td>\n",
       "      <td>9.4</td>\n",
       "      <td>0.049622</td>\n",
       "    </tr>\n",
       "    <tr>\n",
       "      <td>3</td>\n",
       "      <td>1618520.0</td>\n",
       "      <td>15.8</td>\n",
       "      <td>2.1</td>\n",
       "      <td>4.6</td>\n",
       "      <td>2.4</td>\n",
       "      <td>1.3</td>\n",
       "      <td>1.0</td>\n",
       "      <td>1.3</td>\n",
       "      <td>1.6</td>\n",
       "      <td>0.7</td>\n",
       "      <td>0.8</td>\n",
       "      <td>6.0</td>\n",
       "      <td>0.031802</td>\n",
       "    </tr>\n",
       "    <tr>\n",
       "      <td>5</td>\n",
       "      <td>1000000.0</td>\n",
       "      <td>10.9</td>\n",
       "      <td>1.1</td>\n",
       "      <td>2.8</td>\n",
       "      <td>1.0</td>\n",
       "      <td>0.6</td>\n",
       "      <td>0.3</td>\n",
       "      <td>0.5</td>\n",
       "      <td>1.0</td>\n",
       "      <td>0.5</td>\n",
       "      <td>0.3</td>\n",
       "      <td>3.1</td>\n",
       "      <td>0.016294</td>\n",
       "    </tr>\n",
       "    <tr>\n",
       "      <td>6</td>\n",
       "      <td>28000000.0</td>\n",
       "      <td>30.8</td>\n",
       "      <td>4.8</td>\n",
       "      <td>10.9</td>\n",
       "      <td>6.5</td>\n",
       "      <td>3.3</td>\n",
       "      <td>0.9</td>\n",
       "      <td>1.2</td>\n",
       "      <td>5.3</td>\n",
       "      <td>4.1</td>\n",
       "      <td>1.1</td>\n",
       "      <td>12.0</td>\n",
       "      <td>0.693298</td>\n",
       "    </tr>\n",
       "  </tbody>\n",
       "</table>\n",
       "</div>"
      ],
      "text/plain": [
       "       Salary    MP   FG   FGA  P2A   P2   FT  FTA  DRB  AST  TOV   PTS  \\\n",
       "0  19863636.0  33.0  5.4  12.5  8.6  4.2  2.4  3.5  5.8  3.7  1.6  14.4   \n",
       "1   2329200.0  23.6  3.5   8.6  5.1  2.1  1.1  1.2  1.9  3.3  1.3   9.4   \n",
       "3   1618520.0  15.8  2.1   4.6  2.4  1.3  1.0  1.3  1.6  0.7  0.8   6.0   \n",
       "5   1000000.0  10.9  1.1   2.8  1.0  0.6  0.3  0.5  1.0  0.5  0.3   3.1   \n",
       "6  28000000.0  30.8  4.8  10.9  6.5  3.3  0.9  1.2  5.3  4.1  1.1  12.0   \n",
       "\n",
       "   salary_scaled  \n",
       "0       0.489285  \n",
       "1       0.049622  \n",
       "3       0.031802  \n",
       "5       0.016294  \n",
       "6       0.693298  "
      ]
     },
     "execution_count": 387,
     "metadata": {},
     "output_type": "execute_result"
    }
   ],
   "source": [
    "salary_col = ffs_players_salary['Salary']\n",
    "salary_scaled = (salary_col-salary_col.min())/(salary_col.max()-salary_col.min())\n",
    "ffs_players_salary['salary_scaled']= salary_scaled.copy()\n",
    "ffs_players_salary.head()"
   ]
  },
  {
   "cell_type": "code",
   "execution_count": 388,
   "metadata": {},
   "outputs": [
    {
     "data": {
      "text/html": [
       "<div>\n",
       "<style scoped>\n",
       "    .dataframe tbody tr th:only-of-type {\n",
       "        vertical-align: middle;\n",
       "    }\n",
       "\n",
       "    .dataframe tbody tr th {\n",
       "        vertical-align: top;\n",
       "    }\n",
       "\n",
       "    .dataframe thead th {\n",
       "        text-align: right;\n",
       "    }\n",
       "</style>\n",
       "<table border=\"1\" class=\"dataframe\">\n",
       "  <thead>\n",
       "    <tr style=\"text-align: right;\">\n",
       "      <th></th>\n",
       "      <th>Salary</th>\n",
       "      <th>MP</th>\n",
       "      <th>FG</th>\n",
       "      <th>FGA</th>\n",
       "      <th>P2A</th>\n",
       "      <th>P2</th>\n",
       "      <th>FT</th>\n",
       "      <th>FTA</th>\n",
       "      <th>DRB</th>\n",
       "      <th>AST</th>\n",
       "      <th>TOV</th>\n",
       "      <th>PTS</th>\n",
       "      <th>salary_scaled</th>\n",
       "      <th>Nominal</th>\n",
       "    </tr>\n",
       "  </thead>\n",
       "  <tbody>\n",
       "    <tr>\n",
       "      <td>0</td>\n",
       "      <td>19863636.0</td>\n",
       "      <td>33.0</td>\n",
       "      <td>5.4</td>\n",
       "      <td>12.5</td>\n",
       "      <td>8.6</td>\n",
       "      <td>4.2</td>\n",
       "      <td>2.4</td>\n",
       "      <td>3.5</td>\n",
       "      <td>5.8</td>\n",
       "      <td>3.7</td>\n",
       "      <td>1.6</td>\n",
       "      <td>14.4</td>\n",
       "      <td>0.489285</td>\n",
       "      <td>3</td>\n",
       "    </tr>\n",
       "    <tr>\n",
       "      <td>1</td>\n",
       "      <td>2329200.0</td>\n",
       "      <td>23.6</td>\n",
       "      <td>3.5</td>\n",
       "      <td>8.6</td>\n",
       "      <td>5.1</td>\n",
       "      <td>2.1</td>\n",
       "      <td>1.1</td>\n",
       "      <td>1.2</td>\n",
       "      <td>1.9</td>\n",
       "      <td>3.3</td>\n",
       "      <td>1.3</td>\n",
       "      <td>9.4</td>\n",
       "      <td>0.049622</td>\n",
       "      <td>1</td>\n",
       "    </tr>\n",
       "    <tr>\n",
       "      <td>3</td>\n",
       "      <td>1618520.0</td>\n",
       "      <td>15.8</td>\n",
       "      <td>2.1</td>\n",
       "      <td>4.6</td>\n",
       "      <td>2.4</td>\n",
       "      <td>1.3</td>\n",
       "      <td>1.0</td>\n",
       "      <td>1.3</td>\n",
       "      <td>1.6</td>\n",
       "      <td>0.7</td>\n",
       "      <td>0.8</td>\n",
       "      <td>6.0</td>\n",
       "      <td>0.031802</td>\n",
       "      <td>1</td>\n",
       "    </tr>\n",
       "    <tr>\n",
       "      <td>5</td>\n",
       "      <td>1000000.0</td>\n",
       "      <td>10.9</td>\n",
       "      <td>1.1</td>\n",
       "      <td>2.8</td>\n",
       "      <td>1.0</td>\n",
       "      <td>0.6</td>\n",
       "      <td>0.3</td>\n",
       "      <td>0.5</td>\n",
       "      <td>1.0</td>\n",
       "      <td>0.5</td>\n",
       "      <td>0.3</td>\n",
       "      <td>3.1</td>\n",
       "      <td>0.016294</td>\n",
       "      <td>1</td>\n",
       "    </tr>\n",
       "    <tr>\n",
       "      <td>6</td>\n",
       "      <td>28000000.0</td>\n",
       "      <td>30.8</td>\n",
       "      <td>4.8</td>\n",
       "      <td>10.9</td>\n",
       "      <td>6.5</td>\n",
       "      <td>3.3</td>\n",
       "      <td>0.9</td>\n",
       "      <td>1.2</td>\n",
       "      <td>5.3</td>\n",
       "      <td>4.1</td>\n",
       "      <td>1.1</td>\n",
       "      <td>12.0</td>\n",
       "      <td>0.693298</td>\n",
       "      <td>3</td>\n",
       "    </tr>\n",
       "  </tbody>\n",
       "</table>\n",
       "</div>"
      ],
      "text/plain": [
       "       Salary    MP   FG   FGA  P2A   P2   FT  FTA  DRB  AST  TOV   PTS  \\\n",
       "0  19863636.0  33.0  5.4  12.5  8.6  4.2  2.4  3.5  5.8  3.7  1.6  14.4   \n",
       "1   2329200.0  23.6  3.5   8.6  5.1  2.1  1.1  1.2  1.9  3.3  1.3   9.4   \n",
       "3   1618520.0  15.8  2.1   4.6  2.4  1.3  1.0  1.3  1.6  0.7  0.8   6.0   \n",
       "5   1000000.0  10.9  1.1   2.8  1.0  0.6  0.3  0.5  1.0  0.5  0.3   3.1   \n",
       "6  28000000.0  30.8  4.8  10.9  6.5  3.3  0.9  1.2  5.3  4.1  1.1  12.0   \n",
       "\n",
       "   salary_scaled  Nominal  \n",
       "0       0.489285        3  \n",
       "1       0.049622        1  \n",
       "3       0.031802        1  \n",
       "5       0.016294        1  \n",
       "6       0.693298        3  "
      ]
     },
     "execution_count": 388,
     "metadata": {},
     "output_type": "execute_result"
    }
   ],
   "source": [
    "conditions = [\n",
    "        (ffs_players_salary['salary_scaled']  <= 0.2),\n",
    "        (ffs_players_salary['salary_scaled']  <= 0.4),\n",
    "        (ffs_players_salary['salary_scaled']  <= 0.6),\n",
    "        (ffs_players_salary['salary_scaled']  > 0.8)\n",
    "]\n",
    "choices = [1, 2,3,4]\n",
    "ffs_players_salary['Nominal'] = np.select(conditions, choices, default=3)\n",
    "ffs_players_salary.head()\n",
    "# edge players（边缘球员）\n",
    "# normal players（轮换球员）\n",
    "# first players（首发球员）\n",
    "# stars（明星球员）"
   ]
  },
  {
   "cell_type": "code",
   "execution_count": null,
   "metadata": {},
   "outputs": [
    {
     "data": {
      "text/plain": [
       "[Text(0, 0.5, 'Number'), Text(0.5, 0, 'Level'), Text(0.5, 1.0, 'Salary_Level')]"
      ]
     },
     "execution_count": 389,
     "metadata": {},
     "output_type": "execute_result"
    }
   ],
   "source": [
    "#大部分的NBA球员薪资还是处于较低的水平，而其中间薪资的球员也是比较多，薪水较高的球员较少，这也符合正常规律\n",
    "bar=ffs_players_salary['Nominal'].value_counts()\n",
    "sns.set(font_scale=2)\n",
    "sns.set(style=\"white\", palette=\"muted\",color_codes=True)\n",
    "plt.figure(figsize=(10,7))\n",
    "# sns.barplot(y=data_std_c1['Nominal'], palette=\"deep\")\n",
    "ax = sns.barplot(x=bar.index,y=bar )\n",
    "ax.set(xlabel='Level',ylabel='Number',title=\"Salary_Level\")"
   ]
  },
  {
   "cell_type": "code",
   "execution_count": 336,
   "metadata": {},
   "outputs": [],
   "source": [
    "features_name = [ 'MP', 'FG', 'FGA', 'P2A', 'P2', 'FT', 'FTA', 'DRB', 'AST','TOV', 'PTS']\n",
    "\n",
    "X = ffs_players_salary[features_name]\n",
    "y = ffs_players_salary['Nominal']\n"
   ]
  },
  {
   "cell_type": "markdown",
   "metadata": {},
   "source": [
    "## KNN"
   ]
  },
  {
   "cell_type": "code",
   "execution_count": 337,
   "metadata": {},
   "outputs": [],
   "source": [
    "X_train, X_test, y_train, y_test = train_test_split(X,y,test_size=0.2, random_state=666)"
   ]
  },
  {
   "cell_type": "code",
   "execution_count": 338,
   "metadata": {},
   "outputs": [
    {
     "name": "stdout",
     "output_type": "stream",
     "text": [
      "(308, 11)\n",
      "(308,)\n",
      "(77, 11)\n",
      "(77,)\n"
     ]
    }
   ],
   "source": [
    "print(X_train.shape)\n",
    "print(y_train.shape)\n",
    "print(X_test.shape)\n",
    "print(y_test.shape)"
   ]
  },
  {
   "cell_type": "code",
   "execution_count": 339,
   "metadata": {},
   "outputs": [
    {
     "name": "stdout",
     "output_type": "stream",
     "text": [
      "best_score: 1.0\n",
      "best_k: 3\n",
      "best_metric: minkowski\n",
      "best_weights: distance\n"
     ]
    }
   ],
   "source": [
    "best_score = 0.0\n",
    "best_k = 0\n",
    "best_weights = ''\n",
    "best_metric =''\n",
    "\n",
    "weights = ['uniform','distance']\n",
    "metric = ['minkowski','euclidean','manhattan','chebyshev']\n",
    "for weight in weights:\n",
    "    \n",
    "    for metr in metric:\n",
    "\n",
    "        for k in range(3, 20):\n",
    "            knn = KNeighborsClassifier(algorithm='auto', leaf_size=30, metric= metr,\n",
    "                   metric_params=None, n_jobs=None, n_neighbors=k, p=1,\n",
    "                   weights= weight )\n",
    "\n",
    "            knn.fit(X_train,y_train)\n",
    "            y_train_predict = knn.predict(X_train)\n",
    "            score = accuracy_score(y_train,y_train_predict)\n",
    "            if score > best_score :\n",
    "                best_score = score\n",
    "                best_k = k\n",
    "                best_metric = metr\n",
    "                best_weights = weight\n",
    "\n",
    "print('best_score:',best_score)\n",
    "print('best_k:',best_k)\n",
    "print('best_metric:',best_metric)\n",
    "print('best_weights:',best_weights)"
   ]
  },
  {
   "cell_type": "code",
   "execution_count": 340,
   "metadata": {},
   "outputs": [
    {
     "data": {
      "text/plain": [
       "KNeighborsClassifier(algorithm='auto', leaf_size=30, metric='minkowski',\n",
       "                     metric_params=None, n_jobs=None, n_neighbors=3, p=1,\n",
       "                     weights='distance')"
      ]
     },
     "execution_count": 340,
     "metadata": {},
     "output_type": "execute_result"
    }
   ],
   "source": [
    "knn = KNeighborsClassifier(algorithm='auto', leaf_size=30, metric='minkowski',\n",
    "           metric_params=None, n_jobs=None, n_neighbors=3, p=1,\n",
    "           weights='distance',\n",
    "                          )\n",
    "knn.fit(X_train,y_train)"
   ]
  },
  {
   "cell_type": "code",
   "execution_count": 341,
   "metadata": {},
   "outputs": [
    {
     "name": "stdout",
     "output_type": "stream",
     "text": [
      "KNN Train Accuracy: 1.000\n"
     ]
    }
   ],
   "source": [
    "y_train_predict = knn.predict(X_train)\n",
    "print (\"KNN Train Accuracy: %.3f\" % accuracy_score(y_train,y_train_predict))"
   ]
  },
  {
   "cell_type": "code",
   "execution_count": 342,
   "metadata": {},
   "outputs": [
    {
     "name": "stdout",
     "output_type": "stream",
     "text": [
      "KNN Test Accuracy: 0.649\n"
     ]
    }
   ],
   "source": [
    "y_test_predict = knn.predict(X_test)\n",
    "print (\"KNN Test Accuracy: %.3f\" % accuracy_score(y_test,y_test_predict))"
   ]
  },
  {
   "cell_type": "code",
   "execution_count": 351,
   "metadata": {},
   "outputs": [
    {
     "name": "stdout",
     "output_type": "stream",
     "text": [
      "              precision    recall  f1-score   support\n",
      "\n",
      "           1       0.75      0.88      0.81        56\n",
      "           2       0.33      0.08      0.12        13\n",
      "           3       0.00      0.00      0.00         7\n",
      "           4       0.00      0.00      0.00         1\n",
      "\n",
      "    accuracy                           0.65        77\n",
      "   macro avg       0.27      0.24      0.23        77\n",
      "weighted avg       0.60      0.65      0.61        77\n",
      "\n"
     ]
    },
    {
     "data": {
      "image/png": "[encoded data removed]",
      "text/plain": [
       "<Figure size 396x288 with 2 Axes>"
      ]
     },
     "metadata": {},
     "output_type": "display_data"
    }
   ],
   "source": [
    "print (classification_report(y_test,y_test_predict))\n",
    "cm = confusion_matrix(y_test, y_test_predict) \n",
    "cm_df = pd.DataFrame(cm,\n",
    "                     index = ['edge players','normal players','first player','stars'], \n",
    "                     columns = ['edge players','normal players','first player','stars'])\n",
    "\n",
    "plt.figure(figsize=(5.5,4))\n",
    "sns.heatmap(cm_df, annot=True)\n",
    "plt.title('Naive Bayes \\nAccuracy:{0:.3f}'.format(accuracy_score(y_test, y_test_predict)))\n",
    "plt.ylabel('True label')\n",
    "plt.xlabel('Predicted label')\n",
    "plt.show()\n"
   ]
  },
  {
   "cell_type": "code",
   "execution_count": null,
   "metadata": {},
   "outputs": [],
   "source": []
  },
  {
   "cell_type": "markdown",
   "metadata": {},
   "source": [
    "## SVM"
   ]
  },
  {
   "cell_type": "code",
   "execution_count": 362,
   "metadata": {},
   "outputs": [
    {
     "data": {
      "text/plain": [
       "SVC(C=1, cache_size=200, class_weight=None, coef0=1,\n",
       "    decision_function_shape='ovr', degree=2, gamma=0.005, kernel='rbf',\n",
       "    max_iter=-1, probability=False, random_state=None, shrinking=True, tol=0.5,\n",
       "    verbose=False)"
      ]
     },
     "execution_count": 362,
     "metadata": {},
     "output_type": "execute_result"
    }
   ],
   "source": [
    "svm= SVC(C=1, kernel='rbf', degree=2, gamma=0.005,coef0=1,shrinking=True, tol=0.5,probability=False,\n",
    "        max_iter=-1,)\n",
    "svm.fit(X_train,y_train)"
   ]
  },
  {
   "cell_type": "code",
   "execution_count": 363,
   "metadata": {},
   "outputs": [
    {
     "name": "stdout",
     "output_type": "stream",
     "text": [
      "SVM Train Accuracy: 0.701\n"
     ]
    }
   ],
   "source": [
    "y_train_predict = svm.predict(X_train)\n",
    "print (\"SVM Train Accuracy: %.3f\" % accuracy_score(y_train,y_train_predict))"
   ]
  },
  {
   "cell_type": "code",
   "execution_count": 364,
   "metadata": {},
   "outputs": [
    {
     "name": "stdout",
     "output_type": "stream",
     "text": [
      "Logistic Test Accuracy: 0.740\n"
     ]
    }
   ],
   "source": [
    "y_test_predict = svm.predict(X_test)\n",
    "print(\"Logistic Test Accuracy: %.3f\" % accuracy_score(y_test,y_test_predict))"
   ]
  },
  {
   "cell_type": "code",
   "execution_count": 365,
   "metadata": {},
   "outputs": [
    {
     "name": "stdout",
     "output_type": "stream",
     "text": [
      "              precision    recall  f1-score   support\n",
      "\n",
      "           1       0.76      0.96      0.85        56\n",
      "           2       0.00      0.00      0.00        13\n",
      "           3       0.50      0.43      0.46         7\n",
      "           4       0.00      0.00      0.00         1\n",
      "\n",
      "    accuracy                           0.74        77\n",
      "   macro avg       0.32      0.35      0.33        77\n",
      "weighted avg       0.60      0.74      0.66        77\n",
      "\n"
     ]
    },
    {
     "name": "stderr",
     "output_type": "stream",
     "text": [
      "/Users/Tommy/opt/anaconda3/lib/python3.7/site-packages/sklearn/metrics/classification.py:1437: UndefinedMetricWarning: Precision and F-score are ill-defined and being set to 0.0 in labels with no predicted samples.\n",
      "  'precision', 'predicted', average, warn_for)\n"
     ]
    },
    {
     "data": {
      "image/png": "[encoded data removed]",
      "text/plain": [
       "<Figure size 396x288 with 2 Axes>"
      ]
     },
     "metadata": {},
     "output_type": "display_data"
    }
   ],
   "source": [
    "print (classification_report(y_test,y_test_predict))\n",
    "cm = confusion_matrix(y_test, y_test_predict) \n",
    "cm_df = pd.DataFrame(cm,\n",
    "                     index = ['edge players','normal players','first player','stars'], \n",
    "                     columns = ['edge players','normal players','first player','stars'])\n",
    "\n",
    "plt.figure(figsize=(5.5,4))\n",
    "sns.heatmap(cm_df, annot=True)\n",
    "plt.title('Naive Bayes \\nAccuracy:{0:.3f}'.format(accuracy_score(y_test, y_test_predict)))\n",
    "plt.ylabel('True label')\n",
    "plt.xlabel('Predicted label')\n",
    "plt.show()"
   ]
  },
  {
   "cell_type": "markdown",
   "metadata": {},
   "source": [
    "## Random Forest¶"
   ]
  },
  {
   "cell_type": "code",
   "execution_count": 366,
   "metadata": {},
   "outputs": [
    {
     "name": "stderr",
     "output_type": "stream",
     "text": [
      "[Parallel(n_jobs=-1)]: Using backend ThreadingBackend with 8 concurrent workers.\n",
      "[Parallel(n_jobs=-1)]: Done  34 tasks      | elapsed:    0.1s\n",
      "[Parallel(n_jobs=-1)]: Done 100 out of 100 | elapsed:    0.2s finished\n"
     ]
    },
    {
     "data": {
      "text/plain": [
       "0.6655844155844156"
      ]
     },
     "execution_count": 366,
     "metadata": {},
     "output_type": "execute_result"
    }
   ],
   "source": [
    "forest = RandomForestClassifier(criterion='gini', max_leaf_nodes=None,\n",
    "                                n_estimators = 100, random_state =1,\n",
    "                                n_jobs =-1,verbose=True, oob_score=True)\n",
    "forest.fit(X_train,y_train)\n",
    "forest.oob_score_"
   ]
  },
  {
   "cell_type": "code",
   "execution_count": 367,
   "metadata": {},
   "outputs": [
    {
     "name": "stdout",
     "output_type": "stream",
     "text": [
      "Random Forest Train Accuracy: 1.000\n"
     ]
    },
    {
     "name": "stderr",
     "output_type": "stream",
     "text": [
      "[Parallel(n_jobs=8)]: Using backend ThreadingBackend with 8 concurrent workers.\n",
      "[Parallel(n_jobs=8)]: Done  34 tasks      | elapsed:    0.0s\n",
      "[Parallel(n_jobs=8)]: Done 100 out of 100 | elapsed:    0.0s finished\n"
     ]
    }
   ],
   "source": [
    "y_train_predict = forest.predict(X_train)\n",
    "print (\"Random Forest Train Accuracy: %.3f\" % accuracy_score(y_train,y_train_predict))\n"
   ]
  },
  {
   "cell_type": "code",
   "execution_count": 356,
   "metadata": {},
   "outputs": [
    {
     "name": "stderr",
     "output_type": "stream",
     "text": [
      "[Parallel(n_jobs=8)]: Using backend ThreadingBackend with 8 concurrent workers.\n",
      "[Parallel(n_jobs=8)]: Done  34 tasks      | elapsed:    0.0s\n",
      "[Parallel(n_jobs=8)]: Done 100 out of 100 | elapsed:    0.0s finished\n"
     ]
    },
    {
     "name": "stdout",
     "output_type": "stream",
     "text": [
      "Random Forest Test Accuracy: 0.662\n"
     ]
    }
   ],
   "source": [
    "y_test_predict = forest.predict(X_test)\n",
    "print(\"Random Forest Test Accuracy: %.3f\" % accuracy_score(y_test,y_test_predict))"
   ]
  },
  {
   "cell_type": "code",
   "execution_count": 359,
   "metadata": {},
   "outputs": [
    {
     "data": {
      "text/plain": [
       "Text(0.5, 1.0, 'Feature Importance')"
      ]
     },
     "execution_count": 359,
     "metadata": {},
     "output_type": "execute_result"
    },
    {
     "data": {
      "image/png": "[encoded data removed]",
      "text/plain": [
       "<Figure size 432x288 with 1 Axes>"
      ]
     },
     "metadata": {},
     "output_type": "display_data"
    }
   ],
   "source": [
    "plt.bar(range(len(X_train.columns.values)), forest.feature_importances_)\n",
    "plt.xticks(range(len(X_train.columns.values)),X_train.columns.values, rotation= 45)\n",
    "plt.title('Feature Importance')"
   ]
  },
  {
   "cell_type": "code",
   "execution_count": 360,
   "metadata": {},
   "outputs": [
    {
     "name": "stdout",
     "output_type": "stream",
     "text": [
      "              precision    recall  f1-score   support\n",
      "\n",
      "           1       0.75      0.89      0.81        56\n",
      "           2       0.00      0.00      0.00        13\n",
      "           3       0.17      0.14      0.15         7\n",
      "           4       0.00      0.00      0.00         1\n",
      "\n",
      "    accuracy                           0.66        77\n",
      "   macro avg       0.23      0.26      0.24        77\n",
      "weighted avg       0.56      0.66      0.61        77\n",
      "\n"
     ]
    },
    {
     "data": {
      "image/png": "[encoded data removed]",
      "text/plain": [
       "<Figure size 396x288 with 2 Axes>"
      ]
     },
     "metadata": {},
     "output_type": "display_data"
    }
   ],
   "source": [
    "print (classification_report(y_test,y_test_predict))\n",
    "cm = confusion_matrix(y_test, y_test_predict) \n",
    "cm_df = pd.DataFrame(cm,\n",
    "                     index = ['edge players','normal players','first player','stars'], \n",
    "                     columns = ['edge players','normal players','first player','stars'])\n",
    "\n",
    "plt.figure(figsize=(5.5,4))\n",
    "sns.heatmap(cm_df, annot=True)\n",
    "plt.title('Naive Bayes \\nAccuracy:{0:.3f}'.format(accuracy_score(y_test, y_test_predict)))\n",
    "plt.ylabel('True label')\n",
    "plt.xlabel('Predicted label')\n",
    "plt.show()"
   ]
  },
  {
   "cell_type": "code",
   "execution_count": null,
   "metadata": {},
   "outputs": [],
   "source": []
  },
  {
   "cell_type": "code",
   "execution_count": null,
   "metadata": {},
   "outputs": [],
   "source": []
  },
  {
   "cell_type": "code",
   "execution_count": null,
   "metadata": {},
   "outputs": [],
   "source": []
  },
  {
   "cell_type": "code",
   "execution_count": null,
   "metadata": {},
   "outputs": [],
   "source": []
  },
  {
   "cell_type": "code",
   "execution_count": null,
   "metadata": {},
   "outputs": [],
   "source": []
  },
  {
   "cell_type": "code",
   "execution_count": null,
   "metadata": {},
   "outputs": [],
   "source": []
  },
  {
   "cell_type": "code",
   "execution_count": null,
   "metadata": {},
   "outputs": [],
   "source": []
  },
  {
   "cell_type": "code",
   "execution_count": null,
   "metadata": {},
   "outputs": [],
   "source": []
  },
  {
   "cell_type": "code",
   "execution_count": null,
   "metadata": {},
   "outputs": [],
   "source": []
  },
  {
   "cell_type": "markdown",
   "metadata": {},
   "source": [
    "*****\n"
   ]
  },
  {
   "cell_type": "code",
   "execution_count": null,
   "metadata": {},
   "outputs": [],
   "source": []
  }
 ],
 "metadata": {
  "kernelspec": {
   "display_name": "Python 3",
   "language": "python",
   "name": "python3"
  },
  "language_info": {
   "codemirror_mode": {
    "name": "ipython",
    "version": 3
   },
   "file_extension": ".py",
   "mimetype": "text/x-python",
   "name": "python",
   "nbconvert_exporter": "python",
   "pygments_lexer": "ipython3",
   "version": "3.7.4"
  }
 },
 "nbformat": 4,
 "nbformat_minor": 4
}
