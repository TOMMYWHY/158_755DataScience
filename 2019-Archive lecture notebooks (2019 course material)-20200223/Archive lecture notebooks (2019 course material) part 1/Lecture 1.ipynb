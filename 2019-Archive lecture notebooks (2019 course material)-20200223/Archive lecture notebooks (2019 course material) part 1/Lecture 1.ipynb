{
 "cells": [
  {
   "cell_type": "code",
   "execution_count": null,
   "metadata": {},
   "outputs": [],
   "source": [
    "from IPython.core.display import display, HTML\n",
    "display(HTML(\"<style>.container { width:70% !important; }</style>\"))"
   ]
  },
  {
   "cell_type": "markdown",
   "metadata": {},
   "source": [
    "# Lecture 1 - Programming, Python, variables and data types\n",
    "---\n",
    "\n",
    "### Content\n",
    "\n",
    "1. Introduction to programming\n",
    "2. Introduction to the Python programming environment\n",
    "3. Variables\n",
    "4. Python data types\n",
    "\n",
    "\\* Content (1) in this notebook is based on the material in the Python Tutorial resources found on http://www.python-course.eu/course.php.\n",
    "\n",
    "### Learning Outcomes\n",
    "\n",
    "At the end of this lecture, you should be able to:\n",
    "\n",
    "* describe what programming is\n",
    "* navigate ipython's notebook environment at an introductory level\n",
    "* execute simple python statements\n",
    "* describe what variables are\n",
    "* list and explain what the various python data types are\n",
    "* use variables that conform to legal naming conventions \n"
   ]
  },
  {
   "cell_type": "markdown",
   "metadata": {},
   "source": [
    "## Programming\n",
    "\n",
    "<img src=http://www.wallpaperup.com/uploads/wallpapers/2013/02/23/43883/1d0f4dec977f2478992faade43b7b579.jpg width=500>\n",
    "\n",
    "Programming is the craft of writing very specific instructions which the computer can understand and execute in order to carry out certain tasks.\n",
    "\n",
    "Collections of these instructions are called computer programs, software or scripts depending on their size, format and complexity. In essence, all these instructions are simply collections of recipes describing the step-by-step process for implementing a given functionality.\n",
    "\n",
    "Fundamentally, computers work only on the basis of zeros and ones and therefore do not understand natural language. Since programming in zeros and ones is too hard for us, we have invented programming languages to simplify things for us. Programming languages help to bridge this gap. Computers still do not understand source code which is written in programming languages, but instead rely on very special programs called compilers and interpreters which transform source code written by us, into executable instructions which computers can understand.\n",
    "\n",
    "Programming languages come in many different flavours. There are thousands of them. Each one has strengths and weaknesses and is better suited for some domains and problems. All of them have a very precise syntax and set of grammar rules that must be strictly followed. \n",
    "\n",
    "<img src=http://www.devbattles.com/en/images/upload/programming-languages.png>\n",
    "\n",
    "Python is a programming language. It is fast becoming one of the most popular multi-purpose programming languages. Apart from being an ideal language for learning programming due its expressive power, it is widely used in the analytics domain both in industry and academia, having extensive support for performing data processing, cleaning, acquisition, transformation, analysis as well as data mining and machine learning. For this reason, Python will be used as the main programming language for this course.\n",
    "<img src=https://www.python.org/static/community_logos/python-logo.png>\n",
    "\n",
    "\n",
    "### Learning to program\n",
    "\n",
    "Learning to program takes a lot of practice. Learning to program is a little bit like learning to play and instrument or a sport. It can only be mastered by doing it and not by reading about it. \n",
    "\n",
    "Programming can be (usually is) very frustrating, but ultimately also very rewarding in the end. You learn through mistakes and tenacity.\n",
    "\n",
    "<img src=http://www.keepcalmstudio.com/_gallery/1500/XSgFb4.png width=500>\n"
   ]
  },
  {
   "cell_type": "markdown",
   "metadata": {},
   "source": [
    "## Python interactive programming environment\n",
    "\n",
    "In order to execute Python code, a Python interpreter program must be installed on your computer (please refer to the links on the Stream site). The interpreter will translate your Python scripts, one line at a time into machine code.\n",
    "\n",
    "One considerable advantage that Python offers is a user-friendly interactive development environment. This environment is called the IPython Notebook (recently renamed to Jupyter). We will mostly be working in this environment during or lectures/workshops and you will also be completing your assignments in this environment.\n",
    "<img src=https://avatars1.githubusercontent.com/u/7388996?v=3&s=400>\n",
    "\n",
    "In order to start an IPython Notebook session, you will simply need to double click one of your notebooks (file extension .ipynb) and this will launch your default browser."
   ]
  },
  {
   "cell_type": "markdown",
   "metadata": {},
   "source": [
    "The IPython Notebook is a remarkable piece of technology. It is essentially an interactive computational environment accessed through a web browser (running on a local machine), which allows executable code to be combined with plots, images, mathematics and rich media.\n",
    "\n",
    "Its primary aim is to facilitate agile data analysis and exploratory computation. Its exceptional achievement is found in its ability to support **reproducible and verifiable research**, since all inputs and outputs may be stored in notebook documents.\n",
    "\n",
    "The IPython Notebook running in a web browser is divided into 'cells'. Cells which have 'In []:' in front of them are as below are 'executable'. This means that if you press down the 'Shift' button and press 'Enter', the code that is in the adjacent sell will be executed and the output of that code will be displayed in a cell bellow. \n"
   ]
  },
  {
   "cell_type": "raw",
   "metadata": {},
   "source": [
    "In []: "
   ]
  },
  {
   "cell_type": "markdown",
   "metadata": {},
   "source": [
    "In the tradition of programming, here is our first program below:"
   ]
  },
  {
   "cell_type": "code",
   "execution_count": null,
   "metadata": {},
   "outputs": [],
   "source": [
    "print (\"hello world\")"
   ]
  },
  {
   "cell_type": "markdown",
   "metadata": {},
   "source": [
    "**Exercise: Write code that outputs your name.**"
   ]
  },
  {
   "cell_type": "code",
   "execution_count": null,
   "metadata": {},
   "outputs": [],
   "source": []
  },
  {
   "cell_type": "markdown",
   "metadata": {},
   "source": [
    "Python Notebook turns your expensive computer into a cheap calculator:"
   ]
  },
  {
   "cell_type": "code",
   "execution_count": null,
   "metadata": {},
   "outputs": [],
   "source": [
    "5 + 6"
   ]
  },
  {
   "cell_type": "markdown",
   "metadata": {},
   "source": [
    "## Variables\n",
    "\n",
    "A variable is something which can change. It is a way of referring to a memory location used by a computer program. A variable is a symbolic name for this physical location. This memory location contains values, like numbers, text or more complicated types.\n"
   ]
  },
  {
   "cell_type": "code",
   "execution_count": null,
   "metadata": {},
   "outputs": [],
   "source": [
    "x = 10\n",
    "print (x)"
   ]
  },
  {
   "cell_type": "markdown",
   "metadata": {},
   "source": [
    "We use the assignment operator to assign values to variables. The remarkable feature of Python is that not only the value of a variable can change during the execution of a program, but also the type of data that the variable is referring to as well.\n"
   ]
  },
  {
   "cell_type": "code",
   "execution_count": null,
   "metadata": {},
   "outputs": [],
   "source": [
    "x = x * 2\n",
    "print (x)"
   ]
  },
  {
   "cell_type": "code",
   "execution_count": null,
   "metadata": {},
   "outputs": [],
   "source": [
    "x = \"hello\"\n",
    "print (x)"
   ]
  },
  {
   "cell_type": "markdown",
   "metadata": {},
   "source": [
    "In the example below, we can have two variables refer to the same value."
   ]
  },
  {
   "cell_type": "code",
   "execution_count": null,
   "metadata": {},
   "outputs": [],
   "source": [
    "x = 3\n",
    "y = x   #both y and x refer to the same memory location that holds the value 3\n",
    "y = 2   #things change now so that y points to a new memory location which holds the value 2"
   ]
  },
  {
   "cell_type": "markdown",
   "metadata": {},
   "source": [
    "**Exercise: Write code below which swaps the values around in the x and y variables without typing in explicitly the values 10 and 20. Hint, use another variable.**"
   ]
  },
  {
   "cell_type": "code",
   "execution_count": null,
   "metadata": {},
   "outputs": [],
   "source": [
    "x = 10\n",
    "y = 20\n",
    "\n",
    "#your code here\n"
   ]
  },
  {
   "cell_type": "markdown",
   "metadata": {},
   "source": [
    "## Data Types\n",
    "\n",
    "Python has a small set of built-in data types for handling numerical data, strings, boolean\n",
    "(True or False) values, and dates and time. \n",
    "\n"
   ]
  },
  {
   "cell_type": "raw",
   "metadata": {},
   "source": [
    "Type      Description\n",
    "===================================================================================================\n",
    "int       Signed integer with maximum value determined by the platform.\n",
    "long      Python 2 only : Arbitrary precision signed integer. Large int values are automatically converted to long.\n",
    "\n",
    "float     Double-precision (64-bit) floating point number. Note there is no separate   double type.\n",
    "\n",
    "bool      A True or False value\n",
    "\n",
    "\n",
    "str       String type. ASCII-valued only in Python 2.x and Unicode in Python 3\n",
    "unicode   Unicode string type\n",
    "\n",
    "None      The Python “null” value (only one instance of the None object exists)\n"
   ]
  },
  {
   "cell_type": "markdown",
   "metadata": {},
   "source": [
    "Python has a built-in function that tells us what type a given variable is. This function is called *type()*."
   ]
  },
  {
   "cell_type": "code",
   "execution_count": null,
   "metadata": {},
   "outputs": [],
   "source": [
    "a = 10\n",
    "print (type(a))"
   ]
  },
  {
   "cell_type": "code",
   "execution_count": null,
   "metadata": {},
   "outputs": [],
   "source": [
    "c = 10.5\n",
    "print (type(c))"
   ]
  },
  {
   "cell_type": "code",
   "execution_count": null,
   "metadata": {},
   "outputs": [],
   "source": [
    "d = True\n",
    "print (type(d))"
   ]
  },
  {
   "cell_type": "code",
   "execution_count": null,
   "metadata": {},
   "outputs": [],
   "source": [
    "e = \"Hello\"\n",
    "print (type(e))\n"
   ]
  },
  {
   "cell_type": "code",
   "execution_count": null,
   "metadata": {},
   "outputs": [],
   "source": [
    "f = u\"\\u0460\\u046C\"\n",
    "print (type(f))\n",
    "print (f)"
   ]
  },
  {
   "cell_type": "code",
   "execution_count": null,
   "metadata": {},
   "outputs": [],
   "source": [
    "g = None\n",
    "print (type(g))"
   ]
  },
  {
   "cell_type": "code",
   "execution_count": null,
   "metadata": {},
   "outputs": [],
   "source": [
    "x = 20        # data type is implicitly set to integer\n",
    "x = 20 + 0.5  # data type is changed to float\n",
    "x = \"twenty\"  # and now it will be a string  "
   ]
  },
  {
   "cell_type": "markdown",
   "metadata": {},
   "source": [
    "**Exercise: Write code that assigns 100 to a variable 'y', then in the next line assign the string \"python\" to it. On the third line print its contents.**"
   ]
  },
  {
   "cell_type": "code",
   "execution_count": null,
   "metadata": {},
   "outputs": [],
   "source": []
  },
  {
   "cell_type": "markdown",
   "metadata": {},
   "source": [
    "**Exercise: Write code that outputs what type variable 'a' is. Then, assign 'c' to 'a'. In the next line find out what type 'a' is.**"
   ]
  },
  {
   "cell_type": "code",
   "execution_count": null,
   "metadata": {},
   "outputs": [],
   "source": []
  },
  {
   "cell_type": "markdown",
   "metadata": {},
   "source": [
    "While we can dynamically change the type of a variable, Python interpreter will not allow us to mix incompatible data types in calculations."
   ]
  },
  {
   "cell_type": "code",
   "execution_count": null,
   "metadata": {},
   "outputs": [],
   "source": [
    "'5' + 5"
   ]
  },
  {
   "cell_type": "markdown",
   "metadata": {},
   "source": [
    "The above challenge can be resolved, and we will cover this a little later...."
   ]
  },
  {
   "cell_type": "markdown",
   "metadata": {},
   "source": [
    "### Rules for naming variables\n",
    "\n",
    "Every language has rules for naming variables. The rules in Python are the following:\n",
    "\n",
    "A valid variable name is a non-empty sequence of characters of any length with:\n",
    "\n",
    "   1. the start character can be the underscore \"_\" or a capital or lower case letter\n",
    "   2. the letters following the start character can be anything which is permitted as a start character plus the digits.\n",
    "   3. Just a warning for Windows-spoilt users: variable names are case-sensitive\n",
    "   4. Python keywords are not allowed as variable names\n",
    "\n",
    "\n",
    "<p>The following list shows the keywords in Python. These reserved words may not be used as constant or variable or any other identifier names.</p>\n",
    "<table class=\"src\">\n",
    "<th>\n",
    "<tr><td>and</td><td>exec</td><td>not</td></tr>\n",
    "<tr><td>assert</td><td>finally</td><td>or</td></tr>\n",
    "<tr><td>break</td><td>for</td><td>pass</td></tr>\n",
    "<tr><td>class</td><td>from</td><td>print</td></tr>\n",
    "<tr><td>continue</td><td>global</td><td>raise</td></tr>\n",
    "<tr><td>def</td><td>if</td><td>return</td></tr>\n",
    "<tr><td>del</td><td>import</td><td>try</td></tr>\n",
    "<tr><td>elif</td><td>in</td><td>while</td></tr>\n",
    "<tr><td>else</td><td>is</td><td>with </td></tr>\n",
    "<tr><td>except</td><td>lambda</td><td>yield</td></tr>\n",
    "<th>\n",
    "</table>\n",
    "\n"
   ]
  },
  {
   "cell_type": "markdown",
   "metadata": {},
   "source": [
    "# Spell checking and other extensions for your notebooks and assignments: "
   ]
  },
  {
   "cell_type": "markdown",
   "metadata": {},
   "source": [
    "The following code should be run in a notebook cell just one time on your machine."
   ]
  },
  {
   "cell_type": "raw",
   "metadata": {},
   "source": [
    "!ipython install-nbextension https://bitbucket.org/ipre/calico/downloads/calico-spell-check-1.0.zip\n",
    "\n",
    "!ipython install-nbextension https://bitbucket.org/ipre/calico/downloads/calico-document-tools-1.0.zip\n",
    "\n",
    "!ipython install-nbextension https://bitbucket.org/ipre/calico/downloads/calico-cell-tools-1.0.zip"
   ]
  },
  {
   "cell_type": "code",
   "execution_count": null,
   "metadata": {},
   "outputs": [],
   "source": [
    "%%javascript\n",
    "require(['base/js/utils'],\n",
    "function(utils) {\n",
    "   utils.load_extensions('calico-spell-check', 'calico-document-tools', 'calico-cell-tools');\n",
    "});"
   ]
  },
  {
   "cell_type": "code",
   "execution_count": null,
   "metadata": {},
   "outputs": [],
   "source": []
  }
 ],
 "metadata": {
  "kernelspec": {
   "display_name": "Python 3",
   "language": "python",
   "name": "python3"
  },
  "language_info": {
   "codemirror_mode": {
    "name": "ipython",
    "version": 3
   },
   "file_extension": ".py",
   "mimetype": "text/x-python",
   "name": "python",
   "nbconvert_exporter": "python",
   "pygments_lexer": "ipython3",
   "version": "3.7.1"
  }
 },
 "nbformat": 4,
 "nbformat_minor": 1
}
