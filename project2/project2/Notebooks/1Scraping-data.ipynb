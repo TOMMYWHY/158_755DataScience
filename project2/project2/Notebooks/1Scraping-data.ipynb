{
 "cells": [
  {
   "cell_type": "markdown",
   "metadata": {},
   "source": [
    "# Data Acquisition"
   ]
  },
  {
   "cell_type": "markdown",
   "metadata": {},
   "source": [
    "## Web Scraping"
   ]
  },
  {
   "cell_type": "code",
   "execution_count": null,
   "metadata": {},
   "outputs": [],
   "source": []
  },
  {
   "cell_type": "code",
   "execution_count": 18,
   "metadata": {},
   "outputs": [],
   "source": [
    "from urllib.request import urlopen\n",
    "from bs4 import BeautifulSoup\n",
    "import pandas as pd"
   ]
  },
  {
   "cell_type": "code",
   "execution_count": 19,
   "metadata": {},
   "outputs": [],
   "source": [
    "def save_subgroup(dataframe, g_index, subgroup_name):\n",
    "    \"\"\" save dataframe in csv \"\"\"\n",
    "    save_subgroup_filename = \"\".join([prefix, subgroup_name, \".csv.gz\"])\n",
    "    dataframe.to_csv(save_subgroup_filename, compression='gzip', encoding='UTF-8')"
   ]
  },
  {
   "cell_type": "code",
   "execution_count": null,
   "metadata": {},
   "outputs": [],
   "source": []
  },
  {
   "cell_type": "markdown",
   "metadata": {},
   "source": [
    "## players stats\n",
    "\n",
    "scraping data form the basketball-reference website. \n",
    "The sites attempt a comprehensive approach to sports data. The data source relayalbe and cleanable.\n",
    "I use the data of 2019-20 NBA Player Totals Stats to analysis.\n",
    "\n",
    "\n",
    ">https://www.basketball-reference.com/leagues/NBA_2020_totals.html"
   ]
  },
  {
   "cell_type": "code",
   "execution_count": 36,
   "metadata": {},
   "outputs": [],
   "source": [
    "def get_players_stats():\n",
    "    year = 2020\n",
    "#     url = \"https://www.basketball-reference.com/leagues/NBA_2020_per_game.html\"\n",
    "    url = \"https://www.basketball-reference.com/leagues/NBA_2020_totals.html\"\n",
    "    html = urlopen(url)\n",
    "    soup = BeautifulSoup(html)\n",
    "    #get headers\n",
    "    soup.findAll('tr', limit=2)\n",
    "    headers = [th.getText() for th in soup.findAll('tr', limit=2)[0].findAll('th')]\n",
    "    headers = headers[1:]\n",
    "    #get rows\n",
    "    rows = soup.findAll('tr')[1:]\n",
    "    player_stats = [[td.getText() for td in rows[i].findAll('td')]\n",
    "            for i in range(len(rows))]\n",
    "    \n",
    "    players_stats = pd.DataFrame(player_stats, columns = headers)\n",
    "    return players_stats"
   ]
  },
  {
   "cell_type": "code",
   "execution_count": 37,
   "metadata": {},
   "outputs": [],
   "source": [
    "players_stats = get_players_stats()"
   ]
  },
  {
   "cell_type": "code",
   "execution_count": 38,
   "metadata": {},
   "outputs": [
    {
     "data": {
      "text/plain": [
       "(649, 29)"
      ]
     },
     "execution_count": 38,
     "metadata": {},
     "output_type": "execute_result"
    }
   ],
   "source": [
    "players_stats.shape"
   ]
  },
  {
   "cell_type": "code",
   "execution_count": 39,
   "metadata": {},
   "outputs": [
    {
     "data": {
      "text/html": [
       "<div>\n",
       "<style scoped>\n",
       "    .dataframe tbody tr th:only-of-type {\n",
       "        vertical-align: middle;\n",
       "    }\n",
       "\n",
       "    .dataframe tbody tr th {\n",
       "        vertical-align: top;\n",
       "    }\n",
       "\n",
       "    .dataframe thead th {\n",
       "        text-align: right;\n",
       "    }\n",
       "</style>\n",
       "<table border=\"1\" class=\"dataframe\">\n",
       "  <thead>\n",
       "    <tr style=\"text-align: right;\">\n",
       "      <th></th>\n",
       "      <th>Player</th>\n",
       "      <th>Pos</th>\n",
       "      <th>Age</th>\n",
       "      <th>Tm</th>\n",
       "      <th>G</th>\n",
       "      <th>GS</th>\n",
       "      <th>MP</th>\n",
       "      <th>FG</th>\n",
       "      <th>FGA</th>\n",
       "      <th>FG%</th>\n",
       "      <th>...</th>\n",
       "      <th>FT%</th>\n",
       "      <th>ORB</th>\n",
       "      <th>DRB</th>\n",
       "      <th>TRB</th>\n",
       "      <th>AST</th>\n",
       "      <th>STL</th>\n",
       "      <th>BLK</th>\n",
       "      <th>TOV</th>\n",
       "      <th>PF</th>\n",
       "      <th>PTS</th>\n",
       "    </tr>\n",
       "  </thead>\n",
       "  <tbody>\n",
       "    <tr>\n",
       "      <td>0</td>\n",
       "      <td>Steven Adams</td>\n",
       "      <td>C</td>\n",
       "      <td>26</td>\n",
       "      <td>OKC</td>\n",
       "      <td>58</td>\n",
       "      <td>58</td>\n",
       "      <td>1564</td>\n",
       "      <td>262</td>\n",
       "      <td>443</td>\n",
       "      <td>.591</td>\n",
       "      <td>...</td>\n",
       "      <td>.590</td>\n",
       "      <td>196</td>\n",
       "      <td>347</td>\n",
       "      <td>543</td>\n",
       "      <td>141</td>\n",
       "      <td>50</td>\n",
       "      <td>65</td>\n",
       "      <td>86</td>\n",
       "      <td>111</td>\n",
       "      <td>633</td>\n",
       "    </tr>\n",
       "    <tr>\n",
       "      <td>1</td>\n",
       "      <td>Bam Adebayo</td>\n",
       "      <td>PF</td>\n",
       "      <td>22</td>\n",
       "      <td>MIA</td>\n",
       "      <td>65</td>\n",
       "      <td>65</td>\n",
       "      <td>2235</td>\n",
       "      <td>408</td>\n",
       "      <td>719</td>\n",
       "      <td>.567</td>\n",
       "      <td>...</td>\n",
       "      <td>.690</td>\n",
       "      <td>165</td>\n",
       "      <td>518</td>\n",
       "      <td>683</td>\n",
       "      <td>333</td>\n",
       "      <td>78</td>\n",
       "      <td>85</td>\n",
       "      <td>185</td>\n",
       "      <td>164</td>\n",
       "      <td>1053</td>\n",
       "    </tr>\n",
       "    <tr>\n",
       "      <td>2</td>\n",
       "      <td>LaMarcus Aldridge</td>\n",
       "      <td>C</td>\n",
       "      <td>34</td>\n",
       "      <td>SAS</td>\n",
       "      <td>53</td>\n",
       "      <td>53</td>\n",
       "      <td>1754</td>\n",
       "      <td>391</td>\n",
       "      <td>793</td>\n",
       "      <td>.493</td>\n",
       "      <td>...</td>\n",
       "      <td>.827</td>\n",
       "      <td>103</td>\n",
       "      <td>289</td>\n",
       "      <td>392</td>\n",
       "      <td>129</td>\n",
       "      <td>36</td>\n",
       "      <td>87</td>\n",
       "      <td>74</td>\n",
       "      <td>128</td>\n",
       "      <td>1001</td>\n",
       "    </tr>\n",
       "    <tr>\n",
       "      <td>3</td>\n",
       "      <td>Nickeil Alexander-Walker</td>\n",
       "      <td>SG</td>\n",
       "      <td>21</td>\n",
       "      <td>NOP</td>\n",
       "      <td>41</td>\n",
       "      <td>0</td>\n",
       "      <td>501</td>\n",
       "      <td>77</td>\n",
       "      <td>227</td>\n",
       "      <td>.339</td>\n",
       "      <td>...</td>\n",
       "      <td>.607</td>\n",
       "      <td>8</td>\n",
       "      <td>72</td>\n",
       "      <td>80</td>\n",
       "      <td>74</td>\n",
       "      <td>11</td>\n",
       "      <td>7</td>\n",
       "      <td>40</td>\n",
       "      <td>46</td>\n",
       "      <td>211</td>\n",
       "    </tr>\n",
       "    <tr>\n",
       "      <td>4</td>\n",
       "      <td>Grayson Allen</td>\n",
       "      <td>SG</td>\n",
       "      <td>24</td>\n",
       "      <td>MEM</td>\n",
       "      <td>30</td>\n",
       "      <td>0</td>\n",
       "      <td>498</td>\n",
       "      <td>79</td>\n",
       "      <td>176</td>\n",
       "      <td>.449</td>\n",
       "      <td>...</td>\n",
       "      <td>.857</td>\n",
       "      <td>5</td>\n",
       "      <td>61</td>\n",
       "      <td>66</td>\n",
       "      <td>43</td>\n",
       "      <td>6</td>\n",
       "      <td>1</td>\n",
       "      <td>23</td>\n",
       "      <td>36</td>\n",
       "      <td>221</td>\n",
       "    </tr>\n",
       "  </tbody>\n",
       "</table>\n",
       "<p>5 rows × 29 columns</p>\n",
       "</div>"
      ],
      "text/plain": [
       "                     Player Pos Age   Tm   G  GS    MP   FG  FGA   FG%  ...  \\\n",
       "0              Steven Adams   C  26  OKC  58  58  1564  262  443  .591  ...   \n",
       "1               Bam Adebayo  PF  22  MIA  65  65  2235  408  719  .567  ...   \n",
       "2         LaMarcus Aldridge   C  34  SAS  53  53  1754  391  793  .493  ...   \n",
       "3  Nickeil Alexander-Walker  SG  21  NOP  41   0   501   77  227  .339  ...   \n",
       "4             Grayson Allen  SG  24  MEM  30   0   498   79  176  .449  ...   \n",
       "\n",
       "    FT%  ORB  DRB  TRB  AST STL BLK  TOV   PF   PTS  \n",
       "0  .590  196  347  543  141  50  65   86  111   633  \n",
       "1  .690  165  518  683  333  78  85  185  164  1053  \n",
       "2  .827  103  289  392  129  36  87   74  128  1001  \n",
       "3  .607    8   72   80   74  11   7   40   46   211  \n",
       "4  .857    5   61   66   43   6   1   23   36   221  \n",
       "\n",
       "[5 rows x 29 columns]"
      ]
     },
     "execution_count": 39,
     "metadata": {},
     "output_type": "execute_result"
    }
   ],
   "source": [
    "players_stats.head()"
   ]
  },
  {
   "cell_type": "code",
   "execution_count": 42,
   "metadata": {},
   "outputs": [],
   "source": [
    "players_stats.to_csv(\"stats.csv.gz\", compression='gzip')"
   ]
  },
  {
   "cell_type": "code",
   "execution_count": null,
   "metadata": {},
   "outputs": [],
   "source": []
  },
  {
   "cell_type": "code",
   "execution_count": null,
   "metadata": {},
   "outputs": [],
   "source": []
  },
  {
   "cell_type": "markdown",
   "metadata": {},
   "source": [
    "## players salary\n",
    "\n",
    "ESPN is an American basic cable sports channel owned by ESPN Inc. The website recorde each season NBA Player Salaries.\n",
    "I use the season of 2019-2020 salary.\n",
    "\n",
    "> http://www.espn.com/nba/salaries"
   ]
  },
  {
   "cell_type": "code",
   "execution_count": 52,
   "metadata": {},
   "outputs": [],
   "source": [
    "def get_totoal_pages_num():\n",
    "    url = \"http://www.espn.com/nba/salaries\"\n",
    "    html = urlopen(url)\n",
    "    soup = BeautifulSoup(html)\n",
    "    totoal_pages_num = soup.select('.page-numbers')[0].text[-2:]\n",
    "    print(\"total pages num is : %s\" % totoal_pages_num )\n",
    "    return totoal_pages_num"
   ]
  },
  {
   "cell_type": "code",
   "execution_count": 53,
   "metadata": {},
   "outputs": [],
   "source": [
    "def get_palyer_salary():\n",
    "    pages = int(get_totoal_pages_num())\n",
    "    df =None\n",
    "    arr=[]\n",
    "    for page_num in range(1,pages+1):\n",
    "        per_page_url =  \"http://www.espn.com/nba/salaries/_/page/{}\".format(page_num)\n",
    "        print(per_page_url)\n",
    "        html = urlopen(per_page_url)\n",
    "        soup = BeautifulSoup(html)\n",
    "        soup.findAll('tr', limit=1)\n",
    "        soup.findAll('tr', limit=1)[0].findAll('td')\n",
    "\n",
    "        #get header\n",
    "        headers = [th.getText() for th in soup.findAll('tr', limit=1)[0].findAll('td')]\n",
    "        \n",
    "        #get row\n",
    "        rows = soup.findAll('tr')[1:]\n",
    "        player_stats = [[td.getText() for td in rows[i].findAll('td')]\n",
    "                for i in range(len(rows))]\n",
    "    \n",
    "        arr.extend(player_stats)\n",
    "        df = pd.DataFrame(arr, columns = headers)\n",
    "    return df"
   ]
  },
  {
   "cell_type": "code",
   "execution_count": 54,
   "metadata": {},
   "outputs": [
    {
     "name": "stdout",
     "output_type": "stream",
     "text": [
      "total pages num is : 14\n",
      "http://www.espn.com/nba/salaries/_/page/1\n",
      "http://www.espn.com/nba/salaries/_/page/2\n",
      "http://www.espn.com/nba/salaries/_/page/3\n",
      "http://www.espn.com/nba/salaries/_/page/4\n",
      "http://www.espn.com/nba/salaries/_/page/5\n",
      "http://www.espn.com/nba/salaries/_/page/6\n",
      "http://www.espn.com/nba/salaries/_/page/7\n",
      "http://www.espn.com/nba/salaries/_/page/8\n",
      "http://www.espn.com/nba/salaries/_/page/9\n",
      "http://www.espn.com/nba/salaries/_/page/10\n",
      "http://www.espn.com/nba/salaries/_/page/11\n",
      "http://www.espn.com/nba/salaries/_/page/12\n",
      "http://www.espn.com/nba/salaries/_/page/13\n",
      "http://www.espn.com/nba/salaries/_/page/14\n"
     ]
    },
    {
     "data": {
      "text/plain": [
       "(564, 4)"
      ]
     },
     "execution_count": 54,
     "metadata": {},
     "output_type": "execute_result"
    }
   ],
   "source": [
    "salary = get_palyer_salary()\n",
    "salary.shape"
   ]
  },
  {
   "cell_type": "code",
   "execution_count": 55,
   "metadata": {},
   "outputs": [
    {
     "data": {
      "text/html": [
       "<div>\n",
       "<style scoped>\n",
       "    .dataframe tbody tr th:only-of-type {\n",
       "        vertical-align: middle;\n",
       "    }\n",
       "\n",
       "    .dataframe tbody tr th {\n",
       "        vertical-align: top;\n",
       "    }\n",
       "\n",
       "    .dataframe thead th {\n",
       "        text-align: right;\n",
       "    }\n",
       "</style>\n",
       "<table border=\"1\" class=\"dataframe\">\n",
       "  <thead>\n",
       "    <tr style=\"text-align: right;\">\n",
       "      <th></th>\n",
       "      <th>RK</th>\n",
       "      <th>NAME</th>\n",
       "      <th>TEAM</th>\n",
       "      <th>SALARY</th>\n",
       "    </tr>\n",
       "  </thead>\n",
       "  <tbody>\n",
       "    <tr>\n",
       "      <td>0</td>\n",
       "      <td>1</td>\n",
       "      <td>Stephen Curry, PG</td>\n",
       "      <td>Golden State Warriors</td>\n",
       "      <td>$40,231,758</td>\n",
       "    </tr>\n",
       "    <tr>\n",
       "      <td>1</td>\n",
       "      <td>2</td>\n",
       "      <td>Chris Paul, PG</td>\n",
       "      <td>Oklahoma City Thunder</td>\n",
       "      <td>$38,506,482</td>\n",
       "    </tr>\n",
       "    <tr>\n",
       "      <td>2</td>\n",
       "      <td>3</td>\n",
       "      <td>Russell Westbrook, PG</td>\n",
       "      <td>Houston Rockets</td>\n",
       "      <td>$38,506,482</td>\n",
       "    </tr>\n",
       "    <tr>\n",
       "      <td>3</td>\n",
       "      <td>4</td>\n",
       "      <td>John Wall, PG</td>\n",
       "      <td>Washington Wizards</td>\n",
       "      <td>$38,199,000</td>\n",
       "    </tr>\n",
       "    <tr>\n",
       "      <td>4</td>\n",
       "      <td>5</td>\n",
       "      <td>Kevin Durant, SF</td>\n",
       "      <td>Brooklyn Nets</td>\n",
       "      <td>$38,199,000</td>\n",
       "    </tr>\n",
       "  </tbody>\n",
       "</table>\n",
       "</div>"
      ],
      "text/plain": [
       "  RK                   NAME                   TEAM       SALARY\n",
       "0  1      Stephen Curry, PG  Golden State Warriors  $40,231,758\n",
       "1  2         Chris Paul, PG  Oklahoma City Thunder  $38,506,482\n",
       "2  3  Russell Westbrook, PG        Houston Rockets  $38,506,482\n",
       "3  4          John Wall, PG     Washington Wizards  $38,199,000\n",
       "4  5       Kevin Durant, SF          Brooklyn Nets  $38,199,000"
      ]
     },
     "execution_count": 55,
     "metadata": {},
     "output_type": "execute_result"
    }
   ],
   "source": [
    "salary.head()"
   ]
  },
  {
   "cell_type": "code",
   "execution_count": 56,
   "metadata": {},
   "outputs": [],
   "source": [
    "salary.to_csv(\"salary.csv.gz\", compression='gzip')"
   ]
  },
  {
   "cell_type": "code",
   "execution_count": null,
   "metadata": {},
   "outputs": [],
   "source": []
  },
  {
   "cell_type": "code",
   "execution_count": 57,
   "metadata": {},
   "outputs": [
    {
     "data": {
      "text/html": [
       "<div>\n",
       "<style scoped>\n",
       "    .dataframe tbody tr th:only-of-type {\n",
       "        vertical-align: middle;\n",
       "    }\n",
       "\n",
       "    .dataframe tbody tr th {\n",
       "        vertical-align: top;\n",
       "    }\n",
       "\n",
       "    .dataframe thead th {\n",
       "        text-align: right;\n",
       "    }\n",
       "</style>\n",
       "<table border=\"1\" class=\"dataframe\">\n",
       "  <thead>\n",
       "    <tr style=\"text-align: right;\">\n",
       "      <th></th>\n",
       "      <th>RK</th>\n",
       "      <th>NAME</th>\n",
       "      <th>TEAM</th>\n",
       "      <th>SALARY</th>\n",
       "      <th>full-name</th>\n",
       "      <th>state</th>\n",
       "    </tr>\n",
       "  </thead>\n",
       "  <tbody>\n",
       "    <tr>\n",
       "      <td>0</td>\n",
       "      <td>1</td>\n",
       "      <td>Stephen Curry, PG</td>\n",
       "      <td>Golden State Warriors</td>\n",
       "      <td>$40,231,758</td>\n",
       "      <td>Stephen Curry</td>\n",
       "      <td>PG</td>\n",
       "    </tr>\n",
       "    <tr>\n",
       "      <td>1</td>\n",
       "      <td>2</td>\n",
       "      <td>Chris Paul, PG</td>\n",
       "      <td>Oklahoma City Thunder</td>\n",
       "      <td>$38,506,482</td>\n",
       "      <td>Chris Paul</td>\n",
       "      <td>PG</td>\n",
       "    </tr>\n",
       "    <tr>\n",
       "      <td>2</td>\n",
       "      <td>3</td>\n",
       "      <td>Russell Westbrook, PG</td>\n",
       "      <td>Houston Rockets</td>\n",
       "      <td>$38,506,482</td>\n",
       "      <td>Russell Westbrook</td>\n",
       "      <td>PG</td>\n",
       "    </tr>\n",
       "    <tr>\n",
       "      <td>3</td>\n",
       "      <td>4</td>\n",
       "      <td>John Wall, PG</td>\n",
       "      <td>Washington Wizards</td>\n",
       "      <td>$38,199,000</td>\n",
       "      <td>John Wall</td>\n",
       "      <td>PG</td>\n",
       "    </tr>\n",
       "    <tr>\n",
       "      <td>4</td>\n",
       "      <td>5</td>\n",
       "      <td>Kevin Durant, SF</td>\n",
       "      <td>Brooklyn Nets</td>\n",
       "      <td>$38,199,000</td>\n",
       "      <td>Kevin Durant</td>\n",
       "      <td>SF</td>\n",
       "    </tr>\n",
       "  </tbody>\n",
       "</table>\n",
       "</div>"
      ],
      "text/plain": [
       "  RK                   NAME                   TEAM       SALARY  \\\n",
       "0  1      Stephen Curry, PG  Golden State Warriors  $40,231,758   \n",
       "1  2         Chris Paul, PG  Oklahoma City Thunder  $38,506,482   \n",
       "2  3  Russell Westbrook, PG        Houston Rockets  $38,506,482   \n",
       "3  4          John Wall, PG     Washington Wizards  $38,199,000   \n",
       "4  5       Kevin Durant, SF          Brooklyn Nets  $38,199,000   \n",
       "\n",
       "           full-name state  \n",
       "0      Stephen Curry    PG  \n",
       "1         Chris Paul    PG  \n",
       "2  Russell Westbrook    PG  \n",
       "3          John Wall    PG  \n",
       "4       Kevin Durant    SF  "
      ]
     },
     "execution_count": 57,
     "metadata": {},
     "output_type": "execute_result"
    }
   ],
   "source": [
    "salary['full-name'], salary['state'] = salary['NAME'].str.split(',', 1).str\n",
    "salary.head()\n"
   ]
  },
  {
   "cell_type": "code",
   "execution_count": 58,
   "metadata": {},
   "outputs": [],
   "source": [
    "# print(salary.dtypes)"
   ]
  },
  {
   "cell_type": "code",
   "execution_count": 59,
   "metadata": {},
   "outputs": [],
   "source": [
    "def covert_currency(x): #1change salary formate\n",
    "    if x == 0:\n",
    "        return 0\n",
    "    else:\n",
    "        return x.replace(\"$\",\"\").replace(\",\",\"\")\n",
    "    \n",
    "cust_str = salary['SALARY'].apply(lambda x:covert_currency(x)) #2\n",
    "\n",
    "salary['SALARY'] = pd.to_numeric(cust_str, errors='coerce')"
   ]
  },
  {
   "cell_type": "code",
   "execution_count": 60,
   "metadata": {},
   "outputs": [
    {
     "data": {
      "text/html": [
       "<div>\n",
       "<style scoped>\n",
       "    .dataframe tbody tr th:only-of-type {\n",
       "        vertical-align: middle;\n",
       "    }\n",
       "\n",
       "    .dataframe tbody tr th {\n",
       "        vertical-align: top;\n",
       "    }\n",
       "\n",
       "    .dataframe thead th {\n",
       "        text-align: right;\n",
       "    }\n",
       "</style>\n",
       "<table border=\"1\" class=\"dataframe\">\n",
       "  <thead>\n",
       "    <tr style=\"text-align: right;\">\n",
       "      <th></th>\n",
       "      <th>RK</th>\n",
       "      <th>NAME</th>\n",
       "      <th>TEAM</th>\n",
       "      <th>SALARY</th>\n",
       "      <th>full-name</th>\n",
       "      <th>state</th>\n",
       "    </tr>\n",
       "  </thead>\n",
       "  <tbody>\n",
       "    <tr>\n",
       "      <td>0</td>\n",
       "      <td>1</td>\n",
       "      <td>Stephen Curry, PG</td>\n",
       "      <td>Golden State Warriors</td>\n",
       "      <td>40231758.0</td>\n",
       "      <td>Stephen Curry</td>\n",
       "      <td>PG</td>\n",
       "    </tr>\n",
       "    <tr>\n",
       "      <td>1</td>\n",
       "      <td>2</td>\n",
       "      <td>Chris Paul, PG</td>\n",
       "      <td>Oklahoma City Thunder</td>\n",
       "      <td>38506482.0</td>\n",
       "      <td>Chris Paul</td>\n",
       "      <td>PG</td>\n",
       "    </tr>\n",
       "    <tr>\n",
       "      <td>2</td>\n",
       "      <td>3</td>\n",
       "      <td>Russell Westbrook, PG</td>\n",
       "      <td>Houston Rockets</td>\n",
       "      <td>38506482.0</td>\n",
       "      <td>Russell Westbrook</td>\n",
       "      <td>PG</td>\n",
       "    </tr>\n",
       "    <tr>\n",
       "      <td>3</td>\n",
       "      <td>4</td>\n",
       "      <td>John Wall, PG</td>\n",
       "      <td>Washington Wizards</td>\n",
       "      <td>38199000.0</td>\n",
       "      <td>John Wall</td>\n",
       "      <td>PG</td>\n",
       "    </tr>\n",
       "    <tr>\n",
       "      <td>4</td>\n",
       "      <td>5</td>\n",
       "      <td>Kevin Durant, SF</td>\n",
       "      <td>Brooklyn Nets</td>\n",
       "      <td>38199000.0</td>\n",
       "      <td>Kevin Durant</td>\n",
       "      <td>SF</td>\n",
       "    </tr>\n",
       "  </tbody>\n",
       "</table>\n",
       "</div>"
      ],
      "text/plain": [
       "  RK                   NAME                   TEAM      SALARY  \\\n",
       "0  1      Stephen Curry, PG  Golden State Warriors  40231758.0   \n",
       "1  2         Chris Paul, PG  Oklahoma City Thunder  38506482.0   \n",
       "2  3  Russell Westbrook, PG        Houston Rockets  38506482.0   \n",
       "3  4          John Wall, PG     Washington Wizards  38199000.0   \n",
       "4  5       Kevin Durant, SF          Brooklyn Nets  38199000.0   \n",
       "\n",
       "           full-name state  \n",
       "0      Stephen Curry    PG  \n",
       "1         Chris Paul    PG  \n",
       "2  Russell Westbrook    PG  \n",
       "3          John Wall    PG  \n",
       "4       Kevin Durant    SF  "
      ]
     },
     "execution_count": 60,
     "metadata": {},
     "output_type": "execute_result"
    }
   ],
   "source": [
    "salary.head()"
   ]
  },
  {
   "cell_type": "code",
   "execution_count": null,
   "metadata": {},
   "outputs": [],
   "source": []
  },
  {
   "cell_type": "code",
   "execution_count": null,
   "metadata": {},
   "outputs": [],
   "source": []
  },
  {
   "cell_type": "code",
   "execution_count": null,
   "metadata": {},
   "outputs": [],
   "source": []
  },
  {
   "cell_type": "code",
   "execution_count": null,
   "metadata": {},
   "outputs": [],
   "source": []
  }
 ],
 "metadata": {
  "kernelspec": {
   "display_name": "Python 3",
   "language": "python",
   "name": "python3"
  },
  "language_info": {
   "codemirror_mode": {
    "name": "ipython",
    "version": 3
   },
   "file_extension": ".py",
   "mimetype": "text/x-python",
   "name": "python",
   "nbconvert_exporter": "python",
   "pygments_lexer": "ipython3",
   "version": "3.7.4"
  }
 },
 "nbformat": 4,
 "nbformat_minor": 4
}
