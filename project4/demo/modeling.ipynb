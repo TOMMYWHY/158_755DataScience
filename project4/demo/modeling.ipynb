{
 "cells": [
  {
   "cell_type": "code",
   "execution_count": 32,
   "metadata": {},
   "outputs": [],
   "source": [
    "import pandas as pd\n",
    "from surprise import SVD\n",
    "from surprise import NormalPredictor\n",
    "from surprise import Dataset\n",
    "from surprise import Reader\n",
    "from surprise.model_selection import cross_validate\n",
    "from surprise import accuracy\n"
   ]
  },
  {
   "cell_type": "code",
   "execution_count": 2,
   "metadata": {},
   "outputs": [],
   "source": [
    "df = pd.read_csv('testForInput.csv')\n"
   ]
  },
  {
   "cell_type": "code",
   "execution_count": 3,
   "metadata": {},
   "outputs": [],
   "source": [
    "reader = Reader(rating_scale=(1, 5))\n"
   ]
  },
  {
   "cell_type": "code",
   "execution_count": 5,
   "metadata": {},
   "outputs": [],
   "source": [
    "data = Dataset.load_from_df(df[['userID', 'itemID', 'rating']], reader)\n"
   ]
  },
  {
   "cell_type": "code",
   "execution_count": 7,
   "metadata": {},
   "outputs": [
    {
     "name": "stdout",
     "output_type": "stream",
     "text": [
      "Evaluating RMSE, MAE of algorithm SVD on 5 split(s).\n",
      "\n",
      "                  Fold 1  Fold 2  Fold 3  Fold 4  Fold 5  Mean    Std     \n",
      "RMSE (testset)    1.2775  1.1425  1.0949  0.8966  1.1806  1.1184  0.1261  \n",
      "MAE (testset)     0.9960  0.9146  0.8701  0.7350  0.9581  0.8948  0.0903  \n",
      "Fit time          0.02    0.02    0.03    0.02    0.02    0.02    0.00    \n",
      "Test time         0.00    0.00    0.00    0.00    0.00    0.00    0.00    \n"
     ]
    },
    {
     "data": {
      "text/plain": [
       "{'test_rmse': array([1.27751423, 1.1425392 , 1.0948631 , 0.89659513, 1.18057749]),\n",
       " 'test_mae': array([0.9959742 , 0.91459882, 0.87014452, 0.73497314, 0.95813198]),\n",
       " 'fit_time': (0.02495884895324707,\n",
       "  0.024338960647583008,\n",
       "  0.027067899703979492,\n",
       "  0.02347087860107422,\n",
       "  0.023144960403442383),\n",
       " 'test_time': (0.004487037658691406,\n",
       "  0.0006978511810302734,\n",
       "  0.000759124755859375,\n",
       "  0.0006399154663085938,\n",
       "  0.0006580352783203125)}"
      ]
     },
     "execution_count": 7,
     "metadata": {},
     "output_type": "execute_result"
    }
   ],
   "source": [
    "algo = SVD()\n",
    "cross_validate(algo, data, measures=['RMSE', 'MAE'], cv=5, verbose=True)"
   ]
  },
  {
   "cell_type": "code",
   "execution_count": 9,
   "metadata": {},
   "outputs": [],
   "source": [
    "from surprise import KNNWithMeans #\n"
   ]
  },
  {
   "cell_type": "code",
   "execution_count": 10,
   "metadata": {},
   "outputs": [
    {
     "name": "stdout",
     "output_type": "stream",
     "text": [
      "Computing the msd similarity matrix...\n",
      "Done computing similarity matrix.\n",
      "Computing the msd similarity matrix...\n",
      "Done computing similarity matrix.\n",
      "Computing the msd similarity matrix...\n",
      "Done computing similarity matrix.\n",
      "Computing the msd similarity matrix...\n",
      "Done computing similarity matrix.\n",
      "Computing the msd similarity matrix...\n",
      "Done computing similarity matrix.\n",
      "Evaluating RMSE, MAE of algorithm KNNWithMeans on 5 split(s).\n",
      "\n",
      "                  Fold 1  Fold 2  Fold 3  Fold 4  Fold 5  Mean    Std     \n",
      "RMSE (testset)    1.1305  1.3449  1.0940  1.1337  0.9588  1.1324  0.1239  \n",
      "MAE (testset)     0.8971  1.0615  0.8436  0.8981  0.8331  0.9067  0.0819  \n",
      "Fit time          0.02    0.01    0.01    0.01    0.01    0.01    0.00    \n",
      "Test time         0.00    0.00    0.00    0.00    0.00    0.00    0.00    \n"
     ]
    },
    {
     "data": {
      "text/plain": [
       "{'test_rmse': array([1.13052341, 1.34490911, 1.09400675, 1.13372684, 0.95881084]),\n",
       " 'test_mae': array([0.89710438, 1.06154882, 0.84355161, 0.89805913, 0.83312171]),\n",
       " 'fit_time': (0.018162965774536133,\n",
       "  0.010208845138549805,\n",
       "  0.009176015853881836,\n",
       "  0.011615991592407227,\n",
       "  0.010471105575561523),\n",
       " 'test_time': (0.0013649463653564453,\n",
       "  0.0008220672607421875,\n",
       "  0.0010919570922851562,\n",
       "  0.0011332035064697266,\n",
       "  0.001203298568725586)}"
      ]
     },
     "execution_count": 10,
     "metadata": {},
     "output_type": "execute_result"
    }
   ],
   "source": [
    "algo = KNNWithMeans() # 均值协同过滤\n",
    "cross_validate(algo, data, measures=['RMSE', 'MAE'], cv=5, verbose=True)"
   ]
  },
  {
   "cell_type": "code",
   "execution_count": 12,
   "metadata": {},
   "outputs": [],
   "source": [
    "from surprise import SlopeOne"
   ]
  },
  {
   "cell_type": "code",
   "execution_count": 14,
   "metadata": {},
   "outputs": [
    {
     "name": "stdout",
     "output_type": "stream",
     "text": [
      "Evaluating RMSE, MAE of algorithm SlopeOne on 5 split(s).\n",
      "\n",
      "                  Fold 1  Fold 2  Fold 3  Fold 4  Fold 5  Mean    Std     \n",
      "RMSE (testset)    1.0865  1.1229  1.0475  1.2399  1.1436  1.1281  0.0648  \n",
      "MAE (testset)     0.9096  0.9353  0.7921  0.9389  0.9318  0.9015  0.0557  \n",
      "Fit time          0.01    0.01    0.01    0.01    0.01    0.01    0.00    \n",
      "Test time         0.01    0.00    0.00    0.00    0.00    0.00    0.00    \n"
     ]
    },
    {
     "data": {
      "text/plain": [
       "{'test_rmse': array([1.0864927 , 1.12288157, 1.04754554, 1.2399385 , 1.14359879]),\n",
       " 'test_mae': array([0.90962963, 0.93530864, 0.7921277 , 0.93887176, 0.93179757]),\n",
       " 'fit_time': (0.007069826126098633,\n",
       "  0.00648808479309082,\n",
       "  0.006358146667480469,\n",
       "  0.007122039794921875,\n",
       "  0.01049494743347168),\n",
       " 'test_time': (0.0052182674407958984,\n",
       "  0.0009400844573974609,\n",
       "  0.0008409023284912109,\n",
       "  0.001096963882446289,\n",
       "  0.0009219646453857422)}"
      ]
     },
     "execution_count": 14,
     "metadata": {},
     "output_type": "execute_result"
    }
   ],
   "source": [
    "algo = SlopeOne()\n",
    "cross_validate(algo, data, measures=['RMSE', 'MAE'], cv=5, verbose=True)"
   ]
  },
  {
   "cell_type": "code",
   "execution_count": 15,
   "metadata": {},
   "outputs": [],
   "source": [
    "from surprise import CoClustering"
   ]
  },
  {
   "cell_type": "code",
   "execution_count": 16,
   "metadata": {},
   "outputs": [
    {
     "name": "stdout",
     "output_type": "stream",
     "text": [
      "Evaluating RMSE, MAE of algorithm CoClustering on 5 split(s).\n",
      "\n",
      "                  Fold 1  Fold 2  Fold 3  Fold 4  Fold 5  Mean    Std     \n",
      "RMSE (testset)    1.0277  1.1326  1.2907  0.9842  1.2528  1.1376  0.1203  \n",
      "MAE (testset)     0.8533  0.9221  1.0109  0.7916  0.9698  0.9095  0.0789  \n",
      "Fit time          0.15    0.11    0.10    0.10    0.11    0.11    0.02    \n",
      "Test time         0.00    0.00    0.00    0.00    0.00    0.00    0.00    \n"
     ]
    },
    {
     "data": {
      "text/plain": [
       "{'test_rmse': array([1.0276615 , 1.13262782, 1.29074051, 0.98418421, 1.25275489]),\n",
       " 'test_mae': array([0.85333333, 0.92208625, 1.01092871, 0.79163641, 0.96975281]),\n",
       " 'fit_time': (0.1480100154876709,\n",
       "  0.10540175437927246,\n",
       "  0.10228991508483887,\n",
       "  0.09981107711791992,\n",
       "  0.10586190223693848),\n",
       " 'test_time': (0.0007457733154296875,\n",
       "  0.0006039142608642578,\n",
       "  0.0006251335144042969,\n",
       "  0.0006101131439208984,\n",
       "  0.0006189346313476562)}"
      ]
     },
     "execution_count": 16,
     "metadata": {},
     "output_type": "execute_result"
    }
   ],
   "source": [
    "algo = CoClustering()\n",
    "cross_validate(algo, data, measures=['RMSE', 'MAE'], cv=5, verbose=True)"
   ]
  },
  {
   "cell_type": "code",
   "execution_count": 20,
   "metadata": {},
   "outputs": [],
   "source": [
    "from surprise import NMF"
   ]
  },
  {
   "cell_type": "code",
   "execution_count": 22,
   "metadata": {},
   "outputs": [
    {
     "name": "stdout",
     "output_type": "stream",
     "text": [
      "Evaluating RMSE, MAE of algorithm NMF on 5 split(s).\n",
      "\n",
      "                  Fold 1  Fold 2  Fold 3  Fold 4  Fold 5  Mean    Std     \n",
      "RMSE (testset)    1.0798  1.0711  1.2955  1.0918  1.1100  1.1296  0.0839  \n",
      "MAE (testset)     0.8984  0.8685  0.9933  0.9020  0.8625  0.9049  0.0469  \n",
      "Fit time          0.07    0.06    0.06    0.07    0.06    0.07    0.00    \n",
      "Test time         0.00    0.00    0.00    0.00    0.00    0.00    0.00    \n"
     ]
    },
    {
     "data": {
      "text/plain": [
       "{'test_rmse': array([1.07975198, 1.07110426, 1.29547364, 1.09179929, 1.11003755]),\n",
       " 'test_mae': array([0.89835333, 0.8685073 , 0.99328859, 0.9020497 , 0.8625068 ]),\n",
       " 'fit_time': (0.06873011589050293,\n",
       "  0.06427502632141113,\n",
       "  0.06280303001403809,\n",
       "  0.06867599487304688,\n",
       "  0.06149697303771973),\n",
       " 'test_time': (0.0010678768157958984,\n",
       "  0.0009729862213134766,\n",
       "  0.0008039474487304688,\n",
       "  0.0012218952178955078,\n",
       "  0.0009961128234863281)}"
      ]
     },
     "execution_count": 22,
     "metadata": {},
     "output_type": "execute_result"
    }
   ],
   "source": [
    "\n",
    "algo = NMF()\n",
    "cross_validate(algo, data, measures=['RMSE', 'MAE'], cv=5, verbose=True)"
   ]
  },
  {
   "cell_type": "code",
   "execution_count": null,
   "metadata": {},
   "outputs": [],
   "source": []
  },
  {
   "cell_type": "code",
   "execution_count": 26,
   "metadata": {},
   "outputs": [],
   "source": [
    "from surprise import KNNBaseline\n",
    "from surprise.model_selection import train_test_split\n"
   ]
  },
  {
   "cell_type": "code",
   "execution_count": 29,
   "metadata": {},
   "outputs": [
    {
     "name": "stdout",
     "output_type": "stream",
     "text": [
      "Estimating biases using als...\n",
      "Computing the pearson_baseline similarity matrix...\n",
      "Done computing similarity matrix.\n"
     ]
    },
    {
     "data": {
      "text/plain": [
       "<surprise.prediction_algorithms.knns.KNNBaseline at 0x1227b8320>"
      ]
     },
     "execution_count": 29,
     "metadata": {},
     "output_type": "execute_result"
    }
   ],
   "source": [
    "trainset, testset = train_test_split(data, test_size=.25) \n",
    "#使用pearson_baseline方式计算相似度  False以item为基准计算相似度 本例为电影之间的相似度\n",
    "sim_options = {'name': 'pearson_baseline', 'user_based': False}\n",
    "##使用KNNBaseline算法\n",
    "algo = KNNBaseline(sim_options=sim_options)\n",
    "#训练模型\n",
    "algo.fit(trainset)\n"
   ]
  },
  {
   "cell_type": "code",
   "execution_count": 30,
   "metadata": {},
   "outputs": [],
   "source": [
    "predictions = algo.test(testset) #做测试\n"
   ]
  },
  {
   "cell_type": "code",
   "execution_count": 33,
   "metadata": {},
   "outputs": [
    {
     "name": "stdout",
     "output_type": "stream",
     "text": [
      "RMSE: 1.1507\n"
     ]
    },
    {
     "data": {
      "text/plain": [
       "1.1507282407528028"
      ]
     },
     "execution_count": 33,
     "metadata": {},
     "output_type": "execute_result"
    }
   ],
   "source": [
    "accuracy.rmse(predictions) #计算RMSE\n"
   ]
  },
  {
   "cell_type": "code",
   "execution_count": null,
   "metadata": {},
   "outputs": [],
   "source": []
  }
 ],
 "metadata": {
  "kernelspec": {
   "display_name": "Python 3",
   "language": "python",
   "name": "python3"
  },
  "language_info": {
   "codemirror_mode": {
    "name": "ipython",
    "version": 3
   },
   "file_extension": ".py",
   "mimetype": "text/x-python",
   "name": "python",
   "nbconvert_exporter": "python",
   "pygments_lexer": "ipython3",
   "version": "3.6.10"
  }
 },
 "nbformat": 4,
 "nbformat_minor": 4
}
