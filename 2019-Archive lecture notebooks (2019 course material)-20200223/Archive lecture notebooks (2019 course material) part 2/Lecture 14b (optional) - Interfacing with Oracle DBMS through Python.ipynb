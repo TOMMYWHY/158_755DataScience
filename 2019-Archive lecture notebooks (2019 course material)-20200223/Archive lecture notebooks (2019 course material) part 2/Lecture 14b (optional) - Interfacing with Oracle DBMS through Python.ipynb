{
 "cells": [
  {
   "cell_type": "code",
   "execution_count": null,
   "metadata": {},
   "outputs": [],
   "source": [
    "from IPython.core.display import display, HTML\n",
    "display(HTML(\"<style>.container { width:100% !important; }</style>\"))"
   ]
  },
  {
   "cell_type": "markdown",
   "metadata": {},
   "source": [
    "# Lecture 14b (optional) - Interfacing with Oracle DBMS through Python\n",
    "There is no recording associated with this notebook."
   ]
  },
  {
   "cell_type": "markdown",
   "metadata": {},
   "source": [
    "---"
   ]
  },
  {
   "cell_type": "markdown",
   "metadata": {},
   "source": [
    "### Content"
   ]
  },
  {
   "cell_type": "markdown",
   "metadata": {},
   "source": [
    "1. Connecting to Oracle DB\n",
    "2. Creating Tables in a Database\n",
    "3. Inserting values in Tables\n",
    "4. Querying Tables\n"
   ]
  },
  {
   "cell_type": "markdown",
   "metadata": {},
   "source": [
    "### Learning Outcomes"
   ]
  },
  {
   "cell_type": "markdown",
   "metadata": {},
   "source": [
    "At the end of this lecture, you should be able to:\n",
    "\n",
    "* connect to Oracle DB using Python scripts  \n",
    "* create tables in a selected database\n",
    "* construct insert statements with data from a dataframe\n",
    "* execute inserts into tables\n",
    "* construct and execute select statements using Python scripts"
   ]
  },
  {
   "cell_type": "markdown",
   "metadata": {},
   "source": [
    "The following instructions are for Windows users on how to set up the interface between Oracle and Python. \n",
    "\n",
    "For users of other operating systems, please research for equivalent instructions. The instructions will only differ in setting up the required environmental variables.\n",
    "\n",
    "1. go to http://www.oracle.com/technetwork/database/features/instant-client/index-097480.html, create a free account with Oracle, then\n",
    "2. download the instantclient-odbc, instantclient-sdk and instantclient-basic zipped files\n",
    "3. extract all the above files into a new folder of your choosing. THEY ALL MUST EXTRACT INTO THE SAME FOLDER YOU HAVE CHOSEN\n",
    "4. copy the full path of the folder you have selected above for the extraction and add it to the system environment variable 'path'\n",
    "5. create a new system variable called 'ORACLE_HOME' and add the full path to the folder above to this variable\n",
    "6. shut down this notebook as well as the python process\n",
    "7. restart the notebook and execute !pip install --upgrade setuptools\n",
    "8. then execute !pip install cx_Oracle (and cross your fingers and hope the install works....)\n"
   ]
  },
  {
   "cell_type": "code",
   "execution_count": null,
   "metadata": {},
   "outputs": [],
   "source": [
    "!pip install --upgrade setuptools"
   ]
  },
  {
   "cell_type": "code",
   "execution_count": null,
   "metadata": {},
   "outputs": [],
   "source": [
    "!pip install cx_Oracle"
   ]
  },
  {
   "cell_type": "code",
   "execution_count": null,
   "metadata": {},
   "outputs": [],
   "source": [
    "import cx_Oracle"
   ]
  },
  {
   "cell_type": "code",
   "execution_count": null,
   "metadata": {},
   "outputs": [],
   "source": [
    "from sqlalchemy import create_engine, MetaData, Table"
   ]
  },
  {
   "cell_type": "code",
   "execution_count": null,
   "metadata": {},
   "outputs": [],
   "source": [
    "connection = cx_Oracle.connect('IT739002/IT739002@vm011513.massey.ac.nz:1521/ orcl.massey.ac.nz')\n",
    "cursor = connection.cursor()"
   ]
  },
  {
   "cell_type": "code",
   "execution_count": null,
   "metadata": {},
   "outputs": [],
   "source": [
    "connection.username"
   ]
  },
  {
   "cell_type": "code",
   "execution_count": null,
   "metadata": {},
   "outputs": [],
   "source": [
    "# execute this to drop the national_populations table if it already exists\n",
    "#cursor.execute(\"DROP TABLE national_populations\")\n",
    "#connection.commit()"
   ]
  },
  {
   "cell_type": "markdown",
   "metadata": {},
   "source": [
    "We will use the population example from the previous lectures to demonstrate how a table based on this example can be created and its data can be inserted. "
   ]
  },
  {
   "cell_type": "code",
   "execution_count": null,
   "metadata": {},
   "outputs": [],
   "source": [
    "import datetime as dt\n",
    "import pandas as pd\n",
    "import numpy as np\n",
    "import sys\n",
    "\n",
    "data = pd.DataFrame({'population':[3778000, 19138000, 20000, 447000, 4433000, 22680000, 10900, 549598],\n",
    "                     'year':[2000, 2000, 2000, 2000, 2014, 2014, 2014, 2014],\n",
    "                     'nation':['New Zealand', 'Australia', 'Cook Islands', 'Solomon Islands', \n",
    "                                'New Zealand', 'Australia', 'Cook Islands', 'Solomon Islands']})\n",
    "data"
   ]
  },
  {
   "cell_type": "markdown",
   "metadata": {},
   "source": [
    "We can now create a DB table to store this data.\n",
    "\n"
   ]
  },
  {
   "cell_type": "code",
   "execution_count": null,
   "metadata": {},
   "outputs": [],
   "source": [
    "national_populations = \"\"\"\n",
    "    CREATE TABLE national_populations (\n",
    "      entry number(10) PRIMARY KEY,\n",
    "      nation varchar2(20) NOT NULL,\n",
    "      population number(10) NOT NULL,\n",
    "      year date NOT NULL\n",
    "    )\n",
    "    \"\"\"\n",
    "\n",
    "national_populations"
   ]
  },
  {
   "cell_type": "code",
   "execution_count": null,
   "metadata": {},
   "outputs": [],
   "source": [
    "cursor.execute(national_populations)\n",
    "connection.commit()"
   ]
  },
  {
   "cell_type": "markdown",
   "metadata": {},
   "source": [
    "We can now begin inserting data from a data frame into the table."
   ]
  },
  {
   "cell_type": "code",
   "execution_count": null,
   "metadata": {},
   "outputs": [],
   "source": [
    "data"
   ]
  },
  {
   "cell_type": "markdown",
   "metadata": {},
   "source": [
    "Of course, we could perform the row insertions manually one-by-one by writing out the SQL statement as a string with all the values imbedded."
   ]
  },
  {
   "cell_type": "code",
   "execution_count": null,
   "metadata": {},
   "outputs": [],
   "source": [
    "sql_statement = \"\"\"\n",
    "            INSERT INTO national_populations \n",
    "            (entry, nation, population, year) \n",
    "            VALUES (0, 'New Zealand', 3778000, TO_DATE('2000-01-01', 'YYYY-MM-DD'))\n",
    "            \"\"\""
   ]
  },
  {
   "cell_type": "markdown",
   "metadata": {},
   "source": [
    "We then execute the SQL statement below by passing it to the *execute()* method as an argument, followed by a call to commit."
   ]
  },
  {
   "cell_type": "code",
   "execution_count": null,
   "metadata": {},
   "outputs": [],
   "source": [
    "cursor.execute(sql_statement)\n",
    "connection.commit()"
   ]
  },
  {
   "cell_type": "code",
   "execution_count": null,
   "metadata": {},
   "outputs": [],
   "source": [
    "pd.read_sql_query(\"SELECT * FROM national_populations\", connection)"
   ]
  },
  {
   "cell_type": "markdown",
   "metadata": {},
   "source": [
    "**Exercise:** Write code to insert the second row of the above data frame into the database"
   ]
  },
  {
   "cell_type": "code",
   "execution_count": null,
   "metadata": {},
   "outputs": [],
   "source": []
  },
  {
   "cell_type": "markdown",
   "metadata": {},
   "source": [
    "**Exercise:** Consider the potential issues with the above approach to inserting data into a database if you are faced with millions of records."
   ]
  },
  {
   "cell_type": "markdown",
   "metadata": {},
   "source": [
    " "
   ]
  },
  {
   "cell_type": "markdown",
   "metadata": {},
   "source": [
    "  "
   ]
  },
  {
   "cell_type": "markdown",
   "metadata": {},
   "source": [
    "So clearly this approach to inserting data does not scale to bigger and real-world problems.\n",
    "\n",
    "What is needed is a more automated approach.\n",
    "\n",
    "Below is an example of how we can create a a list of dictionaries where each column name is matched with the corresponding value."
   ]
  },
  {
   "cell_type": "markdown",
   "metadata": {},
   "source": [
    "We then cal the execute statement on the cursor with the above arguments:"
   ]
  },
  {
   "cell_type": "code",
   "execution_count": null,
   "metadata": {},
   "outputs": [],
   "source": [
    "fields = ['entry', 'nation', 'population', 'year']\n",
    "values = [1, 'Cook Islands', 20000, dt.date(2000, 1, 1)]\n",
    "field_value_pair = dict(zip(fields, values))\n",
    "field_value_pair"
   ]
  },
  {
   "cell_type": "code",
   "execution_count": null,
   "metadata": {},
   "outputs": [],
   "source": [
    "cursor.execute(\"INSERT INTO national_populations VALUES(:entry, :nation, :population, :year)\", field_value_pair)\n",
    "connection.commit()"
   ]
  },
  {
   "cell_type": "code",
   "execution_count": null,
   "metadata": {},
   "outputs": [],
   "source": [
    "pd.read_sql_query(\"select * from national_populations\", connection)"
   ]
  },
  {
   "cell_type": "markdown",
   "metadata": {},
   "source": [
    "Perform a bulk insert of the above dataframe into the Oracle database, inserting values from index 3 in the dataframe onwards:"
   ]
  },
  {
   "cell_type": "code",
   "execution_count": null,
   "metadata": {},
   "outputs": [],
   "source": [
    "dict_sequence = [{'entry': int(i), 'nation': data.nation.iloc[i], 'population': int(data.population.iloc[i]), 'year': dt.date(data.year.iloc[i], 1, 1) } for i in range(3, len(data.index))]\n",
    "cursor.executemany(\"INSERT INTO national_populations VALUES(:entry, :nation, :population, :year)\", dict_sequence)\n",
    "connection.commit()"
   ]
  },
  {
   "cell_type": "markdown",
   "metadata": {},
   "source": [
    "Check that all the data has been written to the table:"
   ]
  },
  {
   "cell_type": "code",
   "execution_count": null,
   "metadata": {},
   "outputs": [],
   "source": [
    "pd.read_sql_query(\"SELECT * from national_populations\", connection)"
   ]
  },
  {
   "cell_type": "markdown",
   "metadata": {},
   "source": [
    "Once finished using a database, release the memory by closing both the cursor and the connection."
   ]
  },
  {
   "cell_type": "code",
   "execution_count": null,
   "metadata": {},
   "outputs": [],
   "source": [
    "cursor.close()\n",
    "connection.close()"
   ]
  },
  {
   "cell_type": "markdown",
   "metadata": {},
   "source": [
    "**Exercise**: Create a database and a table schema to store the data in from the adult_mortality_rate_by_cause.csv, adult_mortality_rates.csv, child_mortality_rates.csv, total_health_expenditure_peercent_per_capita_of_gdp_by_country_per_year.csv datasets cleaned from the previous tutorials. \n",
    "\n",
    "Write a scripts to to insert the data from a data frame into the database."
   ]
  },
  {
   "cell_type": "code",
   "execution_count": null,
   "metadata": {},
   "outputs": [],
   "source": []
  },
  {
   "cell_type": "code",
   "execution_count": null,
   "metadata": {},
   "outputs": [],
   "source": []
  },
  {
   "cell_type": "code",
   "execution_count": null,
   "metadata": {},
   "outputs": [],
   "source": []
  }
 ],
 "metadata": {
  "kernelspec": {
   "display_name": "Python 3",
   "language": "python",
   "name": "python3"
  },
  "language_info": {
   "codemirror_mode": {
    "name": "ipython",
    "version": 3
   },
   "file_extension": ".py",
   "mimetype": "text/x-python",
   "name": "python",
   "nbconvert_exporter": "python",
   "pygments_lexer": "ipython3",
   "version": "3.7.1"
  }
 },
 "nbformat": 4,
 "nbformat_minor": 1
}
